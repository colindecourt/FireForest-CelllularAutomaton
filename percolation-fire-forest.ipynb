{
 "cells": [
  {
   "cell_type": "markdown",
   "metadata": {},
   "source": [
    "# Cellular automaton \n",
    "\n",
    "## Test file for experiments with many percolation threshold\n",
    "\n",
    "##### Colin Decourt - Bordeaux INP ENSEIRB-MATMECA\n",
    "Engineering student in artificial intelligence\n"
   ]
  },
  {
   "cell_type": "markdown",
   "metadata": {},
   "source": [
    "   "
   ]
  },
  {
   "cell_type": "markdown",
   "metadata": {},
   "source": [
    "###### Import"
   ]
  },
  {
   "cell_type": "code",
   "execution_count": 1,
   "metadata": {
    "scrolled": false
   },
   "outputs": [],
   "source": [
    "import numpy as np\n",
    "import matplotlib.pyplot as plt\n",
    "import os\n",
    "import imageio\n",
    "import datetime\n",
    "import cv2 as cv\n",
    "from tqdm import tqdm\n",
    "import seaborn as sb\n",
    "%matplotlib inline"
   ]
  },
  {
   "cell_type": "markdown",
   "metadata": {},
   "source": [
    "##### Utils functions"
   ]
  },
  {
   "cell_type": "code",
   "execution_count": 2,
   "metadata": {},
   "outputs": [],
   "source": [
    "def create_gif(filenames, duration, path):\n",
    "    images = []\n",
    "    for filename in filenames:\n",
    "        images.append(imageio.imread(filename))\n",
    "    output_file = 'Gif-%s.gif' % datetime.datetime.now().strftime('%Y-%M-%d-%H-%M-%S')\n",
    "    imageio.mimsave(path+output_file, images, duration=duration)"
   ]
  },
  {
   "cell_type": "code",
   "execution_count": 3,
   "metadata": {
    "scrolled": false
   },
   "outputs": [],
   "source": [
    "def get_neighbours_indices(forest, cell, valid_cells):\n",
    "    '''\n",
    "    Function which get all the valid neighbours of a given cell\n",
    "    :forest: the forest grid\n",
    "    :cell: cell's neighbours\n",
    "    :valid_cells: all the valid coordinates of the forest grid\n",
    "    '''\n",
    "    X = [-1, -1, 0, 1, 1, 1, 0, -1]\n",
    "    Y = [0, 1, 1, 1, 0, -1, -1, -1]\n",
    "    neighbours_list = []\n",
    "    \n",
    "    for k in range(len(X)):\n",
    "        temp_cell = (cell[0] + X[k], cell[1] + Y[k])\n",
    "        if temp_cell in valid_cells:\n",
    "            neighbours_list.append(temp_cell)\n",
    "    return neighbours_list\n",
    "            "
   ]
  },
  {
   "cell_type": "code",
   "execution_count": 4,
   "metadata": {},
   "outputs": [],
   "source": [
    "def valid_cells(forest):\n",
    "    '''\n",
    "    Function which get all the coordinates of the grid\n",
    "    :forest: the forest grid\n",
    "    '''\n",
    "    valid_cells = []\n",
    "    for i in range(forest.shape[0]):\n",
    "        for j in range(forest.shape[1]):\n",
    "            valid_cells.append((i,j))\n",
    "    return valid_cells"
   ]
  },
  {
   "cell_type": "markdown",
   "metadata": {},
   "source": [
    "##### Parameters"
   ]
  },
  {
   "cell_type": "code",
   "execution_count": 6,
   "metadata": {
    "scrolled": false
   },
   "outputs": [],
   "source": [
    "cells = {'empty':0, 'tree':1, 'fire': 2, 'ash': 3}\n",
    "\n",
    "grid_size = (100, 100)\n",
    "\n",
    "# Display parameters\n",
    "pallette = np.array( [[153, 102, 0],# empty\n",
    "                      [0, 51, 8],  # tree\n",
    "                      [230, 115, 0],   # fire\n",
    "                      [158, 158, 158] # ash\n",
    "                      ])"
   ]
  },
  {
   "cell_type": "code",
   "execution_count": 7,
   "metadata": {},
   "outputs": [],
   "source": [
    "def generate_forest(grid_size, density):\n",
    "    grid = np.random.choice(3, grid_size[0]*grid_size[0] , p = [1-density, density, 0]).reshape(grid_size)\n",
    "    valid = valid_cells(grid)\n",
    "    tree=0\n",
    "    fire = 0\n",
    "    grid[int(grid_size[0]/2), int(grid_size[1]/2)] = cells['fire']\n",
    "    for i in range(grid.shape[0]):\n",
    "        for j in range(grid.shape[1]):\n",
    "            if grid[i,j] == 1:\n",
    "                tree +=1\n",
    "            if grid[i,j] == 2:\n",
    "                fire += 1\n",
    "    initial_forest = {'fire': fire, 'tree':tree}\n",
    "    return grid, initial_forest"
   ]
  },
  {
   "cell_type": "markdown",
   "metadata": {},
   "source": [
    "##### Transition functions"
   ]
  },
  {
   "cell_type": "markdown",
   "metadata": {},
   "source": [
    "Transition rules : \n",
    "\n",
    "- An empty cell stay empty\n",
    "- A ash cell stay ash\n",
    "- A fire cell become ash\n",
    "- A tree cell :\n",
    "    - Become fire if one of them neighbour is in fire\n",
    "    - Stay tree otherwise"
   ]
  },
  {
   "cell_type": "code",
   "execution_count": 8,
   "metadata": {},
   "outputs": [],
   "source": [
    "def may_burn(forest, cell, cell_type, state):\n",
    "    to_burn = []\n",
    "    no_burn = []\n",
    "\n",
    "    neigh_list = get_neighbours_indices(forest, cell, EXIST_CELLS)\n",
    "    for neigh_cell in neigh_list:\n",
    "        if forest[neigh_cell] == cells['fire']:\n",
    "            to_burn.append(neigh_cell)       \n",
    "        else:\n",
    "            no_burn.append(neigh_cell)\n",
    "    if to_burn == []:\n",
    "        return cells[cell_type], state\n",
    "    else:\n",
    "        state[cell_type]-=1\n",
    "        state['fire'] += 1\n",
    "        return cells['fire'], state"
   ]
  },
  {
   "cell_type": "code",
   "execution_count": 9,
   "metadata": {},
   "outputs": [],
   "source": [
    "def transition_general(forest, cell, state):\n",
    "    '''\n",
    "    Function which return the future state of a given cell\n",
    "    :forest: the forest grid\n",
    "    :cell: cell's future state wanted\n",
    "    :state: state of the country at current step\n",
    "    '''\n",
    "    try:\n",
    "        if forest[cell] == cells['empty']:\n",
    "            return cells['empty'], state\n",
    "\n",
    "        if forest[cell] == cells['ash']:\n",
    "            return cells['ash'], state\n",
    "\n",
    "        if forest[cell] == cells['tree']:\n",
    "            return may_burn(forest, cell, 'tree', state)\n",
    "\n",
    "        if forest[cell] == cells['fire']:\n",
    "            state['fire']-=1\n",
    "            return cells['ash'], state\n",
    "        \n",
    "    except:\n",
    "        print('Unknown cell type. Abort.')\n",
    "    \n",
    "    "
   ]
  },
  {
   "cell_type": "markdown",
   "metadata": {},
   "source": [
    "##### Fire propagation"
   ]
  },
  {
   "cell_type": "code",
   "execution_count": 10,
   "metadata": {
    "scrolled": false
   },
   "outputs": [],
   "source": [
    "def step(forest, is_fire, state):\n",
    "    '''\n",
    "    Function which perfom one propagation step\n",
    "    :forest: the forest grid\n",
    "    :is_fire: boolean informing the fire state - True : still cell in fire False otherwise\n",
    "    '''\n",
    "    nb_fire = 0\n",
    "    new_forest = forest.copy()\n",
    "    new_state = state.copy()\n",
    "    for i in range(forest.shape[0]):\n",
    "        for j in range(forest.shape[1]):\n",
    "            cell_type, new_state = transition_general(forest, (i,j), new_state)\n",
    "            new_forest[i,j] = cell_type\n",
    "            if new_forest[i,j] == cells['fire']:\n",
    "                nb_fire += 1\n",
    "    print(nb_fire)\n",
    "    if nb_fire == 0:\n",
    "        is_fire = False\n",
    "    return new_forest, is_fire, new_state"
   ]
  },
  {
   "cell_type": "code",
   "execution_count": 11,
   "metadata": {},
   "outputs": [],
   "source": [
    "# Reset images\n",
    "for name in os.listdir():\n",
    "    if name[-3:] == 'png':\n",
    "        if name != 'aust-veg-map.png':\n",
    "            os.remove(name)"
   ]
  },
  {
   "cell_type": "markdown",
   "metadata": {},
   "source": [
    "## Fire forest on random grid"
   ]
  },
  {
   "cell_type": "code",
   "execution_count": 16,
   "metadata": {},
   "outputs": [
    {
     "name": "stdout",
     "output_type": "stream",
     "text": [
      "--- STEP 0 begin ---\n",
      "0\n",
      "New state: {'fire': 0, 'tree': 0}\n",
      "Fire is dead...\n",
      "--- STEP 0 begin ---\n",
      "0\n",
      "New state: {'fire': 0, 'tree': 129}\n",
      "Fire is dead...\n",
      "--- STEP 0 begin ---\n",
      "2\n",
      "New state: {'fire': 2, 'tree': 241}\n",
      "--- STEP 1 begin ---\n",
      "0\n",
      "New state: {'fire': 0, 'tree': 241}\n",
      "Fire is dead...\n",
      "--- STEP 0 begin ---\n",
      "0\n",
      "New state: {'fire': 0, 'tree': 378}\n",
      "Fire is dead...\n",
      "--- STEP 0 begin ---\n",
      "0\n",
      "New state: {'fire': 0, 'tree': 464}\n",
      "Fire is dead...\n",
      "--- STEP 0 begin ---\n",
      "2\n",
      "New state: {'fire': 2, 'tree': 632}\n",
      "--- STEP 1 begin ---\n",
      "4\n",
      "New state: {'fire': 4, 'tree': 628}\n",
      "--- STEP 2 begin ---\n",
      "2\n",
      "New state: {'fire': 2, 'tree': 626}\n",
      "--- STEP 3 begin ---\n",
      "1\n",
      "New state: {'fire': 1, 'tree': 625}\n",
      "--- STEP 4 begin ---\n",
      "2\n",
      "New state: {'fire': 2, 'tree': 623}\n",
      "--- STEP 5 begin ---\n",
      "0\n",
      "New state: {'fire': 0, 'tree': 623}\n",
      "Fire is dead...\n",
      "--- STEP 0 begin ---\n",
      "3\n",
      "New state: {'fire': 3, 'tree': 742}\n",
      "--- STEP 1 begin ---\n",
      "2\n",
      "New state: {'fire': 2, 'tree': 740}\n"
     ]
    },
    {
     "name": "stderr",
     "output_type": "stream",
     "text": [
      "/home/laurenbacal/anaconda3/envs/ia/lib/python3.7/site-packages/ipykernel_launcher.py:22: RuntimeWarning: More than 20 figures have been opened. Figures created through the pyplot interface (`matplotlib.pyplot.figure`) are retained until explicitly closed and may consume too much memory. (To control this warning, see the rcParam `figure.max_open_warning`).\n"
     ]
    },
    {
     "name": "stdout",
     "output_type": "stream",
     "text": [
      "--- STEP 2 begin ---\n",
      "0\n",
      "New state: {'fire': 0, 'tree': 740}\n",
      "Fire is dead...\n"
     ]
    },
    {
     "name": "stderr",
     "output_type": "stream",
     "text": [
      "/home/laurenbacal/anaconda3/envs/ia/lib/python3.7/site-packages/ipykernel_launcher.py:11: RuntimeWarning: More than 20 figures have been opened. Figures created through the pyplot interface (`matplotlib.pyplot.figure`) are retained until explicitly closed and may consume too much memory. (To control this warning, see the rcParam `figure.max_open_warning`).\n",
      "  # This is added back by InteractiveShellApp.init_path()\n"
     ]
    },
    {
     "name": "stdout",
     "output_type": "stream",
     "text": [
      "--- STEP 0 begin ---\n",
      "4\n",
      "New state: {'fire': 4, 'tree': 879}\n",
      "--- STEP 1 begin ---\n",
      "3\n",
      "New state: {'fire': 3, 'tree': 876}\n",
      "--- STEP 2 begin ---\n",
      "3\n",
      "New state: {'fire': 3, 'tree': 873}\n",
      "--- STEP 3 begin ---\n",
      "3\n",
      "New state: {'fire': 3, 'tree': 870}\n",
      "--- STEP 4 begin ---\n",
      "3\n",
      "New state: {'fire': 3, 'tree': 867}\n",
      "--- STEP 5 begin ---\n",
      "5\n",
      "New state: {'fire': 5, 'tree': 862}\n",
      "--- STEP 6 begin ---\n",
      "7\n",
      "New state: {'fire': 7, 'tree': 855}\n",
      "--- STEP 7 begin ---\n",
      "8\n",
      "New state: {'fire': 8, 'tree': 847}\n",
      "--- STEP 8 begin ---\n",
      "9\n",
      "New state: {'fire': 9, 'tree': 838}\n",
      "--- STEP 9 begin ---\n",
      "8\n",
      "New state: {'fire': 8, 'tree': 830}\n",
      "--- STEP 10 begin ---\n",
      "9\n",
      "New state: {'fire': 9, 'tree': 821}\n",
      "--- STEP 11 begin ---\n",
      "8\n",
      "New state: {'fire': 8, 'tree': 813}\n",
      "--- STEP 12 begin ---\n",
      "5\n",
      "New state: {'fire': 5, 'tree': 808}\n",
      "--- STEP 13 begin ---\n",
      "9\n",
      "New state: {'fire': 9, 'tree': 799}\n",
      "--- STEP 14 begin ---\n",
      "6\n",
      "New state: {'fire': 6, 'tree': 793}\n",
      "--- STEP 15 begin ---\n",
      "6\n",
      "New state: {'fire': 6, 'tree': 787}\n",
      "--- STEP 16 begin ---\n",
      "5\n",
      "New state: {'fire': 5, 'tree': 782}\n",
      "--- STEP 17 begin ---\n",
      "6\n",
      "New state: {'fire': 6, 'tree': 776}\n",
      "--- STEP 18 begin ---\n",
      "9\n",
      "New state: {'fire': 9, 'tree': 767}\n",
      "--- STEP 19 begin ---\n",
      "10\n",
      "New state: {'fire': 10, 'tree': 757}\n",
      "--- STEP 20 begin ---\n",
      "9\n",
      "New state: {'fire': 9, 'tree': 748}\n",
      "--- STEP 21 begin ---\n",
      "7\n",
      "New state: {'fire': 7, 'tree': 741}\n",
      "--- STEP 22 begin ---\n",
      "9\n",
      "New state: {'fire': 9, 'tree': 732}\n",
      "--- STEP 23 begin ---\n",
      "5\n",
      "New state: {'fire': 5, 'tree': 727}\n",
      "--- STEP 24 begin ---\n",
      "1\n",
      "New state: {'fire': 1, 'tree': 726}\n",
      "--- STEP 25 begin ---\n",
      "1\n",
      "New state: {'fire': 1, 'tree': 725}\n",
      "--- STEP 26 begin ---\n",
      "1\n",
      "New state: {'fire': 1, 'tree': 724}\n",
      "--- STEP 27 begin ---\n",
      "1\n",
      "New state: {'fire': 1, 'tree': 723}\n",
      "--- STEP 28 begin ---\n",
      "0\n",
      "New state: {'fire': 0, 'tree': 723}\n",
      "Fire is dead...\n",
      "--- STEP 0 begin ---\n",
      "3\n",
      "New state: {'fire': 3, 'tree': 1029}\n",
      "--- STEP 1 begin ---\n",
      "3\n",
      "New state: {'fire': 3, 'tree': 1026}\n",
      "--- STEP 2 begin ---\n",
      "6\n",
      "New state: {'fire': 6, 'tree': 1020}\n",
      "--- STEP 3 begin ---\n",
      "8\n",
      "New state: {'fire': 8, 'tree': 1012}\n",
      "--- STEP 4 begin ---\n",
      "13\n",
      "New state: {'fire': 13, 'tree': 999}\n",
      "--- STEP 5 begin ---\n",
      "15\n",
      "New state: {'fire': 15, 'tree': 984}\n",
      "--- STEP 6 begin ---\n",
      "16\n",
      "New state: {'fire': 16, 'tree': 968}\n",
      "--- STEP 7 begin ---\n",
      "17\n",
      "New state: {'fire': 17, 'tree': 951}\n",
      "--- STEP 8 begin ---\n",
      "21\n",
      "New state: {'fire': 21, 'tree': 930}\n",
      "--- STEP 9 begin ---\n",
      "22\n",
      "New state: {'fire': 22, 'tree': 908}\n",
      "--- STEP 10 begin ---\n",
      "15\n",
      "New state: {'fire': 15, 'tree': 893}\n",
      "--- STEP 11 begin ---\n",
      "21\n",
      "New state: {'fire': 21, 'tree': 872}\n",
      "--- STEP 12 begin ---\n",
      "18\n",
      "New state: {'fire': 18, 'tree': 854}\n",
      "--- STEP 13 begin ---\n",
      "21\n",
      "New state: {'fire': 21, 'tree': 833}\n",
      "--- STEP 14 begin ---\n",
      "22\n",
      "New state: {'fire': 22, 'tree': 811}\n",
      "--- STEP 15 begin ---\n",
      "30\n",
      "New state: {'fire': 30, 'tree': 781}\n",
      "--- STEP 16 begin ---\n",
      "23\n",
      "New state: {'fire': 23, 'tree': 758}\n",
      "--- STEP 17 begin ---\n",
      "19\n",
      "New state: {'fire': 19, 'tree': 739}\n",
      "--- STEP 18 begin ---\n",
      "21\n",
      "New state: {'fire': 21, 'tree': 718}\n",
      "--- STEP 19 begin ---\n",
      "15\n",
      "New state: {'fire': 15, 'tree': 703}\n",
      "--- STEP 20 begin ---\n",
      "12\n",
      "New state: {'fire': 12, 'tree': 691}\n",
      "--- STEP 21 begin ---\n",
      "15\n",
      "New state: {'fire': 15, 'tree': 676}\n",
      "--- STEP 22 begin ---\n",
      "17\n",
      "New state: {'fire': 17, 'tree': 659}\n",
      "--- STEP 23 begin ---\n",
      "19\n",
      "New state: {'fire': 19, 'tree': 640}\n",
      "--- STEP 24 begin ---\n",
      "19\n",
      "New state: {'fire': 19, 'tree': 621}\n",
      "--- STEP 25 begin ---\n",
      "10\n",
      "New state: {'fire': 10, 'tree': 611}\n",
      "--- STEP 26 begin ---\n",
      "9\n",
      "New state: {'fire': 9, 'tree': 602}\n",
      "--- STEP 27 begin ---\n",
      "14\n",
      "New state: {'fire': 14, 'tree': 588}\n",
      "--- STEP 28 begin ---\n",
      "10\n",
      "New state: {'fire': 10, 'tree': 578}\n",
      "--- STEP 29 begin ---\n",
      "4\n",
      "New state: {'fire': 4, 'tree': 574}\n",
      "--- STEP 30 begin ---\n",
      "3\n",
      "New state: {'fire': 3, 'tree': 571}\n",
      "--- STEP 31 begin ---\n",
      "2\n",
      "New state: {'fire': 2, 'tree': 569}\n",
      "--- STEP 32 begin ---\n",
      "4\n",
      "New state: {'fire': 4, 'tree': 565}\n",
      "--- STEP 33 begin ---\n",
      "2\n",
      "New state: {'fire': 2, 'tree': 563}\n",
      "--- STEP 34 begin ---\n",
      "3\n",
      "New state: {'fire': 3, 'tree': 560}\n",
      "--- STEP 35 begin ---\n",
      "5\n",
      "New state: {'fire': 5, 'tree': 555}\n",
      "--- STEP 36 begin ---\n",
      "4\n",
      "New state: {'fire': 4, 'tree': 551}\n",
      "--- STEP 37 begin ---\n",
      "5\n",
      "New state: {'fire': 5, 'tree': 546}\n",
      "--- STEP 38 begin ---\n",
      "6\n",
      "New state: {'fire': 6, 'tree': 540}\n",
      "--- STEP 39 begin ---\n",
      "10\n",
      "New state: {'fire': 10, 'tree': 530}\n",
      "--- STEP 40 begin ---\n",
      "6\n",
      "New state: {'fire': 6, 'tree': 524}\n",
      "--- STEP 41 begin ---\n",
      "6\n",
      "New state: {'fire': 6, 'tree': 518}\n",
      "--- STEP 42 begin ---\n",
      "6\n",
      "New state: {'fire': 6, 'tree': 512}\n",
      "--- STEP 43 begin ---\n",
      "3\n",
      "New state: {'fire': 3, 'tree': 509}\n",
      "--- STEP 44 begin ---\n",
      "4\n",
      "New state: {'fire': 4, 'tree': 505}\n",
      "--- STEP 45 begin ---\n",
      "5\n",
      "New state: {'fire': 5, 'tree': 500}\n",
      "--- STEP 46 begin ---\n",
      "4\n",
      "New state: {'fire': 4, 'tree': 496}\n",
      "--- STEP 47 begin ---\n",
      "3\n",
      "New state: {'fire': 3, 'tree': 493}\n",
      "--- STEP 48 begin ---\n",
      "6\n",
      "New state: {'fire': 6, 'tree': 487}\n",
      "--- STEP 49 begin ---\n",
      "4\n",
      "New state: {'fire': 4, 'tree': 483}\n",
      "--- STEP 50 begin ---\n",
      "5\n",
      "New state: {'fire': 5, 'tree': 478}\n",
      "--- STEP 51 begin ---\n",
      "4\n",
      "New state: {'fire': 4, 'tree': 474}\n",
      "--- STEP 52 begin ---\n",
      "3\n",
      "New state: {'fire': 3, 'tree': 471}\n",
      "--- STEP 53 begin ---\n",
      "4\n",
      "New state: {'fire': 4, 'tree': 467}\n",
      "--- STEP 54 begin ---\n",
      "8\n",
      "New state: {'fire': 8, 'tree': 459}\n",
      "--- STEP 55 begin ---\n",
      "6\n",
      "New state: {'fire': 6, 'tree': 453}\n",
      "--- STEP 56 begin ---\n",
      "5\n",
      "New state: {'fire': 5, 'tree': 448}\n",
      "--- STEP 57 begin ---\n",
      "4\n",
      "New state: {'fire': 4, 'tree': 444}\n",
      "--- STEP 58 begin ---\n",
      "4\n",
      "New state: {'fire': 4, 'tree': 440}\n",
      "--- STEP 59 begin ---\n",
      "7\n",
      "New state: {'fire': 7, 'tree': 433}\n",
      "--- STEP 60 begin ---\n",
      "5\n",
      "New state: {'fire': 5, 'tree': 428}\n",
      "--- STEP 61 begin ---\n",
      "7\n",
      "New state: {'fire': 7, 'tree': 421}\n",
      "--- STEP 62 begin ---\n",
      "3\n",
      "New state: {'fire': 3, 'tree': 418}\n",
      "--- STEP 63 begin ---\n",
      "3\n",
      "New state: {'fire': 3, 'tree': 415}\n",
      "--- STEP 64 begin ---\n",
      "3\n",
      "New state: {'fire': 3, 'tree': 412}\n",
      "--- STEP 65 begin ---\n",
      "2\n",
      "New state: {'fire': 2, 'tree': 410}\n",
      "--- STEP 66 begin ---\n",
      "0\n",
      "New state: {'fire': 0, 'tree': 410}\n",
      "Fire is dead...\n",
      "--- STEP 0 begin ---\n",
      "4\n",
      "New state: {'fire': 4, 'tree': 1139}\n",
      "--- STEP 1 begin ---\n",
      "5\n",
      "New state: {'fire': 5, 'tree': 1134}\n",
      "--- STEP 2 begin ---\n",
      "8\n",
      "New state: {'fire': 8, 'tree': 1126}\n",
      "--- STEP 3 begin ---\n",
      "7\n",
      "New state: {'fire': 7, 'tree': 1119}\n",
      "--- STEP 4 begin ---\n",
      "10\n",
      "New state: {'fire': 10, 'tree': 1109}\n",
      "--- STEP 5 begin ---\n",
      "10\n",
      "New state: {'fire': 10, 'tree': 1099}\n",
      "--- STEP 6 begin ---\n",
      "9\n",
      "New state: {'fire': 9, 'tree': 1090}\n",
      "--- STEP 7 begin ---\n",
      "12\n",
      "New state: {'fire': 12, 'tree': 1078}\n",
      "--- STEP 8 begin ---\n",
      "20\n",
      "New state: {'fire': 20, 'tree': 1058}\n",
      "--- STEP 9 begin ---\n",
      "23\n",
      "New state: {'fire': 23, 'tree': 1035}\n",
      "--- STEP 10 begin ---\n",
      "26\n",
      "New state: {'fire': 26, 'tree': 1009}\n",
      "--- STEP 11 begin ---\n",
      "25\n",
      "New state: {'fire': 25, 'tree': 984}\n",
      "--- STEP 12 begin ---\n",
      "26\n",
      "New state: {'fire': 26, 'tree': 958}\n",
      "--- STEP 13 begin ---\n",
      "43\n",
      "New state: {'fire': 43, 'tree': 915}\n",
      "--- STEP 14 begin ---\n",
      "42\n",
      "New state: {'fire': 42, 'tree': 873}\n",
      "--- STEP 15 begin ---\n",
      "39\n",
      "New state: {'fire': 39, 'tree': 834}\n",
      "--- STEP 16 begin ---\n",
      "46\n",
      "New state: {'fire': 46, 'tree': 788}\n",
      "--- STEP 17 begin ---\n",
      "44\n",
      "New state: {'fire': 44, 'tree': 744}\n",
      "--- STEP 18 begin ---\n",
      "34\n",
      "New state: {'fire': 34, 'tree': 710}\n",
      "--- STEP 19 begin ---\n",
      "30\n",
      "New state: {'fire': 30, 'tree': 680}\n",
      "--- STEP 20 begin ---\n",
      "32\n",
      "New state: {'fire': 32, 'tree': 648}\n",
      "--- STEP 21 begin ---\n",
      "35\n",
      "New state: {'fire': 35, 'tree': 613}\n",
      "--- STEP 22 begin ---\n",
      "34\n",
      "New state: {'fire': 34, 'tree': 579}\n",
      "--- STEP 23 begin ---\n",
      "32\n",
      "New state: {'fire': 32, 'tree': 547}\n",
      "--- STEP 24 begin ---\n",
      "36\n",
      "New state: {'fire': 36, 'tree': 511}\n",
      "--- STEP 25 begin ---\n",
      "42\n",
      "New state: {'fire': 42, 'tree': 469}\n",
      "--- STEP 26 begin ---\n",
      "35\n",
      "New state: {'fire': 35, 'tree': 434}\n",
      "--- STEP 27 begin ---\n",
      "40\n",
      "New state: {'fire': 40, 'tree': 394}\n",
      "--- STEP 28 begin ---\n",
      "44\n",
      "New state: {'fire': 44, 'tree': 350}\n",
      "--- STEP 29 begin ---\n",
      "26\n",
      "New state: {'fire': 26, 'tree': 324}\n",
      "--- STEP 30 begin ---\n",
      "21\n",
      "New state: {'fire': 21, 'tree': 303}\n",
      "--- STEP 31 begin ---\n",
      "10\n",
      "New state: {'fire': 10, 'tree': 293}\n",
      "--- STEP 32 begin ---\n",
      "7\n",
      "New state: {'fire': 7, 'tree': 286}\n",
      "--- STEP 33 begin ---\n",
      "7\n",
      "New state: {'fire': 7, 'tree': 279}\n",
      "--- STEP 34 begin ---\n",
      "9\n",
      "New state: {'fire': 9, 'tree': 270}\n",
      "--- STEP 35 begin ---\n",
      "8\n",
      "New state: {'fire': 8, 'tree': 262}\n",
      "--- STEP 36 begin ---\n",
      "6\n",
      "New state: {'fire': 6, 'tree': 256}\n",
      "--- STEP 37 begin ---\n",
      "3\n",
      "New state: {'fire': 3, 'tree': 253}\n",
      "--- STEP 38 begin ---\n",
      "6\n",
      "New state: {'fire': 6, 'tree': 247}\n"
     ]
    },
    {
     "name": "stdout",
     "output_type": "stream",
     "text": [
      "--- STEP 39 begin ---\n",
      "3\n",
      "New state: {'fire': 3, 'tree': 244}\n",
      "--- STEP 40 begin ---\n",
      "5\n",
      "New state: {'fire': 5, 'tree': 239}\n",
      "--- STEP 41 begin ---\n",
      "4\n",
      "New state: {'fire': 4, 'tree': 235}\n",
      "--- STEP 42 begin ---\n",
      "5\n",
      "New state: {'fire': 5, 'tree': 230}\n",
      "--- STEP 43 begin ---\n",
      "5\n",
      "New state: {'fire': 5, 'tree': 225}\n",
      "--- STEP 44 begin ---\n",
      "5\n",
      "New state: {'fire': 5, 'tree': 220}\n",
      "--- STEP 45 begin ---\n",
      "6\n",
      "New state: {'fire': 6, 'tree': 214}\n",
      "--- STEP 46 begin ---\n",
      "5\n",
      "New state: {'fire': 5, 'tree': 209}\n",
      "--- STEP 47 begin ---\n",
      "5\n",
      "New state: {'fire': 5, 'tree': 204}\n",
      "--- STEP 48 begin ---\n",
      "4\n",
      "New state: {'fire': 4, 'tree': 200}\n",
      "--- STEP 49 begin ---\n",
      "1\n",
      "New state: {'fire': 1, 'tree': 199}\n",
      "--- STEP 50 begin ---\n",
      "2\n",
      "New state: {'fire': 2, 'tree': 197}\n",
      "--- STEP 51 begin ---\n",
      "4\n",
      "New state: {'fire': 4, 'tree': 193}\n",
      "--- STEP 52 begin ---\n",
      "3\n",
      "New state: {'fire': 3, 'tree': 190}\n",
      "--- STEP 53 begin ---\n",
      "2\n",
      "New state: {'fire': 2, 'tree': 188}\n",
      "--- STEP 54 begin ---\n",
      "2\n",
      "New state: {'fire': 2, 'tree': 186}\n",
      "--- STEP 55 begin ---\n",
      "1\n",
      "New state: {'fire': 1, 'tree': 185}\n",
      "--- STEP 56 begin ---\n",
      "0\n",
      "New state: {'fire': 0, 'tree': 185}\n",
      "Fire is dead...\n",
      "--- STEP 0 begin ---\n",
      "3\n",
      "New state: {'fire': 3, 'tree': 1226}\n",
      "--- STEP 1 begin ---\n",
      "6\n",
      "New state: {'fire': 6, 'tree': 1220}\n",
      "--- STEP 2 begin ---\n",
      "8\n",
      "New state: {'fire': 8, 'tree': 1212}\n",
      "--- STEP 3 begin ---\n",
      "11\n",
      "New state: {'fire': 11, 'tree': 1201}\n",
      "--- STEP 4 begin ---\n",
      "14\n",
      "New state: {'fire': 14, 'tree': 1187}\n",
      "--- STEP 5 begin ---\n",
      "19\n",
      "New state: {'fire': 19, 'tree': 1168}\n",
      "--- STEP 6 begin ---\n",
      "17\n",
      "New state: {'fire': 17, 'tree': 1151}\n",
      "--- STEP 7 begin ---\n",
      "19\n",
      "New state: {'fire': 19, 'tree': 1132}\n",
      "--- STEP 8 begin ---\n",
      "27\n",
      "New state: {'fire': 27, 'tree': 1105}\n",
      "--- STEP 9 begin ---\n",
      "27\n",
      "New state: {'fire': 27, 'tree': 1078}\n",
      "--- STEP 10 begin ---\n",
      "25\n",
      "New state: {'fire': 25, 'tree': 1053}\n",
      "--- STEP 11 begin ---\n",
      "22\n",
      "New state: {'fire': 22, 'tree': 1031}\n",
      "--- STEP 12 begin ---\n",
      "24\n",
      "New state: {'fire': 24, 'tree': 1007}\n",
      "--- STEP 13 begin ---\n",
      "25\n",
      "New state: {'fire': 25, 'tree': 982}\n",
      "--- STEP 14 begin ---\n",
      "28\n",
      "New state: {'fire': 28, 'tree': 954}\n",
      "--- STEP 15 begin ---\n",
      "32\n",
      "New state: {'fire': 32, 'tree': 922}\n",
      "--- STEP 16 begin ---\n",
      "30\n",
      "New state: {'fire': 30, 'tree': 892}\n",
      "--- STEP 17 begin ---\n",
      "32\n",
      "New state: {'fire': 32, 'tree': 860}\n",
      "--- STEP 18 begin ---\n",
      "36\n",
      "New state: {'fire': 36, 'tree': 824}\n",
      "--- STEP 19 begin ---\n",
      "43\n",
      "New state: {'fire': 43, 'tree': 781}\n",
      "--- STEP 20 begin ---\n",
      "47\n",
      "New state: {'fire': 47, 'tree': 734}\n",
      "--- STEP 21 begin ---\n",
      "48\n",
      "New state: {'fire': 48, 'tree': 686}\n",
      "--- STEP 22 begin ---\n",
      "53\n",
      "New state: {'fire': 53, 'tree': 633}\n",
      "--- STEP 23 begin ---\n",
      "47\n",
      "New state: {'fire': 47, 'tree': 586}\n",
      "--- STEP 24 begin ---\n",
      "46\n",
      "New state: {'fire': 46, 'tree': 540}\n",
      "--- STEP 25 begin ---\n",
      "49\n",
      "New state: {'fire': 49, 'tree': 491}\n",
      "--- STEP 26 begin ---\n",
      "36\n",
      "New state: {'fire': 36, 'tree': 455}\n",
      "--- STEP 27 begin ---\n",
      "34\n",
      "New state: {'fire': 34, 'tree': 421}\n",
      "--- STEP 28 begin ---\n",
      "30\n",
      "New state: {'fire': 30, 'tree': 391}\n",
      "--- STEP 29 begin ---\n",
      "37\n",
      "New state: {'fire': 37, 'tree': 354}\n",
      "--- STEP 30 begin ---\n",
      "42\n",
      "New state: {'fire': 42, 'tree': 312}\n",
      "--- STEP 31 begin ---\n",
      "35\n",
      "New state: {'fire': 35, 'tree': 277}\n",
      "--- STEP 32 begin ---\n",
      "33\n",
      "New state: {'fire': 33, 'tree': 244}\n",
      "--- STEP 33 begin ---\n",
      "38\n",
      "New state: {'fire': 38, 'tree': 206}\n",
      "--- STEP 34 begin ---\n",
      "34\n",
      "New state: {'fire': 34, 'tree': 172}\n",
      "--- STEP 35 begin ---\n",
      "30\n",
      "New state: {'fire': 30, 'tree': 142}\n",
      "--- STEP 36 begin ---\n",
      "26\n",
      "New state: {'fire': 26, 'tree': 116}\n",
      "--- STEP 37 begin ---\n",
      "26\n",
      "New state: {'fire': 26, 'tree': 90}\n",
      "--- STEP 38 begin ---\n",
      "20\n",
      "New state: {'fire': 20, 'tree': 70}\n",
      "--- STEP 39 begin ---\n",
      "11\n",
      "New state: {'fire': 11, 'tree': 59}\n",
      "--- STEP 40 begin ---\n",
      "4\n",
      "New state: {'fire': 4, 'tree': 55}\n",
      "--- STEP 41 begin ---\n",
      "0\n",
      "New state: {'fire': 0, 'tree': 55}\n",
      "Fire is dead...\n",
      "--- STEP 0 begin ---\n",
      "4\n",
      "New state: {'fire': 4, 'tree': 1360}\n",
      "--- STEP 1 begin ---\n",
      "3\n",
      "New state: {'fire': 3, 'tree': 1357}\n",
      "--- STEP 2 begin ---\n",
      "4\n",
      "New state: {'fire': 4, 'tree': 1353}\n",
      "--- STEP 3 begin ---\n",
      "7\n",
      "New state: {'fire': 7, 'tree': 1346}\n",
      "--- STEP 4 begin ---\n",
      "13\n",
      "New state: {'fire': 13, 'tree': 1333}\n",
      "--- STEP 5 begin ---\n",
      "15\n",
      "New state: {'fire': 15, 'tree': 1318}\n",
      "--- STEP 6 begin ---\n",
      "18\n",
      "New state: {'fire': 18, 'tree': 1300}\n",
      "--- STEP 7 begin ---\n",
      "21\n",
      "New state: {'fire': 21, 'tree': 1279}\n",
      "--- STEP 8 begin ---\n",
      "30\n",
      "New state: {'fire': 30, 'tree': 1249}\n",
      "--- STEP 9 begin ---\n",
      "33\n",
      "New state: {'fire': 33, 'tree': 1216}\n",
      "--- STEP 10 begin ---\n",
      "26\n",
      "New state: {'fire': 26, 'tree': 1190}\n",
      "--- STEP 11 begin ---\n",
      "36\n",
      "New state: {'fire': 36, 'tree': 1154}\n",
      "--- STEP 12 begin ---\n",
      "42\n",
      "New state: {'fire': 42, 'tree': 1112}\n",
      "--- STEP 13 begin ---\n",
      "47\n",
      "New state: {'fire': 47, 'tree': 1065}\n",
      "--- STEP 14 begin ---\n",
      "53\n",
      "New state: {'fire': 53, 'tree': 1012}\n",
      "--- STEP 15 begin ---\n",
      "51\n",
      "New state: {'fire': 51, 'tree': 961}\n",
      "--- STEP 16 begin ---\n",
      "53\n",
      "New state: {'fire': 53, 'tree': 908}\n",
      "--- STEP 17 begin ---\n",
      "65\n",
      "New state: {'fire': 65, 'tree': 843}\n",
      "--- STEP 18 begin ---\n",
      "66\n",
      "New state: {'fire': 66, 'tree': 777}\n",
      "--- STEP 19 begin ---\n",
      "56\n",
      "New state: {'fire': 56, 'tree': 721}\n",
      "--- STEP 20 begin ---\n",
      "62\n",
      "New state: {'fire': 62, 'tree': 659}\n",
      "--- STEP 21 begin ---\n",
      "62\n",
      "New state: {'fire': 62, 'tree': 597}\n",
      "--- STEP 22 begin ---\n",
      "74\n",
      "New state: {'fire': 74, 'tree': 523}\n",
      "--- STEP 23 begin ---\n",
      "87\n",
      "New state: {'fire': 87, 'tree': 436}\n",
      "--- STEP 24 begin ---\n",
      "85\n",
      "New state: {'fire': 85, 'tree': 351}\n",
      "--- STEP 25 begin ---\n",
      "77\n",
      "New state: {'fire': 77, 'tree': 274}\n",
      "--- STEP 26 begin ---\n",
      "50\n",
      "New state: {'fire': 50, 'tree': 224}\n",
      "--- STEP 27 begin ---\n",
      "45\n",
      "New state: {'fire': 45, 'tree': 179}\n",
      "--- STEP 28 begin ---\n",
      "44\n",
      "New state: {'fire': 44, 'tree': 135}\n",
      "--- STEP 29 begin ---\n",
      "33\n",
      "New state: {'fire': 33, 'tree': 102}\n",
      "--- STEP 30 begin ---\n",
      "28\n",
      "New state: {'fire': 28, 'tree': 74}\n",
      "--- STEP 31 begin ---\n",
      "26\n",
      "New state: {'fire': 26, 'tree': 48}\n",
      "--- STEP 32 begin ---\n",
      "14\n",
      "New state: {'fire': 14, 'tree': 34}\n",
      "--- STEP 33 begin ---\n",
      "4\n",
      "New state: {'fire': 4, 'tree': 30}\n",
      "--- STEP 34 begin ---\n",
      "5\n",
      "New state: {'fire': 5, 'tree': 25}\n",
      "--- STEP 35 begin ---\n",
      "5\n",
      "New state: {'fire': 5, 'tree': 20}\n",
      "--- STEP 36 begin ---\n",
      "7\n",
      "New state: {'fire': 7, 'tree': 13}\n",
      "--- STEP 37 begin ---\n",
      "9\n",
      "New state: {'fire': 9, 'tree': 4}\n",
      "--- STEP 38 begin ---\n",
      "1\n",
      "New state: {'fire': 1, 'tree': 3}\n",
      "--- STEP 39 begin ---\n",
      "0\n",
      "New state: {'fire': 0, 'tree': 3}\n",
      "Fire is dead...\n",
      "--- STEP 0 begin ---\n",
      "4\n",
      "New state: {'fire': 4, 'tree': 1508}\n",
      "--- STEP 1 begin ---\n",
      "7\n",
      "New state: {'fire': 7, 'tree': 1501}\n",
      "--- STEP 2 begin ---\n",
      "13\n",
      "New state: {'fire': 13, 'tree': 1488}\n",
      "--- STEP 3 begin ---\n",
      "18\n",
      "New state: {'fire': 18, 'tree': 1470}\n",
      "--- STEP 4 begin ---\n",
      "20\n",
      "New state: {'fire': 20, 'tree': 1450}\n",
      "--- STEP 5 begin ---\n",
      "22\n",
      "New state: {'fire': 22, 'tree': 1428}\n",
      "--- STEP 6 begin ---\n",
      "31\n",
      "New state: {'fire': 31, 'tree': 1397}\n",
      "--- STEP 7 begin ---\n",
      "32\n",
      "New state: {'fire': 32, 'tree': 1365}\n",
      "--- STEP 8 begin ---\n",
      "35\n",
      "New state: {'fire': 35, 'tree': 1330}\n",
      "--- STEP 9 begin ---\n",
      "38\n",
      "New state: {'fire': 38, 'tree': 1292}\n",
      "--- STEP 10 begin ---\n",
      "45\n",
      "New state: {'fire': 45, 'tree': 1247}\n",
      "--- STEP 11 begin ---\n",
      "60\n",
      "New state: {'fire': 60, 'tree': 1187}\n",
      "--- STEP 12 begin ---\n",
      "61\n",
      "New state: {'fire': 61, 'tree': 1126}\n",
      "--- STEP 13 begin ---\n",
      "62\n",
      "New state: {'fire': 62, 'tree': 1064}\n",
      "--- STEP 14 begin ---\n",
      "71\n",
      "New state: {'fire': 71, 'tree': 993}\n",
      "--- STEP 15 begin ---\n",
      "75\n",
      "New state: {'fire': 75, 'tree': 918}\n",
      "--- STEP 16 begin ---\n",
      "57\n",
      "New state: {'fire': 57, 'tree': 861}\n",
      "--- STEP 17 begin ---\n",
      "80\n",
      "New state: {'fire': 80, 'tree': 781}\n",
      "--- STEP 18 begin ---\n",
      "81\n",
      "New state: {'fire': 81, 'tree': 700}\n",
      "--- STEP 19 begin ---\n",
      "81\n",
      "New state: {'fire': 81, 'tree': 619}\n",
      "--- STEP 20 begin ---\n",
      "87\n",
      "New state: {'fire': 87, 'tree': 532}\n",
      "--- STEP 21 begin ---\n",
      "95\n",
      "New state: {'fire': 95, 'tree': 437}\n",
      "--- STEP 22 begin ---\n",
      "97\n",
      "New state: {'fire': 97, 'tree': 340}\n",
      "--- STEP 23 begin ---\n",
      "104\n",
      "New state: {'fire': 104, 'tree': 236}\n",
      "--- STEP 24 begin ---\n",
      "93\n",
      "New state: {'fire': 93, 'tree': 143}\n",
      "--- STEP 25 begin ---\n",
      "51\n",
      "New state: {'fire': 51, 'tree': 92}\n",
      "--- STEP 26 begin ---\n",
      "32\n",
      "New state: {'fire': 32, 'tree': 60}\n",
      "--- STEP 27 begin ---\n",
      "17\n",
      "New state: {'fire': 17, 'tree': 43}\n",
      "--- STEP 28 begin ---\n",
      "12\n",
      "New state: {'fire': 12, 'tree': 31}\n",
      "--- STEP 29 begin ---\n",
      "10\n",
      "New state: {'fire': 10, 'tree': 21}\n",
      "--- STEP 30 begin ---\n",
      "3\n",
      "New state: {'fire': 3, 'tree': 18}\n",
      "--- STEP 31 begin ---\n",
      "1\n",
      "New state: {'fire': 1, 'tree': 17}\n",
      "--- STEP 32 begin ---\n",
      "1\n",
      "New state: {'fire': 1, 'tree': 16}\n",
      "--- STEP 33 begin ---\n",
      "0\n",
      "New state: {'fire': 0, 'tree': 16}\n"
     ]
    },
    {
     "name": "stdout",
     "output_type": "stream",
     "text": [
      "Fire is dead...\n",
      "--- STEP 0 begin ---\n",
      "7\n",
      "New state: {'fire': 7, 'tree': 1593}\n",
      "--- STEP 1 begin ---\n",
      "8\n",
      "New state: {'fire': 8, 'tree': 1585}\n",
      "--- STEP 2 begin ---\n",
      "12\n",
      "New state: {'fire': 12, 'tree': 1573}\n",
      "--- STEP 3 begin ---\n",
      "19\n",
      "New state: {'fire': 19, 'tree': 1554}\n",
      "--- STEP 4 begin ---\n",
      "21\n",
      "New state: {'fire': 21, 'tree': 1533}\n",
      "--- STEP 5 begin ---\n",
      "26\n",
      "New state: {'fire': 26, 'tree': 1507}\n",
      "--- STEP 6 begin ---\n",
      "31\n",
      "New state: {'fire': 31, 'tree': 1476}\n",
      "--- STEP 7 begin ---\n",
      "40\n",
      "New state: {'fire': 40, 'tree': 1436}\n",
      "--- STEP 8 begin ---\n",
      "40\n",
      "New state: {'fire': 40, 'tree': 1396}\n",
      "--- STEP 9 begin ---\n",
      "40\n",
      "New state: {'fire': 40, 'tree': 1356}\n",
      "--- STEP 10 begin ---\n",
      "45\n",
      "New state: {'fire': 45, 'tree': 1311}\n",
      "--- STEP 11 begin ---\n",
      "53\n",
      "New state: {'fire': 53, 'tree': 1258}\n",
      "--- STEP 12 begin ---\n",
      "65\n",
      "New state: {'fire': 65, 'tree': 1193}\n",
      "--- STEP 13 begin ---\n",
      "71\n",
      "New state: {'fire': 71, 'tree': 1122}\n",
      "--- STEP 14 begin ---\n",
      "63\n",
      "New state: {'fire': 63, 'tree': 1059}\n",
      "--- STEP 15 begin ---\n",
      "68\n",
      "New state: {'fire': 68, 'tree': 991}\n",
      "--- STEP 16 begin ---\n",
      "78\n",
      "New state: {'fire': 78, 'tree': 913}\n",
      "--- STEP 17 begin ---\n",
      "79\n",
      "New state: {'fire': 79, 'tree': 834}\n",
      "--- STEP 18 begin ---\n",
      "84\n",
      "New state: {'fire': 84, 'tree': 750}\n",
      "--- STEP 19 begin ---\n",
      "88\n",
      "New state: {'fire': 88, 'tree': 662}\n",
      "--- STEP 20 begin ---\n",
      "94\n",
      "New state: {'fire': 94, 'tree': 568}\n",
      "--- STEP 21 begin ---\n",
      "104\n",
      "New state: {'fire': 104, 'tree': 464}\n",
      "--- STEP 22 begin ---\n",
      "114\n",
      "New state: {'fire': 114, 'tree': 350}\n",
      "--- STEP 23 begin ---\n",
      "120\n",
      "New state: {'fire': 120, 'tree': 230}\n",
      "--- STEP 24 begin ---\n",
      "98\n",
      "New state: {'fire': 98, 'tree': 132}\n",
      "--- STEP 25 begin ---\n",
      "54\n",
      "New state: {'fire': 54, 'tree': 78}\n",
      "--- STEP 26 begin ---\n",
      "42\n",
      "New state: {'fire': 42, 'tree': 36}\n",
      "--- STEP 27 begin ---\n",
      "21\n",
      "New state: {'fire': 21, 'tree': 15}\n",
      "--- STEP 28 begin ---\n",
      "12\n",
      "New state: {'fire': 12, 'tree': 3}\n",
      "--- STEP 29 begin ---\n",
      "2\n",
      "New state: {'fire': 2, 'tree': 1}\n",
      "--- STEP 30 begin ---\n",
      "0\n",
      "New state: {'fire': 0, 'tree': 1}\n",
      "Fire is dead...\n",
      "--- STEP 0 begin ---\n",
      "8\n",
      "New state: {'fire': 8, 'tree': 1787}\n",
      "--- STEP 1 begin ---\n",
      "11\n",
      "New state: {'fire': 11, 'tree': 1776}\n",
      "--- STEP 2 begin ---\n",
      "19\n",
      "New state: {'fire': 19, 'tree': 1757}\n",
      "--- STEP 3 begin ---\n",
      "21\n",
      "New state: {'fire': 21, 'tree': 1736}\n",
      "--- STEP 4 begin ---\n",
      "27\n",
      "New state: {'fire': 27, 'tree': 1709}\n",
      "--- STEP 5 begin ---\n",
      "33\n",
      "New state: {'fire': 33, 'tree': 1676}\n",
      "--- STEP 6 begin ---\n",
      "32\n",
      "New state: {'fire': 32, 'tree': 1644}\n",
      "--- STEP 7 begin ---\n",
      "39\n",
      "New state: {'fire': 39, 'tree': 1605}\n",
      "--- STEP 8 begin ---\n",
      "52\n",
      "New state: {'fire': 52, 'tree': 1553}\n",
      "--- STEP 9 begin ---\n",
      "57\n",
      "New state: {'fire': 57, 'tree': 1496}\n",
      "--- STEP 10 begin ---\n",
      "67\n",
      "New state: {'fire': 67, 'tree': 1429}\n",
      "--- STEP 11 begin ---\n",
      "64\n",
      "New state: {'fire': 64, 'tree': 1365}\n",
      "--- STEP 12 begin ---\n",
      "68\n",
      "New state: {'fire': 68, 'tree': 1297}\n",
      "--- STEP 13 begin ---\n",
      "78\n",
      "New state: {'fire': 78, 'tree': 1219}\n",
      "--- STEP 14 begin ---\n",
      "82\n",
      "New state: {'fire': 82, 'tree': 1137}\n",
      "--- STEP 15 begin ---\n",
      "95\n",
      "New state: {'fire': 95, 'tree': 1042}\n",
      "--- STEP 16 begin ---\n",
      "76\n",
      "New state: {'fire': 76, 'tree': 966}\n",
      "--- STEP 17 begin ---\n",
      "86\n",
      "New state: {'fire': 86, 'tree': 880}\n",
      "--- STEP 18 begin ---\n",
      "95\n",
      "New state: {'fire': 95, 'tree': 785}\n",
      "--- STEP 19 begin ---\n",
      "115\n",
      "New state: {'fire': 115, 'tree': 670}\n",
      "--- STEP 20 begin ---\n",
      "127\n",
      "New state: {'fire': 127, 'tree': 543}\n",
      "--- STEP 21 begin ---\n",
      "136\n",
      "New state: {'fire': 136, 'tree': 407}\n",
      "--- STEP 22 begin ---\n",
      "137\n",
      "New state: {'fire': 137, 'tree': 270}\n",
      "--- STEP 23 begin ---\n",
      "142\n",
      "New state: {'fire': 142, 'tree': 128}\n",
      "--- STEP 24 begin ---\n",
      "87\n",
      "New state: {'fire': 87, 'tree': 41}\n",
      "--- STEP 25 begin ---\n",
      "25\n",
      "New state: {'fire': 25, 'tree': 16}\n",
      "--- STEP 26 begin ---\n",
      "10\n",
      "New state: {'fire': 10, 'tree': 6}\n",
      "--- STEP 27 begin ---\n",
      "3\n",
      "New state: {'fire': 3, 'tree': 3}\n",
      "--- STEP 28 begin ---\n",
      "1\n",
      "New state: {'fire': 1, 'tree': 2}\n",
      "--- STEP 29 begin ---\n",
      "0\n",
      "New state: {'fire': 0, 'tree': 2}\n",
      "Fire is dead...\n",
      "--- STEP 0 begin ---\n",
      "7\n",
      "New state: {'fire': 7, 'tree': 1863}\n",
      "--- STEP 1 begin ---\n",
      "15\n",
      "New state: {'fire': 15, 'tree': 1848}\n",
      "--- STEP 2 begin ---\n",
      "21\n",
      "New state: {'fire': 21, 'tree': 1827}\n",
      "--- STEP 3 begin ---\n",
      "21\n",
      "New state: {'fire': 21, 'tree': 1806}\n",
      "--- STEP 4 begin ---\n",
      "32\n",
      "New state: {'fire': 32, 'tree': 1774}\n",
      "--- STEP 5 begin ---\n",
      "34\n",
      "New state: {'fire': 34, 'tree': 1740}\n",
      "--- STEP 6 begin ---\n",
      "41\n",
      "New state: {'fire': 41, 'tree': 1699}\n",
      "--- STEP 7 begin ---\n",
      "45\n",
      "New state: {'fire': 45, 'tree': 1654}\n",
      "--- STEP 8 begin ---\n",
      "57\n",
      "New state: {'fire': 57, 'tree': 1597}\n",
      "--- STEP 9 begin ---\n",
      "57\n",
      "New state: {'fire': 57, 'tree': 1540}\n",
      "--- STEP 10 begin ---\n",
      "63\n",
      "New state: {'fire': 63, 'tree': 1477}\n",
      "--- STEP 11 begin ---\n",
      "79\n",
      "New state: {'fire': 79, 'tree': 1398}\n",
      "--- STEP 12 begin ---\n",
      "81\n",
      "New state: {'fire': 81, 'tree': 1317}\n",
      "--- STEP 13 begin ---\n",
      "86\n",
      "New state: {'fire': 86, 'tree': 1231}\n",
      "--- STEP 14 begin ---\n",
      "85\n",
      "New state: {'fire': 85, 'tree': 1146}\n",
      "--- STEP 15 begin ---\n",
      "89\n",
      "New state: {'fire': 89, 'tree': 1057}\n",
      "--- STEP 16 begin ---\n",
      "101\n",
      "New state: {'fire': 101, 'tree': 956}\n",
      "--- STEP 17 begin ---\n",
      "102\n",
      "New state: {'fire': 102, 'tree': 854}\n",
      "--- STEP 18 begin ---\n",
      "107\n",
      "New state: {'fire': 107, 'tree': 747}\n",
      "--- STEP 19 begin ---\n",
      "117\n",
      "New state: {'fire': 117, 'tree': 630}\n",
      "--- STEP 20 begin ---\n",
      "114\n",
      "New state: {'fire': 114, 'tree': 516}\n",
      "--- STEP 21 begin ---\n",
      "113\n",
      "New state: {'fire': 113, 'tree': 403}\n",
      "--- STEP 22 begin ---\n",
      "121\n",
      "New state: {'fire': 121, 'tree': 282}\n",
      "--- STEP 23 begin ---\n",
      "122\n",
      "New state: {'fire': 122, 'tree': 160}\n",
      "--- STEP 24 begin ---\n",
      "97\n",
      "New state: {'fire': 97, 'tree': 63}\n",
      "--- STEP 25 begin ---\n",
      "43\n",
      "New state: {'fire': 43, 'tree': 20}\n",
      "--- STEP 26 begin ---\n",
      "11\n",
      "New state: {'fire': 11, 'tree': 9}\n",
      "--- STEP 27 begin ---\n",
      "5\n",
      "New state: {'fire': 5, 'tree': 4}\n",
      "--- STEP 28 begin ---\n",
      "1\n",
      "New state: {'fire': 1, 'tree': 3}\n",
      "--- STEP 29 begin ---\n",
      "1\n",
      "New state: {'fire': 1, 'tree': 2}\n",
      "--- STEP 30 begin ---\n",
      "0\n",
      "New state: {'fire': 0, 'tree': 2}\n",
      "Fire is dead...\n",
      "--- STEP 0 begin ---\n",
      "5\n",
      "New state: {'fire': 5, 'tree': 1963}\n",
      "--- STEP 1 begin ---\n",
      "11\n",
      "New state: {'fire': 11, 'tree': 1952}\n",
      "--- STEP 2 begin ---\n",
      "12\n",
      "New state: {'fire': 12, 'tree': 1940}\n",
      "--- STEP 3 begin ---\n",
      "18\n",
      "New state: {'fire': 18, 'tree': 1922}\n",
      "--- STEP 4 begin ---\n",
      "27\n",
      "New state: {'fire': 27, 'tree': 1895}\n",
      "--- STEP 5 begin ---\n",
      "30\n",
      "New state: {'fire': 30, 'tree': 1865}\n",
      "--- STEP 6 begin ---\n",
      "42\n",
      "New state: {'fire': 42, 'tree': 1823}\n",
      "--- STEP 7 begin ---\n",
      "45\n",
      "New state: {'fire': 45, 'tree': 1778}\n",
      "--- STEP 8 begin ---\n",
      "48\n",
      "New state: {'fire': 48, 'tree': 1730}\n",
      "--- STEP 9 begin ---\n",
      "66\n",
      "New state: {'fire': 66, 'tree': 1664}\n",
      "--- STEP 10 begin ---\n",
      "69\n",
      "New state: {'fire': 69, 'tree': 1595}\n",
      "--- STEP 11 begin ---\n",
      "68\n",
      "New state: {'fire': 68, 'tree': 1527}\n",
      "--- STEP 12 begin ---\n",
      "78\n",
      "New state: {'fire': 78, 'tree': 1449}\n",
      "--- STEP 13 begin ---\n",
      "94\n",
      "New state: {'fire': 94, 'tree': 1355}\n",
      "--- STEP 14 begin ---\n",
      "89\n",
      "New state: {'fire': 89, 'tree': 1266}\n",
      "--- STEP 15 begin ---\n",
      "96\n",
      "New state: {'fire': 96, 'tree': 1170}\n",
      "--- STEP 16 begin ---\n",
      "100\n",
      "New state: {'fire': 100, 'tree': 1070}\n",
      "--- STEP 17 begin ---\n",
      "106\n",
      "New state: {'fire': 106, 'tree': 964}\n",
      "--- STEP 18 begin ---\n",
      "107\n",
      "New state: {'fire': 107, 'tree': 857}\n",
      "--- STEP 19 begin ---\n",
      "120\n",
      "New state: {'fire': 120, 'tree': 737}\n",
      "--- STEP 20 begin ---\n",
      "133\n",
      "New state: {'fire': 133, 'tree': 604}\n",
      "--- STEP 21 begin ---\n",
      "140\n",
      "New state: {'fire': 140, 'tree': 464}\n",
      "--- STEP 22 begin ---\n",
      "137\n",
      "New state: {'fire': 137, 'tree': 327}\n",
      "--- STEP 23 begin ---\n",
      "149\n",
      "New state: {'fire': 149, 'tree': 178}\n",
      "--- STEP 24 begin ---\n",
      "127\n",
      "New state: {'fire': 127, 'tree': 51}\n",
      "--- STEP 25 begin ---\n",
      "36\n",
      "New state: {'fire': 36, 'tree': 15}\n",
      "--- STEP 26 begin ---\n",
      "13\n",
      "New state: {'fire': 13, 'tree': 2}\n",
      "--- STEP 27 begin ---\n",
      "2\n",
      "New state: {'fire': 2, 'tree': 0}\n",
      "--- STEP 28 begin ---\n",
      "0\n",
      "New state: {'fire': 0, 'tree': 0}\n",
      "Fire is dead...\n",
      "--- STEP 0 begin ---\n",
      "7\n",
      "New state: {'fire': 7, 'tree': 2112}\n",
      "--- STEP 1 begin ---\n",
      "12\n",
      "New state: {'fire': 12, 'tree': 2100}\n",
      "--- STEP 2 begin ---\n",
      "20\n",
      "New state: {'fire': 20, 'tree': 2080}\n",
      "--- STEP 3 begin ---\n",
      "26\n",
      "New state: {'fire': 26, 'tree': 2054}\n",
      "--- STEP 4 begin ---\n",
      "38\n",
      "New state: {'fire': 38, 'tree': 2016}\n",
      "--- STEP 5 begin ---\n",
      "39\n",
      "New state: {'fire': 39, 'tree': 1977}\n",
      "--- STEP 6 begin ---\n",
      "43\n",
      "New state: {'fire': 43, 'tree': 1934}\n",
      "--- STEP 7 begin ---\n",
      "52\n",
      "New state: {'fire': 52, 'tree': 1882}\n",
      "--- STEP 8 begin ---\n",
      "60\n",
      "New state: {'fire': 60, 'tree': 1822}\n",
      "--- STEP 9 begin ---\n",
      "64\n",
      "New state: {'fire': 64, 'tree': 1758}\n",
      "--- STEP 10 begin ---\n"
     ]
    },
    {
     "name": "stdout",
     "output_type": "stream",
     "text": [
      "75\n",
      "New state: {'fire': 75, 'tree': 1683}\n",
      "--- STEP 11 begin ---\n",
      "84\n",
      "New state: {'fire': 84, 'tree': 1599}\n",
      "--- STEP 12 begin ---\n",
      "82\n",
      "New state: {'fire': 82, 'tree': 1517}\n",
      "--- STEP 13 begin ---\n",
      "88\n",
      "New state: {'fire': 88, 'tree': 1429}\n",
      "--- STEP 14 begin ---\n",
      "106\n",
      "New state: {'fire': 106, 'tree': 1323}\n",
      "--- STEP 15 begin ---\n",
      "111\n",
      "New state: {'fire': 111, 'tree': 1212}\n",
      "--- STEP 16 begin ---\n",
      "114\n",
      "New state: {'fire': 114, 'tree': 1098}\n",
      "--- STEP 17 begin ---\n",
      "115\n",
      "New state: {'fire': 115, 'tree': 983}\n",
      "--- STEP 18 begin ---\n",
      "130\n",
      "New state: {'fire': 130, 'tree': 853}\n",
      "--- STEP 19 begin ---\n",
      "136\n",
      "New state: {'fire': 136, 'tree': 717}\n",
      "--- STEP 20 begin ---\n",
      "144\n",
      "New state: {'fire': 144, 'tree': 573}\n",
      "--- STEP 21 begin ---\n",
      "151\n",
      "New state: {'fire': 151, 'tree': 422}\n",
      "--- STEP 22 begin ---\n",
      "160\n",
      "New state: {'fire': 160, 'tree': 262}\n",
      "--- STEP 23 begin ---\n",
      "154\n",
      "New state: {'fire': 154, 'tree': 108}\n",
      "--- STEP 24 begin ---\n",
      "90\n",
      "New state: {'fire': 90, 'tree': 18}\n",
      "--- STEP 25 begin ---\n",
      "16\n",
      "New state: {'fire': 16, 'tree': 2}\n",
      "--- STEP 26 begin ---\n",
      "2\n",
      "New state: {'fire': 2, 'tree': 0}\n",
      "--- STEP 27 begin ---\n",
      "0\n",
      "New state: {'fire': 0, 'tree': 0}\n",
      "Fire is dead...\n",
      "--- STEP 0 begin ---\n",
      "8\n",
      "New state: {'fire': 8, 'tree': 2224}\n",
      "--- STEP 1 begin ---\n",
      "15\n",
      "New state: {'fire': 15, 'tree': 2209}\n",
      "--- STEP 2 begin ---\n",
      "22\n",
      "New state: {'fire': 22, 'tree': 2187}\n",
      "--- STEP 3 begin ---\n",
      "30\n",
      "New state: {'fire': 30, 'tree': 2157}\n",
      "--- STEP 4 begin ---\n",
      "36\n",
      "New state: {'fire': 36, 'tree': 2121}\n",
      "--- STEP 5 begin ---\n",
      "45\n",
      "New state: {'fire': 45, 'tree': 2076}\n",
      "--- STEP 6 begin ---\n",
      "47\n",
      "New state: {'fire': 47, 'tree': 2029}\n",
      "--- STEP 7 begin ---\n",
      "58\n",
      "New state: {'fire': 58, 'tree': 1971}\n",
      "--- STEP 8 begin ---\n",
      "62\n",
      "New state: {'fire': 62, 'tree': 1909}\n",
      "--- STEP 9 begin ---\n",
      "68\n",
      "New state: {'fire': 68, 'tree': 1841}\n",
      "--- STEP 10 begin ---\n",
      "80\n",
      "New state: {'fire': 80, 'tree': 1761}\n",
      "--- STEP 11 begin ---\n",
      "78\n",
      "New state: {'fire': 78, 'tree': 1683}\n",
      "--- STEP 12 begin ---\n",
      "89\n",
      "New state: {'fire': 89, 'tree': 1594}\n",
      "--- STEP 13 begin ---\n",
      "93\n",
      "New state: {'fire': 93, 'tree': 1501}\n",
      "--- STEP 14 begin ---\n",
      "103\n",
      "New state: {'fire': 103, 'tree': 1398}\n",
      "--- STEP 15 begin ---\n",
      "110\n",
      "New state: {'fire': 110, 'tree': 1288}\n",
      "--- STEP 16 begin ---\n",
      "125\n",
      "New state: {'fire': 125, 'tree': 1163}\n",
      "--- STEP 17 begin ---\n",
      "131\n",
      "New state: {'fire': 131, 'tree': 1032}\n",
      "--- STEP 18 begin ---\n",
      "130\n",
      "New state: {'fire': 130, 'tree': 902}\n",
      "--- STEP 19 begin ---\n",
      "136\n",
      "New state: {'fire': 136, 'tree': 766}\n",
      "--- STEP 20 begin ---\n",
      "150\n",
      "New state: {'fire': 150, 'tree': 616}\n",
      "--- STEP 21 begin ---\n",
      "163\n",
      "New state: {'fire': 163, 'tree': 453}\n",
      "--- STEP 22 begin ---\n",
      "170\n",
      "New state: {'fire': 170, 'tree': 283}\n",
      "--- STEP 23 begin ---\n",
      "177\n",
      "New state: {'fire': 177, 'tree': 106}\n",
      "--- STEP 24 begin ---\n",
      "101\n",
      "New state: {'fire': 101, 'tree': 5}\n",
      "--- STEP 25 begin ---\n",
      "5\n",
      "New state: {'fire': 5, 'tree': 0}\n",
      "--- STEP 26 begin ---\n",
      "0\n",
      "New state: {'fire': 0, 'tree': 0}\n",
      "Fire is dead...\n",
      "--- STEP 0 begin ---\n",
      "8\n",
      "New state: {'fire': 8, 'tree': 2367}\n",
      "--- STEP 1 begin ---\n",
      "15\n",
      "New state: {'fire': 15, 'tree': 2352}\n",
      "--- STEP 2 begin ---\n",
      "23\n",
      "New state: {'fire': 23, 'tree': 2329}\n",
      "--- STEP 3 begin ---\n",
      "29\n",
      "New state: {'fire': 29, 'tree': 2300}\n",
      "--- STEP 4 begin ---\n",
      "37\n",
      "New state: {'fire': 37, 'tree': 2263}\n",
      "--- STEP 5 begin ---\n",
      "42\n",
      "New state: {'fire': 42, 'tree': 2221}\n",
      "--- STEP 6 begin ---\n",
      "53\n",
      "New state: {'fire': 53, 'tree': 2168}\n",
      "--- STEP 7 begin ---\n",
      "60\n",
      "New state: {'fire': 60, 'tree': 2108}\n",
      "--- STEP 8 begin ---\n",
      "67\n",
      "New state: {'fire': 67, 'tree': 2041}\n",
      "--- STEP 9 begin ---\n",
      "69\n",
      "New state: {'fire': 69, 'tree': 1972}\n",
      "--- STEP 10 begin ---\n",
      "80\n",
      "New state: {'fire': 80, 'tree': 1892}\n",
      "--- STEP 11 begin ---\n",
      "92\n",
      "New state: {'fire': 92, 'tree': 1800}\n",
      "--- STEP 12 begin ---\n",
      "103\n",
      "New state: {'fire': 103, 'tree': 1697}\n",
      "--- STEP 13 begin ---\n",
      "109\n",
      "New state: {'fire': 109, 'tree': 1588}\n",
      "--- STEP 14 begin ---\n",
      "117\n",
      "New state: {'fire': 117, 'tree': 1471}\n",
      "--- STEP 15 begin ---\n",
      "121\n",
      "New state: {'fire': 121, 'tree': 1350}\n",
      "--- STEP 16 begin ---\n",
      "131\n",
      "New state: {'fire': 131, 'tree': 1219}\n",
      "--- STEP 17 begin ---\n",
      "139\n",
      "New state: {'fire': 139, 'tree': 1080}\n",
      "--- STEP 18 begin ---\n",
      "143\n",
      "New state: {'fire': 143, 'tree': 937}\n",
      "--- STEP 19 begin ---\n",
      "157\n",
      "New state: {'fire': 157, 'tree': 780}\n",
      "--- STEP 20 begin ---\n",
      "157\n",
      "New state: {'fire': 157, 'tree': 623}\n",
      "--- STEP 21 begin ---\n",
      "169\n",
      "New state: {'fire': 169, 'tree': 454}\n",
      "--- STEP 22 begin ---\n",
      "175\n",
      "New state: {'fire': 175, 'tree': 279}\n",
      "--- STEP 23 begin ---\n",
      "177\n",
      "New state: {'fire': 177, 'tree': 102}\n",
      "--- STEP 24 begin ---\n",
      "99\n",
      "New state: {'fire': 99, 'tree': 3}\n",
      "--- STEP 25 begin ---\n",
      "3\n",
      "New state: {'fire': 3, 'tree': 0}\n",
      "--- STEP 26 begin ---\n",
      "0\n",
      "New state: {'fire': 0, 'tree': 0}\n",
      "Fire is dead...\n"
     ]
    },
    {
     "data": {
      "text/plain": [
       "<Figure size 720x720 with 0 Axes>"
      ]
     },
     "metadata": {},
     "output_type": "display_data"
    },
    {
     "data": {
      "text/plain": [
       "<Figure size 720x720 with 0 Axes>"
      ]
     },
     "metadata": {},
     "output_type": "display_data"
    },
    {
     "data": {
      "text/plain": [
       "<Figure size 720x720 with 0 Axes>"
      ]
     },
     "metadata": {},
     "output_type": "display_data"
    },
    {
     "data": {
      "text/plain": [
       "<Figure size 720x720 with 0 Axes>"
      ]
     },
     "metadata": {},
     "output_type": "display_data"
    },
    {
     "data": {
      "text/plain": [
       "<Figure size 720x720 with 0 Axes>"
      ]
     },
     "metadata": {},
     "output_type": "display_data"
    },
    {
     "data": {
      "text/plain": [
       "<Figure size 720x720 with 0 Axes>"
      ]
     },
     "metadata": {},
     "output_type": "display_data"
    },
    {
     "data": {
      "text/plain": [
       "<Figure size 720x720 with 0 Axes>"
      ]
     },
     "metadata": {},
     "output_type": "display_data"
    },
    {
     "data": {
      "text/plain": [
       "<Figure size 720x720 with 0 Axes>"
      ]
     },
     "metadata": {},
     "output_type": "display_data"
    },
    {
     "data": {
      "text/plain": [
       "<Figure size 720x720 with 0 Axes>"
      ]
     },
     "metadata": {},
     "output_type": "display_data"
    },
    {
     "data": {
      "text/plain": [
       "<Figure size 720x720 with 0 Axes>"
      ]
     },
     "metadata": {},
     "output_type": "display_data"
    },
    {
     "data": {
      "text/plain": [
       "<Figure size 720x720 with 0 Axes>"
      ]
     },
     "metadata": {},
     "output_type": "display_data"
    },
    {
     "data": {
      "text/plain": [
       "<Figure size 720x720 with 0 Axes>"
      ]
     },
     "metadata": {},
     "output_type": "display_data"
    },
    {
     "data": {
      "text/plain": [
       "<Figure size 720x720 with 0 Axes>"
      ]
     },
     "metadata": {},
     "output_type": "display_data"
    },
    {
     "data": {
      "text/plain": [
       "<Figure size 720x720 with 0 Axes>"
      ]
     },
     "metadata": {},
     "output_type": "display_data"
    },
    {
     "data": {
      "text/plain": [
       "<Figure size 720x720 with 0 Axes>"
      ]
     },
     "metadata": {},
     "output_type": "display_data"
    },
    {
     "data": {
      "text/plain": [
       "<Figure size 720x720 with 0 Axes>"
      ]
     },
     "metadata": {},
     "output_type": "display_data"
    },
    {
     "data": {
      "text/plain": [
       "<Figure size 720x720 with 0 Axes>"
      ]
     },
     "metadata": {},
     "output_type": "display_data"
    },
    {
     "data": {
      "text/plain": [
       "<Figure size 720x720 with 0 Axes>"
      ]
     },
     "metadata": {},
     "output_type": "display_data"
    },
    {
     "data": {
      "text/plain": [
       "<Figure size 720x720 with 0 Axes>"
      ]
     },
     "metadata": {},
     "output_type": "display_data"
    },
    {
     "data": {
      "text/plain": [
       "<Figure size 720x720 with 0 Axes>"
      ]
     },
     "metadata": {},
     "output_type": "display_data"
    },
    {
     "data": {
      "text/plain": [
       "<Figure size 720x720 with 0 Axes>"
      ]
     },
     "metadata": {},
     "output_type": "display_data"
    },
    {
     "data": {
      "text/plain": [
       "<Figure size 720x720 with 0 Axes>"
      ]
     },
     "metadata": {},
     "output_type": "display_data"
    },
    {
     "data": {
      "text/plain": [
       "<Figure size 720x720 with 0 Axes>"
      ]
     },
     "metadata": {},
     "output_type": "display_data"
    },
    {
     "data": {
      "text/plain": [
       "<Figure size 720x720 with 0 Axes>"
      ]
     },
     "metadata": {},
     "output_type": "display_data"
    },
    {
     "data": {
      "text/plain": [
       "<Figure size 720x720 with 0 Axes>"
      ]
     },
     "metadata": {},
     "output_type": "display_data"
    },
    {
     "data": {
      "text/plain": [
       "<Figure size 720x720 with 0 Axes>"
      ]
     },
     "metadata": {},
     "output_type": "display_data"
    },
    {
     "data": {
      "text/plain": [
       "<Figure size 720x720 with 0 Axes>"
      ]
     },
     "metadata": {},
     "output_type": "display_data"
    },
    {
     "data": {
      "text/plain": [
       "<Figure size 720x720 with 0 Axes>"
      ]
     },
     "metadata": {},
     "output_type": "display_data"
    },
    {
     "data": {
      "text/plain": [
       "<Figure size 720x720 with 0 Axes>"
      ]
     },
     "metadata": {},
     "output_type": "display_data"
    },
    {
     "data": {
      "text/plain": [
       "<Figure size 720x720 with 0 Axes>"
      ]
     },
     "metadata": {},
     "output_type": "display_data"
    },
    {
     "data": {
      "text/plain": [
       "<Figure size 720x720 with 0 Axes>"
      ]
     },
     "metadata": {},
     "output_type": "display_data"
    },
    {
     "data": {
      "text/plain": [
       "<Figure size 720x720 with 0 Axes>"
      ]
     },
     "metadata": {},
     "output_type": "display_data"
    },
    {
     "data": {
      "text/plain": [
       "<Figure size 720x720 with 0 Axes>"
      ]
     },
     "metadata": {},
     "output_type": "display_data"
    },
    {
     "data": {
      "text/plain": [
       "<Figure size 720x720 with 0 Axes>"
      ]
     },
     "metadata": {},
     "output_type": "display_data"
    },
    {
     "data": {
      "text/plain": [
       "<Figure size 720x720 with 0 Axes>"
      ]
     },
     "metadata": {},
     "output_type": "display_data"
    },
    {
     "data": {
      "text/plain": [
       "<Figure size 720x720 with 0 Axes>"
      ]
     },
     "metadata": {},
     "output_type": "display_data"
    },
    {
     "data": {
      "text/plain": [
       "<Figure size 720x720 with 0 Axes>"
      ]
     },
     "metadata": {},
     "output_type": "display_data"
    },
    {
     "data": {
      "text/plain": [
       "<Figure size 720x720 with 0 Axes>"
      ]
     },
     "metadata": {},
     "output_type": "display_data"
    },
    {
     "data": {
      "text/plain": [
       "<Figure size 720x720 with 0 Axes>"
      ]
     },
     "metadata": {},
     "output_type": "display_data"
    },
    {
     "data": {
      "text/plain": [
       "<Figure size 720x720 with 0 Axes>"
      ]
     },
     "metadata": {},
     "output_type": "display_data"
    },
    {
     "data": {
      "text/plain": [
       "<Figure size 720x720 with 0 Axes>"
      ]
     },
     "metadata": {},
     "output_type": "display_data"
    },
    {
     "data": {
      "text/plain": [
       "<Figure size 720x720 with 0 Axes>"
      ]
     },
     "metadata": {},
     "output_type": "display_data"
    },
    {
     "data": {
      "text/plain": [
       "<Figure size 720x720 with 0 Axes>"
      ]
     },
     "metadata": {},
     "output_type": "display_data"
    },
    {
     "data": {
      "text/plain": [
       "<Figure size 720x720 with 0 Axes>"
      ]
     },
     "metadata": {},
     "output_type": "display_data"
    },
    {
     "data": {
      "text/plain": [
       "<Figure size 720x720 with 0 Axes>"
      ]
     },
     "metadata": {},
     "output_type": "display_data"
    },
    {
     "data": {
      "text/plain": [
       "<Figure size 720x720 with 0 Axes>"
      ]
     },
     "metadata": {},
     "output_type": "display_data"
    },
    {
     "data": {
      "text/plain": [
       "<Figure size 720x720 with 0 Axes>"
      ]
     },
     "metadata": {},
     "output_type": "display_data"
    },
    {
     "data": {
      "text/plain": [
       "<Figure size 720x720 with 0 Axes>"
      ]
     },
     "metadata": {},
     "output_type": "display_data"
    },
    {
     "data": {
      "text/plain": [
       "<Figure size 720x720 with 0 Axes>"
      ]
     },
     "metadata": {},
     "output_type": "display_data"
    },
    {
     "data": {
      "text/plain": [
       "<Figure size 720x720 with 0 Axes>"
      ]
     },
     "metadata": {},
     "output_type": "display_data"
    },
    {
     "data": {
      "text/plain": [
       "<Figure size 720x720 with 0 Axes>"
      ]
     },
     "metadata": {},
     "output_type": "display_data"
    },
    {
     "data": {
      "text/plain": [
       "<Figure size 720x720 with 0 Axes>"
      ]
     },
     "metadata": {},
     "output_type": "display_data"
    },
    {
     "data": {
      "text/plain": [
       "<Figure size 720x720 with 0 Axes>"
      ]
     },
     "metadata": {},
     "output_type": "display_data"
    },
    {
     "data": {
      "text/plain": [
       "<Figure size 720x720 with 0 Axes>"
      ]
     },
     "metadata": {},
     "output_type": "display_data"
    },
    {
     "data": {
      "text/plain": [
       "<Figure size 720x720 with 0 Axes>"
      ]
     },
     "metadata": {},
     "output_type": "display_data"
    },
    {
     "data": {
      "text/plain": [
       "<Figure size 720x720 with 0 Axes>"
      ]
     },
     "metadata": {},
     "output_type": "display_data"
    },
    {
     "data": {
      "text/plain": [
       "<Figure size 720x720 with 0 Axes>"
      ]
     },
     "metadata": {},
     "output_type": "display_data"
    },
    {
     "data": {
      "text/plain": [
       "<Figure size 720x720 with 0 Axes>"
      ]
     },
     "metadata": {},
     "output_type": "display_data"
    },
    {
     "data": {
      "text/plain": [
       "<Figure size 720x720 with 0 Axes>"
      ]
     },
     "metadata": {},
     "output_type": "display_data"
    },
    {
     "data": {
      "text/plain": [
       "<Figure size 720x720 with 0 Axes>"
      ]
     },
     "metadata": {},
     "output_type": "display_data"
    },
    {
     "data": {
      "text/plain": [
       "<Figure size 720x720 with 0 Axes>"
      ]
     },
     "metadata": {},
     "output_type": "display_data"
    },
    {
     "data": {
      "text/plain": [
       "<Figure size 720x720 with 0 Axes>"
      ]
     },
     "metadata": {},
     "output_type": "display_data"
    },
    {
     "data": {
      "text/plain": [
       "<Figure size 720x720 with 0 Axes>"
      ]
     },
     "metadata": {},
     "output_type": "display_data"
    },
    {
     "data": {
      "text/plain": [
       "<Figure size 720x720 with 0 Axes>"
      ]
     },
     "metadata": {},
     "output_type": "display_data"
    },
    {
     "data": {
      "text/plain": [
       "<Figure size 720x720 with 0 Axes>"
      ]
     },
     "metadata": {},
     "output_type": "display_data"
    },
    {
     "data": {
      "text/plain": [
       "<Figure size 720x720 with 0 Axes>"
      ]
     },
     "metadata": {},
     "output_type": "display_data"
    },
    {
     "data": {
      "text/plain": [
       "<Figure size 720x720 with 0 Axes>"
      ]
     },
     "metadata": {},
     "output_type": "display_data"
    },
    {
     "data": {
      "text/plain": [
       "<Figure size 720x720 with 0 Axes>"
      ]
     },
     "metadata": {},
     "output_type": "display_data"
    },
    {
     "data": {
      "text/plain": [
       "<Figure size 720x720 with 0 Axes>"
      ]
     },
     "metadata": {},
     "output_type": "display_data"
    },
    {
     "data": {
      "text/plain": [
       "<Figure size 720x720 with 0 Axes>"
      ]
     },
     "metadata": {},
     "output_type": "display_data"
    },
    {
     "data": {
      "text/plain": [
       "<Figure size 720x720 with 0 Axes>"
      ]
     },
     "metadata": {},
     "output_type": "display_data"
    },
    {
     "data": {
      "text/plain": [
       "<Figure size 720x720 with 0 Axes>"
      ]
     },
     "metadata": {},
     "output_type": "display_data"
    },
    {
     "data": {
      "text/plain": [
       "<Figure size 720x720 with 0 Axes>"
      ]
     },
     "metadata": {},
     "output_type": "display_data"
    },
    {
     "data": {
      "text/plain": [
       "<Figure size 720x720 with 0 Axes>"
      ]
     },
     "metadata": {},
     "output_type": "display_data"
    },
    {
     "data": {
      "text/plain": [
       "<Figure size 720x720 with 0 Axes>"
      ]
     },
     "metadata": {},
     "output_type": "display_data"
    },
    {
     "data": {
      "text/plain": [
       "<Figure size 720x720 with 0 Axes>"
      ]
     },
     "metadata": {},
     "output_type": "display_data"
    },
    {
     "data": {
      "text/plain": [
       "<Figure size 720x720 with 0 Axes>"
      ]
     },
     "metadata": {},
     "output_type": "display_data"
    },
    {
     "data": {
      "text/plain": [
       "<Figure size 720x720 with 0 Axes>"
      ]
     },
     "metadata": {},
     "output_type": "display_data"
    },
    {
     "data": {
      "text/plain": [
       "<Figure size 720x720 with 0 Axes>"
      ]
     },
     "metadata": {},
     "output_type": "display_data"
    },
    {
     "data": {
      "text/plain": [
       "<Figure size 720x720 with 0 Axes>"
      ]
     },
     "metadata": {},
     "output_type": "display_data"
    },
    {
     "data": {
      "text/plain": [
       "<Figure size 720x720 with 0 Axes>"
      ]
     },
     "metadata": {},
     "output_type": "display_data"
    },
    {
     "data": {
      "text/plain": [
       "<Figure size 720x720 with 0 Axes>"
      ]
     },
     "metadata": {},
     "output_type": "display_data"
    },
    {
     "data": {
      "text/plain": [
       "<Figure size 720x720 with 0 Axes>"
      ]
     },
     "metadata": {},
     "output_type": "display_data"
    },
    {
     "data": {
      "text/plain": [
       "<Figure size 720x720 with 0 Axes>"
      ]
     },
     "metadata": {},
     "output_type": "display_data"
    },
    {
     "data": {
      "text/plain": [
       "<Figure size 720x720 with 0 Axes>"
      ]
     },
     "metadata": {},
     "output_type": "display_data"
    },
    {
     "data": {
      "text/plain": [
       "<Figure size 720x720 with 0 Axes>"
      ]
     },
     "metadata": {},
     "output_type": "display_data"
    },
    {
     "data": {
      "text/plain": [
       "<Figure size 720x720 with 0 Axes>"
      ]
     },
     "metadata": {},
     "output_type": "display_data"
    },
    {
     "data": {
      "text/plain": [
       "<Figure size 720x720 with 0 Axes>"
      ]
     },
     "metadata": {},
     "output_type": "display_data"
    },
    {
     "data": {
      "text/plain": [
       "<Figure size 720x720 with 0 Axes>"
      ]
     },
     "metadata": {},
     "output_type": "display_data"
    },
    {
     "data": {
      "text/plain": [
       "<Figure size 720x720 with 0 Axes>"
      ]
     },
     "metadata": {},
     "output_type": "display_data"
    },
    {
     "data": {
      "text/plain": [
       "<Figure size 720x720 with 0 Axes>"
      ]
     },
     "metadata": {},
     "output_type": "display_data"
    },
    {
     "data": {
      "text/plain": [
       "<Figure size 720x720 with 0 Axes>"
      ]
     },
     "metadata": {},
     "output_type": "display_data"
    },
    {
     "data": {
      "text/plain": [
       "<Figure size 720x720 with 0 Axes>"
      ]
     },
     "metadata": {},
     "output_type": "display_data"
    },
    {
     "data": {
      "text/plain": [
       "<Figure size 720x720 with 0 Axes>"
      ]
     },
     "metadata": {},
     "output_type": "display_data"
    },
    {
     "data": {
      "text/plain": [
       "<Figure size 720x720 with 0 Axes>"
      ]
     },
     "metadata": {},
     "output_type": "display_data"
    },
    {
     "data": {
      "text/plain": [
       "<Figure size 720x720 with 0 Axes>"
      ]
     },
     "metadata": {},
     "output_type": "display_data"
    },
    {
     "data": {
      "text/plain": [
       "<Figure size 720x720 with 0 Axes>"
      ]
     },
     "metadata": {},
     "output_type": "display_data"
    },
    {
     "data": {
      "text/plain": [
       "<Figure size 720x720 with 0 Axes>"
      ]
     },
     "metadata": {},
     "output_type": "display_data"
    },
    {
     "data": {
      "text/plain": [
       "<Figure size 720x720 with 0 Axes>"
      ]
     },
     "metadata": {},
     "output_type": "display_data"
    },
    {
     "data": {
      "text/plain": [
       "<Figure size 720x720 with 0 Axes>"
      ]
     },
     "metadata": {},
     "output_type": "display_data"
    },
    {
     "data": {
      "text/plain": [
       "<Figure size 720x720 with 0 Axes>"
      ]
     },
     "metadata": {},
     "output_type": "display_data"
    },
    {
     "data": {
      "text/plain": [
       "<Figure size 720x720 with 0 Axes>"
      ]
     },
     "metadata": {},
     "output_type": "display_data"
    },
    {
     "data": {
      "text/plain": [
       "<Figure size 720x720 with 0 Axes>"
      ]
     },
     "metadata": {},
     "output_type": "display_data"
    },
    {
     "data": {
      "text/plain": [
       "<Figure size 720x720 with 0 Axes>"
      ]
     },
     "metadata": {},
     "output_type": "display_data"
    },
    {
     "data": {
      "text/plain": [
       "<Figure size 720x720 with 0 Axes>"
      ]
     },
     "metadata": {},
     "output_type": "display_data"
    },
    {
     "data": {
      "text/plain": [
       "<Figure size 720x720 with 0 Axes>"
      ]
     },
     "metadata": {},
     "output_type": "display_data"
    },
    {
     "data": {
      "text/plain": [
       "<Figure size 720x720 with 0 Axes>"
      ]
     },
     "metadata": {},
     "output_type": "display_data"
    },
    {
     "data": {
      "text/plain": [
       "<Figure size 720x720 with 0 Axes>"
      ]
     },
     "metadata": {},
     "output_type": "display_data"
    },
    {
     "data": {
      "text/plain": [
       "<Figure size 720x720 with 0 Axes>"
      ]
     },
     "metadata": {},
     "output_type": "display_data"
    },
    {
     "data": {
      "text/plain": [
       "<Figure size 720x720 with 0 Axes>"
      ]
     },
     "metadata": {},
     "output_type": "display_data"
    },
    {
     "data": {
      "text/plain": [
       "<Figure size 720x720 with 0 Axes>"
      ]
     },
     "metadata": {},
     "output_type": "display_data"
    },
    {
     "data": {
      "text/plain": [
       "<Figure size 720x720 with 0 Axes>"
      ]
     },
     "metadata": {},
     "output_type": "display_data"
    },
    {
     "data": {
      "text/plain": [
       "<Figure size 720x720 with 0 Axes>"
      ]
     },
     "metadata": {},
     "output_type": "display_data"
    },
    {
     "data": {
      "text/plain": [
       "<Figure size 720x720 with 0 Axes>"
      ]
     },
     "metadata": {},
     "output_type": "display_data"
    },
    {
     "data": {
      "text/plain": [
       "<Figure size 720x720 with 0 Axes>"
      ]
     },
     "metadata": {},
     "output_type": "display_data"
    },
    {
     "data": {
      "text/plain": [
       "<Figure size 720x720 with 0 Axes>"
      ]
     },
     "metadata": {},
     "output_type": "display_data"
    },
    {
     "data": {
      "text/plain": [
       "<Figure size 720x720 with 0 Axes>"
      ]
     },
     "metadata": {},
     "output_type": "display_data"
    },
    {
     "data": {
      "text/plain": [
       "<Figure size 720x720 with 0 Axes>"
      ]
     },
     "metadata": {},
     "output_type": "display_data"
    },
    {
     "data": {
      "text/plain": [
       "<Figure size 720x720 with 0 Axes>"
      ]
     },
     "metadata": {},
     "output_type": "display_data"
    },
    {
     "data": {
      "text/plain": [
       "<Figure size 720x720 with 0 Axes>"
      ]
     },
     "metadata": {},
     "output_type": "display_data"
    },
    {
     "data": {
      "text/plain": [
       "<Figure size 720x720 with 0 Axes>"
      ]
     },
     "metadata": {},
     "output_type": "display_data"
    },
    {
     "data": {
      "text/plain": [
       "<Figure size 720x720 with 0 Axes>"
      ]
     },
     "metadata": {},
     "output_type": "display_data"
    },
    {
     "data": {
      "text/plain": [
       "<Figure size 720x720 with 0 Axes>"
      ]
     },
     "metadata": {},
     "output_type": "display_data"
    },
    {
     "data": {
      "text/plain": [
       "<Figure size 720x720 with 0 Axes>"
      ]
     },
     "metadata": {},
     "output_type": "display_data"
    },
    {
     "data": {
      "text/plain": [
       "<Figure size 720x720 with 0 Axes>"
      ]
     },
     "metadata": {},
     "output_type": "display_data"
    },
    {
     "data": {
      "text/plain": [
       "<Figure size 720x720 with 0 Axes>"
      ]
     },
     "metadata": {},
     "output_type": "display_data"
    },
    {
     "data": {
      "text/plain": [
       "<Figure size 720x720 with 0 Axes>"
      ]
     },
     "metadata": {},
     "output_type": "display_data"
    },
    {
     "data": {
      "text/plain": [
       "<Figure size 720x720 with 0 Axes>"
      ]
     },
     "metadata": {},
     "output_type": "display_data"
    },
    {
     "data": {
      "text/plain": [
       "<Figure size 720x720 with 0 Axes>"
      ]
     },
     "metadata": {},
     "output_type": "display_data"
    },
    {
     "data": {
      "text/plain": [
       "<Figure size 720x720 with 0 Axes>"
      ]
     },
     "metadata": {},
     "output_type": "display_data"
    },
    {
     "data": {
      "text/plain": [
       "<Figure size 720x720 with 0 Axes>"
      ]
     },
     "metadata": {},
     "output_type": "display_data"
    },
    {
     "data": {
      "text/plain": [
       "<Figure size 720x720 with 0 Axes>"
      ]
     },
     "metadata": {},
     "output_type": "display_data"
    },
    {
     "data": {
      "text/plain": [
       "<Figure size 720x720 with 0 Axes>"
      ]
     },
     "metadata": {},
     "output_type": "display_data"
    },
    {
     "data": {
      "text/plain": [
       "<Figure size 720x720 with 0 Axes>"
      ]
     },
     "metadata": {},
     "output_type": "display_data"
    },
    {
     "data": {
      "text/plain": [
       "<Figure size 720x720 with 0 Axes>"
      ]
     },
     "metadata": {},
     "output_type": "display_data"
    },
    {
     "data": {
      "text/plain": [
       "<Figure size 720x720 with 0 Axes>"
      ]
     },
     "metadata": {},
     "output_type": "display_data"
    },
    {
     "data": {
      "text/plain": [
       "<Figure size 720x720 with 0 Axes>"
      ]
     },
     "metadata": {},
     "output_type": "display_data"
    },
    {
     "data": {
      "text/plain": [
       "<Figure size 720x720 with 0 Axes>"
      ]
     },
     "metadata": {},
     "output_type": "display_data"
    },
    {
     "data": {
      "text/plain": [
       "<Figure size 720x720 with 0 Axes>"
      ]
     },
     "metadata": {},
     "output_type": "display_data"
    },
    {
     "data": {
      "text/plain": [
       "<Figure size 720x720 with 0 Axes>"
      ]
     },
     "metadata": {},
     "output_type": "display_data"
    },
    {
     "data": {
      "text/plain": [
       "<Figure size 720x720 with 0 Axes>"
      ]
     },
     "metadata": {},
     "output_type": "display_data"
    },
    {
     "data": {
      "text/plain": [
       "<Figure size 720x720 with 0 Axes>"
      ]
     },
     "metadata": {},
     "output_type": "display_data"
    },
    {
     "data": {
      "text/plain": [
       "<Figure size 720x720 with 0 Axes>"
      ]
     },
     "metadata": {},
     "output_type": "display_data"
    },
    {
     "data": {
      "text/plain": [
       "<Figure size 720x720 with 0 Axes>"
      ]
     },
     "metadata": {},
     "output_type": "display_data"
    },
    {
     "data": {
      "text/plain": [
       "<Figure size 720x720 with 0 Axes>"
      ]
     },
     "metadata": {},
     "output_type": "display_data"
    },
    {
     "data": {
      "text/plain": [
       "<Figure size 720x720 with 0 Axes>"
      ]
     },
     "metadata": {},
     "output_type": "display_data"
    },
    {
     "data": {
      "text/plain": [
       "<Figure size 720x720 with 0 Axes>"
      ]
     },
     "metadata": {},
     "output_type": "display_data"
    },
    {
     "data": {
      "text/plain": [
       "<Figure size 720x720 with 0 Axes>"
      ]
     },
     "metadata": {},
     "output_type": "display_data"
    },
    {
     "data": {
      "text/plain": [
       "<Figure size 720x720 with 0 Axes>"
      ]
     },
     "metadata": {},
     "output_type": "display_data"
    },
    {
     "data": {
      "text/plain": [
       "<Figure size 720x720 with 0 Axes>"
      ]
     },
     "metadata": {},
     "output_type": "display_data"
    },
    {
     "data": {
      "text/plain": [
       "<Figure size 720x720 with 0 Axes>"
      ]
     },
     "metadata": {},
     "output_type": "display_data"
    },
    {
     "data": {
      "text/plain": [
       "<Figure size 720x720 with 0 Axes>"
      ]
     },
     "metadata": {},
     "output_type": "display_data"
    },
    {
     "data": {
      "text/plain": [
       "<Figure size 720x720 with 0 Axes>"
      ]
     },
     "metadata": {},
     "output_type": "display_data"
    },
    {
     "data": {
      "text/plain": [
       "<Figure size 720x720 with 0 Axes>"
      ]
     },
     "metadata": {},
     "output_type": "display_data"
    },
    {
     "data": {
      "text/plain": [
       "<Figure size 720x720 with 0 Axes>"
      ]
     },
     "metadata": {},
     "output_type": "display_data"
    },
    {
     "data": {
      "text/plain": [
       "<Figure size 720x720 with 0 Axes>"
      ]
     },
     "metadata": {},
     "output_type": "display_data"
    },
    {
     "data": {
      "text/plain": [
       "<Figure size 720x720 with 0 Axes>"
      ]
     },
     "metadata": {},
     "output_type": "display_data"
    },
    {
     "data": {
      "text/plain": [
       "<Figure size 720x720 with 0 Axes>"
      ]
     },
     "metadata": {},
     "output_type": "display_data"
    },
    {
     "data": {
      "text/plain": [
       "<Figure size 720x720 with 0 Axes>"
      ]
     },
     "metadata": {},
     "output_type": "display_data"
    },
    {
     "data": {
      "text/plain": [
       "<Figure size 720x720 with 0 Axes>"
      ]
     },
     "metadata": {},
     "output_type": "display_data"
    },
    {
     "data": {
      "text/plain": [
       "<Figure size 720x720 with 0 Axes>"
      ]
     },
     "metadata": {},
     "output_type": "display_data"
    },
    {
     "data": {
      "text/plain": [
       "<Figure size 720x720 with 0 Axes>"
      ]
     },
     "metadata": {},
     "output_type": "display_data"
    },
    {
     "data": {
      "text/plain": [
       "<Figure size 720x720 with 0 Axes>"
      ]
     },
     "metadata": {},
     "output_type": "display_data"
    },
    {
     "data": {
      "text/plain": [
       "<Figure size 720x720 with 0 Axes>"
      ]
     },
     "metadata": {},
     "output_type": "display_data"
    },
    {
     "data": {
      "text/plain": [
       "<Figure size 720x720 with 0 Axes>"
      ]
     },
     "metadata": {},
     "output_type": "display_data"
    },
    {
     "data": {
      "text/plain": [
       "<Figure size 720x720 with 0 Axes>"
      ]
     },
     "metadata": {},
     "output_type": "display_data"
    },
    {
     "data": {
      "text/plain": [
       "<Figure size 720x720 with 0 Axes>"
      ]
     },
     "metadata": {},
     "output_type": "display_data"
    },
    {
     "data": {
      "text/plain": [
       "<Figure size 720x720 with 0 Axes>"
      ]
     },
     "metadata": {},
     "output_type": "display_data"
    },
    {
     "data": {
      "text/plain": [
       "<Figure size 720x720 with 0 Axes>"
      ]
     },
     "metadata": {},
     "output_type": "display_data"
    },
    {
     "data": {
      "text/plain": [
       "<Figure size 720x720 with 0 Axes>"
      ]
     },
     "metadata": {},
     "output_type": "display_data"
    },
    {
     "data": {
      "text/plain": [
       "<Figure size 720x720 with 0 Axes>"
      ]
     },
     "metadata": {},
     "output_type": "display_data"
    },
    {
     "data": {
      "text/plain": [
       "<Figure size 720x720 with 0 Axes>"
      ]
     },
     "metadata": {},
     "output_type": "display_data"
    },
    {
     "data": {
      "text/plain": [
       "<Figure size 720x720 with 0 Axes>"
      ]
     },
     "metadata": {},
     "output_type": "display_data"
    },
    {
     "data": {
      "text/plain": [
       "<Figure size 720x720 with 0 Axes>"
      ]
     },
     "metadata": {},
     "output_type": "display_data"
    },
    {
     "data": {
      "text/plain": [
       "<Figure size 720x720 with 0 Axes>"
      ]
     },
     "metadata": {},
     "output_type": "display_data"
    },
    {
     "data": {
      "text/plain": [
       "<Figure size 720x720 with 0 Axes>"
      ]
     },
     "metadata": {},
     "output_type": "display_data"
    },
    {
     "data": {
      "text/plain": [
       "<Figure size 720x720 with 0 Axes>"
      ]
     },
     "metadata": {},
     "output_type": "display_data"
    },
    {
     "data": {
      "text/plain": [
       "<Figure size 720x720 with 0 Axes>"
      ]
     },
     "metadata": {},
     "output_type": "display_data"
    },
    {
     "data": {
      "text/plain": [
       "<Figure size 720x720 with 0 Axes>"
      ]
     },
     "metadata": {},
     "output_type": "display_data"
    },
    {
     "data": {
      "text/plain": [
       "<Figure size 720x720 with 0 Axes>"
      ]
     },
     "metadata": {},
     "output_type": "display_data"
    },
    {
     "data": {
      "text/plain": [
       "<Figure size 720x720 with 0 Axes>"
      ]
     },
     "metadata": {},
     "output_type": "display_data"
    },
    {
     "data": {
      "text/plain": [
       "<Figure size 720x720 with 0 Axes>"
      ]
     },
     "metadata": {},
     "output_type": "display_data"
    },
    {
     "data": {
      "text/plain": [
       "<Figure size 720x720 with 0 Axes>"
      ]
     },
     "metadata": {},
     "output_type": "display_data"
    },
    {
     "data": {
      "text/plain": [
       "<Figure size 720x720 with 0 Axes>"
      ]
     },
     "metadata": {},
     "output_type": "display_data"
    },
    {
     "data": {
      "text/plain": [
       "<Figure size 720x720 with 0 Axes>"
      ]
     },
     "metadata": {},
     "output_type": "display_data"
    },
    {
     "data": {
      "text/plain": [
       "<Figure size 720x720 with 0 Axes>"
      ]
     },
     "metadata": {},
     "output_type": "display_data"
    },
    {
     "data": {
      "text/plain": [
       "<Figure size 720x720 with 0 Axes>"
      ]
     },
     "metadata": {},
     "output_type": "display_data"
    },
    {
     "data": {
      "text/plain": [
       "<Figure size 720x720 with 0 Axes>"
      ]
     },
     "metadata": {},
     "output_type": "display_data"
    },
    {
     "data": {
      "text/plain": [
       "<Figure size 720x720 with 0 Axes>"
      ]
     },
     "metadata": {},
     "output_type": "display_data"
    },
    {
     "data": {
      "text/plain": [
       "<Figure size 720x720 with 0 Axes>"
      ]
     },
     "metadata": {},
     "output_type": "display_data"
    },
    {
     "data": {
      "text/plain": [
       "<Figure size 720x720 with 0 Axes>"
      ]
     },
     "metadata": {},
     "output_type": "display_data"
    },
    {
     "data": {
      "text/plain": [
       "<Figure size 720x720 with 0 Axes>"
      ]
     },
     "metadata": {},
     "output_type": "display_data"
    },
    {
     "data": {
      "text/plain": [
       "<Figure size 720x720 with 0 Axes>"
      ]
     },
     "metadata": {},
     "output_type": "display_data"
    },
    {
     "data": {
      "text/plain": [
       "<Figure size 720x720 with 0 Axes>"
      ]
     },
     "metadata": {},
     "output_type": "display_data"
    },
    {
     "data": {
      "text/plain": [
       "<Figure size 720x720 with 0 Axes>"
      ]
     },
     "metadata": {},
     "output_type": "display_data"
    },
    {
     "data": {
      "text/plain": [
       "<Figure size 720x720 with 0 Axes>"
      ]
     },
     "metadata": {},
     "output_type": "display_data"
    },
    {
     "data": {
      "text/plain": [
       "<Figure size 720x720 with 0 Axes>"
      ]
     },
     "metadata": {},
     "output_type": "display_data"
    },
    {
     "data": {
      "text/plain": [
       "<Figure size 720x720 with 0 Axes>"
      ]
     },
     "metadata": {},
     "output_type": "display_data"
    },
    {
     "data": {
      "text/plain": [
       "<Figure size 720x720 with 0 Axes>"
      ]
     },
     "metadata": {},
     "output_type": "display_data"
    },
    {
     "data": {
      "text/plain": [
       "<Figure size 720x720 with 0 Axes>"
      ]
     },
     "metadata": {},
     "output_type": "display_data"
    },
    {
     "data": {
      "text/plain": [
       "<Figure size 720x720 with 0 Axes>"
      ]
     },
     "metadata": {},
     "output_type": "display_data"
    },
    {
     "data": {
      "text/plain": [
       "<Figure size 720x720 with 0 Axes>"
      ]
     },
     "metadata": {},
     "output_type": "display_data"
    },
    {
     "data": {
      "text/plain": [
       "<Figure size 720x720 with 0 Axes>"
      ]
     },
     "metadata": {},
     "output_type": "display_data"
    },
    {
     "data": {
      "text/plain": [
       "<Figure size 720x720 with 0 Axes>"
      ]
     },
     "metadata": {},
     "output_type": "display_data"
    },
    {
     "data": {
      "text/plain": [
       "<Figure size 720x720 with 0 Axes>"
      ]
     },
     "metadata": {},
     "output_type": "display_data"
    },
    {
     "data": {
      "text/plain": [
       "<Figure size 720x720 with 0 Axes>"
      ]
     },
     "metadata": {},
     "output_type": "display_data"
    },
    {
     "data": {
      "text/plain": [
       "<Figure size 720x720 with 0 Axes>"
      ]
     },
     "metadata": {},
     "output_type": "display_data"
    },
    {
     "data": {
      "text/plain": [
       "<Figure size 720x720 with 0 Axes>"
      ]
     },
     "metadata": {},
     "output_type": "display_data"
    },
    {
     "data": {
      "text/plain": [
       "<Figure size 720x720 with 0 Axes>"
      ]
     },
     "metadata": {},
     "output_type": "display_data"
    },
    {
     "data": {
      "text/plain": [
       "<Figure size 720x720 with 0 Axes>"
      ]
     },
     "metadata": {},
     "output_type": "display_data"
    },
    {
     "data": {
      "text/plain": [
       "<Figure size 720x720 with 0 Axes>"
      ]
     },
     "metadata": {},
     "output_type": "display_data"
    },
    {
     "data": {
      "text/plain": [
       "<Figure size 720x720 with 0 Axes>"
      ]
     },
     "metadata": {},
     "output_type": "display_data"
    },
    {
     "data": {
      "text/plain": [
       "<Figure size 720x720 with 0 Axes>"
      ]
     },
     "metadata": {},
     "output_type": "display_data"
    },
    {
     "data": {
      "text/plain": [
       "<Figure size 720x720 with 0 Axes>"
      ]
     },
     "metadata": {},
     "output_type": "display_data"
    },
    {
     "data": {
      "text/plain": [
       "<Figure size 720x720 with 0 Axes>"
      ]
     },
     "metadata": {},
     "output_type": "display_data"
    },
    {
     "data": {
      "text/plain": [
       "<Figure size 720x720 with 0 Axes>"
      ]
     },
     "metadata": {},
     "output_type": "display_data"
    },
    {
     "data": {
      "text/plain": [
       "<Figure size 720x720 with 0 Axes>"
      ]
     },
     "metadata": {},
     "output_type": "display_data"
    },
    {
     "data": {
      "text/plain": [
       "<Figure size 720x720 with 0 Axes>"
      ]
     },
     "metadata": {},
     "output_type": "display_data"
    },
    {
     "data": {
      "text/plain": [
       "<Figure size 720x720 with 0 Axes>"
      ]
     },
     "metadata": {},
     "output_type": "display_data"
    },
    {
     "data": {
      "text/plain": [
       "<Figure size 720x720 with 0 Axes>"
      ]
     },
     "metadata": {},
     "output_type": "display_data"
    },
    {
     "data": {
      "text/plain": [
       "<Figure size 720x720 with 0 Axes>"
      ]
     },
     "metadata": {},
     "output_type": "display_data"
    },
    {
     "data": {
      "text/plain": [
       "<Figure size 720x720 with 0 Axes>"
      ]
     },
     "metadata": {},
     "output_type": "display_data"
    },
    {
     "data": {
      "text/plain": [
       "<Figure size 720x720 with 0 Axes>"
      ]
     },
     "metadata": {},
     "output_type": "display_data"
    },
    {
     "data": {
      "text/plain": [
       "<Figure size 720x720 with 0 Axes>"
      ]
     },
     "metadata": {},
     "output_type": "display_data"
    },
    {
     "data": {
      "text/plain": [
       "<Figure size 720x720 with 0 Axes>"
      ]
     },
     "metadata": {},
     "output_type": "display_data"
    },
    {
     "data": {
      "text/plain": [
       "<Figure size 720x720 with 0 Axes>"
      ]
     },
     "metadata": {},
     "output_type": "display_data"
    },
    {
     "data": {
      "text/plain": [
       "<Figure size 720x720 with 0 Axes>"
      ]
     },
     "metadata": {},
     "output_type": "display_data"
    },
    {
     "data": {
      "text/plain": [
       "<Figure size 720x720 with 0 Axes>"
      ]
     },
     "metadata": {},
     "output_type": "display_data"
    },
    {
     "data": {
      "text/plain": [
       "<Figure size 720x720 with 0 Axes>"
      ]
     },
     "metadata": {},
     "output_type": "display_data"
    },
    {
     "data": {
      "text/plain": [
       "<Figure size 720x720 with 0 Axes>"
      ]
     },
     "metadata": {},
     "output_type": "display_data"
    },
    {
     "data": {
      "text/plain": [
       "<Figure size 720x720 with 0 Axes>"
      ]
     },
     "metadata": {},
     "output_type": "display_data"
    },
    {
     "data": {
      "text/plain": [
       "<Figure size 720x720 with 0 Axes>"
      ]
     },
     "metadata": {},
     "output_type": "display_data"
    },
    {
     "data": {
      "text/plain": [
       "<Figure size 720x720 with 0 Axes>"
      ]
     },
     "metadata": {},
     "output_type": "display_data"
    },
    {
     "data": {
      "text/plain": [
       "<Figure size 720x720 with 0 Axes>"
      ]
     },
     "metadata": {},
     "output_type": "display_data"
    },
    {
     "data": {
      "text/plain": [
       "<Figure size 720x720 with 0 Axes>"
      ]
     },
     "metadata": {},
     "output_type": "display_data"
    },
    {
     "data": {
      "text/plain": [
       "<Figure size 720x720 with 0 Axes>"
      ]
     },
     "metadata": {},
     "output_type": "display_data"
    },
    {
     "data": {
      "text/plain": [
       "<Figure size 720x720 with 0 Axes>"
      ]
     },
     "metadata": {},
     "output_type": "display_data"
    },
    {
     "data": {
      "text/plain": [
       "<Figure size 720x720 with 0 Axes>"
      ]
     },
     "metadata": {},
     "output_type": "display_data"
    },
    {
     "data": {
      "text/plain": [
       "<Figure size 720x720 with 0 Axes>"
      ]
     },
     "metadata": {},
     "output_type": "display_data"
    },
    {
     "data": {
      "text/plain": [
       "<Figure size 720x720 with 0 Axes>"
      ]
     },
     "metadata": {},
     "output_type": "display_data"
    },
    {
     "data": {
      "text/plain": [
       "<Figure size 720x720 with 0 Axes>"
      ]
     },
     "metadata": {},
     "output_type": "display_data"
    },
    {
     "data": {
      "text/plain": [
       "<Figure size 720x720 with 0 Axes>"
      ]
     },
     "metadata": {},
     "output_type": "display_data"
    },
    {
     "data": {
      "text/plain": [
       "<Figure size 720x720 with 0 Axes>"
      ]
     },
     "metadata": {},
     "output_type": "display_data"
    },
    {
     "data": {
      "text/plain": [
       "<Figure size 720x720 with 0 Axes>"
      ]
     },
     "metadata": {},
     "output_type": "display_data"
    },
    {
     "data": {
      "text/plain": [
       "<Figure size 720x720 with 0 Axes>"
      ]
     },
     "metadata": {},
     "output_type": "display_data"
    },
    {
     "data": {
      "text/plain": [
       "<Figure size 720x720 with 0 Axes>"
      ]
     },
     "metadata": {},
     "output_type": "display_data"
    },
    {
     "data": {
      "text/plain": [
       "<Figure size 720x720 with 0 Axes>"
      ]
     },
     "metadata": {},
     "output_type": "display_data"
    },
    {
     "data": {
      "text/plain": [
       "<Figure size 720x720 with 0 Axes>"
      ]
     },
     "metadata": {},
     "output_type": "display_data"
    },
    {
     "data": {
      "text/plain": [
       "<Figure size 720x720 with 0 Axes>"
      ]
     },
     "metadata": {},
     "output_type": "display_data"
    },
    {
     "data": {
      "text/plain": [
       "<Figure size 720x720 with 0 Axes>"
      ]
     },
     "metadata": {},
     "output_type": "display_data"
    },
    {
     "data": {
      "text/plain": [
       "<Figure size 720x720 with 0 Axes>"
      ]
     },
     "metadata": {},
     "output_type": "display_data"
    },
    {
     "data": {
      "text/plain": [
       "<Figure size 720x720 with 0 Axes>"
      ]
     },
     "metadata": {},
     "output_type": "display_data"
    },
    {
     "data": {
      "text/plain": [
       "<Figure size 720x720 with 0 Axes>"
      ]
     },
     "metadata": {},
     "output_type": "display_data"
    },
    {
     "data": {
      "text/plain": [
       "<Figure size 720x720 with 0 Axes>"
      ]
     },
     "metadata": {},
     "output_type": "display_data"
    },
    {
     "data": {
      "text/plain": [
       "<Figure size 720x720 with 0 Axes>"
      ]
     },
     "metadata": {},
     "output_type": "display_data"
    },
    {
     "data": {
      "text/plain": [
       "<Figure size 720x720 with 0 Axes>"
      ]
     },
     "metadata": {},
     "output_type": "display_data"
    },
    {
     "data": {
      "text/plain": [
       "<Figure size 720x720 with 0 Axes>"
      ]
     },
     "metadata": {},
     "output_type": "display_data"
    },
    {
     "data": {
      "text/plain": [
       "<Figure size 720x720 with 0 Axes>"
      ]
     },
     "metadata": {},
     "output_type": "display_data"
    },
    {
     "data": {
      "text/plain": [
       "<Figure size 720x720 with 0 Axes>"
      ]
     },
     "metadata": {},
     "output_type": "display_data"
    },
    {
     "data": {
      "text/plain": [
       "<Figure size 720x720 with 0 Axes>"
      ]
     },
     "metadata": {},
     "output_type": "display_data"
    },
    {
     "data": {
      "text/plain": [
       "<Figure size 720x720 with 0 Axes>"
      ]
     },
     "metadata": {},
     "output_type": "display_data"
    },
    {
     "data": {
      "text/plain": [
       "<Figure size 720x720 with 0 Axes>"
      ]
     },
     "metadata": {},
     "output_type": "display_data"
    },
    {
     "data": {
      "text/plain": [
       "<Figure size 720x720 with 0 Axes>"
      ]
     },
     "metadata": {},
     "output_type": "display_data"
    },
    {
     "data": {
      "text/plain": [
       "<Figure size 720x720 with 0 Axes>"
      ]
     },
     "metadata": {},
     "output_type": "display_data"
    },
    {
     "data": {
      "text/plain": [
       "<Figure size 720x720 with 0 Axes>"
      ]
     },
     "metadata": {},
     "output_type": "display_data"
    },
    {
     "data": {
      "text/plain": [
       "<Figure size 720x720 with 0 Axes>"
      ]
     },
     "metadata": {},
     "output_type": "display_data"
    },
    {
     "data": {
      "text/plain": [
       "<Figure size 720x720 with 0 Axes>"
      ]
     },
     "metadata": {},
     "output_type": "display_data"
    },
    {
     "data": {
      "text/plain": [
       "<Figure size 720x720 with 0 Axes>"
      ]
     },
     "metadata": {},
     "output_type": "display_data"
    },
    {
     "data": {
      "text/plain": [
       "<Figure size 720x720 with 0 Axes>"
      ]
     },
     "metadata": {},
     "output_type": "display_data"
    },
    {
     "data": {
      "text/plain": [
       "<Figure size 720x720 with 0 Axes>"
      ]
     },
     "metadata": {},
     "output_type": "display_data"
    },
    {
     "data": {
      "text/plain": [
       "<Figure size 720x720 with 0 Axes>"
      ]
     },
     "metadata": {},
     "output_type": "display_data"
    },
    {
     "data": {
      "text/plain": [
       "<Figure size 720x720 with 0 Axes>"
      ]
     },
     "metadata": {},
     "output_type": "display_data"
    },
    {
     "data": {
      "text/plain": [
       "<Figure size 720x720 with 0 Axes>"
      ]
     },
     "metadata": {},
     "output_type": "display_data"
    },
    {
     "data": {
      "text/plain": [
       "<Figure size 720x720 with 0 Axes>"
      ]
     },
     "metadata": {},
     "output_type": "display_data"
    },
    {
     "data": {
      "text/plain": [
       "<Figure size 720x720 with 0 Axes>"
      ]
     },
     "metadata": {},
     "output_type": "display_data"
    },
    {
     "data": {
      "text/plain": [
       "<Figure size 720x720 with 0 Axes>"
      ]
     },
     "metadata": {},
     "output_type": "display_data"
    },
    {
     "data": {
      "text/plain": [
       "<Figure size 720x720 with 0 Axes>"
      ]
     },
     "metadata": {},
     "output_type": "display_data"
    },
    {
     "data": {
      "text/plain": [
       "<Figure size 720x720 with 0 Axes>"
      ]
     },
     "metadata": {},
     "output_type": "display_data"
    },
    {
     "data": {
      "text/plain": [
       "<Figure size 720x720 with 0 Axes>"
      ]
     },
     "metadata": {},
     "output_type": "display_data"
    },
    {
     "data": {
      "text/plain": [
       "<Figure size 720x720 with 0 Axes>"
      ]
     },
     "metadata": {},
     "output_type": "display_data"
    },
    {
     "data": {
      "text/plain": [
       "<Figure size 720x720 with 0 Axes>"
      ]
     },
     "metadata": {},
     "output_type": "display_data"
    },
    {
     "data": {
      "text/plain": [
       "<Figure size 720x720 with 0 Axes>"
      ]
     },
     "metadata": {},
     "output_type": "display_data"
    },
    {
     "data": {
      "text/plain": [
       "<Figure size 720x720 with 0 Axes>"
      ]
     },
     "metadata": {},
     "output_type": "display_data"
    },
    {
     "data": {
      "text/plain": [
       "<Figure size 720x720 with 0 Axes>"
      ]
     },
     "metadata": {},
     "output_type": "display_data"
    },
    {
     "data": {
      "text/plain": [
       "<Figure size 720x720 with 0 Axes>"
      ]
     },
     "metadata": {},
     "output_type": "display_data"
    },
    {
     "data": {
      "text/plain": [
       "<Figure size 720x720 with 0 Axes>"
      ]
     },
     "metadata": {},
     "output_type": "display_data"
    },
    {
     "data": {
      "text/plain": [
       "<Figure size 720x720 with 0 Axes>"
      ]
     },
     "metadata": {},
     "output_type": "display_data"
    },
    {
     "data": {
      "text/plain": [
       "<Figure size 720x720 with 0 Axes>"
      ]
     },
     "metadata": {},
     "output_type": "display_data"
    },
    {
     "data": {
      "text/plain": [
       "<Figure size 720x720 with 0 Axes>"
      ]
     },
     "metadata": {},
     "output_type": "display_data"
    },
    {
     "data": {
      "text/plain": [
       "<Figure size 720x720 with 0 Axes>"
      ]
     },
     "metadata": {},
     "output_type": "display_data"
    },
    {
     "data": {
      "text/plain": [
       "<Figure size 720x720 with 0 Axes>"
      ]
     },
     "metadata": {},
     "output_type": "display_data"
    },
    {
     "data": {
      "text/plain": [
       "<Figure size 720x720 with 0 Axes>"
      ]
     },
     "metadata": {},
     "output_type": "display_data"
    },
    {
     "data": {
      "text/plain": [
       "<Figure size 720x720 with 0 Axes>"
      ]
     },
     "metadata": {},
     "output_type": "display_data"
    },
    {
     "data": {
      "text/plain": [
       "<Figure size 720x720 with 0 Axes>"
      ]
     },
     "metadata": {},
     "output_type": "display_data"
    },
    {
     "data": {
      "text/plain": [
       "<Figure size 720x720 with 0 Axes>"
      ]
     },
     "metadata": {},
     "output_type": "display_data"
    },
    {
     "data": {
      "text/plain": [
       "<Figure size 720x720 with 0 Axes>"
      ]
     },
     "metadata": {},
     "output_type": "display_data"
    },
    {
     "data": {
      "text/plain": [
       "<Figure size 720x720 with 0 Axes>"
      ]
     },
     "metadata": {},
     "output_type": "display_data"
    },
    {
     "data": {
      "text/plain": [
       "<Figure size 720x720 with 0 Axes>"
      ]
     },
     "metadata": {},
     "output_type": "display_data"
    },
    {
     "data": {
      "text/plain": [
       "<Figure size 720x720 with 0 Axes>"
      ]
     },
     "metadata": {},
     "output_type": "display_data"
    },
    {
     "data": {
      "text/plain": [
       "<Figure size 720x720 with 0 Axes>"
      ]
     },
     "metadata": {},
     "output_type": "display_data"
    },
    {
     "data": {
      "text/plain": [
       "<Figure size 720x720 with 0 Axes>"
      ]
     },
     "metadata": {},
     "output_type": "display_data"
    },
    {
     "data": {
      "text/plain": [
       "<Figure size 720x720 with 0 Axes>"
      ]
     },
     "metadata": {},
     "output_type": "display_data"
    },
    {
     "data": {
      "text/plain": [
       "<Figure size 720x720 with 0 Axes>"
      ]
     },
     "metadata": {},
     "output_type": "display_data"
    },
    {
     "data": {
      "text/plain": [
       "<Figure size 720x720 with 0 Axes>"
      ]
     },
     "metadata": {},
     "output_type": "display_data"
    },
    {
     "data": {
      "text/plain": [
       "<Figure size 720x720 with 0 Axes>"
      ]
     },
     "metadata": {},
     "output_type": "display_data"
    },
    {
     "data": {
      "text/plain": [
       "<Figure size 720x720 with 0 Axes>"
      ]
     },
     "metadata": {},
     "output_type": "display_data"
    },
    {
     "data": {
      "text/plain": [
       "<Figure size 720x720 with 0 Axes>"
      ]
     },
     "metadata": {},
     "output_type": "display_data"
    },
    {
     "data": {
      "text/plain": [
       "<Figure size 720x720 with 0 Axes>"
      ]
     },
     "metadata": {},
     "output_type": "display_data"
    },
    {
     "data": {
      "text/plain": [
       "<Figure size 720x720 with 0 Axes>"
      ]
     },
     "metadata": {},
     "output_type": "display_data"
    },
    {
     "data": {
      "text/plain": [
       "<Figure size 720x720 with 0 Axes>"
      ]
     },
     "metadata": {},
     "output_type": "display_data"
    },
    {
     "data": {
      "text/plain": [
       "<Figure size 720x720 with 0 Axes>"
      ]
     },
     "metadata": {},
     "output_type": "display_data"
    },
    {
     "data": {
      "text/plain": [
       "<Figure size 720x720 with 0 Axes>"
      ]
     },
     "metadata": {},
     "output_type": "display_data"
    },
    {
     "data": {
      "text/plain": [
       "<Figure size 720x720 with 0 Axes>"
      ]
     },
     "metadata": {},
     "output_type": "display_data"
    },
    {
     "data": {
      "text/plain": [
       "<Figure size 720x720 with 0 Axes>"
      ]
     },
     "metadata": {},
     "output_type": "display_data"
    },
    {
     "data": {
      "text/plain": [
       "<Figure size 720x720 with 0 Axes>"
      ]
     },
     "metadata": {},
     "output_type": "display_data"
    },
    {
     "data": {
      "text/plain": [
       "<Figure size 720x720 with 0 Axes>"
      ]
     },
     "metadata": {},
     "output_type": "display_data"
    },
    {
     "data": {
      "text/plain": [
       "<Figure size 720x720 with 0 Axes>"
      ]
     },
     "metadata": {},
     "output_type": "display_data"
    },
    {
     "data": {
      "text/plain": [
       "<Figure size 720x720 with 0 Axes>"
      ]
     },
     "metadata": {},
     "output_type": "display_data"
    },
    {
     "data": {
      "text/plain": [
       "<Figure size 720x720 with 0 Axes>"
      ]
     },
     "metadata": {},
     "output_type": "display_data"
    },
    {
     "data": {
      "text/plain": [
       "<Figure size 720x720 with 0 Axes>"
      ]
     },
     "metadata": {},
     "output_type": "display_data"
    },
    {
     "data": {
      "text/plain": [
       "<Figure size 720x720 with 0 Axes>"
      ]
     },
     "metadata": {},
     "output_type": "display_data"
    },
    {
     "data": {
      "text/plain": [
       "<Figure size 720x720 with 0 Axes>"
      ]
     },
     "metadata": {},
     "output_type": "display_data"
    },
    {
     "data": {
      "text/plain": [
       "<Figure size 720x720 with 0 Axes>"
      ]
     },
     "metadata": {},
     "output_type": "display_data"
    },
    {
     "data": {
      "text/plain": [
       "<Figure size 720x720 with 0 Axes>"
      ]
     },
     "metadata": {},
     "output_type": "display_data"
    },
    {
     "data": {
      "text/plain": [
       "<Figure size 720x720 with 0 Axes>"
      ]
     },
     "metadata": {},
     "output_type": "display_data"
    },
    {
     "data": {
      "text/plain": [
       "<Figure size 720x720 with 0 Axes>"
      ]
     },
     "metadata": {},
     "output_type": "display_data"
    },
    {
     "data": {
      "text/plain": [
       "<Figure size 720x720 with 0 Axes>"
      ]
     },
     "metadata": {},
     "output_type": "display_data"
    },
    {
     "data": {
      "text/plain": [
       "<Figure size 720x720 with 0 Axes>"
      ]
     },
     "metadata": {},
     "output_type": "display_data"
    },
    {
     "data": {
      "text/plain": [
       "<Figure size 720x720 with 0 Axes>"
      ]
     },
     "metadata": {},
     "output_type": "display_data"
    },
    {
     "data": {
      "text/plain": [
       "<Figure size 720x720 with 0 Axes>"
      ]
     },
     "metadata": {},
     "output_type": "display_data"
    },
    {
     "data": {
      "text/plain": [
       "<Figure size 720x720 with 0 Axes>"
      ]
     },
     "metadata": {},
     "output_type": "display_data"
    },
    {
     "data": {
      "text/plain": [
       "<Figure size 720x720 with 0 Axes>"
      ]
     },
     "metadata": {},
     "output_type": "display_data"
    },
    {
     "data": {
      "text/plain": [
       "<Figure size 720x720 with 0 Axes>"
      ]
     },
     "metadata": {},
     "output_type": "display_data"
    },
    {
     "data": {
      "text/plain": [
       "<Figure size 720x720 with 0 Axes>"
      ]
     },
     "metadata": {},
     "output_type": "display_data"
    },
    {
     "data": {
      "text/plain": [
       "<Figure size 720x720 with 0 Axes>"
      ]
     },
     "metadata": {},
     "output_type": "display_data"
    },
    {
     "data": {
      "text/plain": [
       "<Figure size 720x720 with 0 Axes>"
      ]
     },
     "metadata": {},
     "output_type": "display_data"
    },
    {
     "data": {
      "text/plain": [
       "<Figure size 720x720 with 0 Axes>"
      ]
     },
     "metadata": {},
     "output_type": "display_data"
    },
    {
     "data": {
      "text/plain": [
       "<Figure size 720x720 with 0 Axes>"
      ]
     },
     "metadata": {},
     "output_type": "display_data"
    },
    {
     "data": {
      "text/plain": [
       "<Figure size 720x720 with 0 Axes>"
      ]
     },
     "metadata": {},
     "output_type": "display_data"
    },
    {
     "data": {
      "text/plain": [
       "<Figure size 720x720 with 0 Axes>"
      ]
     },
     "metadata": {},
     "output_type": "display_data"
    },
    {
     "data": {
      "text/plain": [
       "<Figure size 720x720 with 0 Axes>"
      ]
     },
     "metadata": {},
     "output_type": "display_data"
    },
    {
     "data": {
      "text/plain": [
       "<Figure size 720x720 with 0 Axes>"
      ]
     },
     "metadata": {},
     "output_type": "display_data"
    },
    {
     "data": {
      "text/plain": [
       "<Figure size 720x720 with 0 Axes>"
      ]
     },
     "metadata": {},
     "output_type": "display_data"
    },
    {
     "data": {
      "text/plain": [
       "<Figure size 720x720 with 0 Axes>"
      ]
     },
     "metadata": {},
     "output_type": "display_data"
    },
    {
     "data": {
      "text/plain": [
       "<Figure size 720x720 with 0 Axes>"
      ]
     },
     "metadata": {},
     "output_type": "display_data"
    },
    {
     "data": {
      "text/plain": [
       "<Figure size 720x720 with 0 Axes>"
      ]
     },
     "metadata": {},
     "output_type": "display_data"
    },
    {
     "data": {
      "text/plain": [
       "<Figure size 720x720 with 0 Axes>"
      ]
     },
     "metadata": {},
     "output_type": "display_data"
    },
    {
     "data": {
      "text/plain": [
       "<Figure size 720x720 with 0 Axes>"
      ]
     },
     "metadata": {},
     "output_type": "display_data"
    },
    {
     "data": {
      "text/plain": [
       "<Figure size 720x720 with 0 Axes>"
      ]
     },
     "metadata": {},
     "output_type": "display_data"
    },
    {
     "data": {
      "text/plain": [
       "<Figure size 720x720 with 0 Axes>"
      ]
     },
     "metadata": {},
     "output_type": "display_data"
    },
    {
     "data": {
      "text/plain": [
       "<Figure size 720x720 with 0 Axes>"
      ]
     },
     "metadata": {},
     "output_type": "display_data"
    },
    {
     "data": {
      "text/plain": [
       "<Figure size 720x720 with 0 Axes>"
      ]
     },
     "metadata": {},
     "output_type": "display_data"
    },
    {
     "data": {
      "text/plain": [
       "<Figure size 720x720 with 0 Axes>"
      ]
     },
     "metadata": {},
     "output_type": "display_data"
    },
    {
     "data": {
      "text/plain": [
       "<Figure size 720x720 with 0 Axes>"
      ]
     },
     "metadata": {},
     "output_type": "display_data"
    },
    {
     "data": {
      "text/plain": [
       "<Figure size 720x720 with 0 Axes>"
      ]
     },
     "metadata": {},
     "output_type": "display_data"
    },
    {
     "data": {
      "text/plain": [
       "<Figure size 720x720 with 0 Axes>"
      ]
     },
     "metadata": {},
     "output_type": "display_data"
    },
    {
     "data": {
      "text/plain": [
       "<Figure size 720x720 with 0 Axes>"
      ]
     },
     "metadata": {},
     "output_type": "display_data"
    },
    {
     "data": {
      "text/plain": [
       "<Figure size 720x720 with 0 Axes>"
      ]
     },
     "metadata": {},
     "output_type": "display_data"
    },
    {
     "data": {
      "text/plain": [
       "<Figure size 720x720 with 0 Axes>"
      ]
     },
     "metadata": {},
     "output_type": "display_data"
    },
    {
     "data": {
      "text/plain": [
       "<Figure size 720x720 with 0 Axes>"
      ]
     },
     "metadata": {},
     "output_type": "display_data"
    },
    {
     "data": {
      "text/plain": [
       "<Figure size 720x720 with 0 Axes>"
      ]
     },
     "metadata": {},
     "output_type": "display_data"
    },
    {
     "data": {
      "text/plain": [
       "<Figure size 720x720 with 0 Axes>"
      ]
     },
     "metadata": {},
     "output_type": "display_data"
    },
    {
     "data": {
      "text/plain": [
       "<Figure size 720x720 with 0 Axes>"
      ]
     },
     "metadata": {},
     "output_type": "display_data"
    },
    {
     "data": {
      "text/plain": [
       "<Figure size 720x720 with 0 Axes>"
      ]
     },
     "metadata": {},
     "output_type": "display_data"
    },
    {
     "data": {
      "text/plain": [
       "<Figure size 720x720 with 0 Axes>"
      ]
     },
     "metadata": {},
     "output_type": "display_data"
    },
    {
     "data": {
      "text/plain": [
       "<Figure size 720x720 with 0 Axes>"
      ]
     },
     "metadata": {},
     "output_type": "display_data"
    },
    {
     "data": {
      "text/plain": [
       "<Figure size 720x720 with 0 Axes>"
      ]
     },
     "metadata": {},
     "output_type": "display_data"
    },
    {
     "data": {
      "text/plain": [
       "<Figure size 720x720 with 0 Axes>"
      ]
     },
     "metadata": {},
     "output_type": "display_data"
    },
    {
     "data": {
      "text/plain": [
       "<Figure size 720x720 with 0 Axes>"
      ]
     },
     "metadata": {},
     "output_type": "display_data"
    },
    {
     "data": {
      "text/plain": [
       "<Figure size 720x720 with 0 Axes>"
      ]
     },
     "metadata": {},
     "output_type": "display_data"
    },
    {
     "data": {
      "text/plain": [
       "<Figure size 720x720 with 0 Axes>"
      ]
     },
     "metadata": {},
     "output_type": "display_data"
    },
    {
     "data": {
      "text/plain": [
       "<Figure size 720x720 with 0 Axes>"
      ]
     },
     "metadata": {},
     "output_type": "display_data"
    },
    {
     "data": {
      "text/plain": [
       "<Figure size 720x720 with 0 Axes>"
      ]
     },
     "metadata": {},
     "output_type": "display_data"
    },
    {
     "data": {
      "text/plain": [
       "<Figure size 720x720 with 0 Axes>"
      ]
     },
     "metadata": {},
     "output_type": "display_data"
    },
    {
     "data": {
      "text/plain": [
       "<Figure size 720x720 with 0 Axes>"
      ]
     },
     "metadata": {},
     "output_type": "display_data"
    },
    {
     "data": {
      "text/plain": [
       "<Figure size 720x720 with 0 Axes>"
      ]
     },
     "metadata": {},
     "output_type": "display_data"
    },
    {
     "data": {
      "text/plain": [
       "<Figure size 720x720 with 0 Axes>"
      ]
     },
     "metadata": {},
     "output_type": "display_data"
    },
    {
     "data": {
      "text/plain": [
       "<Figure size 720x720 with 0 Axes>"
      ]
     },
     "metadata": {},
     "output_type": "display_data"
    },
    {
     "data": {
      "text/plain": [
       "<Figure size 720x720 with 0 Axes>"
      ]
     },
     "metadata": {},
     "output_type": "display_data"
    },
    {
     "data": {
      "text/plain": [
       "<Figure size 720x720 with 0 Axes>"
      ]
     },
     "metadata": {},
     "output_type": "display_data"
    },
    {
     "data": {
      "text/plain": [
       "<Figure size 720x720 with 0 Axes>"
      ]
     },
     "metadata": {},
     "output_type": "display_data"
    },
    {
     "data": {
      "text/plain": [
       "<Figure size 720x720 with 0 Axes>"
      ]
     },
     "metadata": {},
     "output_type": "display_data"
    },
    {
     "data": {
      "text/plain": [
       "<Figure size 720x720 with 0 Axes>"
      ]
     },
     "metadata": {},
     "output_type": "display_data"
    },
    {
     "data": {
      "text/plain": [
       "<Figure size 720x720 with 0 Axes>"
      ]
     },
     "metadata": {},
     "output_type": "display_data"
    },
    {
     "data": {
      "text/plain": [
       "<Figure size 720x720 with 0 Axes>"
      ]
     },
     "metadata": {},
     "output_type": "display_data"
    },
    {
     "data": {
      "text/plain": [
       "<Figure size 720x720 with 0 Axes>"
      ]
     },
     "metadata": {},
     "output_type": "display_data"
    },
    {
     "data": {
      "text/plain": [
       "<Figure size 720x720 with 0 Axes>"
      ]
     },
     "metadata": {},
     "output_type": "display_data"
    },
    {
     "data": {
      "text/plain": [
       "<Figure size 720x720 with 0 Axes>"
      ]
     },
     "metadata": {},
     "output_type": "display_data"
    },
    {
     "data": {
      "text/plain": [
       "<Figure size 720x720 with 0 Axes>"
      ]
     },
     "metadata": {},
     "output_type": "display_data"
    },
    {
     "data": {
      "text/plain": [
       "<Figure size 720x720 with 0 Axes>"
      ]
     },
     "metadata": {},
     "output_type": "display_data"
    },
    {
     "data": {
      "text/plain": [
       "<Figure size 720x720 with 0 Axes>"
      ]
     },
     "metadata": {},
     "output_type": "display_data"
    },
    {
     "data": {
      "text/plain": [
       "<Figure size 720x720 with 0 Axes>"
      ]
     },
     "metadata": {},
     "output_type": "display_data"
    },
    {
     "data": {
      "text/plain": [
       "<Figure size 720x720 with 0 Axes>"
      ]
     },
     "metadata": {},
     "output_type": "display_data"
    },
    {
     "data": {
      "text/plain": [
       "<Figure size 720x720 with 0 Axes>"
      ]
     },
     "metadata": {},
     "output_type": "display_data"
    },
    {
     "data": {
      "text/plain": [
       "<Figure size 720x720 with 0 Axes>"
      ]
     },
     "metadata": {},
     "output_type": "display_data"
    },
    {
     "data": {
      "text/plain": [
       "<Figure size 720x720 with 0 Axes>"
      ]
     },
     "metadata": {},
     "output_type": "display_data"
    },
    {
     "data": {
      "text/plain": [
       "<Figure size 720x720 with 0 Axes>"
      ]
     },
     "metadata": {},
     "output_type": "display_data"
    },
    {
     "data": {
      "text/plain": [
       "<Figure size 720x720 with 0 Axes>"
      ]
     },
     "metadata": {},
     "output_type": "display_data"
    },
    {
     "data": {
      "text/plain": [
       "<Figure size 720x720 with 0 Axes>"
      ]
     },
     "metadata": {},
     "output_type": "display_data"
    },
    {
     "data": {
      "text/plain": [
       "<Figure size 720x720 with 0 Axes>"
      ]
     },
     "metadata": {},
     "output_type": "display_data"
    },
    {
     "data": {
      "text/plain": [
       "<Figure size 720x720 with 0 Axes>"
      ]
     },
     "metadata": {},
     "output_type": "display_data"
    },
    {
     "data": {
      "text/plain": [
       "<Figure size 720x720 with 0 Axes>"
      ]
     },
     "metadata": {},
     "output_type": "display_data"
    },
    {
     "data": {
      "text/plain": [
       "<Figure size 720x720 with 0 Axes>"
      ]
     },
     "metadata": {},
     "output_type": "display_data"
    },
    {
     "data": {
      "text/plain": [
       "<Figure size 720x720 with 0 Axes>"
      ]
     },
     "metadata": {},
     "output_type": "display_data"
    },
    {
     "data": {
      "text/plain": [
       "<Figure size 720x720 with 0 Axes>"
      ]
     },
     "metadata": {},
     "output_type": "display_data"
    },
    {
     "data": {
      "text/plain": [
       "<Figure size 720x720 with 0 Axes>"
      ]
     },
     "metadata": {},
     "output_type": "display_data"
    },
    {
     "data": {
      "text/plain": [
       "<Figure size 720x720 with 0 Axes>"
      ]
     },
     "metadata": {},
     "output_type": "display_data"
    },
    {
     "data": {
      "text/plain": [
       "<Figure size 720x720 with 0 Axes>"
      ]
     },
     "metadata": {},
     "output_type": "display_data"
    },
    {
     "data": {
      "text/plain": [
       "<Figure size 720x720 with 0 Axes>"
      ]
     },
     "metadata": {},
     "output_type": "display_data"
    },
    {
     "data": {
      "text/plain": [
       "<Figure size 720x720 with 0 Axes>"
      ]
     },
     "metadata": {},
     "output_type": "display_data"
    },
    {
     "data": {
      "text/plain": [
       "<Figure size 720x720 with 0 Axes>"
      ]
     },
     "metadata": {},
     "output_type": "display_data"
    },
    {
     "data": {
      "text/plain": [
       "<Figure size 720x720 with 0 Axes>"
      ]
     },
     "metadata": {},
     "output_type": "display_data"
    },
    {
     "data": {
      "text/plain": [
       "<Figure size 720x720 with 0 Axes>"
      ]
     },
     "metadata": {},
     "output_type": "display_data"
    },
    {
     "data": {
      "text/plain": [
       "<Figure size 720x720 with 0 Axes>"
      ]
     },
     "metadata": {},
     "output_type": "display_data"
    },
    {
     "data": {
      "text/plain": [
       "<Figure size 720x720 with 0 Axes>"
      ]
     },
     "metadata": {},
     "output_type": "display_data"
    },
    {
     "data": {
      "text/plain": [
       "<Figure size 720x720 with 0 Axes>"
      ]
     },
     "metadata": {},
     "output_type": "display_data"
    },
    {
     "data": {
      "text/plain": [
       "<Figure size 720x720 with 0 Axes>"
      ]
     },
     "metadata": {},
     "output_type": "display_data"
    },
    {
     "data": {
      "text/plain": [
       "<Figure size 720x720 with 0 Axes>"
      ]
     },
     "metadata": {},
     "output_type": "display_data"
    },
    {
     "data": {
      "text/plain": [
       "<Figure size 720x720 with 0 Axes>"
      ]
     },
     "metadata": {},
     "output_type": "display_data"
    },
    {
     "data": {
      "text/plain": [
       "<Figure size 720x720 with 0 Axes>"
      ]
     },
     "metadata": {},
     "output_type": "display_data"
    },
    {
     "data": {
      "text/plain": [
       "<Figure size 720x720 with 0 Axes>"
      ]
     },
     "metadata": {},
     "output_type": "display_data"
    },
    {
     "data": {
      "text/plain": [
       "<Figure size 720x720 with 0 Axes>"
      ]
     },
     "metadata": {},
     "output_type": "display_data"
    },
    {
     "data": {
      "text/plain": [
       "<Figure size 720x720 with 0 Axes>"
      ]
     },
     "metadata": {},
     "output_type": "display_data"
    },
    {
     "data": {
      "text/plain": [
       "<Figure size 720x720 with 0 Axes>"
      ]
     },
     "metadata": {},
     "output_type": "display_data"
    },
    {
     "data": {
      "text/plain": [
       "<Figure size 720x720 with 0 Axes>"
      ]
     },
     "metadata": {},
     "output_type": "display_data"
    },
    {
     "data": {
      "text/plain": [
       "<Figure size 720x720 with 0 Axes>"
      ]
     },
     "metadata": {},
     "output_type": "display_data"
    },
    {
     "data": {
      "text/plain": [
       "<Figure size 720x720 with 0 Axes>"
      ]
     },
     "metadata": {},
     "output_type": "display_data"
    },
    {
     "data": {
      "text/plain": [
       "<Figure size 720x720 with 0 Axes>"
      ]
     },
     "metadata": {},
     "output_type": "display_data"
    },
    {
     "data": {
      "text/plain": [
       "<Figure size 720x720 with 0 Axes>"
      ]
     },
     "metadata": {},
     "output_type": "display_data"
    },
    {
     "data": {
      "text/plain": [
       "<Figure size 720x720 with 0 Axes>"
      ]
     },
     "metadata": {},
     "output_type": "display_data"
    },
    {
     "data": {
      "text/plain": [
       "<Figure size 720x720 with 0 Axes>"
      ]
     },
     "metadata": {},
     "output_type": "display_data"
    },
    {
     "data": {
      "text/plain": [
       "<Figure size 720x720 with 0 Axes>"
      ]
     },
     "metadata": {},
     "output_type": "display_data"
    },
    {
     "data": {
      "text/plain": [
       "<Figure size 720x720 with 0 Axes>"
      ]
     },
     "metadata": {},
     "output_type": "display_data"
    },
    {
     "data": {
      "text/plain": [
       "<Figure size 720x720 with 0 Axes>"
      ]
     },
     "metadata": {},
     "output_type": "display_data"
    },
    {
     "data": {
      "text/plain": [
       "<Figure size 720x720 with 0 Axes>"
      ]
     },
     "metadata": {},
     "output_type": "display_data"
    },
    {
     "data": {
      "text/plain": [
       "<Figure size 720x720 with 0 Axes>"
      ]
     },
     "metadata": {},
     "output_type": "display_data"
    },
    {
     "data": {
      "text/plain": [
       "<Figure size 720x720 with 0 Axes>"
      ]
     },
     "metadata": {},
     "output_type": "display_data"
    },
    {
     "data": {
      "text/plain": [
       "<Figure size 720x720 with 0 Axes>"
      ]
     },
     "metadata": {},
     "output_type": "display_data"
    },
    {
     "data": {
      "text/plain": [
       "<Figure size 720x720 with 0 Axes>"
      ]
     },
     "metadata": {},
     "output_type": "display_data"
    },
    {
     "data": {
      "text/plain": [
       "<Figure size 720x720 with 0 Axes>"
      ]
     },
     "metadata": {},
     "output_type": "display_data"
    },
    {
     "data": {
      "text/plain": [
       "<Figure size 720x720 with 0 Axes>"
      ]
     },
     "metadata": {},
     "output_type": "display_data"
    },
    {
     "data": {
      "text/plain": [
       "<Figure size 720x720 with 0 Axes>"
      ]
     },
     "metadata": {},
     "output_type": "display_data"
    },
    {
     "data": {
      "text/plain": [
       "<Figure size 720x720 with 0 Axes>"
      ]
     },
     "metadata": {},
     "output_type": "display_data"
    },
    {
     "data": {
      "text/plain": [
       "<Figure size 720x720 with 0 Axes>"
      ]
     },
     "metadata": {},
     "output_type": "display_data"
    },
    {
     "data": {
      "text/plain": [
       "<Figure size 720x720 with 0 Axes>"
      ]
     },
     "metadata": {},
     "output_type": "display_data"
    },
    {
     "data": {
      "text/plain": [
       "<Figure size 720x720 with 0 Axes>"
      ]
     },
     "metadata": {},
     "output_type": "display_data"
    },
    {
     "data": {
      "text/plain": [
       "<Figure size 720x720 with 0 Axes>"
      ]
     },
     "metadata": {},
     "output_type": "display_data"
    },
    {
     "data": {
      "text/plain": [
       "<Figure size 720x720 with 0 Axes>"
      ]
     },
     "metadata": {},
     "output_type": "display_data"
    },
    {
     "data": {
      "text/plain": [
       "<Figure size 720x720 with 0 Axes>"
      ]
     },
     "metadata": {},
     "output_type": "display_data"
    },
    {
     "data": {
      "text/plain": [
       "<Figure size 720x720 with 0 Axes>"
      ]
     },
     "metadata": {},
     "output_type": "display_data"
    },
    {
     "data": {
      "text/plain": [
       "<Figure size 720x720 with 0 Axes>"
      ]
     },
     "metadata": {},
     "output_type": "display_data"
    },
    {
     "data": {
      "text/plain": [
       "<Figure size 720x720 with 0 Axes>"
      ]
     },
     "metadata": {},
     "output_type": "display_data"
    },
    {
     "data": {
      "text/plain": [
       "<Figure size 720x720 with 0 Axes>"
      ]
     },
     "metadata": {},
     "output_type": "display_data"
    },
    {
     "data": {
      "text/plain": [
       "<Figure size 720x720 with 0 Axes>"
      ]
     },
     "metadata": {},
     "output_type": "display_data"
    },
    {
     "data": {
      "text/plain": [
       "<Figure size 720x720 with 0 Axes>"
      ]
     },
     "metadata": {},
     "output_type": "display_data"
    },
    {
     "data": {
      "text/plain": [
       "<Figure size 720x720 with 0 Axes>"
      ]
     },
     "metadata": {},
     "output_type": "display_data"
    },
    {
     "data": {
      "text/plain": [
       "<Figure size 720x720 with 0 Axes>"
      ]
     },
     "metadata": {},
     "output_type": "display_data"
    },
    {
     "data": {
      "text/plain": [
       "<Figure size 720x720 with 0 Axes>"
      ]
     },
     "metadata": {},
     "output_type": "display_data"
    },
    {
     "data": {
      "text/plain": [
       "<Figure size 720x720 with 0 Axes>"
      ]
     },
     "metadata": {},
     "output_type": "display_data"
    },
    {
     "data": {
      "text/plain": [
       "<Figure size 720x720 with 0 Axes>"
      ]
     },
     "metadata": {},
     "output_type": "display_data"
    },
    {
     "data": {
      "text/plain": [
       "<Figure size 720x720 with 0 Axes>"
      ]
     },
     "metadata": {},
     "output_type": "display_data"
    },
    {
     "data": {
      "text/plain": [
       "<Figure size 720x720 with 0 Axes>"
      ]
     },
     "metadata": {},
     "output_type": "display_data"
    },
    {
     "data": {
      "text/plain": [
       "<Figure size 720x720 with 0 Axes>"
      ]
     },
     "metadata": {},
     "output_type": "display_data"
    },
    {
     "data": {
      "text/plain": [
       "<Figure size 720x720 with 0 Axes>"
      ]
     },
     "metadata": {},
     "output_type": "display_data"
    },
    {
     "data": {
      "text/plain": [
       "<Figure size 720x720 with 0 Axes>"
      ]
     },
     "metadata": {},
     "output_type": "display_data"
    },
    {
     "data": {
      "text/plain": [
       "<Figure size 720x720 with 0 Axes>"
      ]
     },
     "metadata": {},
     "output_type": "display_data"
    },
    {
     "data": {
      "text/plain": [
       "<Figure size 720x720 with 0 Axes>"
      ]
     },
     "metadata": {},
     "output_type": "display_data"
    },
    {
     "data": {
      "text/plain": [
       "<Figure size 720x720 with 0 Axes>"
      ]
     },
     "metadata": {},
     "output_type": "display_data"
    },
    {
     "data": {
      "text/plain": [
       "<Figure size 720x720 with 0 Axes>"
      ]
     },
     "metadata": {},
     "output_type": "display_data"
    },
    {
     "data": {
      "text/plain": [
       "<Figure size 720x720 with 0 Axes>"
      ]
     },
     "metadata": {},
     "output_type": "display_data"
    },
    {
     "data": {
      "text/plain": [
       "<Figure size 720x720 with 0 Axes>"
      ]
     },
     "metadata": {},
     "output_type": "display_data"
    },
    {
     "data": {
      "text/plain": [
       "<Figure size 720x720 with 0 Axes>"
      ]
     },
     "metadata": {},
     "output_type": "display_data"
    },
    {
     "data": {
      "text/plain": [
       "<Figure size 720x720 with 0 Axes>"
      ]
     },
     "metadata": {},
     "output_type": "display_data"
    },
    {
     "data": {
      "text/plain": [
       "<Figure size 720x720 with 0 Axes>"
      ]
     },
     "metadata": {},
     "output_type": "display_data"
    },
    {
     "data": {
      "text/plain": [
       "<Figure size 720x720 with 0 Axes>"
      ]
     },
     "metadata": {},
     "output_type": "display_data"
    },
    {
     "data": {
      "text/plain": [
       "<Figure size 720x720 with 0 Axes>"
      ]
     },
     "metadata": {},
     "output_type": "display_data"
    },
    {
     "data": {
      "text/plain": [
       "<Figure size 720x720 with 0 Axes>"
      ]
     },
     "metadata": {},
     "output_type": "display_data"
    },
    {
     "data": {
      "text/plain": [
       "<Figure size 720x720 with 0 Axes>"
      ]
     },
     "metadata": {},
     "output_type": "display_data"
    },
    {
     "data": {
      "text/plain": [
       "<Figure size 720x720 with 0 Axes>"
      ]
     },
     "metadata": {},
     "output_type": "display_data"
    },
    {
     "data": {
      "text/plain": [
       "<Figure size 720x720 with 0 Axes>"
      ]
     },
     "metadata": {},
     "output_type": "display_data"
    },
    {
     "data": {
      "text/plain": [
       "<Figure size 720x720 with 0 Axes>"
      ]
     },
     "metadata": {},
     "output_type": "display_data"
    },
    {
     "data": {
      "text/plain": [
       "<Figure size 720x720 with 0 Axes>"
      ]
     },
     "metadata": {},
     "output_type": "display_data"
    },
    {
     "data": {
      "text/plain": [
       "<Figure size 720x720 with 0 Axes>"
      ]
     },
     "metadata": {},
     "output_type": "display_data"
    },
    {
     "data": {
      "text/plain": [
       "<Figure size 720x720 with 0 Axes>"
      ]
     },
     "metadata": {},
     "output_type": "display_data"
    },
    {
     "data": {
      "text/plain": [
       "<Figure size 720x720 with 0 Axes>"
      ]
     },
     "metadata": {},
     "output_type": "display_data"
    },
    {
     "data": {
      "text/plain": [
       "<Figure size 720x720 with 0 Axes>"
      ]
     },
     "metadata": {},
     "output_type": "display_data"
    },
    {
     "data": {
      "text/plain": [
       "<Figure size 720x720 with 0 Axes>"
      ]
     },
     "metadata": {},
     "output_type": "display_data"
    },
    {
     "data": {
      "text/plain": [
       "<Figure size 720x720 with 0 Axes>"
      ]
     },
     "metadata": {},
     "output_type": "display_data"
    },
    {
     "data": {
      "text/plain": [
       "<Figure size 720x720 with 0 Axes>"
      ]
     },
     "metadata": {},
     "output_type": "display_data"
    },
    {
     "data": {
      "text/plain": [
       "<Figure size 720x720 with 0 Axes>"
      ]
     },
     "metadata": {},
     "output_type": "display_data"
    },
    {
     "data": {
      "text/plain": [
       "<Figure size 720x720 with 0 Axes>"
      ]
     },
     "metadata": {},
     "output_type": "display_data"
    },
    {
     "data": {
      "text/plain": [
       "<Figure size 720x720 with 0 Axes>"
      ]
     },
     "metadata": {},
     "output_type": "display_data"
    },
    {
     "data": {
      "text/plain": [
       "<Figure size 720x720 with 0 Axes>"
      ]
     },
     "metadata": {},
     "output_type": "display_data"
    },
    {
     "data": {
      "text/plain": [
       "<Figure size 720x720 with 0 Axes>"
      ]
     },
     "metadata": {},
     "output_type": "display_data"
    },
    {
     "data": {
      "text/plain": [
       "<Figure size 720x720 with 0 Axes>"
      ]
     },
     "metadata": {},
     "output_type": "display_data"
    },
    {
     "data": {
      "text/plain": [
       "<Figure size 720x720 with 0 Axes>"
      ]
     },
     "metadata": {},
     "output_type": "display_data"
    },
    {
     "data": {
      "text/plain": [
       "<Figure size 720x720 with 0 Axes>"
      ]
     },
     "metadata": {},
     "output_type": "display_data"
    },
    {
     "data": {
      "text/plain": [
       "<Figure size 720x720 with 0 Axes>"
      ]
     },
     "metadata": {},
     "output_type": "display_data"
    },
    {
     "data": {
      "text/plain": [
       "<Figure size 720x720 with 0 Axes>"
      ]
     },
     "metadata": {},
     "output_type": "display_data"
    },
    {
     "data": {
      "text/plain": [
       "<Figure size 720x720 with 0 Axes>"
      ]
     },
     "metadata": {},
     "output_type": "display_data"
    },
    {
     "data": {
      "text/plain": [
       "<Figure size 720x720 with 0 Axes>"
      ]
     },
     "metadata": {},
     "output_type": "display_data"
    },
    {
     "data": {
      "text/plain": [
       "<Figure size 720x720 with 0 Axes>"
      ]
     },
     "metadata": {},
     "output_type": "display_data"
    },
    {
     "data": {
      "text/plain": [
       "<Figure size 720x720 with 0 Axes>"
      ]
     },
     "metadata": {},
     "output_type": "display_data"
    },
    {
     "data": {
      "text/plain": [
       "<Figure size 720x720 with 0 Axes>"
      ]
     },
     "metadata": {},
     "output_type": "display_data"
    },
    {
     "data": {
      "text/plain": [
       "<Figure size 720x720 with 0 Axes>"
      ]
     },
     "metadata": {},
     "output_type": "display_data"
    },
    {
     "data": {
      "text/plain": [
       "<Figure size 720x720 with 0 Axes>"
      ]
     },
     "metadata": {},
     "output_type": "display_data"
    },
    {
     "data": {
      "text/plain": [
       "<Figure size 720x720 with 0 Axes>"
      ]
     },
     "metadata": {},
     "output_type": "display_data"
    }
   ],
   "source": [
    "densities = np.arange(0,1, 0.05)\n",
    "\n",
    "for i in densities:\n",
    "    density = {'tree': i}\n",
    "    forest, initial_state = generate_forest((50,50), i)\n",
    "    EXIST_CELLS = valid_cells(forest)\n",
    "    is_fire = True\n",
    "    state_list =[]\n",
    "    state_list.append(initial_state)\n",
    "    num_step = 0\n",
    "    plt.figure(figsize=(10,10))\n",
    "    plt.imshow(pallette[forest])\n",
    "    plt.title('Grid 50x50 - Epoch n°'+str(num_step))\n",
    "    plt.savefig(str(num_step)+'.png')\n",
    "    plt.clf()\n",
    "    while(1):\n",
    "        print('--- STEP',num_step,'begin ---')\n",
    "        forest, is_fire, state = step(forest, is_fire, state_list[num_step])\n",
    "        print('New state:',state)\n",
    "        state_list.append(state.copy())\n",
    "        num_step+=1\n",
    "        plt.figure(figsize=(10,10))\n",
    "        plt.imshow(pallette[forest])\n",
    "        plt.title('Grid 50x50 - Epoch n°'+str(num_step))\n",
    "        plt.savefig(str(num_step)+'.png')\n",
    "        plt.clf()\n",
    "        if is_fire is False:\n",
    "            print('Fire is dead...')\n",
    "            break\n",
    "    np.save('./percolation_data/state_list/state_list_'+str(i), state_list)\n",
    "    filenames = []\n",
    "    for name in os.listdir():\n",
    "        if name[-3:] == 'png':\n",
    "            if name != 'aust-veg-map.png':\n",
    "                filenames.append(name)\n",
    "    filenames.sort(key=lambda x: float(x[:-4]))\n",
    "\n",
    "    create_gif(filenames, duration=0.8, name='./gif/'+str(grid_size))\n",
    "    # Reset images\n",
    "    for name in os.listdir():\n",
    "        if name[-3:] == 'png':\n",
    "            if name != 'aust-veg-map.png':\n",
    "                os.remove(name)"
   ]
  },
  {
   "cell_type": "markdown",
   "metadata": {},
   "source": [
    "### Data analyse"
   ]
  },
  {
   "cell_type": "code",
   "execution_count": 22,
   "metadata": {},
   "outputs": [],
   "source": [
    "def get_data(data):\n",
    "    fire_list = []\n",
    "    tree_list = []\n",
    "    for i in range(len(data)):\n",
    "        fire_list.append(data[i]['fire'])\n",
    "        tree_list.append(data[i]['tree'])\n",
    "    return tree_list, fire_list"
   ]
  },
  {
   "cell_type": "code",
   "execution_count": 27,
   "metadata": {},
   "outputs": [],
   "source": [
    "def get_burned_trees(tree_list):\n",
    "    if tree_list == []:\n",
    "        return 0\n",
    "    burn_list = (tree_list[0]-tree_list[-1])*100/(tree_list[0]+0.0001)\n",
    "    return burn_list\n",
    "\n",
    "def get_remain_trees(tree_list):\n",
    "    if tree_list == []:\n",
    "        return 0\n",
    "    remain_list = (tree_list[-1])*100/(tree_list[0]+0.0001)\n",
    "    return remain_list"
   ]
  },
  {
   "cell_type": "code",
   "execution_count": 24,
   "metadata": {},
   "outputs": [],
   "source": [
    "grid0 = get_data(np.load('percolation_data/data/state_list_0.0.npy', allow_pickle=True))\n",
    "grid0_05 = get_data(np.load('percolation_data/data/state_list_0.05.npy', allow_pickle=True))\n",
    "grid0_1 = get_data(np.load('percolation_data/data/state_list_0.1.npy', allow_pickle=True))\n",
    "grid0_15 = get_data(np.load('percolation_data/data/state_list_0.15000000000000002.npy', allow_pickle=True))\n",
    "grid0_2 = get_data(np.load('percolation_data/data/state_list_0.2.npy', allow_pickle=True))\n",
    "grid0_25 = get_data(np.load('percolation_data/data/state_list_0.25.npy', allow_pickle=True))\n",
    "grid0_3 = get_data(np.load('percolation_data/data/state_list_0.30000000000000004.npy', allow_pickle=True))\n",
    "grid0_35 = get_data(np.load('percolation_data/data/state_list_0.35000000000000003.npy', allow_pickle=True))\n",
    "grid0_4 = get_data(np.load('percolation_data/data/state_list_0.4.npy', allow_pickle=True))\n",
    "grid0_45 = get_data(np.load('percolation_data/data/state_list_0.45.npy', allow_pickle=True))\n",
    "grid0_5 = get_data(np.load('percolation_data/data/state_list_0.5.npy', allow_pickle=True))\n",
    "grid0_55 = get_data(np.load('percolation_data/data/state_list_0.55.npy', allow_pickle=True))\n",
    "grid0_6 = get_data(np.load('percolation_data/data/state_list_0.6000000000000001.npy', allow_pickle=True))\n",
    "grid0_65 = get_data(np.load('percolation_data/data/state_list_0.65.npy', allow_pickle=True))\n",
    "grid0_7 = get_data(np.load('percolation_data/data/state_list_0.7000000000000001.npy', allow_pickle=True))\n",
    "grid0_75 = get_data(np.load('tpercolation_data/data/state_list_0.75.npy', allow_pickle=True))\n",
    "grid0_8 = get_data(np.load('percolation_data/data/state_list_0.8.npy', allow_pickle=True))\n",
    "grid0_85 = get_data(np.load('percolation_data/data/state_list_0.8500000000000001.npy', allow_pickle=True))\n",
    "grid0_9 = get_data(np.load('percolation_data/data/state_list_0.9.npy', allow_pickle=True))\n",
    "grid0_95 = get_data(np.load('percolation_data/data/state_list_0.9500000000000001.npy', allow_pickle=True))"
   ]
  },
  {
   "cell_type": "code",
   "execution_count": 28,
   "metadata": {},
   "outputs": [],
   "source": [
    "tree_per_dens = [grid0, grid0_05, grid0_1, grid0_15,\n",
    "                grid0_2, grid0_25, grid0_3, grid0_35,\n",
    "                grid0_4, grid0_45, grid0_5, grid0_55,\n",
    "                grid0_6, grid0_65, grid0_7, grid0_75,\n",
    "                grid0_8, grid0_85, grid0_9, grid0_95]\n",
    "\n",
    "burn_trees = [get_burned_trees(tree_per_dens[i][0]) for i in range(len(tree_per_dens))]\n",
    "remain_trees = [get_remain_trees(tree_per_dens[i][0]) for i in range(len(tree_per_dens))]"
   ]
  },
  {
   "cell_type": "code",
   "execution_count": 31,
   "metadata": {},
   "outputs": [
    {
     "data": {
      "image/png": "[encoded data removed]",
      "text/plain": [
       "<Figure size 864x576 with 1 Axes>"
      ]
     },
     "metadata": {},
     "output_type": "display_data"
    }
   ],
   "source": [
    "plt.figure(figsize=(12,8))\n",
    "sb.set_style('darkgrid')\n",
    "plt.plot(densities[1:], remain_trees[1:], '-o')\n",
    "plt.xlabel('Percolation')\n",
    "plt.ylabel('Percentage of remain trees')\n",
    "plt.title('Percentage of remain treee depending on density for a 50x50 grid')\n",
    "plt.legend(('Percentage of remain trees',))\n",
    "plt.savefig('./percolation_data/real_remain_tree_density.png')\n",
    "plt.show()"
   ]
  },
  {
   "cell_type": "code",
   "execution_count": 32,
   "metadata": {},
   "outputs": [
    {
     "data": {
      "image/png": "[encoded data removed]",
      "text/plain": [
       "<Figure size 864x576 with 1 Axes>"
      ]
     },
     "metadata": {},
     "output_type": "display_data"
    }
   ],
   "source": [
    "plt.figure(figsize=(12,8))\n",
    "sb.set_style('darkgrid')\n",
    "plt.plot(densities[1:], burn_trees[1:], '-o')\n",
    "plt.xlabel('Percolation')\n",
    "plt.ylabel('Percentage of burned trees ')\n",
    "plt.title('Percentage of burned treees depending on density for a 50x50 grid')\n",
    "plt.legend(('Percentage of burned trees',), loc='upper left')\n",
    "plt.savefig('./percolation_data/real_burned_tree_density.png')\n",
    "plt.show()"
   ]
  },
  {
   "cell_type": "markdown",
   "metadata": {},
   "source": [
    " "
   ]
  }
 ],
 "metadata": {
  "kernelspec": {
   "display_name": "Python 3",
   "language": "python",
   "name": "python3"
  },
  "language_info": {
   "codemirror_mode": {
    "name": "ipython",
    "version": 3
   },
   "file_extension": ".py",
   "mimetype": "text/x-python",
   "name": "python",
   "nbconvert_exporter": "python",
   "pygments_lexer": "ipython3",
   "version": "3.7.5"
  }
 },
 "nbformat": 4,
 "nbformat_minor": 2
}
