{
 "cells": [
  {
   "cell_type": "markdown",
   "metadata": {},
   "source": [
    "# Cellular automaton - Rendu Intelligence Distribuée\n",
    "\n",
    "## Test file for experiments with many density \n",
    "\n",
    "##### Colin Decourt - Bordeaux INP ENSEIRB-MATMECA\n",
    "Engineering student in artificial intelligence\n"
   ]
  },
  {
   "cell_type": "markdown",
   "metadata": {},
   "source": [
    "   "
   ]
  },
  {
   "cell_type": "markdown",
   "metadata": {},
   "source": [
    "###### Import"
   ]
  },
  {
   "cell_type": "code",
   "execution_count": 1,
   "metadata": {
    "scrolled": false
   },
   "outputs": [],
   "source": [
    "import numpy as np\n",
    "import matplotlib.pyplot as plt\n",
    "import os\n",
    "import imageio\n",
    "import datetime\n",
    "import cv2 as cv\n",
    "from tqdm import tqdm\n",
    "import seaborn as sb\n",
    "%matplotlib inline"
   ]
  },
  {
   "cell_type": "markdown",
   "metadata": {},
   "source": [
    "##### Utils functions"
   ]
  },
  {
   "cell_type": "code",
   "execution_count": 2,
   "metadata": {},
   "outputs": [],
   "source": [
    "def create_gif(filenames, duration, name):\n",
    "    images = []\n",
    "    for filename in filenames:\n",
    "        images.append(imageio.imread(filename))\n",
    "    output_file = 'Gif-%s.gif' % datetime.datetime.now().strftime('%Y-%M-%d-%H-%M-%S')\n",
    "    imageio.mimsave('./test_data/'+name+output_file, images, duration=duration)"
   ]
  },
  {
   "cell_type": "code",
   "execution_count": 3,
   "metadata": {
    "scrolled": false
   },
   "outputs": [],
   "source": [
    "def get_neighbours_indices(forest, cell, valid_cells):\n",
    "    '''\n",
    "    Function which get all the valid neighbours of a given cell\n",
    "    :forest: the forest grid\n",
    "    :cell: cell's neighbours\n",
    "    :valid_cells: all the valid coordinates of the forest grid\n",
    "    '''\n",
    "    X = [-1, -1, 0, 1, 1, 1, 0, -1]\n",
    "    Y = [0, 1, 1, 1, 0, -1, -1, -1]\n",
    "    neighbours_list = []\n",
    "    \n",
    "    for k in range(len(X)):\n",
    "        temp_cell = (cell[0] + X[k], cell[1] + Y[k])\n",
    "        if temp_cell in valid_cells:\n",
    "            neighbours_list.append(temp_cell)\n",
    "    return neighbours_list\n",
    "            "
   ]
  },
  {
   "cell_type": "code",
   "execution_count": 4,
   "metadata": {},
   "outputs": [],
   "source": [
    "def valid_cells(forest):\n",
    "    '''\n",
    "    Function which get all the coordinates of the grid\n",
    "    :forest: the forest grid\n",
    "    '''\n",
    "    valid_cells = []\n",
    "    for i in range(forest.shape[0]):\n",
    "        for j in range(forest.shape[1]):\n",
    "            valid_cells.append((i,j))\n",
    "    return valid_cells"
   ]
  },
  {
   "cell_type": "markdown",
   "metadata": {},
   "source": [
    "##### Parameters"
   ]
  },
  {
   "cell_type": "code",
   "execution_count": 14,
   "metadata": {
    "scrolled": false
   },
   "outputs": [],
   "source": [
    "cells = {'empty':0, 'tree1':1, 'tree2':2, 'tree3':3, 'tree4':4, 'tree5': 6, 'tree6': 7, 'tree7':8, 'tree8': 9, 'fire': 10, 'ash': 11}\n",
    "density = {'tree1': 0.15, 'tree2': 0.25 , 'tree3':0.35, 'tree4': 0.45, 'tree5': 0.55, 'tree6': 0.65, 'tree7': 0.75, 'tree7':0.85, 'tree8': 0.95}\n",
    "\n",
    "grid_size = (50, 50)\n",
    "\n",
    "# Display parameters\n",
    "pallette = np.array( [[153, 102, 0],# empty\n",
    "                      [0, 51, 8],  # tree1\n",
    "                      [0, 153, 25],  # tree2\n",
    "                      [0, 230, 0], # tree3\n",
    "                      [149, 255, 128], # tree4\n",
    "                      [230, 115, 0],   # fire\n",
    "                      [158, 158, 158] # ash\n",
    "                      ])"
   ]
  },
  {
   "cell_type": "code",
   "execution_count": 12,
   "metadata": {},
   "outputs": [],
   "source": [
    "def generate_forest(grid_size, max_start_fire):\n",
    "    forest = np.zeros(grid_size, dtype=int)\n",
    "    no_change = []\n",
    "    num_fire = 0\n",
    "    tree = 0\n",
    "    exist = valid_cells(forest)\n",
    "    for i in range(grid_size[0]):\n",
    "        for j in range(grid_size[1]):\n",
    "            if (i,j) not in no_change:\n",
    "                type_cell = np.random.randint(low=0, high=17)\n",
    "                if type_cell == 0:\n",
    "                    # Une chance sur 30 d'avoir une clairière\n",
    "                    clear = np.random.randint(low=0, high=30)\n",
    "                    forest[i,j] = cells['empty']\n",
    "                    if clear == 12:\n",
    "                        neigh_list = get_neighbours_indices(forest, (i,j), exist)\n",
    "                        for neigh in neigh_list:\n",
    "                            no_change.append(neigh)\n",
    "                            forest[neigh] = cells['empty']\n",
    "                if type_cell == 1 or type_cell ==2:\n",
    "                    forest[i,j] = cells['tree']\n",
    "                    tree += 1\n",
    "                    \n",
    "                if type_cell == 16 and num_fire < max_start_fire:\n",
    "                    forest[i,j] = cells['fire']\n",
    "                    num_fire += 1\n",
    "    print('Generate forest with', num_fire, 'start of fire')\n",
    "    initial_forest = {'fire': num_fire, 'ash': 0, 'tree1':tree1 , 'tree2': tree2, 'tree3': tree3, 'tree4': tree4, 'tree5': tree5, 'tree6': tree6, 'tree7': tree7, 'tree8':tree8}\n",
    "    return forest, initial_forest"
   ]
  },
  {
   "cell_type": "markdown",
   "metadata": {},
   "source": [
    "##### Transition functions"
   ]
  },
  {
   "cell_type": "markdown",
   "metadata": {},
   "source": [
    "Transition rules : \n",
    "\n",
    "- An empty cell stay empty\n",
    "- A ash cell stay ash\n",
    "- A fire cell become ash\n",
    "- A tree cell :\n",
    "    - Become fire if one of them neighbour is in fire\n",
    "    - Stay tree otherwise"
   ]
  },
  {
   "cell_type": "code",
   "execution_count": 7,
   "metadata": {},
   "outputs": [],
   "source": [
    "def may_burn(forest, cell, cell_type, state):\n",
    "    to_burn = []\n",
    "    no_burn = []\n",
    "\n",
    "    neigh_list = get_neighbours_indices(forest, cell, EXIST_CELLS)\n",
    "    for neigh_cell in neigh_list:\n",
    "        if forest[neigh_cell] == cells['fire']:\n",
    "            to_burn.append(neigh_cell)       \n",
    "        else:\n",
    "            no_burn.append(neigh_cell)\n",
    "    seuil = np.random.random()\n",
    "    if to_burn == [] or seuil > density[cell_type]:\n",
    "        return cells[cell_type], state\n",
    "    else:\n",
    "        state[cell_type]-=1\n",
    "        state['fire'] += 1\n",
    "        return cells['fire'], state"
   ]
  },
  {
   "cell_type": "code",
   "execution_count": 8,
   "metadata": {},
   "outputs": [],
   "source": [
    "def transition_general(forest, cell, state):\n",
    "    '''\n",
    "    Function which return the future state of a given cell\n",
    "    :forest: the forest grid\n",
    "    :cell: cell's future state wanted\n",
    "    :state: state of the country at current step\n",
    "    '''\n",
    "    try:\n",
    "        if forest[cell] == cells['empty']:\n",
    "            return cells['empty'], state\n",
    "\n",
    "        if forest[cell] == cells['ash']:\n",
    "            return cells['ash'], state\n",
    "\n",
    "        if forest[cell] == cells['tree1']:\n",
    "            return may_burn(forest, cell, 'tree1', state)\n",
    "\n",
    "        if forest[cell] == cells['tree2']:\n",
    "            return may_burn(forest, cell, 'tree2', state)\n",
    "\n",
    "        if forest[cell] == cells['tree3']:\n",
    "            return may_burn(forest, cell, 'tree3', state)\n",
    "\n",
    "        if forest[cell] == cells['tree4']:\n",
    "            return may_burn(forest, cell, 'tree4', state)\n",
    "        \n",
    "        if forest[cell] == cells['tree5']:\n",
    "            return may_burn(forest, cell, 'tree4', state)\n",
    "        \n",
    "        if forest[cell] == cells['tree6']:\n",
    "            return may_burn(forest, cell, 'tree8', state)\n",
    "        \n",
    "        if forest[cell] == cells['tree7']:\n",
    "            return may_burn(forest, cell, 'tree8', state)\n",
    "        \n",
    "        if forest[cell] == cells['tree8']:\n",
    "            return may_burn(forest, cell, 'tree8', state)\n",
    "\n",
    "        if forest[cell] == cells['fire']:\n",
    "            state['fire']-=1\n",
    "            state['ash'] +=1\n",
    "            return cells['ash'], state\n",
    "        \n",
    "    except:\n",
    "        print('Unknown cell type. Abort.')\n",
    "    \n",
    "    "
   ]
  },
  {
   "cell_type": "markdown",
   "metadata": {},
   "source": [
    "##### Fire propagation"
   ]
  },
  {
   "cell_type": "code",
   "execution_count": 9,
   "metadata": {
    "scrolled": false
   },
   "outputs": [],
   "source": [
    "def step(forest, is_fire, state):\n",
    "    '''\n",
    "    Function which perfom one propagation step\n",
    "    :forest: the forest grid\n",
    "    :is_fire: boolean informing the fire state - True : still cell in fire False otherwise\n",
    "    '''\n",
    "    nb_fire = 0\n",
    "    new_forest = forest.copy()\n",
    "    new_state = state.copy()\n",
    "    for i in range(forest.shape[0]):\n",
    "        for j in range(forest.shape[1]):\n",
    "            cell_type, new_state = transition_general(forest, (i,j), new_state)\n",
    "            new_forest[i,j] = cell_type\n",
    "            if new_forest[i,j] == cells['fire']:\n",
    "                nb_fire += 1\n",
    "    print(nb_fire)\n",
    "    if nb_fire == 0:\n",
    "        is_fire = False\n",
    "    return new_forest, is_fire, new_state"
   ]
  },
  {
   "cell_type": "code",
   "execution_count": 10,
   "metadata": {},
   "outputs": [],
   "source": [
    "# Reset images\n",
    "for name in os.listdir():\n",
    "    if name[-3:] == 'png':\n",
    "        if name != 'aust-veg-map.png':\n",
    "            os.remove(name)"
   ]
  },
  {
   "cell_type": "markdown",
   "metadata": {},
   "source": [
    "## Fire forest on random grid"
   ]
  },
  {
   "cell_type": "code",
   "execution_count": 16,
   "metadata": {},
   "outputs": [
    {
     "name": "stdout",
     "output_type": "stream",
     "text": [
      "Generate forest with 6 start of fire\n",
      "--- STEP 0 begin ---\n",
      "25\n",
      "New state: {'fire': 25, 'ash': 6, 'tree1': 11, 'tree2': 8, 'tree3': 5, 'tree4': 7, 'tree5': 16, 'tree6': 15, 'tree7': 9, 'tree8': -1}\n",
      "--- STEP 1 begin ---\n",
      "17\n",
      "New state: {'fire': 17, 'ash': 31, 'tree1': 10, 'tree2': 7, 'tree3': 3, 'tree4': 5, 'tree5': 16, 'tree6': 15, 'tree7': 9, 'tree8': -12}\n",
      "--- STEP 2 begin ---\n",
      "13\n",
      "New state: {'fire': 13, 'ash': 48, 'tree1': 10, 'tree2': 4, 'tree3': 3, 'tree4': 1, 'tree5': 16, 'tree6': 15, 'tree7': 9, 'tree8': -18}\n",
      "--- STEP 3 begin ---\n",
      "14\n",
      "New state: {'fire': 14, 'ash': 61, 'tree1': 9, 'tree2': 3, 'tree3': 2, 'tree4': -8, 'tree5': 16, 'tree6': 15, 'tree7': 9, 'tree8': -20}\n",
      "--- STEP 4 begin ---\n",
      "5\n",
      "New state: {'fire': 5, 'ash': 75, 'tree1': 9, 'tree2': 3, 'tree3': 1, 'tree4': -8, 'tree5': 16, 'tree6': 15, 'tree7': 9, 'tree8': -24}\n",
      "--- STEP 5 begin ---\n",
      "2\n",
      "New state: {'fire': 2, 'ash': 80, 'tree1': 8, 'tree2': 3, 'tree3': 1, 'tree4': -9, 'tree5': 16, 'tree6': 15, 'tree7': 9, 'tree8': -24}\n",
      "--- STEP 6 begin ---\n",
      "0\n",
      "New state: {'fire': 0, 'ash': 82, 'tree1': 8, 'tree2': 3, 'tree3': 1, 'tree4': -9, 'tree5': 16, 'tree6': 15, 'tree7': 9, 'tree8': -24}\n",
      "Fire is dead...\n",
      "Generate forest with 26 start of fire\n",
      "--- STEP 0 begin ---\n",
      "78\n",
      "New state: {'fire': 78, 'ash': 26, 'tree1': 43, 'tree2': 42, 'tree3': 39, 'tree4': 35, 'tree5': 47, 'tree6': 49, 'tree7': 43, 'tree8': -5}\n",
      "--- STEP 1 begin ---\n",
      "59\n",
      "New state: {'fire': 59, 'ash': 104, 'tree1': 41, 'tree2': 37, 'tree3': 37, 'tree4': 21, 'tree5': 47, 'tree6': 49, 'tree7': 43, 'tree8': -41}\n",
      "--- STEP 2 begin ---\n",
      "42\n",
      "New state: {'fire': 42, 'ash': 163, 'tree1': 35, 'tree2': 32, 'tree3': 33, 'tree4': 12, 'tree5': 47, 'tree6': 49, 'tree7': 43, 'tree8': -59}\n",
      "--- STEP 3 begin ---\n",
      "39\n",
      "New state: {'fire': 39, 'ash': 205, 'tree1': 29, 'tree2': 24, 'tree3': 29, 'tree4': 2, 'tree5': 47, 'tree6': 49, 'tree7': 43, 'tree8': -70}\n",
      "--- STEP 4 begin ---\n",
      "19\n",
      "New state: {'fire': 19, 'ash': 244, 'tree1': 28, 'tree2': 19, 'tree3': 28, 'tree4': -2, 'tree5': 47, 'tree6': 49, 'tree7': 43, 'tree8': -78}\n",
      "--- STEP 5 begin ---\n",
      "9\n",
      "New state: {'fire': 9, 'ash': 263, 'tree1': 27, 'tree2': 18, 'tree3': 27, 'tree4': -3, 'tree5': 47, 'tree6': 49, 'tree7': 43, 'tree8': -83}\n",
      "--- STEP 6 begin ---\n",
      "10\n",
      "New state: {'fire': 10, 'ash': 272, 'tree1': 24, 'tree2': 18, 'tree3': 26, 'tree4': -7, 'tree5': 47, 'tree6': 49, 'tree7': 43, 'tree8': -85}\n",
      "--- STEP 7 begin ---\n",
      "8\n",
      "New state: {'fire': 8, 'ash': 282, 'tree1': 23, 'tree2': 18, 'tree3': 24, 'tree4': -10, 'tree5': 47, 'tree6': 49, 'tree7': 43, 'tree8': -87}\n",
      "--- STEP 8 begin ---\n",
      "3\n",
      "New state: {'fire': 3, 'ash': 290, 'tree1': 23, 'tree2': 17, 'tree3': 23, 'tree4': -10, 'tree5': 47, 'tree6': 49, 'tree7': 43, 'tree8': -88}\n",
      "--- STEP 9 begin ---\n",
      "2\n",
      "New state: {'fire': 2, 'ash': 293, 'tree1': 22, 'tree2': 16, 'tree3': 23, 'tree4': -10, 'tree5': 47, 'tree6': 49, 'tree7': 43, 'tree8': -88}\n",
      "--- STEP 10 begin ---\n",
      "0\n",
      "New state: {'fire': 0, 'ash': 295, 'tree1': 22, 'tree2': 16, 'tree3': 23, 'tree4': -10, 'tree5': 47, 'tree6': 49, 'tree7': 43, 'tree8': -88}\n",
      "Fire is dead...\n",
      "Generate forest with 54 start of fire\n",
      "--- STEP 0 begin ---\n"
     ]
    },
    {
     "name": "stderr",
     "output_type": "stream",
     "text": [
      "/Users/cdecourt/anaconda3/envs/ia/lib/python3.7/site-packages/ipykernel_launcher.py:9: RuntimeWarning: More than 20 figures have been opened. Figures created through the pyplot interface (`matplotlib.pyplot.figure`) are retained until explicitly closed and may consume too much memory. (To control this warning, see the rcParam `figure.max_open_warning`).\n",
      "  if __name__ == '__main__':\n"
     ]
    },
    {
     "name": "stdout",
     "output_type": "stream",
     "text": [
      "159\n",
      "New state: {'fire': 159, 'ash': 54, 'tree1': 107, 'tree2': 104, 'tree3': 90, 'tree4': 61, 'tree5': 91, 'tree6': 90, 'tree7': 122, 'tree8': -4}\n"
     ]
    },
    {
     "name": "stderr",
     "output_type": "stream",
     "text": [
      "/Users/cdecourt/anaconda3/envs/ia/lib/python3.7/site-packages/ipykernel_launcher.py:19: RuntimeWarning: More than 20 figures have been opened. Figures created through the pyplot interface (`matplotlib.pyplot.figure`) are retained until explicitly closed and may consume too much memory. (To control this warning, see the rcParam `figure.max_open_warning`).\n"
     ]
    },
    {
     "name": "stdout",
     "output_type": "stream",
     "text": [
      "--- STEP 1 begin ---\n",
      "141\n",
      "New state: {'fire': 141, 'ash': 213, 'tree1': 98, 'tree2': 90, 'tree3': 73, 'tree4': 46, 'tree5': 91, 'tree6': 90, 'tree7': 122, 'tree8': -90}\n",
      "--- STEP 2 begin ---\n",
      "120\n",
      "New state: {'fire': 120, 'ash': 354, 'tree1': 85, 'tree2': 70, 'tree3': 61, 'tree4': 21, 'tree5': 91, 'tree6': 90, 'tree7': 122, 'tree8': -140}\n",
      "--- STEP 3 begin ---\n",
      "107\n",
      "New state: {'fire': 107, 'ash': 474, 'tree1': 75, 'tree2': 58, 'tree3': 41, 'tree4': -3, 'tree5': 91, 'tree6': 90, 'tree7': 122, 'tree8': -181}\n",
      "--- STEP 4 begin ---\n",
      "63\n",
      "New state: {'fire': 63, 'ash': 581, 'tree1': 69, 'tree2': 51, 'tree3': 31, 'tree4': -23, 'tree5': 91, 'tree6': 90, 'tree7': 122, 'tree8': -201}\n",
      "--- STEP 5 begin ---\n",
      "35\n",
      "New state: {'fire': 35, 'ash': 644, 'tree1': 63, 'tree2': 48, 'tree3': 24, 'tree4': -34, 'tree5': 91, 'tree6': 90, 'tree7': 122, 'tree8': -209}\n",
      "--- STEP 6 begin ---\n",
      "16\n",
      "New state: {'fire': 16, 'ash': 679, 'tree1': 61, 'tree2': 44, 'tree3': 22, 'tree4': -39, 'tree5': 91, 'tree6': 90, 'tree7': 122, 'tree8': -212}\n",
      "--- STEP 7 begin ---\n",
      "3\n",
      "New state: {'fire': 3, 'ash': 695, 'tree1': 61, 'tree2': 43, 'tree3': 22, 'tree4': -41, 'tree5': 91, 'tree6': 90, 'tree7': 122, 'tree8': -212}\n",
      "--- STEP 8 begin ---\n",
      "1\n",
      "New state: {'fire': 1, 'ash': 698, 'tree1': 60, 'tree2': 43, 'tree3': 22, 'tree4': -41, 'tree5': 91, 'tree6': 90, 'tree7': 122, 'tree8': -212}\n",
      "--- STEP 9 begin ---\n",
      "1\n",
      "New state: {'fire': 1, 'ash': 699, 'tree1': 59, 'tree2': 43, 'tree3': 22, 'tree4': -41, 'tree5': 91, 'tree6': 90, 'tree7': 122, 'tree8': -212}\n",
      "--- STEP 10 begin ---\n",
      "1\n",
      "New state: {'fire': 1, 'ash': 700, 'tree1': 59, 'tree2': 42, 'tree3': 22, 'tree4': -41, 'tree5': 91, 'tree6': 90, 'tree7': 122, 'tree8': -212}\n",
      "--- STEP 11 begin ---\n",
      "1\n",
      "New state: {'fire': 1, 'ash': 701, 'tree1': 59, 'tree2': 41, 'tree3': 22, 'tree4': -41, 'tree5': 91, 'tree6': 90, 'tree7': 122, 'tree8': -212}\n",
      "--- STEP 12 begin ---\n",
      "1\n",
      "New state: {'fire': 1, 'ash': 702, 'tree1': 59, 'tree2': 41, 'tree3': 21, 'tree4': -41, 'tree5': 91, 'tree6': 90, 'tree7': 122, 'tree8': -212}\n",
      "--- STEP 13 begin ---\n",
      "0\n",
      "New state: {'fire': 0, 'ash': 703, 'tree1': 59, 'tree2': 41, 'tree3': 21, 'tree4': -41, 'tree5': 91, 'tree6': 90, 'tree7': 122, 'tree8': -212}\n",
      "Fire is dead...\n",
      "Generate forest with 100 start of fire\n",
      "--- STEP 0 begin ---\n",
      "304\n",
      "New state: {'fire': 307, 'ash': 97, 'tree1': 167, 'tree2': 153, 'tree3': 166, 'tree4': 117, 'tree5': 204, 'tree6': 180, 'tree7': 190, 'tree8': -12}\n",
      "--- STEP 1 begin ---\n",
      "302\n",
      "New state: {'fire': 305, 'ash': 401, 'tree1': 147, 'tree2': 132, 'tree3': 136, 'tree4': 58, 'tree5': 204, 'tree6': 180, 'tree7': 190, 'tree8': -184}\n",
      "--- STEP 2 begin ---\n",
      "196\n",
      "New state: {'fire': 199, 'ash': 703, 'tree1': 137, 'tree2': 113, 'tree3': 103, 'tree4': 4, 'tree5': 204, 'tree6': 180, 'tree7': 190, 'tree8': -264}\n",
      "--- STEP 3 begin ---\n",
      "128\n",
      "New state: {'fire': 131, 'ash': 899, 'tree1': 127, 'tree2': 99, 'tree3': 82, 'tree4': -35, 'tree5': 204, 'tree6': 180, 'tree7': 190, 'tree8': -308}\n",
      "--- STEP 4 begin ---\n",
      "87\n",
      "New state: {'fire': 90, 'ash': 1027, 'tree1': 117, 'tree2': 87, 'tree3': 69, 'tree4': -56, 'tree5': 204, 'tree6': 180, 'tree7': 190, 'tree8': -339}\n",
      "--- STEP 5 begin ---\n",
      "48\n",
      "New state: {'fire': 51, 'ash': 1114, 'tree1': 109, 'tree2': 82, 'tree3': 57, 'tree4': -68, 'tree5': 204, 'tree6': 180, 'tree7': 190, 'tree8': -350}\n",
      "--- STEP 6 begin ---\n",
      "18\n",
      "New state: {'fire': 21, 'ash': 1162, 'tree1': 104, 'tree2': 78, 'tree3': 55, 'tree4': -72, 'tree5': 204, 'tree6': 180, 'tree7': 190, 'tree8': -353}\n",
      "--- STEP 7 begin ---\n",
      "11\n",
      "New state: {'fire': 14, 'ash': 1180, 'tree1': 104, 'tree2': 73, 'tree3': 51, 'tree4': -72, 'tree5': 204, 'tree6': 180, 'tree7': 190, 'tree8': -355}\n",
      "--- STEP 8 begin ---\n",
      "3\n",
      "New state: {'fire': 6, 'ash': 1191, 'tree1': 103, 'tree2': 73, 'tree3': 51, 'tree4': -73, 'tree5': 204, 'tree6': 180, 'tree7': 190, 'tree8': -356}\n",
      "--- STEP 9 begin ---\n",
      "6\n",
      "New state: {'fire': 9, 'ash': 1194, 'tree1': 103, 'tree2': 71, 'tree3': 51, 'tree4': -73, 'tree5': 204, 'tree6': 180, 'tree7': 190, 'tree8': -360}\n",
      "--- STEP 10 begin ---\n",
      "4\n",
      "New state: {'fire': 7, 'ash': 1200, 'tree1': 103, 'tree2': 71, 'tree3': 51, 'tree4': -75, 'tree5': 204, 'tree6': 180, 'tree7': 190, 'tree8': -362}\n",
      "--- STEP 11 begin ---\n",
      "0\n",
      "New state: {'fire': 3, 'ash': 1204, 'tree1': 103, 'tree2': 71, 'tree3': 51, 'tree4': -75, 'tree5': 204, 'tree6': 180, 'tree7': 190, 'tree8': -362}\n",
      "Fire is dead...\n",
      "Generate forest with 100 start of fire\n",
      "--- STEP 0 begin ---\n",
      "294\n",
      "New state: {'fire': 294, 'ash': 100, 'tree1': 280, 'tree2': 277, 'tree3': 272, 'tree4': 272, 'tree5': 315, 'tree6': 274, 'tree7': 266, 'tree8': 89}\n",
      "--- STEP 1 begin ---\n",
      "302\n",
      "New state: {'fire': 302, 'ash': 394, 'tree1': 261, 'tree2': 262, 'tree3': 234, 'tree4': 208, 'tree5': 315, 'tree6': 274, 'tree7': 266, 'tree8': -77}\n",
      "--- STEP 2 begin ---\n",
      "249\n",
      "New state: {'fire': 249, 'ash': 696, 'tree1': 248, 'tree2': 227, 'tree3': 211, 'tree4': 135, 'tree5': 315, 'tree6': 274, 'tree7': 266, 'tree8': -182}\n",
      "--- STEP 3 begin ---\n",
      "181\n",
      "New state: {'fire': 181, 'ash': 945, 'tree1': 235, 'tree2': 205, 'tree3': 172, 'tree4': 92, 'tree5': 315, 'tree6': 274, 'tree7': 266, 'tree8': -246}\n",
      "--- STEP 4 begin ---\n",
      "118\n",
      "New state: {'fire': 118, 'ash': 1126, 'tree1': 216, 'tree2': 189, 'tree3': 153, 'tree4': 62, 'tree5': 315, 'tree6': 274, 'tree7': 266, 'tree8': -280}\n",
      "--- STEP 5 begin ---\n",
      "65\n",
      "New state: {'fire': 65, 'ash': 1244, 'tree1': 208, 'tree2': 177, 'tree3': 140, 'tree4': 47, 'tree5': 315, 'tree6': 274, 'tree7': 266, 'tree8': -297}\n",
      "--- STEP 6 begin ---\n",
      "41\n",
      "New state: {'fire': 41, 'ash': 1309, 'tree1': 205, 'tree2': 167, 'tree3': 136, 'tree4': 41, 'tree5': 315, 'tree6': 274, 'tree7': 266, 'tree8': -315}\n",
      "--- STEP 7 begin ---\n",
      "50\n",
      "New state: {'fire': 50, 'ash': 1350, 'tree1': 201, 'tree2': 158, 'tree3': 129, 'tree4': 33, 'tree5': 315, 'tree6': 274, 'tree7': 266, 'tree8': -337}\n",
      "--- STEP 8 begin ---\n",
      "46\n",
      "New state: {'fire': 46, 'ash': 1400, 'tree1': 196, 'tree2': 152, 'tree3': 123, 'tree4': 25, 'tree5': 315, 'tree6': 274, 'tree7': 266, 'tree8': -358}\n",
      "--- STEP 9 begin ---\n",
      "45\n",
      "New state: {'fire': 45, 'ash': 1446, 'tree1': 191, 'tree2': 148, 'tree3': 120, 'tree4': 14, 'tree5': 315, 'tree6': 274, 'tree7': 266, 'tree8': -380}\n",
      "--- STEP 10 begin ---\n",
      "29\n",
      "New state: {'fire': 29, 'ash': 1491, 'tree1': 188, 'tree2': 145, 'tree3': 118, 'tree4': 9, 'tree5': 315, 'tree6': 274, 'tree7': 266, 'tree8': -396}\n",
      "--- STEP 11 begin ---\n",
      "31\n",
      "New state: {'fire': 31, 'ash': 1520, 'tree1': 183, 'tree2': 142, 'tree3': 114, 'tree4': 6, 'tree5': 315, 'tree6': 274, 'tree7': 266, 'tree8': -412}\n",
      "--- STEP 12 begin ---\n",
      "25\n",
      "New state: {'fire': 25, 'ash': 1551, 'tree1': 181, 'tree2': 138, 'tree3': 111, 'tree4': 3, 'tree5': 315, 'tree6': 274, 'tree7': 266, 'tree8': -425}\n",
      "--- STEP 13 begin ---\n",
      "34\n",
      "New state: {'fire': 34, 'ash': 1576, 'tree1': 177, 'tree2': 131, 'tree3': 108, 'tree4': -3, 'tree5': 315, 'tree6': 274, 'tree7': 266, 'tree8': -439}\n",
      "--- STEP 14 begin ---\n",
      "20\n",
      "New state: {'fire': 20, 'ash': 1610, 'tree1': 177, 'tree2': 128, 'tree3': 108, 'tree4': -6, 'tree5': 315, 'tree6': 274, 'tree7': 266, 'tree8': -453}\n",
      "--- STEP 15 begin ---\n",
      "24\n",
      "New state: {'fire': 24, 'ash': 1630, 'tree1': 174, 'tree2': 127, 'tree3': 105, 'tree4': -12, 'tree5': 315, 'tree6': 274, 'tree7': 266, 'tree8': -464}\n",
      "--- STEP 16 begin ---\n",
      "28\n",
      "New state: {'fire': 28, 'ash': 1654, 'tree1': 172, 'tree2': 123, 'tree3': 100, 'tree4': -20, 'tree5': 315, 'tree6': 274, 'tree7': 266, 'tree8': -473}\n",
      "--- STEP 17 begin ---\n",
      "21\n",
      "New state: {'fire': 21, 'ash': 1682, 'tree1': 170, 'tree2': 119, 'tree3': 97, 'tree4': -26, 'tree5': 315, 'tree6': 274, 'tree7': 266, 'tree8': -479}\n",
      "--- STEP 18 begin ---\n",
      "28\n",
      "New state: {'fire': 28, 'ash': 1703, 'tree1': 167, 'tree2': 116, 'tree3': 96, 'tree4': -38, 'tree5': 315, 'tree6': 274, 'tree7': 266, 'tree8': -488}\n",
      "--- STEP 19 begin ---\n",
      "26\n",
      "New state: {'fire': 26, 'ash': 1731, 'tree1': 164, 'tree2': 115, 'tree3': 91, 'tree4': -46, 'tree5': 315, 'tree6': 274, 'tree7': 266, 'tree8': -497}\n",
      "--- STEP 20 begin ---\n",
      "24\n",
      "New state: {'fire': 24, 'ash': 1757, 'tree1': 162, 'tree2': 113, 'tree3': 89, 'tree4': -52, 'tree5': 315, 'tree6': 274, 'tree7': 266, 'tree8': -509}\n",
      "--- STEP 21 begin ---\n",
      "37\n",
      "New state: {'fire': 37, 'ash': 1781, 'tree1': 159, 'tree2': 107, 'tree3': 83, 'tree4': -63, 'tree5': 315, 'tree6': 274, 'tree7': 266, 'tree8': -520}\n",
      "--- STEP 22 begin ---\n"
     ]
    },
    {
     "name": "stdout",
     "output_type": "stream",
     "text": [
      "21\n",
      "New state: {'fire': 21, 'ash': 1818, 'tree1': 158, 'tree2': 104, 'tree3': 79, 'tree4': -72, 'tree5': 315, 'tree6': 274, 'tree7': 266, 'tree8': -524}\n",
      "--- STEP 23 begin ---\n",
      "12\n",
      "New state: {'fire': 12, 'ash': 1839, 'tree1': 155, 'tree2': 104, 'tree3': 77, 'tree4': -74, 'tree5': 315, 'tree6': 274, 'tree7': 266, 'tree8': -529}\n",
      "--- STEP 24 begin ---\n",
      "10\n",
      "New state: {'fire': 10, 'ash': 1851, 'tree1': 155, 'tree2': 103, 'tree3': 76, 'tree4': -77, 'tree5': 315, 'tree6': 274, 'tree7': 266, 'tree8': -534}\n",
      "--- STEP 25 begin ---\n",
      "6\n",
      "New state: {'fire': 6, 'ash': 1861, 'tree1': 154, 'tree2': 102, 'tree3': 75, 'tree4': -78, 'tree5': 315, 'tree6': 274, 'tree7': 266, 'tree8': -536}\n",
      "--- STEP 26 begin ---\n",
      "5\n",
      "New state: {'fire': 5, 'ash': 1867, 'tree1': 154, 'tree2': 101, 'tree3': 74, 'tree4': -81, 'tree5': 315, 'tree6': 274, 'tree7': 266, 'tree8': -536}\n",
      "--- STEP 27 begin ---\n",
      "0\n",
      "New state: {'fire': 0, 'ash': 1872, 'tree1': 154, 'tree2': 101, 'tree3': 74, 'tree4': -81, 'tree5': 315, 'tree6': 274, 'tree7': 266, 'tree8': -536}\n",
      "Fire is dead...\n",
      "Generate forest with 100 start of fire\n",
      "--- STEP 0 begin ---\n",
      "278\n",
      "New state: {'fire': 280, 'ash': 98, 'tree1': 1220, 'tree2': 1142, 'tree3': 1119, 'tree4': 1127, 'tree5': 1179, 'tree6': 1090, 'tree7': 1214, 'tree8': 913}\n",
      "--- STEP 1 begin ---\n",
      "294\n",
      "New state: {'fire': 296, 'ash': 376, 'tree1': 1199, 'tree2': 1115, 'tree3': 1075, 'tree4': 1078, 'tree5': 1179, 'tree6': 1090, 'tree7': 1214, 'tree8': 760}\n",
      "--- STEP 2 begin ---\n",
      "280\n",
      "New state: {'fire': 282, 'ash': 670, 'tree1': 1173, 'tree2': 1090, 'tree3': 1033, 'tree4': 1009, 'tree5': 1179, 'tree6': 1090, 'tree7': 1214, 'tree8': 642}\n",
      "--- STEP 3 begin ---\n",
      "226\n",
      "New state: {'fire': 228, 'ash': 950, 'tree1': 1157, 'tree2': 1064, 'tree3': 999, 'tree4': 947, 'tree5': 1179, 'tree6': 1090, 'tree7': 1214, 'tree8': 554}\n",
      "--- STEP 4 begin ---\n",
      "175\n",
      "New state: {'fire': 177, 'ash': 1176, 'tree1': 1142, 'tree2': 1041, 'tree3': 971, 'tree4': 904, 'tree5': 1179, 'tree6': 1090, 'tree7': 1214, 'tree8': 488}\n",
      "--- STEP 5 begin ---\n",
      "117\n",
      "New state: {'fire': 119, 'ash': 1351, 'tree1': 1134, 'tree2': 1027, 'tree3': 957, 'tree4': 869, 'tree5': 1179, 'tree6': 1090, 'tree7': 1214, 'tree8': 442}\n",
      "--- STEP 6 begin ---\n",
      "85\n",
      "New state: {'fire': 87, 'ash': 1468, 'tree1': 1130, 'tree2': 1014, 'tree3': 941, 'tree4': 853, 'tree5': 1179, 'tree6': 1090, 'tree7': 1214, 'tree8': 406}\n",
      "--- STEP 7 begin ---\n",
      "59\n",
      "New state: {'fire': 61, 'ash': 1553, 'tree1': 1125, 'tree2': 1010, 'tree3': 936, 'tree4': 837, 'tree5': 1179, 'tree6': 1090, 'tree7': 1214, 'tree8': 377}\n",
      "--- STEP 8 begin ---\n",
      "75\n",
      "New state: {'fire': 77, 'ash': 1612, 'tree1': 1121, 'tree2': 1000, 'tree3': 930, 'tree4': 818, 'tree5': 1179, 'tree6': 1090, 'tree7': 1214, 'tree8': 341}\n",
      "--- STEP 9 begin ---\n",
      "75\n",
      "New state: {'fire': 77, 'ash': 1687, 'tree1': 1117, 'tree2': 989, 'tree3': 921, 'tree4': 797, 'tree5': 1179, 'tree6': 1090, 'tree7': 1214, 'tree8': 311}\n",
      "--- STEP 10 begin ---\n",
      "67\n",
      "New state: {'fire': 69, 'ash': 1762, 'tree1': 1113, 'tree2': 984, 'tree3': 905, 'tree4': 786, 'tree5': 1179, 'tree6': 1090, 'tree7': 1214, 'tree8': 280}\n",
      "--- STEP 11 begin ---\n",
      "66\n",
      "New state: {'fire': 68, 'ash': 1829, 'tree1': 1108, 'tree2': 981, 'tree3': 895, 'tree4': 768, 'tree5': 1179, 'tree6': 1090, 'tree7': 1214, 'tree8': 250}\n",
      "--- STEP 12 begin ---\n",
      "55\n",
      "New state: {'fire': 57, 'ash': 1895, 'tree1': 1104, 'tree2': 976, 'tree3': 891, 'tree4': 758, 'tree5': 1179, 'tree6': 1090, 'tree7': 1214, 'tree8': 218}\n",
      "--- STEP 13 begin ---\n",
      "57\n",
      "New state: {'fire': 59, 'ash': 1950, 'tree1': 1096, 'tree2': 964, 'tree3': 886, 'tree4': 746, 'tree5': 1179, 'tree6': 1090, 'tree7': 1214, 'tree8': 198}\n",
      "--- STEP 14 begin ---\n",
      "61\n",
      "New state: {'fire': 63, 'ash': 2007, 'tree1': 1089, 'tree2': 959, 'tree3': 881, 'tree4': 730, 'tree5': 1179, 'tree6': 1090, 'tree7': 1214, 'tree8': 170}\n",
      "--- STEP 15 begin ---\n",
      "59\n",
      "New state: {'fire': 61, 'ash': 2068, 'tree1': 1086, 'tree2': 950, 'tree3': 873, 'tree4': 721, 'tree5': 1179, 'tree6': 1090, 'tree7': 1214, 'tree8': 140}\n",
      "--- STEP 16 begin ---\n",
      "70\n",
      "New state: {'fire': 72, 'ash': 2127, 'tree1': 1085, 'tree2': 942, 'tree3': 865, 'tree4': 707, 'tree5': 1179, 'tree6': 1090, 'tree7': 1214, 'tree8': 101}\n",
      "--- STEP 17 begin ---\n",
      "63\n",
      "New state: {'fire': 65, 'ash': 2197, 'tree1': 1082, 'tree2': 931, 'tree3': 856, 'tree4': 697, 'tree5': 1179, 'tree6': 1090, 'tree7': 1214, 'tree8': 71}\n",
      "--- STEP 18 begin ---\n",
      "73\n",
      "New state: {'fire': 75, 'ash': 2260, 'tree1': 1076, 'tree2': 924, 'tree3': 847, 'tree4': 681, 'tree5': 1179, 'tree6': 1090, 'tree7': 1214, 'tree8': 36}\n",
      "--- STEP 19 begin ---\n",
      "63\n",
      "New state: {'fire': 65, 'ash': 2333, 'tree1': 1067, 'tree2': 917, 'tree3': 840, 'tree4': 666, 'tree5': 1179, 'tree6': 1090, 'tree7': 1214, 'tree8': 11}\n",
      "--- STEP 20 begin ---\n",
      "55\n",
      "New state: {'fire': 57, 'ash': 2396, 'tree1': 1062, 'tree2': 911, 'tree3': 835, 'tree4': 656, 'tree5': 1179, 'tree6': 1090, 'tree7': 1214, 'tree8': -18}\n",
      "--- STEP 21 begin ---\n",
      "63\n",
      "New state: {'fire': 65, 'ash': 2451, 'tree1': 1057, 'tree2': 901, 'tree3': 822, 'tree4': 649, 'tree5': 1179, 'tree6': 1090, 'tree7': 1214, 'tree8': -46}\n",
      "--- STEP 22 begin ---\n",
      "64\n",
      "New state: {'fire': 66, 'ash': 2514, 'tree1': 1055, 'tree2': 890, 'tree3': 816, 'tree4': 636, 'tree5': 1179, 'tree6': 1090, 'tree7': 1214, 'tree8': -78}\n",
      "--- STEP 23 begin ---\n",
      "64\n",
      "New state: {'fire': 66, 'ash': 2578, 'tree1': 1053, 'tree2': 883, 'tree3': 809, 'tree4': 622, 'tree5': 1179, 'tree6': 1090, 'tree7': 1214, 'tree8': -112}\n",
      "--- STEP 24 begin ---\n",
      "60\n",
      "New state: {'fire': 62, 'ash': 2642, 'tree1': 1051, 'tree2': 877, 'tree3': 798, 'tree4': 609, 'tree5': 1179, 'tree6': 1090, 'tree7': 1214, 'tree8': -140}\n",
      "--- STEP 25 begin ---\n",
      "72\n",
      "New state: {'fire': 74, 'ash': 2702, 'tree1': 1048, 'tree2': 869, 'tree3': 791, 'tree4': 585, 'tree5': 1179, 'tree6': 1090, 'tree7': 1214, 'tree8': -170}\n",
      "--- STEP 26 begin ---\n",
      "67\n",
      "New state: {'fire': 69, 'ash': 2774, 'tree1': 1046, 'tree2': 852, 'tree3': 785, 'tree4': 570, 'tree5': 1179, 'tree6': 1090, 'tree7': 1214, 'tree8': -197}\n",
      "--- STEP 27 begin ---\n",
      "55\n",
      "New state: {'fire': 57, 'ash': 2841, 'tree1': 1040, 'tree2': 841, 'tree3': 776, 'tree4': 561, 'tree5': 1179, 'tree6': 1090, 'tree7': 1214, 'tree8': -217}\n",
      "--- STEP 28 begin ---\n",
      "59\n",
      "New state: {'fire': 61, 'ash': 2896, 'tree1': 1037, 'tree2': 835, 'tree3': 770, 'tree4': 547, 'tree5': 1179, 'tree6': 1090, 'tree7': 1214, 'tree8': -247}\n",
      "--- STEP 29 begin ---\n",
      "73\n",
      "New state: {'fire': 75, 'ash': 2955, 'tree1': 1034, 'tree2': 826, 'tree3': 764, 'tree4': 530, 'tree5': 1179, 'tree6': 1090, 'tree7': 1214, 'tree8': -285}\n",
      "--- STEP 30 begin ---\n",
      "84\n",
      "New state: {'fire': 86, 'ash': 3028, 'tree1': 1033, 'tree2': 817, 'tree3': 748, 'tree4': 515, 'tree5': 1179, 'tree6': 1090, 'tree7': 1214, 'tree8': -328}\n",
      "--- STEP 31 begin ---\n",
      "75\n",
      "New state: {'fire': 77, 'ash': 3112, 'tree1': 1027, 'tree2': 804, 'tree3': 741, 'tree4': 502, 'tree5': 1179, 'tree6': 1090, 'tree7': 1214, 'tree8': -364}\n",
      "--- STEP 32 begin ---\n",
      "96\n",
      "New state: {'fire': 98, 'ash': 3187, 'tree1': 1019, 'tree2': 794, 'tree3': 734, 'tree4': 480, 'tree5': 1179, 'tree6': 1090, 'tree7': 1214, 'tree8': -413}\n",
      "--- STEP 33 begin ---\n",
      "82\n",
      "New state: {'fire': 84, 'ash': 3283, 'tree1': 1012, 'tree2': 792, 'tree3': 725, 'tree4': 466, 'tree5': 1179, 'tree6': 1090, 'tree7': 1214, 'tree8': -463}\n",
      "--- STEP 34 begin ---\n",
      "88\n",
      "New state: {'fire': 90, 'ash': 3365, 'tree1': 1004, 'tree2': 784, 'tree3': 715, 'tree4': 448, 'tree5': 1179, 'tree6': 1090, 'tree7': 1214, 'tree8': -507}\n",
      "--- STEP 35 begin ---\n",
      "78\n",
      "New state: {'fire': 80, 'ash': 3453, 'tree1': 995, 'tree2': 778, 'tree3': 708, 'tree4': 433, 'tree5': 1179, 'tree6': 1090, 'tree7': 1214, 'tree8': -548}\n",
      "--- STEP 36 begin ---\n",
      "75\n",
      "New state: {'fire': 77, 'ash': 3531, 'tree1': 990, 'tree2': 765, 'tree3': 696, 'tree4': 423, 'tree5': 1179, 'tree6': 1090, 'tree7': 1214, 'tree8': -583}\n",
      "--- STEP 37 begin ---\n",
      "72\n",
      "New state: {'fire': 74, 'ash': 3606, 'tree1': 984, 'tree2': 754, 'tree3': 686, 'tree4': 409, 'tree5': 1179, 'tree6': 1090, 'tree7': 1214, 'tree8': -614}\n",
      "--- STEP 38 begin ---\n",
      "69\n",
      "New state: {'fire': 71, 'ash': 3678, 'tree1': 975, 'tree2': 746, 'tree3': 679, 'tree4': 393, 'tree5': 1179, 'tree6': 1090, 'tree7': 1214, 'tree8': -643}\n",
      "--- STEP 39 begin ---\n",
      "70\n",
      "New state: {'fire': 72, 'ash': 3747, 'tree1': 973, 'tree2': 739, 'tree3': 669, 'tree4': 382, 'tree5': 1179, 'tree6': 1090, 'tree7': 1214, 'tree8': -683}\n",
      "--- STEP 40 begin ---\n"
     ]
    },
    {
     "name": "stdout",
     "output_type": "stream",
     "text": [
      "71\n",
      "New state: {'fire': 73, 'ash': 3817, 'tree1': 967, 'tree2': 736, 'tree3': 666, 'tree4': 369, 'tree5': 1179, 'tree6': 1090, 'tree7': 1214, 'tree8': -729}\n",
      "--- STEP 41 begin ---\n",
      "81\n",
      "New state: {'fire': 83, 'ash': 3888, 'tree1': 960, 'tree2': 732, 'tree3': 657, 'tree4': 351, 'tree5': 1179, 'tree6': 1090, 'tree7': 1214, 'tree8': -772}\n",
      "--- STEP 42 begin ---\n",
      "81\n",
      "New state: {'fire': 83, 'ash': 3969, 'tree1': 953, 'tree2': 721, 'tree3': 650, 'tree4': 331, 'tree5': 1179, 'tree6': 1090, 'tree7': 1214, 'tree8': -808}\n",
      "--- STEP 43 begin ---\n",
      "70\n",
      "New state: {'fire': 72, 'ash': 4050, 'tree1': 947, 'tree2': 714, 'tree3': 643, 'tree4': 310, 'tree5': 1179, 'tree6': 1090, 'tree7': 1214, 'tree8': -837}\n",
      "--- STEP 44 begin ---\n",
      "67\n",
      "New state: {'fire': 69, 'ash': 4120, 'tree1': 940, 'tree2': 711, 'tree3': 631, 'tree4': 292, 'tree5': 1179, 'tree6': 1090, 'tree7': 1214, 'tree8': -864}\n",
      "--- STEP 45 begin ---\n",
      "63\n",
      "New state: {'fire': 65, 'ash': 4187, 'tree1': 936, 'tree2': 703, 'tree3': 624, 'tree4': 281, 'tree5': 1179, 'tree6': 1090, 'tree7': 1214, 'tree8': -897}\n",
      "--- STEP 46 begin ---\n",
      "67\n",
      "New state: {'fire': 69, 'ash': 4250, 'tree1': 929, 'tree2': 699, 'tree3': 612, 'tree4': 272, 'tree5': 1179, 'tree6': 1090, 'tree7': 1214, 'tree8': -932}\n",
      "--- STEP 47 begin ---\n",
      "63\n",
      "New state: {'fire': 65, 'ash': 4317, 'tree1': 923, 'tree2': 692, 'tree3': 605, 'tree4': 258, 'tree5': 1179, 'tree6': 1090, 'tree7': 1214, 'tree8': -961}\n",
      "--- STEP 48 begin ---\n",
      "59\n",
      "New state: {'fire': 61, 'ash': 4380, 'tree1': 920, 'tree2': 684, 'tree3': 601, 'tree4': 244, 'tree5': 1179, 'tree6': 1090, 'tree7': 1214, 'tree8': -991}\n",
      "--- STEP 49 begin ---\n",
      "52\n",
      "New state: {'fire': 54, 'ash': 4439, 'tree1': 914, 'tree2': 677, 'tree3': 594, 'tree4': 231, 'tree5': 1179, 'tree6': 1090, 'tree7': 1214, 'tree8': -1010}\n",
      "--- STEP 50 begin ---\n",
      "53\n",
      "New state: {'fire': 55, 'ash': 4491, 'tree1': 911, 'tree2': 669, 'tree3': 589, 'tree4': 224, 'tree5': 1179, 'tree6': 1090, 'tree7': 1214, 'tree8': -1040}\n",
      "--- STEP 51 begin ---\n",
      "63\n",
      "New state: {'fire': 65, 'ash': 4544, 'tree1': 906, 'tree2': 663, 'tree3': 580, 'tree4': 207, 'tree5': 1179, 'tree6': 1090, 'tree7': 1214, 'tree8': -1066}\n",
      "--- STEP 52 begin ---\n",
      "50\n",
      "New state: {'fire': 52, 'ash': 4607, 'tree1': 902, 'tree2': 655, 'tree3': 577, 'tree4': 195, 'tree5': 1179, 'tree6': 1090, 'tree7': 1214, 'tree8': -1089}\n",
      "--- STEP 53 begin ---\n",
      "56\n",
      "New state: {'fire': 58, 'ash': 4657, 'tree1': 895, 'tree2': 649, 'tree3': 571, 'tree4': 186, 'tree5': 1179, 'tree6': 1090, 'tree7': 1214, 'tree8': -1117}\n",
      "--- STEP 54 begin ---\n",
      "77\n",
      "New state: {'fire': 79, 'ash': 4713, 'tree1': 890, 'tree2': 645, 'tree3': 561, 'tree4': 163, 'tree5': 1179, 'tree6': 1090, 'tree7': 1214, 'tree8': -1152}\n",
      "--- STEP 55 begin ---\n",
      "74\n",
      "New state: {'fire': 76, 'ash': 4790, 'tree1': 883, 'tree2': 638, 'tree3': 552, 'tree4': 147, 'tree5': 1179, 'tree6': 1090, 'tree7': 1214, 'tree8': -1187}\n",
      "--- STEP 56 begin ---\n",
      "68\n",
      "New state: {'fire': 70, 'ash': 4864, 'tree1': 874, 'tree2': 631, 'tree3': 541, 'tree4': 134, 'tree5': 1179, 'tree6': 1090, 'tree7': 1214, 'tree8': -1215}\n",
      "--- STEP 57 begin ---\n",
      "73\n",
      "New state: {'fire': 75, 'ash': 4932, 'tree1': 863, 'tree2': 624, 'tree3': 532, 'tree4': 114, 'tree5': 1179, 'tree6': 1090, 'tree7': 1214, 'tree8': -1241}\n",
      "--- STEP 58 begin ---\n",
      "77\n",
      "New state: {'fire': 79, 'ash': 5005, 'tree1': 856, 'tree2': 620, 'tree3': 516, 'tree4': 102, 'tree5': 1179, 'tree6': 1090, 'tree7': 1214, 'tree8': -1279}\n",
      "--- STEP 59 begin ---\n",
      "84\n",
      "New state: {'fire': 86, 'ash': 5082, 'tree1': 845, 'tree2': 608, 'tree3': 511, 'tree4': 83, 'tree5': 1179, 'tree6': 1090, 'tree7': 1214, 'tree8': -1316}\n",
      "--- STEP 60 begin ---\n",
      "71\n",
      "New state: {'fire': 73, 'ash': 5166, 'tree1': 841, 'tree2': 599, 'tree3': 504, 'tree4': 70, 'tree5': 1179, 'tree6': 1090, 'tree7': 1214, 'tree8': -1354}\n",
      "--- STEP 61 begin ---\n",
      "61\n",
      "New state: {'fire': 63, 'ash': 5237, 'tree1': 834, 'tree2': 592, 'tree3': 501, 'tree4': 56, 'tree5': 1179, 'tree6': 1090, 'tree7': 1214, 'tree8': -1384}\n",
      "--- STEP 62 begin ---\n",
      "56\n",
      "New state: {'fire': 58, 'ash': 5298, 'tree1': 831, 'tree2': 586, 'tree3': 494, 'tree4': 48, 'tree5': 1179, 'tree6': 1090, 'tree7': 1214, 'tree8': -1416}\n",
      "--- STEP 63 begin ---\n",
      "74\n",
      "New state: {'fire': 76, 'ash': 5354, 'tree1': 820, 'tree2': 583, 'tree3': 487, 'tree4': 31, 'tree5': 1179, 'tree6': 1090, 'tree7': 1214, 'tree8': -1452}\n",
      "--- STEP 64 begin ---\n",
      "74\n",
      "New state: {'fire': 76, 'ash': 5428, 'tree1': 814, 'tree2': 575, 'tree3': 476, 'tree4': 18, 'tree5': 1179, 'tree6': 1090, 'tree7': 1214, 'tree8': -1488}\n",
      "--- STEP 65 begin ---\n",
      "82\n",
      "New state: {'fire': 84, 'ash': 5502, 'tree1': 808, 'tree2': 563, 'tree3': 463, 'tree4': 0, 'tree5': 1179, 'tree6': 1090, 'tree7': 1214, 'tree8': -1521}\n",
      "--- STEP 66 begin ---\n",
      "81\n",
      "New state: {'fire': 83, 'ash': 5584, 'tree1': 805, 'tree2': 557, 'tree3': 450, 'tree4': -20, 'tree5': 1179, 'tree6': 1090, 'tree7': 1214, 'tree8': -1560}\n",
      "--- STEP 67 begin ---\n",
      "84\n",
      "New state: {'fire': 86, 'ash': 5665, 'tree1': 794, 'tree2': 548, 'tree3': 447, 'tree4': -41, 'tree5': 1179, 'tree6': 1090, 'tree7': 1214, 'tree8': -1600}\n",
      "--- STEP 68 begin ---\n",
      "71\n",
      "New state: {'fire': 73, 'ash': 5749, 'tree1': 791, 'tree2': 543, 'tree3': 436, 'tree4': -55, 'tree5': 1179, 'tree6': 1090, 'tree7': 1214, 'tree8': -1638}\n",
      "--- STEP 69 begin ---\n",
      "74\n",
      "New state: {'fire': 76, 'ash': 5820, 'tree1': 784, 'tree2': 531, 'tree3': 424, 'tree4': -72, 'tree5': 1179, 'tree6': 1090, 'tree7': 1214, 'tree8': -1664}\n",
      "--- STEP 70 begin ---\n",
      "76\n",
      "New state: {'fire': 78, 'ash': 5894, 'tree1': 772, 'tree2': 521, 'tree3': 415, 'tree4': -86, 'tree5': 1179, 'tree6': 1090, 'tree7': 1214, 'tree8': -1695}\n",
      "--- STEP 71 begin ---\n",
      "78\n",
      "New state: {'fire': 80, 'ash': 5970, 'tree1': 767, 'tree2': 513, 'tree3': 410, 'tree4': -103, 'tree5': 1179, 'tree6': 1090, 'tree7': 1214, 'tree8': -1738}\n",
      "--- STEP 72 begin ---\n",
      "85\n",
      "New state: {'fire': 87, 'ash': 6048, 'tree1': 759, 'tree2': 502, 'tree3': 401, 'tree4': -119, 'tree5': 1179, 'tree6': 1090, 'tree7': 1214, 'tree8': -1779}\n",
      "--- STEP 73 begin ---\n",
      "78\n",
      "New state: {'fire': 80, 'ash': 6133, 'tree1': 746, 'tree2': 497, 'tree3': 394, 'tree4': -135, 'tree5': 1179, 'tree6': 1090, 'tree7': 1214, 'tree8': -1816}\n",
      "--- STEP 74 begin ---\n",
      "81\n",
      "New state: {'fire': 83, 'ash': 6211, 'tree1': 742, 'tree2': 490, 'tree3': 388, 'tree4': -154, 'tree5': 1179, 'tree6': 1090, 'tree7': 1214, 'tree8': -1861}\n",
      "--- STEP 75 begin ---\n",
      "70\n",
      "New state: {'fire': 72, 'ash': 6292, 'tree1': 736, 'tree2': 480, 'tree3': 385, 'tree4': -171, 'tree5': 1179, 'tree6': 1090, 'tree7': 1214, 'tree8': -1895}\n",
      "--- STEP 76 begin ---\n",
      "51\n",
      "New state: {'fire': 53, 'ash': 6362, 'tree1': 729, 'tree2': 476, 'tree3': 382, 'tree4': -183, 'tree5': 1179, 'tree6': 1090, 'tree7': 1214, 'tree8': -1920}\n",
      "--- STEP 77 begin ---\n",
      "57\n",
      "New state: {'fire': 59, 'ash': 6413, 'tree1': 728, 'tree2': 472, 'tree3': 374, 'tree4': -198, 'tree5': 1179, 'tree6': 1090, 'tree7': 1214, 'tree8': -1949}\n",
      "--- STEP 78 begin ---\n",
      "60\n",
      "New state: {'fire': 62, 'ash': 6470, 'tree1': 721, 'tree2': 465, 'tree3': 368, 'tree4': -206, 'tree5': 1179, 'tree6': 1090, 'tree7': 1214, 'tree8': -1981}\n",
      "--- STEP 79 begin ---\n",
      "52\n",
      "New state: {'fire': 54, 'ash': 6530, 'tree1': 715, 'tree2': 459, 'tree3': 362, 'tree4': -214, 'tree5': 1179, 'tree6': 1090, 'tree7': 1214, 'tree8': -2007}\n",
      "--- STEP 80 begin ---\n",
      "60\n",
      "New state: {'fire': 62, 'ash': 6582, 'tree1': 711, 'tree2': 457, 'tree3': 353, 'tree4': -230, 'tree5': 1179, 'tree6': 1090, 'tree7': 1214, 'tree8': -2036}\n",
      "--- STEP 81 begin ---\n",
      "75\n",
      "New state: {'fire': 77, 'ash': 6642, 'tree1': 704, 'tree2': 450, 'tree3': 337, 'tree4': -242, 'tree5': 1179, 'tree6': 1090, 'tree7': 1214, 'tree8': -2069}\n",
      "--- STEP 82 begin ---\n",
      "69\n",
      "New state: {'fire': 71, 'ash': 6717, 'tree1': 697, 'tree2': 445, 'tree3': 331, 'tree4': -254, 'tree5': 1179, 'tree6': 1090, 'tree7': 1214, 'tree8': -2108}\n",
      "--- STEP 83 begin ---\n",
      "74\n",
      "New state: {'fire': 76, 'ash': 6786, 'tree1': 688, 'tree2': 437, 'tree3': 317, 'tree4': -265, 'tree5': 1179, 'tree6': 1090, 'tree7': 1214, 'tree8': -2140}\n",
      "--- STEP 84 begin ---\n",
      "60\n",
      "New state: {'fire': 62, 'ash': 6860, 'tree1': 684, 'tree2': 433, 'tree3': 311, 'tree4': -280, 'tree5': 1179, 'tree6': 1090, 'tree7': 1214, 'tree8': -2171}\n",
      "--- STEP 85 begin ---\n",
      "49\n",
      "New state: {'fire': 51, 'ash': 6920, 'tree1': 683, 'tree2': 426, 'tree3': 302, 'tree4': -290, 'tree5': 1179, 'tree6': 1090, 'tree7': 1214, 'tree8': -2193}\n",
      "--- STEP 86 begin ---\n"
     ]
    },
    {
     "name": "stdout",
     "output_type": "stream",
     "text": [
      "50\n",
      "New state: {'fire': 52, 'ash': 6969, 'tree1': 680, 'tree2': 419, 'tree3': 296, 'tree4': -302, 'tree5': 1179, 'tree6': 1090, 'tree7': 1214, 'tree8': -2215}\n",
      "--- STEP 87 begin ---\n",
      "31\n",
      "New state: {'fire': 33, 'ash': 7019, 'tree1': 679, 'tree2': 413, 'tree3': 293, 'tree4': -307, 'tree5': 1179, 'tree6': 1090, 'tree7': 1214, 'tree8': -2231}\n",
      "--- STEP 88 begin ---\n",
      "19\n",
      "New state: {'fire': 21, 'ash': 7050, 'tree1': 676, 'tree2': 413, 'tree3': 291, 'tree4': -311, 'tree5': 1179, 'tree6': 1090, 'tree7': 1214, 'tree8': -2241}\n",
      "--- STEP 89 begin ---\n",
      "12\n",
      "New state: {'fire': 14, 'ash': 7069, 'tree1': 675, 'tree2': 412, 'tree3': 288, 'tree4': -314, 'tree5': 1179, 'tree6': 1090, 'tree7': 1214, 'tree8': -2245}\n",
      "--- STEP 90 begin ---\n",
      "9\n",
      "New state: {'fire': 11, 'ash': 7081, 'tree1': 674, 'tree2': 411, 'tree3': 287, 'tree4': -317, 'tree5': 1179, 'tree6': 1090, 'tree7': 1214, 'tree8': -2248}\n",
      "--- STEP 91 begin ---\n",
      "5\n",
      "New state: {'fire': 7, 'ash': 7090, 'tree1': 674, 'tree2': 411, 'tree3': 287, 'tree4': -320, 'tree5': 1179, 'tree6': 1090, 'tree7': 1214, 'tree8': -2250}\n",
      "--- STEP 92 begin ---\n",
      "5\n",
      "New state: {'fire': 7, 'ash': 7095, 'tree1': 672, 'tree2': 411, 'tree3': 287, 'tree4': -320, 'tree5': 1179, 'tree6': 1090, 'tree7': 1214, 'tree8': -2253}\n",
      "--- STEP 93 begin ---\n",
      "2\n",
      "New state: {'fire': 4, 'ash': 7100, 'tree1': 672, 'tree2': 411, 'tree3': 287, 'tree4': -321, 'tree5': 1179, 'tree6': 1090, 'tree7': 1214, 'tree8': -2254}\n",
      "--- STEP 94 begin ---\n",
      "1\n",
      "New state: {'fire': 3, 'ash': 7102, 'tree1': 672, 'tree2': 411, 'tree3': 287, 'tree4': -321, 'tree5': 1179, 'tree6': 1090, 'tree7': 1214, 'tree8': -2255}\n",
      "--- STEP 95 begin ---\n",
      "2\n",
      "New state: {'fire': 4, 'ash': 7103, 'tree1': 671, 'tree2': 411, 'tree3': 287, 'tree4': -322, 'tree5': 1179, 'tree6': 1090, 'tree7': 1214, 'tree8': -2255}\n",
      "--- STEP 96 begin ---\n",
      "2\n",
      "New state: {'fire': 4, 'ash': 7105, 'tree1': 671, 'tree2': 411, 'tree3': 286, 'tree4': -323, 'tree5': 1179, 'tree6': 1090, 'tree7': 1214, 'tree8': -2255}\n",
      "--- STEP 97 begin ---\n",
      "1\n",
      "New state: {'fire': 3, 'ash': 7107, 'tree1': 671, 'tree2': 410, 'tree3': 286, 'tree4': -323, 'tree5': 1179, 'tree6': 1090, 'tree7': 1214, 'tree8': -2255}\n",
      "--- STEP 98 begin ---\n",
      "0\n",
      "New state: {'fire': 2, 'ash': 7108, 'tree1': 671, 'tree2': 410, 'tree3': 286, 'tree4': -323, 'tree5': 1179, 'tree6': 1090, 'tree7': 1214, 'tree8': -2255}\n",
      "Fire is dead...\n"
     ]
    },
    {
     "data": {
      "text/plain": [
       "<Figure size 720x720 with 0 Axes>"
      ]
     },
     "metadata": {},
     "output_type": "display_data"
    },
    {
     "data": {
      "text/plain": [
       "<Figure size 720x720 with 0 Axes>"
      ]
     },
     "metadata": {},
     "output_type": "display_data"
    },
    {
     "data": {
      "text/plain": [
       "<Figure size 720x720 with 0 Axes>"
      ]
     },
     "metadata": {},
     "output_type": "display_data"
    },
    {
     "data": {
      "text/plain": [
       "<Figure size 720x720 with 0 Axes>"
      ]
     },
     "metadata": {},
     "output_type": "display_data"
    },
    {
     "data": {
      "text/plain": [
       "<Figure size 720x720 with 0 Axes>"
      ]
     },
     "metadata": {},
     "output_type": "display_data"
    },
    {
     "data": {
      "text/plain": [
       "<Figure size 720x720 with 0 Axes>"
      ]
     },
     "metadata": {},
     "output_type": "display_data"
    },
    {
     "data": {
      "text/plain": [
       "<Figure size 720x720 with 0 Axes>"
      ]
     },
     "metadata": {},
     "output_type": "display_data"
    },
    {
     "data": {
      "text/plain": [
       "<Figure size 720x720 with 0 Axes>"
      ]
     },
     "metadata": {},
     "output_type": "display_data"
    },
    {
     "data": {
      "text/plain": [
       "<Figure size 720x720 with 0 Axes>"
      ]
     },
     "metadata": {},
     "output_type": "display_data"
    },
    {
     "data": {
      "text/plain": [
       "<Figure size 720x720 with 0 Axes>"
      ]
     },
     "metadata": {},
     "output_type": "display_data"
    },
    {
     "data": {
      "text/plain": [
       "<Figure size 720x720 with 0 Axes>"
      ]
     },
     "metadata": {},
     "output_type": "display_data"
    },
    {
     "data": {
      "text/plain": [
       "<Figure size 720x720 with 0 Axes>"
      ]
     },
     "metadata": {},
     "output_type": "display_data"
    },
    {
     "data": {
      "text/plain": [
       "<Figure size 720x720 with 0 Axes>"
      ]
     },
     "metadata": {},
     "output_type": "display_data"
    },
    {
     "data": {
      "text/plain": [
       "<Figure size 720x720 with 0 Axes>"
      ]
     },
     "metadata": {},
     "output_type": "display_data"
    },
    {
     "data": {
      "text/plain": [
       "<Figure size 720x720 with 0 Axes>"
      ]
     },
     "metadata": {},
     "output_type": "display_data"
    },
    {
     "data": {
      "text/plain": [
       "<Figure size 720x720 with 0 Axes>"
      ]
     },
     "metadata": {},
     "output_type": "display_data"
    },
    {
     "data": {
      "text/plain": [
       "<Figure size 720x720 with 0 Axes>"
      ]
     },
     "metadata": {},
     "output_type": "display_data"
    },
    {
     "data": {
      "text/plain": [
       "<Figure size 720x720 with 0 Axes>"
      ]
     },
     "metadata": {},
     "output_type": "display_data"
    },
    {
     "data": {
      "text/plain": [
       "<Figure size 720x720 with 0 Axes>"
      ]
     },
     "metadata": {},
     "output_type": "display_data"
    },
    {
     "data": {
      "text/plain": [
       "<Figure size 720x720 with 0 Axes>"
      ]
     },
     "metadata": {},
     "output_type": "display_data"
    },
    {
     "data": {
      "text/plain": [
       "<Figure size 720x720 with 0 Axes>"
      ]
     },
     "metadata": {},
     "output_type": "display_data"
    },
    {
     "data": {
      "text/plain": [
       "<Figure size 720x720 with 0 Axes>"
      ]
     },
     "metadata": {},
     "output_type": "display_data"
    },
    {
     "data": {
      "text/plain": [
       "<Figure size 720x720 with 0 Axes>"
      ]
     },
     "metadata": {},
     "output_type": "display_data"
    },
    {
     "data": {
      "text/plain": [
       "<Figure size 720x720 with 0 Axes>"
      ]
     },
     "metadata": {},
     "output_type": "display_data"
    },
    {
     "data": {
      "text/plain": [
       "<Figure size 720x720 with 0 Axes>"
      ]
     },
     "metadata": {},
     "output_type": "display_data"
    },
    {
     "data": {
      "text/plain": [
       "<Figure size 720x720 with 0 Axes>"
      ]
     },
     "metadata": {},
     "output_type": "display_data"
    },
    {
     "data": {
      "text/plain": [
       "<Figure size 720x720 with 0 Axes>"
      ]
     },
     "metadata": {},
     "output_type": "display_data"
    },
    {
     "data": {
      "text/plain": [
       "<Figure size 720x720 with 0 Axes>"
      ]
     },
     "metadata": {},
     "output_type": "display_data"
    },
    {
     "data": {
      "text/plain": [
       "<Figure size 720x720 with 0 Axes>"
      ]
     },
     "metadata": {},
     "output_type": "display_data"
    },
    {
     "data": {
      "text/plain": [
       "<Figure size 720x720 with 0 Axes>"
      ]
     },
     "metadata": {},
     "output_type": "display_data"
    },
    {
     "data": {
      "text/plain": [
       "<Figure size 720x720 with 0 Axes>"
      ]
     },
     "metadata": {},
     "output_type": "display_data"
    },
    {
     "data": {
      "text/plain": [
       "<Figure size 720x720 with 0 Axes>"
      ]
     },
     "metadata": {},
     "output_type": "display_data"
    },
    {
     "data": {
      "text/plain": [
       "<Figure size 720x720 with 0 Axes>"
      ]
     },
     "metadata": {},
     "output_type": "display_data"
    },
    {
     "data": {
      "text/plain": [
       "<Figure size 720x720 with 0 Axes>"
      ]
     },
     "metadata": {},
     "output_type": "display_data"
    },
    {
     "data": {
      "text/plain": [
       "<Figure size 720x720 with 0 Axes>"
      ]
     },
     "metadata": {},
     "output_type": "display_data"
    },
    {
     "data": {
      "text/plain": [
       "<Figure size 720x720 with 0 Axes>"
      ]
     },
     "metadata": {},
     "output_type": "display_data"
    },
    {
     "data": {
      "text/plain": [
       "<Figure size 720x720 with 0 Axes>"
      ]
     },
     "metadata": {},
     "output_type": "display_data"
    },
    {
     "data": {
      "text/plain": [
       "<Figure size 720x720 with 0 Axes>"
      ]
     },
     "metadata": {},
     "output_type": "display_data"
    },
    {
     "data": {
      "text/plain": [
       "<Figure size 720x720 with 0 Axes>"
      ]
     },
     "metadata": {},
     "output_type": "display_data"
    },
    {
     "data": {
      "text/plain": [
       "<Figure size 720x720 with 0 Axes>"
      ]
     },
     "metadata": {},
     "output_type": "display_data"
    },
    {
     "data": {
      "text/plain": [
       "<Figure size 720x720 with 0 Axes>"
      ]
     },
     "metadata": {},
     "output_type": "display_data"
    },
    {
     "data": {
      "text/plain": [
       "<Figure size 720x720 with 0 Axes>"
      ]
     },
     "metadata": {},
     "output_type": "display_data"
    },
    {
     "data": {
      "text/plain": [
       "<Figure size 720x720 with 0 Axes>"
      ]
     },
     "metadata": {},
     "output_type": "display_data"
    },
    {
     "data": {
      "text/plain": [
       "<Figure size 720x720 with 0 Axes>"
      ]
     },
     "metadata": {},
     "output_type": "display_data"
    },
    {
     "data": {
      "text/plain": [
       "<Figure size 720x720 with 0 Axes>"
      ]
     },
     "metadata": {},
     "output_type": "display_data"
    },
    {
     "data": {
      "text/plain": [
       "<Figure size 720x720 with 0 Axes>"
      ]
     },
     "metadata": {},
     "output_type": "display_data"
    },
    {
     "data": {
      "text/plain": [
       "<Figure size 720x720 with 0 Axes>"
      ]
     },
     "metadata": {},
     "output_type": "display_data"
    },
    {
     "data": {
      "text/plain": [
       "<Figure size 720x720 with 0 Axes>"
      ]
     },
     "metadata": {},
     "output_type": "display_data"
    },
    {
     "data": {
      "text/plain": [
       "<Figure size 720x720 with 0 Axes>"
      ]
     },
     "metadata": {},
     "output_type": "display_data"
    },
    {
     "data": {
      "text/plain": [
       "<Figure size 720x720 with 0 Axes>"
      ]
     },
     "metadata": {},
     "output_type": "display_data"
    },
    {
     "data": {
      "text/plain": [
       "<Figure size 720x720 with 0 Axes>"
      ]
     },
     "metadata": {},
     "output_type": "display_data"
    },
    {
     "data": {
      "text/plain": [
       "<Figure size 720x720 with 0 Axes>"
      ]
     },
     "metadata": {},
     "output_type": "display_data"
    },
    {
     "data": {
      "text/plain": [
       "<Figure size 720x720 with 0 Axes>"
      ]
     },
     "metadata": {},
     "output_type": "display_data"
    },
    {
     "data": {
      "text/plain": [
       "<Figure size 720x720 with 0 Axes>"
      ]
     },
     "metadata": {},
     "output_type": "display_data"
    },
    {
     "data": {
      "text/plain": [
       "<Figure size 720x720 with 0 Axes>"
      ]
     },
     "metadata": {},
     "output_type": "display_data"
    },
    {
     "data": {
      "text/plain": [
       "<Figure size 720x720 with 0 Axes>"
      ]
     },
     "metadata": {},
     "output_type": "display_data"
    },
    {
     "data": {
      "text/plain": [
       "<Figure size 720x720 with 0 Axes>"
      ]
     },
     "metadata": {},
     "output_type": "display_data"
    },
    {
     "data": {
      "text/plain": [
       "<Figure size 720x720 with 0 Axes>"
      ]
     },
     "metadata": {},
     "output_type": "display_data"
    },
    {
     "data": {
      "text/plain": [
       "<Figure size 720x720 with 0 Axes>"
      ]
     },
     "metadata": {},
     "output_type": "display_data"
    },
    {
     "data": {
      "text/plain": [
       "<Figure size 720x720 with 0 Axes>"
      ]
     },
     "metadata": {},
     "output_type": "display_data"
    },
    {
     "data": {
      "text/plain": [
       "<Figure size 720x720 with 0 Axes>"
      ]
     },
     "metadata": {},
     "output_type": "display_data"
    },
    {
     "data": {
      "text/plain": [
       "<Figure size 720x720 with 0 Axes>"
      ]
     },
     "metadata": {},
     "output_type": "display_data"
    },
    {
     "data": {
      "text/plain": [
       "<Figure size 720x720 with 0 Axes>"
      ]
     },
     "metadata": {},
     "output_type": "display_data"
    },
    {
     "data": {
      "text/plain": [
       "<Figure size 720x720 with 0 Axes>"
      ]
     },
     "metadata": {},
     "output_type": "display_data"
    },
    {
     "data": {
      "text/plain": [
       "<Figure size 720x720 with 0 Axes>"
      ]
     },
     "metadata": {},
     "output_type": "display_data"
    },
    {
     "data": {
      "text/plain": [
       "<Figure size 720x720 with 0 Axes>"
      ]
     },
     "metadata": {},
     "output_type": "display_data"
    },
    {
     "data": {
      "text/plain": [
       "<Figure size 720x720 with 0 Axes>"
      ]
     },
     "metadata": {},
     "output_type": "display_data"
    },
    {
     "data": {
      "text/plain": [
       "<Figure size 720x720 with 0 Axes>"
      ]
     },
     "metadata": {},
     "output_type": "display_data"
    },
    {
     "data": {
      "text/plain": [
       "<Figure size 720x720 with 0 Axes>"
      ]
     },
     "metadata": {},
     "output_type": "display_data"
    },
    {
     "data": {
      "text/plain": [
       "<Figure size 720x720 with 0 Axes>"
      ]
     },
     "metadata": {},
     "output_type": "display_data"
    },
    {
     "data": {
      "text/plain": [
       "<Figure size 720x720 with 0 Axes>"
      ]
     },
     "metadata": {},
     "output_type": "display_data"
    },
    {
     "data": {
      "text/plain": [
       "<Figure size 720x720 with 0 Axes>"
      ]
     },
     "metadata": {},
     "output_type": "display_data"
    },
    {
     "data": {
      "text/plain": [
       "<Figure size 720x720 with 0 Axes>"
      ]
     },
     "metadata": {},
     "output_type": "display_data"
    },
    {
     "data": {
      "text/plain": [
       "<Figure size 720x720 with 0 Axes>"
      ]
     },
     "metadata": {},
     "output_type": "display_data"
    },
    {
     "data": {
      "text/plain": [
       "<Figure size 720x720 with 0 Axes>"
      ]
     },
     "metadata": {},
     "output_type": "display_data"
    },
    {
     "data": {
      "text/plain": [
       "<Figure size 720x720 with 0 Axes>"
      ]
     },
     "metadata": {},
     "output_type": "display_data"
    },
    {
     "data": {
      "text/plain": [
       "<Figure size 720x720 with 0 Axes>"
      ]
     },
     "metadata": {},
     "output_type": "display_data"
    },
    {
     "data": {
      "text/plain": [
       "<Figure size 720x720 with 0 Axes>"
      ]
     },
     "metadata": {},
     "output_type": "display_data"
    },
    {
     "data": {
      "text/plain": [
       "<Figure size 720x720 with 0 Axes>"
      ]
     },
     "metadata": {},
     "output_type": "display_data"
    },
    {
     "data": {
      "text/plain": [
       "<Figure size 720x720 with 0 Axes>"
      ]
     },
     "metadata": {},
     "output_type": "display_data"
    },
    {
     "data": {
      "text/plain": [
       "<Figure size 720x720 with 0 Axes>"
      ]
     },
     "metadata": {},
     "output_type": "display_data"
    },
    {
     "data": {
      "text/plain": [
       "<Figure size 720x720 with 0 Axes>"
      ]
     },
     "metadata": {},
     "output_type": "display_data"
    },
    {
     "data": {
      "text/plain": [
       "<Figure size 720x720 with 0 Axes>"
      ]
     },
     "metadata": {},
     "output_type": "display_data"
    },
    {
     "data": {
      "text/plain": [
       "<Figure size 720x720 with 0 Axes>"
      ]
     },
     "metadata": {},
     "output_type": "display_data"
    },
    {
     "data": {
      "text/plain": [
       "<Figure size 720x720 with 0 Axes>"
      ]
     },
     "metadata": {},
     "output_type": "display_data"
    },
    {
     "data": {
      "text/plain": [
       "<Figure size 720x720 with 0 Axes>"
      ]
     },
     "metadata": {},
     "output_type": "display_data"
    },
    {
     "data": {
      "text/plain": [
       "<Figure size 720x720 with 0 Axes>"
      ]
     },
     "metadata": {},
     "output_type": "display_data"
    },
    {
     "data": {
      "text/plain": [
       "<Figure size 720x720 with 0 Axes>"
      ]
     },
     "metadata": {},
     "output_type": "display_data"
    },
    {
     "data": {
      "text/plain": [
       "<Figure size 720x720 with 0 Axes>"
      ]
     },
     "metadata": {},
     "output_type": "display_data"
    },
    {
     "data": {
      "text/plain": [
       "<Figure size 720x720 with 0 Axes>"
      ]
     },
     "metadata": {},
     "output_type": "display_data"
    },
    {
     "data": {
      "text/plain": [
       "<Figure size 720x720 with 0 Axes>"
      ]
     },
     "metadata": {},
     "output_type": "display_data"
    },
    {
     "data": {
      "text/plain": [
       "<Figure size 720x720 with 0 Axes>"
      ]
     },
     "metadata": {},
     "output_type": "display_data"
    },
    {
     "data": {
      "text/plain": [
       "<Figure size 720x720 with 0 Axes>"
      ]
     },
     "metadata": {},
     "output_type": "display_data"
    },
    {
     "data": {
      "text/plain": [
       "<Figure size 720x720 with 0 Axes>"
      ]
     },
     "metadata": {},
     "output_type": "display_data"
    },
    {
     "data": {
      "text/plain": [
       "<Figure size 720x720 with 0 Axes>"
      ]
     },
     "metadata": {},
     "output_type": "display_data"
    },
    {
     "data": {
      "text/plain": [
       "<Figure size 720x720 with 0 Axes>"
      ]
     },
     "metadata": {},
     "output_type": "display_data"
    },
    {
     "data": {
      "text/plain": [
       "<Figure size 720x720 with 0 Axes>"
      ]
     },
     "metadata": {},
     "output_type": "display_data"
    },
    {
     "data": {
      "text/plain": [
       "<Figure size 720x720 with 0 Axes>"
      ]
     },
     "metadata": {},
     "output_type": "display_data"
    },
    {
     "data": {
      "text/plain": [
       "<Figure size 720x720 with 0 Axes>"
      ]
     },
     "metadata": {},
     "output_type": "display_data"
    },
    {
     "data": {
      "text/plain": [
       "<Figure size 720x720 with 0 Axes>"
      ]
     },
     "metadata": {},
     "output_type": "display_data"
    },
    {
     "data": {
      "text/plain": [
       "<Figure size 720x720 with 0 Axes>"
      ]
     },
     "metadata": {},
     "output_type": "display_data"
    },
    {
     "data": {
      "text/plain": [
       "<Figure size 720x720 with 0 Axes>"
      ]
     },
     "metadata": {},
     "output_type": "display_data"
    },
    {
     "data": {
      "text/plain": [
       "<Figure size 720x720 with 0 Axes>"
      ]
     },
     "metadata": {},
     "output_type": "display_data"
    },
    {
     "data": {
      "text/plain": [
       "<Figure size 720x720 with 0 Axes>"
      ]
     },
     "metadata": {},
     "output_type": "display_data"
    },
    {
     "data": {
      "text/plain": [
       "<Figure size 720x720 with 0 Axes>"
      ]
     },
     "metadata": {},
     "output_type": "display_data"
    },
    {
     "data": {
      "text/plain": [
       "<Figure size 720x720 with 0 Axes>"
      ]
     },
     "metadata": {},
     "output_type": "display_data"
    },
    {
     "data": {
      "text/plain": [
       "<Figure size 720x720 with 0 Axes>"
      ]
     },
     "metadata": {},
     "output_type": "display_data"
    },
    {
     "data": {
      "text/plain": [
       "<Figure size 720x720 with 0 Axes>"
      ]
     },
     "metadata": {},
     "output_type": "display_data"
    },
    {
     "data": {
      "text/plain": [
       "<Figure size 720x720 with 0 Axes>"
      ]
     },
     "metadata": {},
     "output_type": "display_data"
    },
    {
     "data": {
      "text/plain": [
       "<Figure size 720x720 with 0 Axes>"
      ]
     },
     "metadata": {},
     "output_type": "display_data"
    },
    {
     "data": {
      "text/plain": [
       "<Figure size 720x720 with 0 Axes>"
      ]
     },
     "metadata": {},
     "output_type": "display_data"
    },
    {
     "data": {
      "text/plain": [
       "<Figure size 720x720 with 0 Axes>"
      ]
     },
     "metadata": {},
     "output_type": "display_data"
    },
    {
     "data": {
      "text/plain": [
       "<Figure size 720x720 with 0 Axes>"
      ]
     },
     "metadata": {},
     "output_type": "display_data"
    },
    {
     "data": {
      "text/plain": [
       "<Figure size 720x720 with 0 Axes>"
      ]
     },
     "metadata": {},
     "output_type": "display_data"
    },
    {
     "data": {
      "text/plain": [
       "<Figure size 720x720 with 0 Axes>"
      ]
     },
     "metadata": {},
     "output_type": "display_data"
    },
    {
     "data": {
      "text/plain": [
       "<Figure size 720x720 with 0 Axes>"
      ]
     },
     "metadata": {},
     "output_type": "display_data"
    },
    {
     "data": {
      "text/plain": [
       "<Figure size 720x720 with 0 Axes>"
      ]
     },
     "metadata": {},
     "output_type": "display_data"
    },
    {
     "data": {
      "text/plain": [
       "<Figure size 720x720 with 0 Axes>"
      ]
     },
     "metadata": {},
     "output_type": "display_data"
    },
    {
     "data": {
      "text/plain": [
       "<Figure size 720x720 with 0 Axes>"
      ]
     },
     "metadata": {},
     "output_type": "display_data"
    },
    {
     "data": {
      "text/plain": [
       "<Figure size 720x720 with 0 Axes>"
      ]
     },
     "metadata": {},
     "output_type": "display_data"
    },
    {
     "data": {
      "text/plain": [
       "<Figure size 720x720 with 0 Axes>"
      ]
     },
     "metadata": {},
     "output_type": "display_data"
    },
    {
     "data": {
      "text/plain": [
       "<Figure size 720x720 with 0 Axes>"
      ]
     },
     "metadata": {},
     "output_type": "display_data"
    },
    {
     "data": {
      "text/plain": [
       "<Figure size 720x720 with 0 Axes>"
      ]
     },
     "metadata": {},
     "output_type": "display_data"
    },
    {
     "data": {
      "text/plain": [
       "<Figure size 720x720 with 0 Axes>"
      ]
     },
     "metadata": {},
     "output_type": "display_data"
    },
    {
     "data": {
      "text/plain": [
       "<Figure size 720x720 with 0 Axes>"
      ]
     },
     "metadata": {},
     "output_type": "display_data"
    },
    {
     "data": {
      "text/plain": [
       "<Figure size 720x720 with 0 Axes>"
      ]
     },
     "metadata": {},
     "output_type": "display_data"
    },
    {
     "data": {
      "text/plain": [
       "<Figure size 720x720 with 0 Axes>"
      ]
     },
     "metadata": {},
     "output_type": "display_data"
    },
    {
     "data": {
      "text/plain": [
       "<Figure size 720x720 with 0 Axes>"
      ]
     },
     "metadata": {},
     "output_type": "display_data"
    },
    {
     "data": {
      "text/plain": [
       "<Figure size 720x720 with 0 Axes>"
      ]
     },
     "metadata": {},
     "output_type": "display_data"
    },
    {
     "data": {
      "text/plain": [
       "<Figure size 720x720 with 0 Axes>"
      ]
     },
     "metadata": {},
     "output_type": "display_data"
    },
    {
     "data": {
      "text/plain": [
       "<Figure size 720x720 with 0 Axes>"
      ]
     },
     "metadata": {},
     "output_type": "display_data"
    },
    {
     "data": {
      "text/plain": [
       "<Figure size 720x720 with 0 Axes>"
      ]
     },
     "metadata": {},
     "output_type": "display_data"
    },
    {
     "data": {
      "text/plain": [
       "<Figure size 720x720 with 0 Axes>"
      ]
     },
     "metadata": {},
     "output_type": "display_data"
    },
    {
     "data": {
      "text/plain": [
       "<Figure size 720x720 with 0 Axes>"
      ]
     },
     "metadata": {},
     "output_type": "display_data"
    },
    {
     "data": {
      "text/plain": [
       "<Figure size 720x720 with 0 Axes>"
      ]
     },
     "metadata": {},
     "output_type": "display_data"
    },
    {
     "data": {
      "text/plain": [
       "<Figure size 720x720 with 0 Axes>"
      ]
     },
     "metadata": {},
     "output_type": "display_data"
    },
    {
     "data": {
      "text/plain": [
       "<Figure size 720x720 with 0 Axes>"
      ]
     },
     "metadata": {},
     "output_type": "display_data"
    },
    {
     "data": {
      "text/plain": [
       "<Figure size 720x720 with 0 Axes>"
      ]
     },
     "metadata": {},
     "output_type": "display_data"
    },
    {
     "data": {
      "text/plain": [
       "<Figure size 720x720 with 0 Axes>"
      ]
     },
     "metadata": {},
     "output_type": "display_data"
    },
    {
     "data": {
      "text/plain": [
       "<Figure size 720x720 with 0 Axes>"
      ]
     },
     "metadata": {},
     "output_type": "display_data"
    },
    {
     "data": {
      "text/plain": [
       "<Figure size 720x720 with 0 Axes>"
      ]
     },
     "metadata": {},
     "output_type": "display_data"
    },
    {
     "data": {
      "text/plain": [
       "<Figure size 720x720 with 0 Axes>"
      ]
     },
     "metadata": {},
     "output_type": "display_data"
    },
    {
     "data": {
      "text/plain": [
       "<Figure size 720x720 with 0 Axes>"
      ]
     },
     "metadata": {},
     "output_type": "display_data"
    },
    {
     "data": {
      "text/plain": [
       "<Figure size 720x720 with 0 Axes>"
      ]
     },
     "metadata": {},
     "output_type": "display_data"
    },
    {
     "data": {
      "text/plain": [
       "<Figure size 720x720 with 0 Axes>"
      ]
     },
     "metadata": {},
     "output_type": "display_data"
    },
    {
     "data": {
      "text/plain": [
       "<Figure size 720x720 with 0 Axes>"
      ]
     },
     "metadata": {},
     "output_type": "display_data"
    },
    {
     "data": {
      "text/plain": [
       "<Figure size 720x720 with 0 Axes>"
      ]
     },
     "metadata": {},
     "output_type": "display_data"
    },
    {
     "data": {
      "text/plain": [
       "<Figure size 720x720 with 0 Axes>"
      ]
     },
     "metadata": {},
     "output_type": "display_data"
    },
    {
     "data": {
      "text/plain": [
       "<Figure size 720x720 with 0 Axes>"
      ]
     },
     "metadata": {},
     "output_type": "display_data"
    },
    {
     "data": {
      "text/plain": [
       "<Figure size 720x720 with 0 Axes>"
      ]
     },
     "metadata": {},
     "output_type": "display_data"
    },
    {
     "data": {
      "text/plain": [
       "<Figure size 720x720 with 0 Axes>"
      ]
     },
     "metadata": {},
     "output_type": "display_data"
    },
    {
     "data": {
      "text/plain": [
       "<Figure size 720x720 with 0 Axes>"
      ]
     },
     "metadata": {},
     "output_type": "display_data"
    },
    {
     "data": {
      "text/plain": [
       "<Figure size 720x720 with 0 Axes>"
      ]
     },
     "metadata": {},
     "output_type": "display_data"
    },
    {
     "data": {
      "text/plain": [
       "<Figure size 720x720 with 0 Axes>"
      ]
     },
     "metadata": {},
     "output_type": "display_data"
    },
    {
     "data": {
      "text/plain": [
       "<Figure size 720x720 with 0 Axes>"
      ]
     },
     "metadata": {},
     "output_type": "display_data"
    },
    {
     "data": {
      "text/plain": [
       "<Figure size 720x720 with 0 Axes>"
      ]
     },
     "metadata": {},
     "output_type": "display_data"
    },
    {
     "data": {
      "text/plain": [
       "<Figure size 720x720 with 0 Axes>"
      ]
     },
     "metadata": {},
     "output_type": "display_data"
    },
    {
     "data": {
      "text/plain": [
       "<Figure size 720x720 with 0 Axes>"
      ]
     },
     "metadata": {},
     "output_type": "display_data"
    },
    {
     "data": {
      "text/plain": [
       "<Figure size 720x720 with 0 Axes>"
      ]
     },
     "metadata": {},
     "output_type": "display_data"
    },
    {
     "data": {
      "text/plain": [
       "<Figure size 720x720 with 0 Axes>"
      ]
     },
     "metadata": {},
     "output_type": "display_data"
    },
    {
     "data": {
      "text/plain": [
       "<Figure size 720x720 with 0 Axes>"
      ]
     },
     "metadata": {},
     "output_type": "display_data"
    },
    {
     "data": {
      "text/plain": [
       "<Figure size 720x720 with 0 Axes>"
      ]
     },
     "metadata": {},
     "output_type": "display_data"
    },
    {
     "data": {
      "text/plain": [
       "<Figure size 720x720 with 0 Axes>"
      ]
     },
     "metadata": {},
     "output_type": "display_data"
    },
    {
     "data": {
      "text/plain": [
       "<Figure size 720x720 with 0 Axes>"
      ]
     },
     "metadata": {},
     "output_type": "display_data"
    },
    {
     "data": {
      "text/plain": [
       "<Figure size 720x720 with 0 Axes>"
      ]
     },
     "metadata": {},
     "output_type": "display_data"
    },
    {
     "data": {
      "text/plain": [
       "<Figure size 720x720 with 0 Axes>"
      ]
     },
     "metadata": {},
     "output_type": "display_data"
    },
    {
     "data": {
      "text/plain": [
       "<Figure size 720x720 with 0 Axes>"
      ]
     },
     "metadata": {},
     "output_type": "display_data"
    },
    {
     "data": {
      "text/plain": [
       "<Figure size 720x720 with 0 Axes>"
      ]
     },
     "metadata": {},
     "output_type": "display_data"
    },
    {
     "data": {
      "text/plain": [
       "<Figure size 720x720 with 0 Axes>"
      ]
     },
     "metadata": {},
     "output_type": "display_data"
    },
    {
     "data": {
      "text/plain": [
       "<Figure size 720x720 with 0 Axes>"
      ]
     },
     "metadata": {},
     "output_type": "display_data"
    },
    {
     "data": {
      "text/plain": [
       "<Figure size 720x720 with 0 Axes>"
      ]
     },
     "metadata": {},
     "output_type": "display_data"
    },
    {
     "data": {
      "text/plain": [
       "<Figure size 720x720 with 0 Axes>"
      ]
     },
     "metadata": {},
     "output_type": "display_data"
    },
    {
     "data": {
      "text/plain": [
       "<Figure size 720x720 with 0 Axes>"
      ]
     },
     "metadata": {},
     "output_type": "display_data"
    },
    {
     "data": {
      "text/plain": [
       "<Figure size 720x720 with 0 Axes>"
      ]
     },
     "metadata": {},
     "output_type": "display_data"
    },
    {
     "data": {
      "text/plain": [
       "<Figure size 720x720 with 0 Axes>"
      ]
     },
     "metadata": {},
     "output_type": "display_data"
    },
    {
     "data": {
      "text/plain": [
       "<Figure size 720x720 with 0 Axes>"
      ]
     },
     "metadata": {},
     "output_type": "display_data"
    },
    {
     "data": {
      "text/plain": [
       "<Figure size 720x720 with 0 Axes>"
      ]
     },
     "metadata": {},
     "output_type": "display_data"
    }
   ],
   "source": [
    "grid_list = [(10,10), (20, 20), (30, 30), (40, 40), (50, 50), (100, 100)]\n",
    "for grid_size in grid_list:\n",
    "    forest, initial_state = generate_forest(grid_size, 100)\n",
    "    EXIST_CELLS = valid_cells(forest)\n",
    "    is_fire = True\n",
    "    state_list =[]\n",
    "    state_list.append(initial_state)\n",
    "    num_step = 0\n",
    "    plt.figure(figsize=(10,10))\n",
    "    plt.imshow(forest)\n",
    "    plt.savefig(str(num_step)+'.png')\n",
    "    plt.clf()\n",
    "    while(1):\n",
    "        print('--- STEP',num_step,'begin ---')\n",
    "        forest, is_fire, state = step(forest, is_fire, state_list[num_step])\n",
    "        print('New state:',state)\n",
    "        state_list.append(state.copy())\n",
    "        num_step+=1\n",
    "        plt.figure(figsize=(10,10))\n",
    "        plt.imshow(forest)\n",
    "        plt.savefig(str(num_step)+'.png')\n",
    "        plt.clf()\n",
    "        if is_fire is False:\n",
    "            print('Fire is dead...')\n",
    "            break\n",
    "    np.save('./test_data/state_list_'+str(grid_size), state_list)\n",
    "    filenames = []\n",
    "    for name in os.listdir():\n",
    "        if name[-3:] == 'png':\n",
    "            if name != 'aust-veg-map.png':\n",
    "                filenames.append(name)\n",
    "    filenames.sort(key=lambda x: float(x[:-4]))\n",
    "\n",
    "    create_gif(filenames, duration=0.8, name=str(grid_size))\n",
    "    # Reset images\n",
    "    for name in os.listdir():\n",
    "        if name[-3:] == 'png':\n",
    "            if name != 'aust-veg-map.png':\n",
    "                os.remove(name)"
   ]
  },
  {
   "cell_type": "markdown",
   "metadata": {},
   "source": [
    "### Data analyse"
   ]
  },
  {
   "cell_type": "code",
   "execution_count": 17,
   "metadata": {},
   "outputs": [],
   "source": [
    "density_val = [0.15, 0.25, 0.35, 0.45, 0.55, 0.65, 0.75, 0.85]"
   ]
  },
  {
   "cell_type": "code",
   "execution_count": 21,
   "metadata": {},
   "outputs": [],
   "source": [
    "def get_data(data):\n",
    "    fire_list = []\n",
    "    tree1_list = []\n",
    "    ash_list = []\n",
    "    tree2_list = []\n",
    "    tree3_list = []\n",
    "    tree4_list = []\n",
    "    tree5_list = []\n",
    "    tree6_list = []\n",
    "    tree7_list = []\n",
    "    tree8_list = []\n",
    "    for i in range(len(data)):\n",
    "        fire_list.append(data[i]['fire'])\n",
    "        tree1_list.append(data[i]['tree1'])\n",
    "        ash_list.append(data[i]['ash'])\n",
    "        tree2_list.append(data[i]['tree2'])\n",
    "        tree3_list.append(data[i]['tree3'])\n",
    "        tree4_list.append(data[i]['tree4'])\n",
    "        tree5_list.append(data[i]['tree5'])\n",
    "        tree4_list.append(data[i]['tree6'])\n",
    "        tree4_list.append(data[i]['tree7'])\n",
    "        tree4_list.append(data[i]['tree8'])\n",
    "    return tree1_list, tree2_list, tree3_list, tree4_list, tree5_list, tree6_list, tree7_list, tree8_list, fire_list, ash_list"
   ]
  },
  {
   "cell_type": "code",
   "execution_count": 38,
   "metadata": {},
   "outputs": [],
   "source": [
    "def get_burned_trees(tree_list):\n",
    "    if tree_list == []:\n",
    "        return 0\n",
    "    else:\n",
    "        burn_list = (tree_list[0]-tree_list[-1])*100/tree_list[0]\n",
    "    return burn_list\n",
    "\n",
    "def get_remain_trees(tree_list):\n",
    "    if tree_list == []:\n",
    "        return 0\n",
    "    else:\n",
    "        remain_list = (tree_list[-1])*100/tree_list[0]\n",
    "    return remain_list"
   ]
  },
  {
   "cell_type": "code",
   "execution_count": 24,
   "metadata": {},
   "outputs": [],
   "source": [
    "grid10 = get_data(np.load('test_data/state_list_(10, 10).npy', allow_pickle=True))\n",
    "grid20 = get_data(np.load('test_data/state_list_(20, 20).npy', allow_pickle=True))\n",
    "grid30 = get_data(np.load('test_data/state_list_(30, 30).npy', allow_pickle=True))\n",
    "grid40 = get_data(np.load('test_data/state_list_(40, 40).npy', allow_pickle=True))\n",
    "grid50 = get_data(np.load('test_data/state_list_(50, 50).npy', allow_pickle=True))\n",
    "grid100 = get_data(np.load('test_data/state_list_(100, 100).npy', allow_pickle=True))\n"
   ]
  },
  {
   "cell_type": "code",
   "execution_count": 32,
   "metadata": {
    "scrolled": true
   },
   "outputs": [
    {
     "data": {
      "text/plain": [
       "[38.46153846153846, 66.66666666666667, 87.5, 340.0]"
      ]
     },
     "execution_count": 32,
     "metadata": {},
     "output_type": "execute_result"
    }
   ],
   "source": [
    "burn_trees10"
   ]
  },
  {
   "cell_type": "code",
   "execution_count": 36,
   "metadata": {},
   "outputs": [],
   "source": [
    "burn_trees10 = [get_burned_trees(grid10[i]) for i in range(8)]\n",
    "burn_trees20 = [get_burned_trees(grid20[i]) for i in range(8)]\n",
    "burn_trees30 = [get_burned_trees(grid30[i]) for i in range(8)]\n",
    "burn_trees40 = [get_burned_trees(grid40[i]) for i in range(8)]\n",
    "burn_trees50 = [get_burned_trees(grid50[i]) for i in range(8)]\n",
    "burn_trees100 = [get_burned_trees(grid100[i]) for i in range(8)]"
   ]
  },
  {
   "cell_type": "code",
   "execution_count": 39,
   "metadata": {},
   "outputs": [],
   "source": [
    "rem_trees10 = [get_remain_trees(grid10[i]) for i in range(8)]\n",
    "rem_trees20 = [get_remain_trees(grid20[i]) for i in range(8)]\n",
    "rem_trees30 = [get_remain_trees(grid30[i]) for i in range(8)]\n",
    "rem_trees40 = [get_remain_trees(grid40[i]) for i in range(8)]\n",
    "rem_trees50 = [get_remain_trees(grid50[i]) for i in range(8)]\n",
    "rem_trees100 = [get_remain_trees(grid100[i]) for i in range(8)]"
   ]
  },
  {
   "cell_type": "code",
   "execution_count": 40,
   "metadata": {},
   "outputs": [
    {
     "data": {
      "image/png": "[encoded data removed]",
      "text/plain": [
       "<Figure size 864x576 with 1 Axes>"
      ]
     },
     "metadata": {},
     "output_type": "display_data"
    }
   ],
   "source": [
    "plt.figure(figsize=(12,8))\n",
    "sb.set_style('darkgrid')\n",
    "plt.plot(density_val, rem_trees10, '-o')\n",
    "plt.plot(density_val, rem_trees20, '-o')\n",
    "plt.plot(density_val, rem_trees30, '-o')\n",
    "plt.plot(density_val, rem_trees40, '-o')\n",
    "plt.plot(density_val, rem_trees50, '-o')\n",
    "plt.plot(density_val, rem_trees100, '-o')\n",
    "plt.xlabel('Percolation')\n",
    "plt.ylabel('Percentage of burned trees')\n",
    "plt.title('Percentage of remain treee depending on density')\n",
    "plt.legend(('10x10 grid', '20x20 grid', '30x30 grid', '40x40 grid', '50x50 grid', '100x100 grid'))\n",
    "plt.savefig('./data/remain_tree_density.png')\n",
    "plt.show()"
   ]
  },
  {
   "cell_type": "code",
   "execution_count": 41,
   "metadata": {},
   "outputs": [
    {
     "data": {
      "image/png": "[encoded data removed]",
      "text/plain": [
       "<Figure size 864x576 with 1 Axes>"
      ]
     },
     "metadata": {},
     "output_type": "display_data"
    }
   ],
   "source": [
    "plt.figure(figsize=(12,8))\n",
    "sb.set_style('darkgrid')\n",
    "plt.plot(density_val, burn_trees10, '-o')\n",
    "plt.plot(density_val, burn_trees20, '-o')\n",
    "plt.plot(density_val, burn_trees30, '-o')\n",
    "plt.plot(density_val, burn_trees40, '-o')\n",
    "plt.plot(density_val, burn_trees50, '-o')\n",
    "plt.plot(density_val, burn_trees100, '-o')\n",
    "plt.xlabel('Percolation')\n",
    "plt.ylabel('Percentage of burned trees')\n",
    "plt.title('Percentage of burned treee depending on density')\n",
    "plt.legend(('10x10 grid', '20x20 grid', '30x30 grid', '40x40 grid', '50x50 grid', '100x100 grid'))\n",
    "plt.savefig('./data/burned_tree_density.png')\n",
    "plt.show()"
   ]
  },
  {
   "cell_type": "markdown",
   "metadata": {},
   "source": [
    " "
   ]
  }
 ],
 "metadata": {
  "kernelspec": {
   "display_name": "Python 3",
   "language": "python",
   "name": "python3"
  },
  "language_info": {
   "codemirror_mode": {
    "name": "ipython",
    "version": 3
   },
   "file_extension": ".py",
   "mimetype": "text/x-python",
   "name": "python",
   "nbconvert_exporter": "python",
   "pygments_lexer": "ipython3",
   "version": "3.7.5"
  }
 },
 "nbformat": 4,
 "nbformat_minor": 2
}
