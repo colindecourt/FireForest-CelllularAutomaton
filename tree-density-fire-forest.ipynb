{
 "cells": [
  {
   "cell_type": "markdown",
   "metadata": {},
   "source": [
    "# Cellular automaton - Rendu Intelligence Distribuée\n",
    "\n",
    "##### Colin Decourt - Bordeaux INP ENSEIRB-MATMECA\n",
    "Engineering student in artificial intelligence\n"
   ]
  },
  {
   "cell_type": "markdown",
   "metadata": {},
   "source": [
    "### Jupyter 1 - Fire propagation depending on trees type \n",
    "\n",
    "If one tree has a neighbour in fire, this tree burn with a probability d (the density). d = 0 no chance the tree will burn. d = 1 high chance the tree will burn.\n"
   ]
  },
  {
   "cell_type": "markdown",
   "metadata": {},
   "source": [
    "   "
   ]
  },
  {
   "cell_type": "markdown",
   "metadata": {},
   "source": [
    "###### Import"
   ]
  },
  {
   "cell_type": "code",
   "execution_count": 5,
   "metadata": {
    "scrolled": false
   },
   "outputs": [],
   "source": [
    "import numpy as np\n",
    "import matplotlib.pyplot as plt\n",
    "import os\n",
    "import imageio\n",
    "import datetime\n",
    "import cv2 as cv\n",
    "from tqdm import tqdm\n",
    "import seaborn as sb\n",
    "%matplotlib inline"
   ]
  },
  {
   "cell_type": "markdown",
   "metadata": {},
   "source": [
    "##### Utils functions"
   ]
  },
  {
   "cell_type": "code",
   "execution_count": 2,
   "metadata": {},
   "outputs": [],
   "source": [
    "def create_gif(filenames, duration, path):\n",
    "    images = []\n",
    "    for filename in filenames:\n",
    "        images.append(imageio.imread(filename))\n",
    "    output_file = 'Gif-%s.gif' % datetime.datetime.now().strftime('%Y-%M-%d-%H-%M-%S')\n",
    "    imageio.mimsave(path+output_file, images, duration=duration)"
   ]
  },
  {
   "cell_type": "code",
   "execution_count": 3,
   "metadata": {
    "scrolled": false
   },
   "outputs": [],
   "source": [
    "def get_neighbours_indices(forest, cell, valid_cells):\n",
    "    '''\n",
    "    Function which get all the valid neighbours of a given cell\n",
    "    :forest: the forest grid\n",
    "    :cell: cell's neighbours\n",
    "    :valid_cells: all the valid coordinates of the forest grid\n",
    "    '''\n",
    "    X = [-1, -1, 0, 1, 1, 1, 0, -1]\n",
    "    Y = [0, 1, 1, 1, 0, -1, -1, -1]\n",
    "    neighbours_list = []\n",
    "    \n",
    "    for k in range(len(X)):\n",
    "        temp_cell = (cell[0] + X[k], cell[1] + Y[k])\n",
    "        if temp_cell in valid_cells:\n",
    "            neighbours_list.append(temp_cell)\n",
    "    return neighbours_list\n",
    "            "
   ]
  },
  {
   "cell_type": "code",
   "execution_count": 4,
   "metadata": {},
   "outputs": [],
   "source": [
    "def valid_cells(forest):\n",
    "    '''\n",
    "    Function which get all the coordinates of the grid\n",
    "    :forest: the forest grid\n",
    "    '''\n",
    "    valid_cells = []\n",
    "    for i in range(forest.shape[0]):\n",
    "        for j in range(forest.shape[1]):\n",
    "            valid_cells.append((i,j))\n",
    "    return valid_cells"
   ]
  },
  {
   "cell_type": "markdown",
   "metadata": {},
   "source": [
    "##### Parameters"
   ]
  },
  {
   "cell_type": "code",
   "execution_count": 5,
   "metadata": {
    "scrolled": false
   },
   "outputs": [],
   "source": [
    "australia = False\n",
    "# Use for evaluate density impact\n",
    "test = True\n",
    "\n",
    "if australia:\n",
    "    # Australia forest parameters\n",
    "\n",
    "    cells = {'ocean':0, 'closed_forest':1, 'open_forest':2, 'woodland':3, 'herbland':4, 'desert': 5, 'fire': 6, 'ash': 7}\n",
    "    density = {'closed_forest': 0.35, 'open_forest': 0.55, 'woodland':0.75, 'herbland': 0.1}\n",
    "\n",
    "    # Display parameters\n",
    "    pallette = np.array( [[0, 170, 255],# ocean\n",
    "                          [0, 77, 13],  # closed forest\n",
    "                          [0, 230, 0],  # open forest\n",
    "                          [179, 89, 0], # woodland\n",
    "                          [204, 230, 255], # herbland\n",
    "                          [255, 179, 102], # desert\n",
    "                          [230, 115, 0],   # fire\n",
    "                          [158, 158, 158] # ash\n",
    "                          ])\n",
    "\n",
    "else:\n",
    "    if test: \n",
    "        cells = {'empty':0, 'tree1':1, 'tree2':2, 'tree3':3, 'tree4':4, 'tree6': 6, 'tree7': 7, 'tree7':8, 'tree8': 9, 'fire': 10, 'ash': 11}\n",
    "        density = {'tree1': 0.15, 'tree2': 0.25 , 'tree3':0.35, 'tree4': 0.45, 'tree5': 0.55, 'tree6': 0.65, 'tree7': 0.75, 'tree7':0.85, 'tree8': 0.85}\n",
    "    else:\n",
    "        cells = {'empty':0, 'tree1':1, 'tree2':2, 'tree3':3, 'tree4':4, 'fire': 5, 'ash': 6}\n",
    "        density = {'tree1': 0.35, 'tree2': 0.45 , 'tree3':0.55, 'tree4': 0.65}\n",
    "    grid_size = (50, 50)\n",
    "    \n",
    "    # Display parameters\n",
    "    pallette = np.array( [[153, 102, 0],# empty\n",
    "                          [0, 51, 8],  # tree1\n",
    "                          [0, 153, 25],  # tree2\n",
    "                          [0, 230, 0], # tree3\n",
    "                          [149, 255, 128], # tree4\n",
    "                          [230, 115, 0],   # fire\n",
    "                          [158, 158, 158] # ash\n",
    "                          ])\n"
   ]
  },
  {
   "cell_type": "code",
   "execution_count": 6,
   "metadata": {},
   "outputs": [],
   "source": [
    "def generate_forest(grid_size, max_start_fire):\n",
    "    forest = np.zeros(grid_size, dtype=int)\n",
    "    no_change = []\n",
    "    num_fire = 0\n",
    "    tree1 = 0\n",
    "    tree2 = 0\n",
    "    tree3 = 0\n",
    "    tree4 = 0\n",
    "    exist = valid_cells(forest)\n",
    "    for i in range(grid_size[0]):\n",
    "        for j in range(grid_size[1]):\n",
    "            if (i,j) not in no_change:\n",
    "                type_cell = np.random.randint(low=0, high=10)\n",
    "                if type_cell == 0:\n",
    "                    # Une chance sur 30 d'avoir une clairière\n",
    "                    clear = np.random.randint(low=0, high=30)\n",
    "                    forest[i,j] = cells['empty']\n",
    "                    if clear == 12:\n",
    "                        neigh_list = get_neighbours_indices(forest, (i,j), exist)\n",
    "                        for neigh in neigh_list:\n",
    "                            no_change.append(neigh)\n",
    "                            forest[neigh] = cells['empty']\n",
    "                if type_cell == 1 or type_cell ==2:\n",
    "                    forest[i,j] = cells['tree1']\n",
    "                    tree1 += 1\n",
    "                if type_cell == 3 or type_cell == 4:\n",
    "                    forest[i,j] = cells['tree2']\n",
    "                    tree2 += 1\n",
    "                if type_cell == 5 or type_cell == 6:\n",
    "                    forest[i,j] = cells['tree3']\n",
    "                    tree3 += 1\n",
    "                if type_cell == 7 or type_cell == 8:\n",
    "                    forest[i,j] = cells['tree4']\n",
    "                    tree4 += 1\n",
    "                if type_cell == 9 and num_fire < max_start_fire:\n",
    "                    forest[i,j] = cells['fire']\n",
    "                    num_fire += 1\n",
    "    print('Generate forest with', num_fire, 'start of fire')\n",
    "    initial_forest = {'fire': num_fire, 'ash': 0, 'tree1':tree1 , 'tree2': tree2, 'tree3': tree3, 'tree4': tree4}\n",
    "    return forest, initial_forest"
   ]
  },
  {
   "cell_type": "markdown",
   "metadata": {},
   "source": [
    "##### Transition functions"
   ]
  },
  {
   "cell_type": "markdown",
   "metadata": {},
   "source": [
    "Transition rules : \n",
    "\n",
    "- An empty cell stay empty\n",
    "- A ash cell stay ash\n",
    "- A fire cell become ash\n",
    "- A tree cell :\n",
    "    - Become fire if one of them neighbour is in fire\n",
    "    - Stay tree otherwise"
   ]
  },
  {
   "cell_type": "code",
   "execution_count": 8,
   "metadata": {},
   "outputs": [],
   "source": [
    "def may_burn_tree(forest, cell, cell_type, state):\n",
    "    to_burn = []\n",
    "    no_burn = []\n",
    "\n",
    "    neigh_list = get_neighbours_indices(forest, cell, EXIST_CELLS)\n",
    "    for neigh_cell in neigh_list:\n",
    "        if forest[neigh_cell] == cells['fire']:\n",
    "            to_burn.append(neigh_cell)       \n",
    "        else:\n",
    "            no_burn.append(neigh_cell)\n",
    "    seuil = np.random.random()\n",
    "    if to_burn == [] or seuil > density[cell_type]:\n",
    "        return cells[cell_type], state\n",
    "    else:\n",
    "        state[cell_type]-=1\n",
    "        state['fire'] += 1\n",
    "        return cells['fire'], state"
   ]
  },
  {
   "cell_type": "code",
   "execution_count": 9,
   "metadata": {
    "scrolled": false
   },
   "outputs": [],
   "source": [
    "def transition_australia(forest, cell, state):\n",
    "    '''\n",
    "    Function which return the future state of a given cell\n",
    "    :forest: the forest grid\n",
    "    :cell: cell's future state wanted\n",
    "    :state: state of the country at current step\n",
    "    '''\n",
    "    try:\n",
    "        if forest[cell] == cells['ocean']:\n",
    "            return cells['ocean'], state\n",
    "\n",
    "        if forest[cell] == cells['desert']:\n",
    "            return cells['desert'], state\n",
    "\n",
    "        if forest[cell] == cells['ash']:\n",
    "            return cells['ash'], state\n",
    "\n",
    "        if forest[cell] == cells['closed_forest']:\n",
    "            return may_burn(forest, cell, 'closed_forest', state)\n",
    "\n",
    "        if forest[cell] == cells['open_forest']:\n",
    "            return may_burn(forest, cell, 'open_forest', state)\n",
    "\n",
    "        if forest[cell] == cells['woodland']:\n",
    "            return may_burn(forest, cell, 'woodland', state)\n",
    "\n",
    "        if forest[cell] == cells['herbland']:\n",
    "            return may_burn(forest, cell, 'herbland', state)\n",
    "\n",
    "        if forest[cell] == cells['fire']:\n",
    "            state['fire']-=1\n",
    "            state['ash'] +=1\n",
    "            return cells['ash'], state\n",
    "        \n",
    "    except:\n",
    "        print('Unknown cell type. Abort.')\n",
    "    \n",
    "    "
   ]
  },
  {
   "cell_type": "code",
   "execution_count": 10,
   "metadata": {},
   "outputs": [],
   "source": [
    "def transition_general(forest, cell, state):\n",
    "    '''\n",
    "    Function which return the future state of a given cell\n",
    "    :forest: the forest grid\n",
    "    :cell: cell's future state wanted\n",
    "    :state: state of the country at current step\n",
    "    '''\n",
    "    try:\n",
    "        if forest[cell] == cells['empty']:\n",
    "            return cells['empty'], state\n",
    "\n",
    "        if forest[cell] == cells['ash']:\n",
    "            return cells['ash'], state\n",
    "\n",
    "        if forest[cell] == cells['tree1']:\n",
    "            return may_burn(forest, cell, 'tree1', state)\n",
    "\n",
    "        if forest[cell] == cells['tree2']:\n",
    "            return may_burn(forest, cell, 'tree2', state)\n",
    "\n",
    "        if forest[cell] == cells['tree3']:\n",
    "            return may_burn(forest, cell, 'tree3', state)\n",
    "\n",
    "        if forest[cell] == cells['tree4']:\n",
    "            return may_burn(forest, cell, 'tree4', state)\n",
    "\n",
    "        if forest[cell] == cells['fire']:\n",
    "            state['fire']-=1\n",
    "            state['ash'] +=1\n",
    "            return cells['ash'], state\n",
    "        \n",
    "    except:\n",
    "        print('Unknown cell type. Abort.')\n",
    "    \n",
    "    "
   ]
  },
  {
   "cell_type": "markdown",
   "metadata": {},
   "source": [
    "##### Fire propagation"
   ]
  },
  {
   "cell_type": "code",
   "execution_count": 11,
   "metadata": {
    "scrolled": false
   },
   "outputs": [],
   "source": [
    "def step(forest, is_fire, state):\n",
    "    '''\n",
    "    Function which perfom one propagation step\n",
    "    :forest: the forest grid\n",
    "    :is_fire: boolean informing the fire state - True : still cell in fire False otherwise\n",
    "    '''\n",
    "    nb_fire = 0\n",
    "    new_forest = forest.copy()\n",
    "    new_state = state.copy()\n",
    "    for i in range(forest.shape[0]):\n",
    "        for j in range(forest.shape[1]):\n",
    "            if australia:\n",
    "                cell_type, new_state = transition_australia(forest, (i,j), new_state)\n",
    "            else:\n",
    "                cell_type, new_state = transition_general(forest, (i,j), new_state)\n",
    "            new_forest[i,j] = cell_type\n",
    "            if new_forest[i,j] == cells['fire']:\n",
    "                nb_fire += 1\n",
    "    print(nb_fire)\n",
    "    if nb_fire == 0:\n",
    "        is_fire = False\n",
    "    return new_forest, is_fire, new_state"
   ]
  },
  {
   "cell_type": "code",
   "execution_count": 12,
   "metadata": {},
   "outputs": [],
   "source": [
    "# Reset images\n",
    "for name in os.listdir():\n",
    "    if name[-3:] == 'png':\n",
    "        if name != 'aust-veg-map.png':\n",
    "            os.remove(name)"
   ]
  },
  {
   "cell_type": "markdown",
   "metadata": {},
   "source": [
    "## Fire forest on random grid"
   ]
  },
  {
   "cell_type": "code",
   "execution_count": 14,
   "metadata": {},
   "outputs": [
    {
     "name": "stdout",
     "output_type": "stream",
     "text": [
      "Generate forest with 11 start of fire\n",
      "--- STEP 0 begin ---\n",
      "25\n",
      "New state: {'fire': 25, 'ash': 11, 'tree1': 7, 'tree2': 11, 'tree3': 14, 'tree4': 19}\n",
      "--- STEP 1 begin ---\n",
      "24\n",
      "New state: {'fire': 24, 'ash': 36, 'tree1': 4, 'tree2': 9, 'tree3': 9, 'tree4': 5}\n",
      "--- STEP 2 begin ---\n",
      "12\n",
      "New state: {'fire': 12, 'ash': 60, 'tree1': 4, 'tree2': 5, 'tree3': 3, 'tree4': 3}\n",
      "--- STEP 3 begin ---\n",
      "4\n",
      "New state: {'fire': 4, 'ash': 72, 'tree1': 2, 'tree2': 3, 'tree3': 3, 'tree4': 3}\n",
      "--- STEP 4 begin ---\n",
      "2\n",
      "New state: {'fire': 2, 'ash': 76, 'tree1': 1, 'tree2': 3, 'tree3': 2, 'tree4': 3}\n",
      "--- STEP 5 begin ---\n",
      "2\n",
      "New state: {'fire': 2, 'ash': 78, 'tree1': 1, 'tree2': 2, 'tree3': 1, 'tree4': 3}\n",
      "--- STEP 6 begin ---\n",
      "0\n",
      "New state: {'fire': 0, 'ash': 80, 'tree1': 1, 'tree2': 2, 'tree3': 1, 'tree4': 3}\n",
      "Fire is dead...\n",
      "Generate forest with 33 start of fire\n",
      "--- STEP 0 begin ---\n",
      "75\n",
      "New state: {'fire': 76, 'ash': 32, 'tree1': 68, 'tree2': 81, 'tree3': 61, 'tree4': 47}\n",
      "--- STEP 1 begin ---\n",
      "74\n",
      "New state: {'fire': 75, 'ash': 107, 'tree1': 49, 'tree2': 62, 'tree3': 42, 'tree4': 30}\n",
      "--- STEP 2 begin ---\n",
      "58\n",
      "New state: {'fire': 59, 'ash': 181, 'tree1': 35, 'tree2': 44, 'tree3': 30, 'tree4': 16}\n",
      "--- STEP 3 begin ---\n",
      "40\n",
      "New state: {'fire': 41, 'ash': 239, 'tree1': 30, 'tree2': 23, 'tree3': 18, 'tree4': 14}\n",
      "--- STEP 4 begin ---\n",
      "17\n",
      "New state: {'fire': 18, 'ash': 279, 'tree1': 26, 'tree2': 19, 'tree3': 16, 'tree4': 7}\n",
      "--- STEP 5 begin ---\n",
      "8\n",
      "New state: {'fire': 9, 'ash': 296, 'tree1': 25, 'tree2': 17, 'tree3': 15, 'tree4': 3}\n",
      "--- STEP 6 begin ---\n",
      "8\n",
      "New state: {'fire': 9, 'ash': 304, 'tree1': 21, 'tree2': 14, 'tree3': 15, 'tree4': 2}\n",
      "--- STEP 7 begin ---\n",
      "5\n",
      "New state: {'fire': 6, 'ash': 312, 'tree1': 18, 'tree2': 12, 'tree3': 15, 'tree4': 2}\n",
      "--- STEP 8 begin ---\n",
      "2\n",
      "New state: {'fire': 3, 'ash': 317, 'tree1': 18, 'tree2': 12, 'tree3': 13, 'tree4': 2}\n",
      "--- STEP 9 begin ---\n",
      "0\n",
      "New state: {'fire': 1, 'ash': 319, 'tree1': 18, 'tree2': 12, 'tree3': 13, 'tree4': 2}\n",
      "Fire is dead...\n",
      "Generate forest with 81 start of fire\n",
      "--- STEP 0 begin ---\n",
      "164\n",
      "New state: {'fire': 166, 'ash': 79, 'tree1': 145, 'tree2': 163, 'tree3': 133, 'tree4': 117}\n",
      "--- STEP 1 begin ---\n"
     ]
    },
    {
     "name": "stderr",
     "output_type": "stream",
     "text": [
      "/Users/cdecourt/anaconda3/envs/ia/lib/python3.7/site-packages/ipykernel_launcher.py:19: RuntimeWarning: More than 20 figures have been opened. Figures created through the pyplot interface (`matplotlib.pyplot.figure`) are retained until explicitly closed and may consume too much memory. (To control this warning, see the rcParam `figure.max_open_warning`).\n"
     ]
    },
    {
     "name": "stdout",
     "output_type": "stream",
     "text": [
      "189\n",
      "New state: {'fire': 191, 'ash': 243, 'tree1': 101, 'tree2': 115, 'tree3': 84, 'tree4': 69}\n",
      "--- STEP 2 begin ---\n",
      "127\n",
      "New state: {'fire': 129, 'ash': 432, 'tree1': 77, 'tree2': 74, 'tree3': 52, 'tree4': 39}\n",
      "--- STEP 3 begin ---\n",
      "81\n",
      "New state: {'fire': 83, 'ash': 559, 'tree1': 59, 'tree2': 49, 'tree3': 34, 'tree4': 19}\n",
      "--- STEP 4 begin ---\n",
      "36\n",
      "New state: {'fire': 38, 'ash': 640, 'tree1': 44, 'tree2': 43, 'tree3': 21, 'tree4': 17}\n",
      "--- STEP 5 begin ---\n",
      "16\n",
      "New state: {'fire': 18, 'ash': 676, 'tree1': 39, 'tree2': 39, 'tree3': 18, 'tree4': 13}\n",
      "--- STEP 6 begin ---\n",
      "5\n",
      "New state: {'fire': 7, 'ash': 692, 'tree1': 36, 'tree2': 38, 'tree3': 18, 'tree4': 12}\n",
      "--- STEP 7 begin ---\n",
      "3\n",
      "New state: {'fire': 5, 'ash': 697, 'tree1': 35, 'tree2': 37, 'tree3': 17, 'tree4': 12}\n",
      "--- STEP 8 begin ---\n",
      "0\n",
      "New state: {'fire': 2, 'ash': 700, 'tree1': 35, 'tree2': 37, 'tree3': 17, 'tree4': 12}\n",
      "Fire is dead...\n",
      "Generate forest with 100 start of fire\n",
      "--- STEP 0 begin ---\n"
     ]
    },
    {
     "name": "stderr",
     "output_type": "stream",
     "text": [
      "/Users/cdecourt/anaconda3/envs/ia/lib/python3.7/site-packages/ipykernel_launcher.py:9: RuntimeWarning: More than 20 figures have been opened. Figures created through the pyplot interface (`matplotlib.pyplot.figure`) are retained until explicitly closed and may consume too much memory. (To control this warning, see the rcParam `figure.max_open_warning`).\n",
      "  if __name__ == '__main__':\n"
     ]
    },
    {
     "name": "stdout",
     "output_type": "stream",
     "text": [
      "231\n",
      "New state: {'fire': 235, 'ash': 96, 'tree1': 278, 'tree2': 269, 'tree3': 242, 'tree4': 232}\n",
      "--- STEP 1 begin ---\n",
      "202\n",
      "New state: {'fire': 206, 'ash': 327, 'tree1': 231, 'tree2': 221, 'tree3': 196, 'tree4': 171}\n",
      "--- STEP 2 begin ---\n",
      "152\n",
      "New state: {'fire': 156, 'ash': 529, 'tree1': 207, 'tree2': 184, 'tree3': 156, 'tree4': 120}\n",
      "--- STEP 3 begin ---\n",
      "110\n",
      "New state: {'fire': 114, 'ash': 681, 'tree1': 169, 'tree2': 158, 'tree3': 127, 'tree4': 103}\n",
      "--- STEP 4 begin ---\n",
      "69\n",
      "New state: {'fire': 73, 'ash': 791, 'tree1': 153, 'tree2': 135, 'tree3': 112, 'tree4': 88}\n",
      "--- STEP 5 begin ---\n",
      "36\n",
      "New state: {'fire': 40, 'ash': 860, 'tree1': 143, 'tree2': 128, 'tree3': 101, 'tree4': 80}\n",
      "--- STEP 6 begin ---\n",
      "26\n",
      "New state: {'fire': 30, 'ash': 896, 'tree1': 134, 'tree2': 122, 'tree3': 94, 'tree4': 76}\n",
      "--- STEP 7 begin ---\n",
      "18\n",
      "New state: {'fire': 22, 'ash': 922, 'tree1': 132, 'tree2': 115, 'tree3': 88, 'tree4': 73}\n",
      "--- STEP 8 begin ---\n",
      "20\n",
      "New state: {'fire': 24, 'ash': 940, 'tree1': 131, 'tree2': 105, 'tree3': 83, 'tree4': 69}\n",
      "--- STEP 9 begin ---\n",
      "19\n",
      "New state: {'fire': 23, 'ash': 960, 'tree1': 127, 'tree2': 102, 'tree3': 78, 'tree4': 62}\n",
      "--- STEP 10 begin ---\n",
      "25\n",
      "New state: {'fire': 29, 'ash': 979, 'tree1': 122, 'tree2': 96, 'tree3': 75, 'tree4': 51}\n",
      "--- STEP 11 begin ---\n",
      "21\n",
      "New state: {'fire': 25, 'ash': 1004, 'tree1': 117, 'tree2': 95, 'tree3': 66, 'tree4': 45}\n",
      "--- STEP 12 begin ---\n",
      "25\n",
      "New state: {'fire': 29, 'ash': 1025, 'tree1': 107, 'tree2': 91, 'tree3': 61, 'tree4': 39}\n",
      "--- STEP 13 begin ---\n",
      "21\n",
      "New state: {'fire': 25, 'ash': 1050, 'tree1': 104, 'tree2': 85, 'tree3': 56, 'tree4': 32}\n",
      "--- STEP 14 begin ---\n",
      "16\n",
      "New state: {'fire': 20, 'ash': 1071, 'tree1': 101, 'tree2': 78, 'tree3': 51, 'tree4': 31}\n",
      "--- STEP 15 begin ---\n",
      "16\n",
      "New state: {'fire': 20, 'ash': 1087, 'tree1': 98, 'tree2': 72, 'tree3': 49, 'tree4': 26}\n",
      "--- STEP 16 begin ---\n",
      "10\n",
      "New state: {'fire': 14, 'ash': 1103, 'tree1': 96, 'tree2': 70, 'tree3': 46, 'tree4': 23}\n",
      "--- STEP 17 begin ---\n",
      "4\n",
      "New state: {'fire': 8, 'ash': 1113, 'tree1': 95, 'tree2': 69, 'tree3': 45, 'tree4': 22}\n",
      "--- STEP 18 begin ---\n",
      "3\n",
      "New state: {'fire': 7, 'ash': 1117, 'tree1': 95, 'tree2': 69, 'tree3': 44, 'tree4': 20}\n",
      "--- STEP 19 begin ---\n",
      "8\n",
      "New state: {'fire': 12, 'ash': 1120, 'tree1': 94, 'tree2': 65, 'tree3': 42, 'tree4': 19}\n",
      "--- STEP 20 begin ---\n",
      "9\n",
      "New state: {'fire': 13, 'ash': 1128, 'tree1': 92, 'tree2': 64, 'tree3': 40, 'tree4': 15}\n",
      "--- STEP 21 begin ---\n",
      "7\n",
      "New state: {'fire': 11, 'ash': 1137, 'tree1': 90, 'tree2': 60, 'tree3': 40, 'tree4': 14}\n",
      "--- STEP 22 begin ---\n",
      "5\n",
      "New state: {'fire': 9, 'ash': 1144, 'tree1': 90, 'tree2': 57, 'tree3': 38, 'tree4': 14}\n",
      "--- STEP 23 begin ---\n",
      "4\n",
      "New state: {'fire': 8, 'ash': 1149, 'tree1': 89, 'tree2': 55, 'tree3': 37, 'tree4': 14}\n",
      "--- STEP 24 begin ---\n",
      "2\n",
      "New state: {'fire': 6, 'ash': 1153, 'tree1': 88, 'tree2': 55, 'tree3': 36, 'tree4': 14}\n",
      "--- STEP 25 begin ---\n",
      "1\n",
      "New state: {'fire': 5, 'ash': 1155, 'tree1': 88, 'tree2': 55, 'tree3': 35, 'tree4': 14}\n",
      "--- STEP 26 begin ---\n",
      "0\n",
      "New state: {'fire': 4, 'ash': 1156, 'tree1': 88, 'tree2': 55, 'tree3': 35, 'tree4': 14}\n",
      "Fire is dead...\n",
      "Generate forest with 100 start of fire\n",
      "--- STEP 0 begin ---\n",
      "238\n",
      "New state: {'fire': 238, 'ash': 100, 'tree1': 442, 'tree2': 461, 'tree3': 408, 'tree4': 417}\n",
      "--- STEP 1 begin ---\n",
      "210\n",
      "New state: {'fire': 210, 'ash': 338, 'tree1': 396, 'tree2': 399, 'tree3': 359, 'tree4': 364}\n",
      "--- STEP 2 begin ---\n",
      "167\n",
      "New state: {'fire': 167, 'ash': 548, 'tree1': 353, 'tree2': 357, 'tree3': 320, 'tree4': 321}\n",
      "--- STEP 3 begin ---\n",
      "81\n",
      "New state: {'fire': 81, 'ash': 715, 'tree1': 327, 'tree2': 336, 'tree3': 302, 'tree4': 305}\n",
      "--- STEP 4 begin ---\n",
      "44\n",
      "New state: {'fire': 44, 'ash': 796, 'tree1': 318, 'tree2': 323, 'tree3': 289, 'tree4': 296}\n",
      "--- STEP 5 begin ---\n",
      "21\n",
      "New state: {'fire': 21, 'ash': 840, 'tree1': 312, 'tree2': 319, 'tree3': 284, 'tree4': 290}\n",
      "--- STEP 6 begin ---\n",
      "23\n",
      "New state: {'fire': 23, 'ash': 861, 'tree1': 306, 'tree2': 315, 'tree3': 279, 'tree4': 282}\n",
      "--- STEP 7 begin ---\n",
      "16\n",
      "New state: {'fire': 16, 'ash': 884, 'tree1': 302, 'tree2': 312, 'tree3': 276, 'tree4': 276}\n",
      "--- STEP 8 begin ---\n",
      "19\n",
      "New state: {'fire': 19, 'ash': 900, 'tree1': 299, 'tree2': 306, 'tree3': 271, 'tree4': 271}\n",
      "--- STEP 9 begin ---\n",
      "16\n",
      "New state: {'fire': 16, 'ash': 919, 'tree1': 295, 'tree2': 303, 'tree3': 267, 'tree4': 266}\n",
      "--- STEP 10 begin ---\n",
      "16\n",
      "New state: {'fire': 16, 'ash': 935, 'tree1': 293, 'tree2': 298, 'tree3': 263, 'tree4': 261}\n",
      "--- STEP 11 begin ---\n",
      "19\n",
      "New state: {'fire': 19, 'ash': 951, 'tree1': 292, 'tree2': 289, 'tree3': 258, 'tree4': 257}\n",
      "--- STEP 12 begin ---\n",
      "19\n",
      "New state: {'fire': 19, 'ash': 970, 'tree1': 289, 'tree2': 286, 'tree3': 253, 'tree4': 249}\n",
      "--- STEP 13 begin ---\n",
      "26\n",
      "New state: {'fire': 26, 'ash': 989, 'tree1': 280, 'tree2': 282, 'tree3': 244, 'tree4': 245}\n",
      "--- STEP 14 begin ---\n",
      "20\n",
      "New state: {'fire': 20, 'ash': 1015, 'tree1': 277, 'tree2': 275, 'tree3': 238, 'tree4': 241}\n",
      "--- STEP 15 begin ---\n",
      "20\n",
      "New state: {'fire': 20, 'ash': 1035, 'tree1': 274, 'tree2': 267, 'tree3': 232, 'tree4': 238}\n",
      "--- STEP 16 begin ---\n",
      "21\n",
      "New state: {'fire': 21, 'ash': 1055, 'tree1': 269, 'tree2': 263, 'tree3': 230, 'tree4': 228}\n",
      "--- STEP 17 begin ---\n",
      "20\n",
      "New state: {'fire': 20, 'ash': 1076, 'tree1': 265, 'tree2': 258, 'tree3': 228, 'tree4': 219}\n",
      "--- STEP 18 begin ---\n",
      "21\n",
      "New state: {'fire': 21, 'ash': 1096, 'tree1': 263, 'tree2': 252, 'tree3': 222, 'tree4': 212}\n",
      "--- STEP 19 begin ---\n",
      "15\n",
      "New state: {'fire': 15, 'ash': 1117, 'tree1': 258, 'tree2': 249, 'tree3': 217, 'tree4': 210}\n",
      "--- STEP 20 begin ---\n",
      "19\n",
      "New state: {'fire': 19, 'ash': 1132, 'tree1': 254, 'tree2': 243, 'tree3': 215, 'tree4': 203}\n",
      "--- STEP 21 begin ---\n",
      "21\n",
      "New state: {'fire': 21, 'ash': 1151, 'tree1': 252, 'tree2': 236, 'tree3': 207, 'tree4': 199}\n",
      "--- STEP 22 begin ---\n",
      "21\n",
      "New state: {'fire': 21, 'ash': 1172, 'tree1': 248, 'tree2': 228, 'tree3': 202, 'tree4': 195}\n",
      "--- STEP 23 begin ---\n",
      "23\n",
      "New state: {'fire': 23, 'ash': 1193, 'tree1': 240, 'tree2': 222, 'tree3': 197, 'tree4': 191}\n",
      "--- STEP 24 begin ---\n",
      "20\n",
      "New state: {'fire': 20, 'ash': 1216, 'tree1': 234, 'tree2': 217, 'tree3': 193, 'tree4': 186}\n",
      "--- STEP 25 begin ---\n",
      "25\n",
      "New state: {'fire': 25, 'ash': 1236, 'tree1': 229, 'tree2': 214, 'tree3': 186, 'tree4': 176}\n",
      "--- STEP 26 begin ---\n",
      "26\n",
      "New state: {'fire': 26, 'ash': 1261, 'tree1': 222, 'tree2': 206, 'tree3': 183, 'tree4': 168}\n",
      "--- STEP 27 begin ---\n",
      "22\n",
      "New state: {'fire': 22, 'ash': 1287, 'tree1': 219, 'tree2': 199, 'tree3': 179, 'tree4': 160}\n",
      "--- STEP 28 begin ---\n",
      "26\n",
      "New state: {'fire': 26, 'ash': 1309, 'tree1': 213, 'tree2': 193, 'tree3': 172, 'tree4': 153}\n",
      "--- STEP 29 begin ---\n",
      "32\n",
      "New state: {'fire': 32, 'ash': 1335, 'tree1': 204, 'tree2': 188, 'tree3': 163, 'tree4': 144}\n",
      "--- STEP 30 begin ---\n",
      "31\n",
      "New state: {'fire': 31, 'ash': 1367, 'tree1': 197, 'tree2': 180, 'tree3': 152, 'tree4': 139}\n",
      "--- STEP 31 begin ---\n",
      "21\n",
      "New state: {'fire': 21, 'ash': 1398, 'tree1': 193, 'tree2': 174, 'tree3': 148, 'tree4': 132}\n",
      "--- STEP 32 begin ---\n",
      "13\n",
      "New state: {'fire': 13, 'ash': 1419, 'tree1': 191, 'tree2': 173, 'tree3': 144, 'tree4': 126}\n",
      "--- STEP 33 begin ---\n",
      "15\n",
      "New state: {'fire': 15, 'ash': 1432, 'tree1': 189, 'tree2': 170, 'tree3': 140, 'tree4': 120}\n",
      "--- STEP 34 begin ---\n",
      "10\n",
      "New state: {'fire': 10, 'ash': 1447, 'tree1': 186, 'tree2': 167, 'tree3': 139, 'tree4': 117}\n",
      "--- STEP 35 begin ---\n",
      "11\n",
      "New state: {'fire': 11, 'ash': 1457, 'tree1': 184, 'tree2': 165, 'tree3': 135, 'tree4': 114}\n",
      "--- STEP 36 begin ---\n",
      "7\n",
      "New state: {'fire': 7, 'ash': 1468, 'tree1': 183, 'tree2': 161, 'tree3': 134, 'tree4': 113}\n",
      "--- STEP 37 begin ---\n",
      "5\n",
      "New state: {'fire': 5, 'ash': 1475, 'tree1': 181, 'tree2': 161, 'tree3': 132, 'tree4': 112}\n",
      "--- STEP 38 begin ---\n",
      "7\n",
      "New state: {'fire': 7, 'ash': 1480, 'tree1': 180, 'tree2': 158, 'tree3': 131, 'tree4': 110}\n",
      "--- STEP 39 begin ---\n",
      "8\n",
      "New state: {'fire': 8, 'ash': 1487, 'tree1': 176, 'tree2': 157, 'tree3': 129, 'tree4': 109}\n",
      "--- STEP 40 begin ---\n",
      "4\n",
      "New state: {'fire': 4, 'ash': 1495, 'tree1': 176, 'tree2': 155, 'tree3': 129, 'tree4': 107}\n",
      "--- STEP 41 begin ---\n",
      "2\n",
      "New state: {'fire': 2, 'ash': 1499, 'tree1': 176, 'tree2': 154, 'tree3': 129, 'tree4': 106}\n",
      "--- STEP 42 begin ---\n",
      "3\n",
      "New state: {'fire': 3, 'ash': 1501, 'tree1': 174, 'tree2': 154, 'tree3': 128, 'tree4': 106}\n",
      "--- STEP 43 begin ---\n",
      "1\n",
      "New state: {'fire': 1, 'ash': 1504, 'tree1': 174, 'tree2': 153, 'tree3': 128, 'tree4': 106}\n",
      "--- STEP 44 begin ---\n"
     ]
    },
    {
     "name": "stdout",
     "output_type": "stream",
     "text": [
      "2\n",
      "New state: {'fire': 2, 'ash': 1505, 'tree1': 174, 'tree2': 152, 'tree3': 128, 'tree4': 105}\n",
      "--- STEP 45 begin ---\n",
      "3\n",
      "New state: {'fire': 3, 'ash': 1507, 'tree1': 171, 'tree2': 152, 'tree3': 128, 'tree4': 105}\n",
      "--- STEP 46 begin ---\n",
      "5\n",
      "New state: {'fire': 5, 'ash': 1510, 'tree1': 171, 'tree2': 151, 'tree3': 128, 'tree4': 101}\n",
      "--- STEP 47 begin ---\n",
      "5\n",
      "New state: {'fire': 5, 'ash': 1515, 'tree1': 171, 'tree2': 150, 'tree3': 128, 'tree4': 97}\n",
      "--- STEP 48 begin ---\n",
      "9\n",
      "New state: {'fire': 9, 'ash': 1520, 'tree1': 170, 'tree2': 149, 'tree3': 126, 'tree4': 92}\n",
      "--- STEP 49 begin ---\n",
      "8\n",
      "New state: {'fire': 8, 'ash': 1529, 'tree1': 167, 'tree2': 147, 'tree3': 123, 'tree4': 92}\n",
      "--- STEP 50 begin ---\n",
      "5\n",
      "New state: {'fire': 5, 'ash': 1537, 'tree1': 165, 'tree2': 144, 'tree3': 123, 'tree4': 92}\n",
      "--- STEP 51 begin ---\n",
      "4\n",
      "New state: {'fire': 4, 'ash': 1542, 'tree1': 164, 'tree2': 143, 'tree3': 122, 'tree4': 91}\n",
      "--- STEP 52 begin ---\n",
      "4\n",
      "New state: {'fire': 4, 'ash': 1546, 'tree1': 163, 'tree2': 142, 'tree3': 121, 'tree4': 90}\n",
      "--- STEP 53 begin ---\n",
      "7\n",
      "New state: {'fire': 7, 'ash': 1550, 'tree1': 161, 'tree2': 141, 'tree3': 117, 'tree4': 90}\n",
      "--- STEP 54 begin ---\n",
      "5\n",
      "New state: {'fire': 5, 'ash': 1557, 'tree1': 160, 'tree2': 140, 'tree3': 116, 'tree4': 88}\n",
      "--- STEP 55 begin ---\n",
      "6\n",
      "New state: {'fire': 6, 'ash': 1562, 'tree1': 160, 'tree2': 138, 'tree3': 112, 'tree4': 88}\n",
      "--- STEP 56 begin ---\n",
      "7\n",
      "New state: {'fire': 7, 'ash': 1568, 'tree1': 159, 'tree2': 137, 'tree3': 110, 'tree4': 85}\n",
      "--- STEP 57 begin ---\n",
      "3\n",
      "New state: {'fire': 3, 'ash': 1575, 'tree1': 159, 'tree2': 136, 'tree3': 109, 'tree4': 84}\n",
      "--- STEP 58 begin ---\n",
      "8\n",
      "New state: {'fire': 8, 'ash': 1578, 'tree1': 159, 'tree2': 132, 'tree3': 106, 'tree4': 83}\n",
      "--- STEP 59 begin ---\n",
      "7\n",
      "New state: {'fire': 7, 'ash': 1586, 'tree1': 158, 'tree2': 131, 'tree3': 104, 'tree4': 80}\n",
      "--- STEP 60 begin ---\n",
      "6\n",
      "New state: {'fire': 6, 'ash': 1593, 'tree1': 157, 'tree2': 128, 'tree3': 103, 'tree4': 79}\n",
      "--- STEP 61 begin ---\n",
      "4\n",
      "New state: {'fire': 4, 'ash': 1599, 'tree1': 155, 'tree2': 127, 'tree3': 102, 'tree4': 79}\n",
      "--- STEP 62 begin ---\n",
      "7\n",
      "New state: {'fire': 7, 'ash': 1603, 'tree1': 154, 'tree2': 127, 'tree3': 98, 'tree4': 77}\n",
      "--- STEP 63 begin ---\n",
      "7\n",
      "New state: {'fire': 7, 'ash': 1610, 'tree1': 153, 'tree2': 125, 'tree3': 96, 'tree4': 75}\n",
      "--- STEP 64 begin ---\n",
      "8\n",
      "New state: {'fire': 8, 'ash': 1617, 'tree1': 149, 'tree2': 125, 'tree3': 95, 'tree4': 72}\n",
      "--- STEP 65 begin ---\n",
      "12\n",
      "New state: {'fire': 12, 'ash': 1625, 'tree1': 149, 'tree2': 121, 'tree3': 90, 'tree4': 69}\n",
      "--- STEP 66 begin ---\n",
      "15\n",
      "New state: {'fire': 15, 'ash': 1637, 'tree1': 148, 'tree2': 116, 'tree3': 85, 'tree4': 65}\n",
      "--- STEP 67 begin ---\n",
      "14\n",
      "New state: {'fire': 14, 'ash': 1652, 'tree1': 143, 'tree2': 114, 'tree3': 81, 'tree4': 62}\n",
      "--- STEP 68 begin ---\n",
      "13\n",
      "New state: {'fire': 13, 'ash': 1666, 'tree1': 140, 'tree2': 111, 'tree3': 77, 'tree4': 59}\n",
      "--- STEP 69 begin ---\n",
      "13\n",
      "New state: {'fire': 13, 'ash': 1679, 'tree1': 134, 'tree2': 110, 'tree3': 73, 'tree4': 57}\n",
      "--- STEP 70 begin ---\n",
      "12\n",
      "New state: {'fire': 12, 'ash': 1692, 'tree1': 134, 'tree2': 107, 'tree3': 69, 'tree4': 52}\n",
      "--- STEP 71 begin ---\n",
      "11\n",
      "New state: {'fire': 11, 'ash': 1704, 'tree1': 131, 'tree2': 105, 'tree3': 66, 'tree4': 49}\n",
      "--- STEP 72 begin ---\n",
      "14\n",
      "New state: {'fire': 14, 'ash': 1715, 'tree1': 128, 'tree2': 99, 'tree3': 66, 'tree4': 44}\n",
      "--- STEP 73 begin ---\n",
      "11\n",
      "New state: {'fire': 11, 'ash': 1729, 'tree1': 126, 'tree2': 91, 'tree3': 65, 'tree4': 44}\n",
      "--- STEP 74 begin ---\n",
      "3\n",
      "New state: {'fire': 3, 'ash': 1740, 'tree1': 126, 'tree2': 88, 'tree3': 65, 'tree4': 44}\n",
      "--- STEP 75 begin ---\n",
      "1\n",
      "New state: {'fire': 1, 'ash': 1743, 'tree1': 126, 'tree2': 88, 'tree3': 64, 'tree4': 44}\n",
      "--- STEP 76 begin ---\n",
      "2\n",
      "New state: {'fire': 2, 'ash': 1744, 'tree1': 126, 'tree2': 87, 'tree3': 64, 'tree4': 43}\n",
      "--- STEP 77 begin ---\n",
      "0\n",
      "New state: {'fire': 0, 'ash': 1746, 'tree1': 126, 'tree2': 87, 'tree3': 64, 'tree4': 43}\n",
      "Fire is dead...\n",
      "Generate forest with 100 start of fire\n",
      "--- STEP 0 begin ---\n",
      "207\n",
      "New state: {'fire': 209, 'ash': 98, 'tree1': 1963, 'tree2': 1945, 'tree3': 2009, 'tree4': 1858}\n",
      "--- STEP 1 begin ---\n",
      "186\n",
      "New state: {'fire': 188, 'ash': 305, 'tree1': 1925, 'tree2': 1902, 'tree3': 1962, 'tree4': 1800}\n",
      "--- STEP 2 begin ---\n",
      "136\n",
      "New state: {'fire': 138, 'ash': 491, 'tree1': 1900, 'tree2': 1865, 'tree3': 1927, 'tree4': 1761}\n",
      "--- STEP 3 begin ---\n",
      "110\n",
      "New state: {'fire': 112, 'ash': 627, 'tree1': 1872, 'tree2': 1840, 'tree3': 1900, 'tree4': 1731}\n",
      "--- STEP 4 begin ---\n",
      "92\n",
      "New state: {'fire': 94, 'ash': 737, 'tree1': 1854, 'tree2': 1815, 'tree3': 1871, 'tree4': 1711}\n",
      "--- STEP 5 begin ---\n",
      "85\n",
      "New state: {'fire': 87, 'ash': 829, 'tree1': 1834, 'tree2': 1796, 'tree3': 1844, 'tree4': 1692}\n",
      "--- STEP 6 begin ---\n",
      "63\n",
      "New state: {'fire': 65, 'ash': 914, 'tree1': 1818, 'tree2': 1780, 'tree3': 1827, 'tree4': 1678}\n",
      "--- STEP 7 begin ---\n",
      "61\n",
      "New state: {'fire': 63, 'ash': 977, 'tree1': 1805, 'tree2': 1773, 'tree3': 1804, 'tree4': 1660}\n",
      "--- STEP 8 begin ---\n",
      "53\n",
      "New state: {'fire': 55, 'ash': 1038, 'tree1': 1791, 'tree2': 1758, 'tree3': 1792, 'tree4': 1648}\n",
      "--- STEP 9 begin ---\n",
      "54\n",
      "New state: {'fire': 56, 'ash': 1091, 'tree1': 1780, 'tree2': 1742, 'tree3': 1779, 'tree4': 1634}\n",
      "--- STEP 10 begin ---\n",
      "48\n",
      "New state: {'fire': 50, 'ash': 1145, 'tree1': 1769, 'tree2': 1730, 'tree3': 1772, 'tree4': 1616}\n",
      "--- STEP 11 begin ---\n",
      "46\n",
      "New state: {'fire': 48, 'ash': 1193, 'tree1': 1754, 'tree2': 1726, 'tree3': 1754, 'tree4': 1607}\n",
      "--- STEP 12 begin ---\n",
      "51\n",
      "New state: {'fire': 53, 'ash': 1239, 'tree1': 1741, 'tree2': 1715, 'tree3': 1741, 'tree4': 1593}\n",
      "--- STEP 13 begin ---\n",
      "53\n",
      "New state: {'fire': 55, 'ash': 1290, 'tree1': 1730, 'tree2': 1697, 'tree3': 1726, 'tree4': 1584}\n",
      "--- STEP 14 begin ---\n",
      "66\n",
      "New state: {'fire': 68, 'ash': 1343, 'tree1': 1716, 'tree2': 1682, 'tree3': 1703, 'tree4': 1570}\n",
      "--- STEP 15 begin ---\n",
      "64\n",
      "New state: {'fire': 66, 'ash': 1409, 'tree1': 1706, 'tree2': 1660, 'tree3': 1687, 'tree4': 1554}\n",
      "--- STEP 16 begin ---\n",
      "55\n",
      "New state: {'fire': 57, 'ash': 1473, 'tree1': 1696, 'tree2': 1644, 'tree3': 1671, 'tree4': 1541}\n",
      "--- STEP 17 begin ---\n",
      "67\n",
      "New state: {'fire': 69, 'ash': 1528, 'tree1': 1678, 'tree2': 1633, 'tree3': 1646, 'tree4': 1528}\n",
      "--- STEP 18 begin ---\n",
      "63\n",
      "New state: {'fire': 65, 'ash': 1595, 'tree1': 1662, 'tree2': 1616, 'tree3': 1628, 'tree4': 1516}\n",
      "--- STEP 19 begin ---\n",
      "49\n",
      "New state: {'fire': 51, 'ash': 1658, 'tree1': 1650, 'tree2': 1610, 'tree3': 1611, 'tree4': 1502}\n",
      "--- STEP 20 begin ---\n",
      "55\n",
      "New state: {'fire': 57, 'ash': 1707, 'tree1': 1634, 'tree2': 1600, 'tree3': 1596, 'tree4': 1488}\n",
      "--- STEP 21 begin ---\n",
      "51\n",
      "New state: {'fire': 53, 'ash': 1762, 'tree1': 1618, 'tree2': 1586, 'tree3': 1586, 'tree4': 1477}\n",
      "--- STEP 22 begin ---\n",
      "45\n",
      "New state: {'fire': 47, 'ash': 1813, 'tree1': 1600, 'tree2': 1575, 'tree3': 1578, 'tree4': 1469}\n",
      "--- STEP 23 begin ---\n",
      "48\n",
      "New state: {'fire': 50, 'ash': 1858, 'tree1': 1597, 'tree2': 1562, 'tree3': 1568, 'tree4': 1447}\n",
      "--- STEP 24 begin ---\n",
      "57\n",
      "New state: {'fire': 59, 'ash': 1906, 'tree1': 1582, 'tree2': 1552, 'tree3': 1552, 'tree4': 1431}\n",
      "--- STEP 25 begin ---\n",
      "58\n",
      "New state: {'fire': 60, 'ash': 1963, 'tree1': 1574, 'tree2': 1536, 'tree3': 1533, 'tree4': 1416}\n",
      "--- STEP 26 begin ---\n",
      "59\n",
      "New state: {'fire': 61, 'ash': 2021, 'tree1': 1564, 'tree2': 1523, 'tree3': 1517, 'tree4': 1396}\n",
      "--- STEP 27 begin ---\n",
      "66\n",
      "New state: {'fire': 68, 'ash': 2080, 'tree1': 1552, 'tree2': 1508, 'tree3': 1499, 'tree4': 1375}\n",
      "--- STEP 28 begin ---\n",
      "66\n",
      "New state: {'fire': 68, 'ash': 2146, 'tree1': 1541, 'tree2': 1492, 'tree3': 1482, 'tree4': 1353}\n",
      "--- STEP 29 begin ---\n",
      "72\n",
      "New state: {'fire': 74, 'ash': 2212, 'tree1': 1523, 'tree2': 1478, 'tree3': 1465, 'tree4': 1330}\n",
      "--- STEP 30 begin ---\n",
      "78\n",
      "New state: {'fire': 80, 'ash': 2284, 'tree1': 1509, 'tree2': 1450, 'tree3': 1442, 'tree4': 1317}\n",
      "--- STEP 31 begin ---\n",
      "66\n",
      "New state: {'fire': 68, 'ash': 2362, 'tree1': 1492, 'tree2': 1436, 'tree3': 1425, 'tree4': 1299}\n",
      "--- STEP 32 begin ---\n",
      "71\n",
      "New state: {'fire': 73, 'ash': 2428, 'tree1': 1473, 'tree2': 1415, 'tree3': 1408, 'tree4': 1285}\n",
      "--- STEP 33 begin ---\n",
      "77\n",
      "New state: {'fire': 79, 'ash': 2499, 'tree1': 1459, 'tree2': 1398, 'tree3': 1382, 'tree4': 1265}\n",
      "--- STEP 34 begin ---\n",
      "73\n",
      "New state: {'fire': 75, 'ash': 2576, 'tree1': 1443, 'tree2': 1377, 'tree3': 1359, 'tree4': 1252}\n",
      "--- STEP 35 begin ---\n"
     ]
    },
    {
     "name": "stdout",
     "output_type": "stream",
     "text": [
      "88\n",
      "New state: {'fire': 90, 'ash': 2649, 'tree1': 1427, 'tree2': 1353, 'tree3': 1342, 'tree4': 1221}\n",
      "--- STEP 36 begin ---\n",
      "72\n",
      "New state: {'fire': 74, 'ash': 2737, 'tree1': 1411, 'tree2': 1342, 'tree3': 1319, 'tree4': 1199}\n",
      "--- STEP 37 begin ---\n",
      "90\n",
      "New state: {'fire': 92, 'ash': 2809, 'tree1': 1386, 'tree2': 1320, 'tree3': 1300, 'tree4': 1175}\n",
      "--- STEP 38 begin ---\n",
      "76\n",
      "New state: {'fire': 78, 'ash': 2899, 'tree1': 1372, 'tree2': 1300, 'tree3': 1277, 'tree4': 1156}\n",
      "--- STEP 39 begin ---\n",
      "80\n",
      "New state: {'fire': 82, 'ash': 2975, 'tree1': 1360, 'tree2': 1279, 'tree3': 1249, 'tree4': 1137}\n",
      "--- STEP 40 begin ---\n",
      "67\n",
      "New state: {'fire': 69, 'ash': 3055, 'tree1': 1345, 'tree2': 1264, 'tree3': 1229, 'tree4': 1120}\n",
      "--- STEP 41 begin ---\n",
      "64\n",
      "New state: {'fire': 66, 'ash': 3122, 'tree1': 1334, 'tree2': 1253, 'tree3': 1211, 'tree4': 1096}\n",
      "--- STEP 42 begin ---\n",
      "59\n",
      "New state: {'fire': 61, 'ash': 3186, 'tree1': 1319, 'tree2': 1236, 'tree3': 1195, 'tree4': 1085}\n",
      "--- STEP 43 begin ---\n",
      "52\n",
      "New state: {'fire': 54, 'ash': 3245, 'tree1': 1302, 'tree2': 1220, 'tree3': 1187, 'tree4': 1074}\n",
      "--- STEP 44 begin ---\n",
      "48\n",
      "New state: {'fire': 50, 'ash': 3297, 'tree1': 1293, 'tree2': 1213, 'tree3': 1173, 'tree4': 1056}\n",
      "--- STEP 45 begin ---\n",
      "40\n",
      "New state: {'fire': 42, 'ash': 3345, 'tree1': 1284, 'tree2': 1202, 'tree3': 1168, 'tree4': 1041}\n",
      "--- STEP 46 begin ---\n",
      "43\n",
      "New state: {'fire': 45, 'ash': 3385, 'tree1': 1276, 'tree2': 1192, 'tree3': 1157, 'tree4': 1027}\n",
      "--- STEP 47 begin ---\n",
      "47\n",
      "New state: {'fire': 49, 'ash': 3428, 'tree1': 1266, 'tree2': 1178, 'tree3': 1145, 'tree4': 1016}\n",
      "--- STEP 48 begin ---\n",
      "50\n",
      "New state: {'fire': 52, 'ash': 3475, 'tree1': 1261, 'tree2': 1161, 'tree3': 1133, 'tree4': 1000}\n",
      "--- STEP 49 begin ---\n",
      "45\n",
      "New state: {'fire': 47, 'ash': 3525, 'tree1': 1254, 'tree2': 1148, 'tree3': 1115, 'tree4': 993}\n",
      "--- STEP 50 begin ---\n",
      "39\n",
      "New state: {'fire': 41, 'ash': 3570, 'tree1': 1243, 'tree2': 1135, 'tree3': 1107, 'tree4': 986}\n",
      "--- STEP 51 begin ---\n",
      "44\n",
      "New state: {'fire': 46, 'ash': 3609, 'tree1': 1230, 'tree2': 1127, 'tree3': 1092, 'tree4': 978}\n",
      "--- STEP 52 begin ---\n",
      "55\n",
      "New state: {'fire': 57, 'ash': 3653, 'tree1': 1215, 'tree2': 1117, 'tree3': 1076, 'tree4': 964}\n",
      "--- STEP 53 begin ---\n",
      "54\n",
      "New state: {'fire': 56, 'ash': 3708, 'tree1': 1206, 'tree2': 1104, 'tree3': 1067, 'tree4': 941}\n",
      "--- STEP 54 begin ---\n",
      "51\n",
      "New state: {'fire': 53, 'ash': 3762, 'tree1': 1199, 'tree2': 1090, 'tree3': 1050, 'tree4': 928}\n",
      "--- STEP 55 begin ---\n",
      "48\n",
      "New state: {'fire': 50, 'ash': 3813, 'tree1': 1186, 'tree2': 1076, 'tree3': 1036, 'tree4': 921}\n",
      "--- STEP 56 begin ---\n",
      "48\n",
      "New state: {'fire': 50, 'ash': 3861, 'tree1': 1175, 'tree2': 1063, 'tree3': 1022, 'tree4': 911}\n",
      "--- STEP 57 begin ---\n",
      "45\n",
      "New state: {'fire': 47, 'ash': 3909, 'tree1': 1164, 'tree2': 1050, 'tree3': 1010, 'tree4': 902}\n",
      "--- STEP 58 begin ---\n",
      "46\n",
      "New state: {'fire': 48, 'ash': 3954, 'tree1': 1150, 'tree2': 1039, 'tree3': 1000, 'tree4': 891}\n",
      "--- STEP 59 begin ---\n",
      "41\n",
      "New state: {'fire': 43, 'ash': 4000, 'tree1': 1142, 'tree2': 1023, 'tree3': 993, 'tree4': 881}\n",
      "--- STEP 60 begin ---\n",
      "61\n",
      "New state: {'fire': 63, 'ash': 4041, 'tree1': 1134, 'tree2': 1007, 'tree3': 978, 'tree4': 859}\n",
      "--- STEP 61 begin ---\n",
      "64\n",
      "New state: {'fire': 66, 'ash': 4102, 'tree1': 1119, 'tree2': 992, 'tree3': 958, 'tree4': 845}\n",
      "--- STEP 62 begin ---\n",
      "67\n",
      "New state: {'fire': 69, 'ash': 4166, 'tree1': 1099, 'tree2': 977, 'tree3': 936, 'tree4': 835}\n",
      "--- STEP 63 begin ---\n",
      "83\n",
      "New state: {'fire': 85, 'ash': 4233, 'tree1': 1084, 'tree2': 960, 'tree3': 907, 'tree4': 813}\n",
      "--- STEP 64 begin ---\n",
      "75\n",
      "New state: {'fire': 77, 'ash': 4316, 'tree1': 1072, 'tree2': 946, 'tree3': 884, 'tree4': 787}\n",
      "--- STEP 65 begin ---\n",
      "83\n",
      "New state: {'fire': 85, 'ash': 4391, 'tree1': 1054, 'tree2': 924, 'tree3': 859, 'tree4': 769}\n",
      "--- STEP 66 begin ---\n",
      "73\n",
      "New state: {'fire': 75, 'ash': 4474, 'tree1': 1032, 'tree2': 900, 'tree3': 848, 'tree4': 753}\n",
      "--- STEP 67 begin ---\n",
      "87\n",
      "New state: {'fire': 89, 'ash': 4547, 'tree1': 1015, 'tree2': 869, 'tree3': 829, 'tree4': 733}\n",
      "--- STEP 68 begin ---\n",
      "73\n",
      "New state: {'fire': 75, 'ash': 4634, 'tree1': 997, 'tree2': 854, 'tree3': 813, 'tree4': 709}\n",
      "--- STEP 69 begin ---\n",
      "63\n",
      "New state: {'fire': 65, 'ash': 4707, 'tree1': 979, 'tree2': 838, 'tree3': 799, 'tree4': 694}\n",
      "--- STEP 70 begin ---\n",
      "53\n",
      "New state: {'fire': 55, 'ash': 4770, 'tree1': 970, 'tree2': 822, 'tree3': 785, 'tree4': 680}\n",
      "--- STEP 71 begin ---\n",
      "57\n",
      "New state: {'fire': 59, 'ash': 4823, 'tree1': 956, 'tree2': 802, 'tree3': 772, 'tree4': 670}\n",
      "--- STEP 72 begin ---\n",
      "61\n",
      "New state: {'fire': 63, 'ash': 4880, 'tree1': 944, 'tree2': 781, 'tree3': 758, 'tree4': 656}\n",
      "--- STEP 73 begin ---\n",
      "66\n",
      "New state: {'fire': 68, 'ash': 4941, 'tree1': 927, 'tree2': 766, 'tree3': 745, 'tree4': 635}\n",
      "--- STEP 74 begin ---\n",
      "62\n",
      "New state: {'fire': 64, 'ash': 5007, 'tree1': 915, 'tree2': 753, 'tree3': 723, 'tree4': 620}\n",
      "--- STEP 75 begin ---\n",
      "64\n",
      "New state: {'fire': 66, 'ash': 5069, 'tree1': 901, 'tree2': 735, 'tree3': 707, 'tree4': 604}\n",
      "--- STEP 76 begin ---\n",
      "55\n",
      "New state: {'fire': 57, 'ash': 5133, 'tree1': 889, 'tree2': 720, 'tree3': 697, 'tree4': 586}\n",
      "--- STEP 77 begin ---\n",
      "62\n",
      "New state: {'fire': 64, 'ash': 5188, 'tree1': 878, 'tree2': 707, 'tree3': 674, 'tree4': 571}\n",
      "--- STEP 78 begin ---\n",
      "62\n",
      "New state: {'fire': 64, 'ash': 5250, 'tree1': 866, 'tree2': 689, 'tree3': 660, 'tree4': 553}\n",
      "--- STEP 79 begin ---\n",
      "59\n",
      "New state: {'fire': 61, 'ash': 5312, 'tree1': 853, 'tree2': 674, 'tree3': 649, 'tree4': 533}\n",
      "--- STEP 80 begin ---\n",
      "52\n",
      "New state: {'fire': 54, 'ash': 5371, 'tree1': 840, 'tree2': 658, 'tree3': 636, 'tree4': 523}\n",
      "--- STEP 81 begin ---\n",
      "58\n",
      "New state: {'fire': 60, 'ash': 5423, 'tree1': 828, 'tree2': 640, 'tree3': 620, 'tree4': 511}\n",
      "--- STEP 82 begin ---\n",
      "51\n",
      "New state: {'fire': 53, 'ash': 5481, 'tree1': 820, 'tree2': 631, 'tree3': 606, 'tree4': 491}\n",
      "--- STEP 83 begin ---\n",
      "49\n",
      "New state: {'fire': 51, 'ash': 5532, 'tree1': 809, 'tree2': 621, 'tree3': 589, 'tree4': 480}\n",
      "--- STEP 84 begin ---\n",
      "61\n",
      "New state: {'fire': 63, 'ash': 5581, 'tree1': 802, 'tree2': 610, 'tree3': 569, 'tree4': 457}\n",
      "--- STEP 85 begin ---\n",
      "72\n",
      "New state: {'fire': 74, 'ash': 5642, 'tree1': 782, 'tree2': 590, 'tree3': 545, 'tree4': 449}\n",
      "--- STEP 86 begin ---\n",
      "85\n",
      "New state: {'fire': 87, 'ash': 5714, 'tree1': 764, 'tree2': 570, 'tree3': 522, 'tree4': 425}\n",
      "--- STEP 87 begin ---\n",
      "97\n",
      "New state: {'fire': 99, 'ash': 5799, 'tree1': 743, 'tree2': 538, 'tree3': 495, 'tree4': 408}\n",
      "--- STEP 88 begin ---\n",
      "86\n",
      "New state: {'fire': 88, 'ash': 5896, 'tree1': 720, 'tree2': 525, 'tree3': 465, 'tree4': 388}\n",
      "--- STEP 89 begin ---\n",
      "76\n",
      "New state: {'fire': 78, 'ash': 5982, 'tree1': 705, 'tree2': 504, 'tree3': 444, 'tree4': 369}\n",
      "--- STEP 90 begin ---\n",
      "77\n",
      "New state: {'fire': 79, 'ash': 6058, 'tree1': 686, 'tree2': 486, 'tree3': 420, 'tree4': 353}\n",
      "--- STEP 91 begin ---\n",
      "62\n",
      "New state: {'fire': 64, 'ash': 6135, 'tree1': 668, 'tree2': 471, 'tree3': 406, 'tree4': 338}\n",
      "--- STEP 92 begin ---\n",
      "70\n",
      "New state: {'fire': 72, 'ash': 6197, 'tree1': 648, 'tree2': 454, 'tree3': 391, 'tree4': 320}\n",
      "--- STEP 93 begin ---\n",
      "63\n",
      "New state: {'fire': 65, 'ash': 6267, 'tree1': 630, 'tree2': 442, 'tree3': 377, 'tree4': 301}\n",
      "--- STEP 94 begin ---\n",
      "65\n",
      "New state: {'fire': 67, 'ash': 6330, 'tree1': 615, 'tree2': 426, 'tree3': 358, 'tree4': 286}\n",
      "--- STEP 95 begin ---\n",
      "52\n",
      "New state: {'fire': 54, 'ash': 6395, 'tree1': 606, 'tree2': 412, 'tree3': 344, 'tree4': 271}\n",
      "--- STEP 96 begin ---\n",
      "57\n",
      "New state: {'fire': 59, 'ash': 6447, 'tree1': 592, 'tree2': 400, 'tree3': 329, 'tree4': 255}\n",
      "--- STEP 97 begin ---\n",
      "48\n",
      "New state: {'fire': 50, 'ash': 6504, 'tree1': 584, 'tree2': 389, 'tree3': 311, 'tree4': 244}\n",
      "--- STEP 98 begin ---\n",
      "48\n",
      "New state: {'fire': 50, 'ash': 6552, 'tree1': 571, 'tree2': 383, 'tree3': 300, 'tree4': 226}\n",
      "--- STEP 99 begin ---\n",
      "63\n",
      "New state: {'fire': 65, 'ash': 6600, 'tree1': 558, 'tree2': 369, 'tree3': 282, 'tree4': 208}\n",
      "--- STEP 100 begin ---\n",
      "54\n",
      "New state: {'fire': 56, 'ash': 6663, 'tree1': 546, 'tree2': 357, 'tree3': 266, 'tree4': 194}\n",
      "--- STEP 101 begin ---\n",
      "43\n",
      "New state: {'fire': 45, 'ash': 6717, 'tree1': 537, 'tree2': 344, 'tree3': 255, 'tree4': 184}\n",
      "--- STEP 102 begin ---\n",
      "43\n",
      "New state: {'fire': 45, 'ash': 6760, 'tree1': 526, 'tree2': 335, 'tree3': 242, 'tree4': 174}\n",
      "--- STEP 103 begin ---\n",
      "32\n",
      "New state: {'fire': 34, 'ash': 6803, 'tree1': 515, 'tree2': 328, 'tree3': 236, 'tree4': 166}\n",
      "--- STEP 104 begin ---\n"
     ]
    },
    {
     "name": "stdout",
     "output_type": "stream",
     "text": [
      "34\n",
      "New state: {'fire': 36, 'ash': 6835, 'tree1': 504, 'tree2': 320, 'tree3': 231, 'tree4': 156}\n",
      "--- STEP 105 begin ---\n",
      "40\n",
      "New state: {'fire': 42, 'ash': 6869, 'tree1': 497, 'tree2': 307, 'tree3': 220, 'tree4': 147}\n",
      "--- STEP 106 begin ---\n",
      "30\n",
      "New state: {'fire': 32, 'ash': 6909, 'tree1': 492, 'tree2': 298, 'tree3': 209, 'tree4': 142}\n",
      "--- STEP 107 begin ---\n",
      "34\n",
      "New state: {'fire': 36, 'ash': 6939, 'tree1': 484, 'tree2': 295, 'tree3': 200, 'tree4': 128}\n",
      "--- STEP 108 begin ---\n",
      "23\n",
      "New state: {'fire': 25, 'ash': 6973, 'tree1': 477, 'tree2': 289, 'tree3': 198, 'tree4': 120}\n",
      "--- STEP 109 begin ---\n",
      "20\n",
      "New state: {'fire': 22, 'ash': 6996, 'tree1': 472, 'tree2': 283, 'tree3': 193, 'tree4': 116}\n",
      "--- STEP 110 begin ---\n",
      "12\n",
      "New state: {'fire': 14, 'ash': 7016, 'tree1': 468, 'tree2': 279, 'tree3': 189, 'tree4': 116}\n",
      "--- STEP 111 begin ---\n",
      "9\n",
      "New state: {'fire': 11, 'ash': 7028, 'tree1': 464, 'tree2': 278, 'tree3': 186, 'tree4': 115}\n",
      "--- STEP 112 begin ---\n",
      "3\n",
      "New state: {'fire': 5, 'ash': 7037, 'tree1': 463, 'tree2': 278, 'tree3': 186, 'tree4': 113}\n",
      "--- STEP 113 begin ---\n",
      "2\n",
      "New state: {'fire': 4, 'ash': 7040, 'tree1': 463, 'tree2': 278, 'tree3': 185, 'tree4': 112}\n",
      "--- STEP 114 begin ---\n",
      "3\n",
      "New state: {'fire': 5, 'ash': 7042, 'tree1': 462, 'tree2': 277, 'tree3': 185, 'tree4': 111}\n",
      "--- STEP 115 begin ---\n",
      "2\n",
      "New state: {'fire': 4, 'ash': 7045, 'tree1': 462, 'tree2': 277, 'tree3': 185, 'tree4': 109}\n",
      "--- STEP 116 begin ---\n",
      "0\n",
      "New state: {'fire': 2, 'ash': 7047, 'tree1': 462, 'tree2': 277, 'tree3': 185, 'tree4': 109}\n",
      "Fire is dead...\n"
     ]
    },
    {
     "data": {
      "text/plain": [
       "<Figure size 720x720 with 0 Axes>"
      ]
     },
     "metadata": {},
     "output_type": "display_data"
    },
    {
     "data": {
      "text/plain": [
       "<Figure size 720x720 with 0 Axes>"
      ]
     },
     "metadata": {},
     "output_type": "display_data"
    },
    {
     "data": {
      "text/plain": [
       "<Figure size 720x720 with 0 Axes>"
      ]
     },
     "metadata": {},
     "output_type": "display_data"
    },
    {
     "data": {
      "text/plain": [
       "<Figure size 720x720 with 0 Axes>"
      ]
     },
     "metadata": {},
     "output_type": "display_data"
    },
    {
     "data": {
      "text/plain": [
       "<Figure size 720x720 with 0 Axes>"
      ]
     },
     "metadata": {},
     "output_type": "display_data"
    },
    {
     "data": {
      "text/plain": [
       "<Figure size 720x720 with 0 Axes>"
      ]
     },
     "metadata": {},
     "output_type": "display_data"
    },
    {
     "data": {
      "text/plain": [
       "<Figure size 720x720 with 0 Axes>"
      ]
     },
     "metadata": {},
     "output_type": "display_data"
    },
    {
     "data": {
      "text/plain": [
       "<Figure size 720x720 with 0 Axes>"
      ]
     },
     "metadata": {},
     "output_type": "display_data"
    },
    {
     "data": {
      "text/plain": [
       "<Figure size 720x720 with 0 Axes>"
      ]
     },
     "metadata": {},
     "output_type": "display_data"
    },
    {
     "data": {
      "text/plain": [
       "<Figure size 720x720 with 0 Axes>"
      ]
     },
     "metadata": {},
     "output_type": "display_data"
    },
    {
     "data": {
      "text/plain": [
       "<Figure size 720x720 with 0 Axes>"
      ]
     },
     "metadata": {},
     "output_type": "display_data"
    },
    {
     "data": {
      "text/plain": [
       "<Figure size 720x720 with 0 Axes>"
      ]
     },
     "metadata": {},
     "output_type": "display_data"
    },
    {
     "data": {
      "text/plain": [
       "<Figure size 720x720 with 0 Axes>"
      ]
     },
     "metadata": {},
     "output_type": "display_data"
    },
    {
     "data": {
      "text/plain": [
       "<Figure size 720x720 with 0 Axes>"
      ]
     },
     "metadata": {},
     "output_type": "display_data"
    },
    {
     "data": {
      "text/plain": [
       "<Figure size 720x720 with 0 Axes>"
      ]
     },
     "metadata": {},
     "output_type": "display_data"
    },
    {
     "data": {
      "text/plain": [
       "<Figure size 720x720 with 0 Axes>"
      ]
     },
     "metadata": {},
     "output_type": "display_data"
    },
    {
     "data": {
      "text/plain": [
       "<Figure size 720x720 with 0 Axes>"
      ]
     },
     "metadata": {},
     "output_type": "display_data"
    },
    {
     "data": {
      "text/plain": [
       "<Figure size 720x720 with 0 Axes>"
      ]
     },
     "metadata": {},
     "output_type": "display_data"
    },
    {
     "data": {
      "text/plain": [
       "<Figure size 720x720 with 0 Axes>"
      ]
     },
     "metadata": {},
     "output_type": "display_data"
    },
    {
     "data": {
      "text/plain": [
       "<Figure size 720x720 with 0 Axes>"
      ]
     },
     "metadata": {},
     "output_type": "display_data"
    },
    {
     "data": {
      "text/plain": [
       "<Figure size 720x720 with 0 Axes>"
      ]
     },
     "metadata": {},
     "output_type": "display_data"
    },
    {
     "data": {
      "text/plain": [
       "<Figure size 720x720 with 0 Axes>"
      ]
     },
     "metadata": {},
     "output_type": "display_data"
    },
    {
     "data": {
      "text/plain": [
       "<Figure size 720x720 with 0 Axes>"
      ]
     },
     "metadata": {},
     "output_type": "display_data"
    },
    {
     "data": {
      "text/plain": [
       "<Figure size 720x720 with 0 Axes>"
      ]
     },
     "metadata": {},
     "output_type": "display_data"
    },
    {
     "data": {
      "text/plain": [
       "<Figure size 720x720 with 0 Axes>"
      ]
     },
     "metadata": {},
     "output_type": "display_data"
    },
    {
     "data": {
      "text/plain": [
       "<Figure size 720x720 with 0 Axes>"
      ]
     },
     "metadata": {},
     "output_type": "display_data"
    },
    {
     "data": {
      "text/plain": [
       "<Figure size 720x720 with 0 Axes>"
      ]
     },
     "metadata": {},
     "output_type": "display_data"
    },
    {
     "data": {
      "text/plain": [
       "<Figure size 720x720 with 0 Axes>"
      ]
     },
     "metadata": {},
     "output_type": "display_data"
    },
    {
     "data": {
      "text/plain": [
       "<Figure size 720x720 with 0 Axes>"
      ]
     },
     "metadata": {},
     "output_type": "display_data"
    },
    {
     "data": {
      "text/plain": [
       "<Figure size 720x720 with 0 Axes>"
      ]
     },
     "metadata": {},
     "output_type": "display_data"
    },
    {
     "data": {
      "text/plain": [
       "<Figure size 720x720 with 0 Axes>"
      ]
     },
     "metadata": {},
     "output_type": "display_data"
    },
    {
     "data": {
      "text/plain": [
       "<Figure size 720x720 with 0 Axes>"
      ]
     },
     "metadata": {},
     "output_type": "display_data"
    },
    {
     "data": {
      "text/plain": [
       "<Figure size 720x720 with 0 Axes>"
      ]
     },
     "metadata": {},
     "output_type": "display_data"
    },
    {
     "data": {
      "text/plain": [
       "<Figure size 720x720 with 0 Axes>"
      ]
     },
     "metadata": {},
     "output_type": "display_data"
    },
    {
     "data": {
      "text/plain": [
       "<Figure size 720x720 with 0 Axes>"
      ]
     },
     "metadata": {},
     "output_type": "display_data"
    },
    {
     "data": {
      "text/plain": [
       "<Figure size 720x720 with 0 Axes>"
      ]
     },
     "metadata": {},
     "output_type": "display_data"
    },
    {
     "data": {
      "text/plain": [
       "<Figure size 720x720 with 0 Axes>"
      ]
     },
     "metadata": {},
     "output_type": "display_data"
    },
    {
     "data": {
      "text/plain": [
       "<Figure size 720x720 with 0 Axes>"
      ]
     },
     "metadata": {},
     "output_type": "display_data"
    },
    {
     "data": {
      "text/plain": [
       "<Figure size 720x720 with 0 Axes>"
      ]
     },
     "metadata": {},
     "output_type": "display_data"
    },
    {
     "data": {
      "text/plain": [
       "<Figure size 720x720 with 0 Axes>"
      ]
     },
     "metadata": {},
     "output_type": "display_data"
    },
    {
     "data": {
      "text/plain": [
       "<Figure size 720x720 with 0 Axes>"
      ]
     },
     "metadata": {},
     "output_type": "display_data"
    },
    {
     "data": {
      "text/plain": [
       "<Figure size 720x720 with 0 Axes>"
      ]
     },
     "metadata": {},
     "output_type": "display_data"
    },
    {
     "data": {
      "text/plain": [
       "<Figure size 720x720 with 0 Axes>"
      ]
     },
     "metadata": {},
     "output_type": "display_data"
    },
    {
     "data": {
      "text/plain": [
       "<Figure size 720x720 with 0 Axes>"
      ]
     },
     "metadata": {},
     "output_type": "display_data"
    },
    {
     "data": {
      "text/plain": [
       "<Figure size 720x720 with 0 Axes>"
      ]
     },
     "metadata": {},
     "output_type": "display_data"
    },
    {
     "data": {
      "text/plain": [
       "<Figure size 720x720 with 0 Axes>"
      ]
     },
     "metadata": {},
     "output_type": "display_data"
    },
    {
     "data": {
      "text/plain": [
       "<Figure size 720x720 with 0 Axes>"
      ]
     },
     "metadata": {},
     "output_type": "display_data"
    },
    {
     "data": {
      "text/plain": [
       "<Figure size 720x720 with 0 Axes>"
      ]
     },
     "metadata": {},
     "output_type": "display_data"
    },
    {
     "data": {
      "text/plain": [
       "<Figure size 720x720 with 0 Axes>"
      ]
     },
     "metadata": {},
     "output_type": "display_data"
    },
    {
     "data": {
      "text/plain": [
       "<Figure size 720x720 with 0 Axes>"
      ]
     },
     "metadata": {},
     "output_type": "display_data"
    },
    {
     "data": {
      "text/plain": [
       "<Figure size 720x720 with 0 Axes>"
      ]
     },
     "metadata": {},
     "output_type": "display_data"
    },
    {
     "data": {
      "text/plain": [
       "<Figure size 720x720 with 0 Axes>"
      ]
     },
     "metadata": {},
     "output_type": "display_data"
    },
    {
     "data": {
      "text/plain": [
       "<Figure size 720x720 with 0 Axes>"
      ]
     },
     "metadata": {},
     "output_type": "display_data"
    },
    {
     "data": {
      "text/plain": [
       "<Figure size 720x720 with 0 Axes>"
      ]
     },
     "metadata": {},
     "output_type": "display_data"
    },
    {
     "data": {
      "text/plain": [
       "<Figure size 720x720 with 0 Axes>"
      ]
     },
     "metadata": {},
     "output_type": "display_data"
    },
    {
     "data": {
      "text/plain": [
       "<Figure size 720x720 with 0 Axes>"
      ]
     },
     "metadata": {},
     "output_type": "display_data"
    },
    {
     "data": {
      "text/plain": [
       "<Figure size 720x720 with 0 Axes>"
      ]
     },
     "metadata": {},
     "output_type": "display_data"
    },
    {
     "data": {
      "text/plain": [
       "<Figure size 720x720 with 0 Axes>"
      ]
     },
     "metadata": {},
     "output_type": "display_data"
    },
    {
     "data": {
      "text/plain": [
       "<Figure size 720x720 with 0 Axes>"
      ]
     },
     "metadata": {},
     "output_type": "display_data"
    },
    {
     "data": {
      "text/plain": [
       "<Figure size 720x720 with 0 Axes>"
      ]
     },
     "metadata": {},
     "output_type": "display_data"
    },
    {
     "data": {
      "text/plain": [
       "<Figure size 720x720 with 0 Axes>"
      ]
     },
     "metadata": {},
     "output_type": "display_data"
    },
    {
     "data": {
      "text/plain": [
       "<Figure size 720x720 with 0 Axes>"
      ]
     },
     "metadata": {},
     "output_type": "display_data"
    },
    {
     "data": {
      "text/plain": [
       "<Figure size 720x720 with 0 Axes>"
      ]
     },
     "metadata": {},
     "output_type": "display_data"
    },
    {
     "data": {
      "text/plain": [
       "<Figure size 720x720 with 0 Axes>"
      ]
     },
     "metadata": {},
     "output_type": "display_data"
    },
    {
     "data": {
      "text/plain": [
       "<Figure size 720x720 with 0 Axes>"
      ]
     },
     "metadata": {},
     "output_type": "display_data"
    },
    {
     "data": {
      "text/plain": [
       "<Figure size 720x720 with 0 Axes>"
      ]
     },
     "metadata": {},
     "output_type": "display_data"
    },
    {
     "data": {
      "text/plain": [
       "<Figure size 720x720 with 0 Axes>"
      ]
     },
     "metadata": {},
     "output_type": "display_data"
    },
    {
     "data": {
      "text/plain": [
       "<Figure size 720x720 with 0 Axes>"
      ]
     },
     "metadata": {},
     "output_type": "display_data"
    },
    {
     "data": {
      "text/plain": [
       "<Figure size 720x720 with 0 Axes>"
      ]
     },
     "metadata": {},
     "output_type": "display_data"
    },
    {
     "data": {
      "text/plain": [
       "<Figure size 720x720 with 0 Axes>"
      ]
     },
     "metadata": {},
     "output_type": "display_data"
    },
    {
     "data": {
      "text/plain": [
       "<Figure size 720x720 with 0 Axes>"
      ]
     },
     "metadata": {},
     "output_type": "display_data"
    },
    {
     "data": {
      "text/plain": [
       "<Figure size 720x720 with 0 Axes>"
      ]
     },
     "metadata": {},
     "output_type": "display_data"
    },
    {
     "data": {
      "text/plain": [
       "<Figure size 720x720 with 0 Axes>"
      ]
     },
     "metadata": {},
     "output_type": "display_data"
    },
    {
     "data": {
      "text/plain": [
       "<Figure size 720x720 with 0 Axes>"
      ]
     },
     "metadata": {},
     "output_type": "display_data"
    },
    {
     "data": {
      "text/plain": [
       "<Figure size 720x720 with 0 Axes>"
      ]
     },
     "metadata": {},
     "output_type": "display_data"
    },
    {
     "data": {
      "text/plain": [
       "<Figure size 720x720 with 0 Axes>"
      ]
     },
     "metadata": {},
     "output_type": "display_data"
    },
    {
     "data": {
      "text/plain": [
       "<Figure size 720x720 with 0 Axes>"
      ]
     },
     "metadata": {},
     "output_type": "display_data"
    },
    {
     "data": {
      "text/plain": [
       "<Figure size 720x720 with 0 Axes>"
      ]
     },
     "metadata": {},
     "output_type": "display_data"
    },
    {
     "data": {
      "text/plain": [
       "<Figure size 720x720 with 0 Axes>"
      ]
     },
     "metadata": {},
     "output_type": "display_data"
    },
    {
     "data": {
      "text/plain": [
       "<Figure size 720x720 with 0 Axes>"
      ]
     },
     "metadata": {},
     "output_type": "display_data"
    },
    {
     "data": {
      "text/plain": [
       "<Figure size 720x720 with 0 Axes>"
      ]
     },
     "metadata": {},
     "output_type": "display_data"
    },
    {
     "data": {
      "text/plain": [
       "<Figure size 720x720 with 0 Axes>"
      ]
     },
     "metadata": {},
     "output_type": "display_data"
    },
    {
     "data": {
      "text/plain": [
       "<Figure size 720x720 with 0 Axes>"
      ]
     },
     "metadata": {},
     "output_type": "display_data"
    },
    {
     "data": {
      "text/plain": [
       "<Figure size 720x720 with 0 Axes>"
      ]
     },
     "metadata": {},
     "output_type": "display_data"
    },
    {
     "data": {
      "text/plain": [
       "<Figure size 720x720 with 0 Axes>"
      ]
     },
     "metadata": {},
     "output_type": "display_data"
    },
    {
     "data": {
      "text/plain": [
       "<Figure size 720x720 with 0 Axes>"
      ]
     },
     "metadata": {},
     "output_type": "display_data"
    },
    {
     "data": {
      "text/plain": [
       "<Figure size 720x720 with 0 Axes>"
      ]
     },
     "metadata": {},
     "output_type": "display_data"
    },
    {
     "data": {
      "text/plain": [
       "<Figure size 720x720 with 0 Axes>"
      ]
     },
     "metadata": {},
     "output_type": "display_data"
    },
    {
     "data": {
      "text/plain": [
       "<Figure size 720x720 with 0 Axes>"
      ]
     },
     "metadata": {},
     "output_type": "display_data"
    },
    {
     "data": {
      "text/plain": [
       "<Figure size 720x720 with 0 Axes>"
      ]
     },
     "metadata": {},
     "output_type": "display_data"
    },
    {
     "data": {
      "text/plain": [
       "<Figure size 720x720 with 0 Axes>"
      ]
     },
     "metadata": {},
     "output_type": "display_data"
    },
    {
     "data": {
      "text/plain": [
       "<Figure size 720x720 with 0 Axes>"
      ]
     },
     "metadata": {},
     "output_type": "display_data"
    },
    {
     "data": {
      "text/plain": [
       "<Figure size 720x720 with 0 Axes>"
      ]
     },
     "metadata": {},
     "output_type": "display_data"
    },
    {
     "data": {
      "text/plain": [
       "<Figure size 720x720 with 0 Axes>"
      ]
     },
     "metadata": {},
     "output_type": "display_data"
    },
    {
     "data": {
      "text/plain": [
       "<Figure size 720x720 with 0 Axes>"
      ]
     },
     "metadata": {},
     "output_type": "display_data"
    },
    {
     "data": {
      "text/plain": [
       "<Figure size 720x720 with 0 Axes>"
      ]
     },
     "metadata": {},
     "output_type": "display_data"
    },
    {
     "data": {
      "text/plain": [
       "<Figure size 720x720 with 0 Axes>"
      ]
     },
     "metadata": {},
     "output_type": "display_data"
    },
    {
     "data": {
      "text/plain": [
       "<Figure size 720x720 with 0 Axes>"
      ]
     },
     "metadata": {},
     "output_type": "display_data"
    },
    {
     "data": {
      "text/plain": [
       "<Figure size 720x720 with 0 Axes>"
      ]
     },
     "metadata": {},
     "output_type": "display_data"
    },
    {
     "data": {
      "text/plain": [
       "<Figure size 720x720 with 0 Axes>"
      ]
     },
     "metadata": {},
     "output_type": "display_data"
    },
    {
     "data": {
      "text/plain": [
       "<Figure size 720x720 with 0 Axes>"
      ]
     },
     "metadata": {},
     "output_type": "display_data"
    },
    {
     "data": {
      "text/plain": [
       "<Figure size 720x720 with 0 Axes>"
      ]
     },
     "metadata": {},
     "output_type": "display_data"
    },
    {
     "data": {
      "text/plain": [
       "<Figure size 720x720 with 0 Axes>"
      ]
     },
     "metadata": {},
     "output_type": "display_data"
    },
    {
     "data": {
      "text/plain": [
       "<Figure size 720x720 with 0 Axes>"
      ]
     },
     "metadata": {},
     "output_type": "display_data"
    },
    {
     "data": {
      "text/plain": [
       "<Figure size 720x720 with 0 Axes>"
      ]
     },
     "metadata": {},
     "output_type": "display_data"
    },
    {
     "data": {
      "text/plain": [
       "<Figure size 720x720 with 0 Axes>"
      ]
     },
     "metadata": {},
     "output_type": "display_data"
    },
    {
     "data": {
      "text/plain": [
       "<Figure size 720x720 with 0 Axes>"
      ]
     },
     "metadata": {},
     "output_type": "display_data"
    },
    {
     "data": {
      "text/plain": [
       "<Figure size 720x720 with 0 Axes>"
      ]
     },
     "metadata": {},
     "output_type": "display_data"
    },
    {
     "data": {
      "text/plain": [
       "<Figure size 720x720 with 0 Axes>"
      ]
     },
     "metadata": {},
     "output_type": "display_data"
    },
    {
     "data": {
      "text/plain": [
       "<Figure size 720x720 with 0 Axes>"
      ]
     },
     "metadata": {},
     "output_type": "display_data"
    },
    {
     "data": {
      "text/plain": [
       "<Figure size 720x720 with 0 Axes>"
      ]
     },
     "metadata": {},
     "output_type": "display_data"
    },
    {
     "data": {
      "text/plain": [
       "<Figure size 720x720 with 0 Axes>"
      ]
     },
     "metadata": {},
     "output_type": "display_data"
    },
    {
     "data": {
      "text/plain": [
       "<Figure size 720x720 with 0 Axes>"
      ]
     },
     "metadata": {},
     "output_type": "display_data"
    },
    {
     "data": {
      "text/plain": [
       "<Figure size 720x720 with 0 Axes>"
      ]
     },
     "metadata": {},
     "output_type": "display_data"
    },
    {
     "data": {
      "text/plain": [
       "<Figure size 720x720 with 0 Axes>"
      ]
     },
     "metadata": {},
     "output_type": "display_data"
    },
    {
     "data": {
      "text/plain": [
       "<Figure size 720x720 with 0 Axes>"
      ]
     },
     "metadata": {},
     "output_type": "display_data"
    },
    {
     "data": {
      "text/plain": [
       "<Figure size 720x720 with 0 Axes>"
      ]
     },
     "metadata": {},
     "output_type": "display_data"
    },
    {
     "data": {
      "text/plain": [
       "<Figure size 720x720 with 0 Axes>"
      ]
     },
     "metadata": {},
     "output_type": "display_data"
    },
    {
     "data": {
      "text/plain": [
       "<Figure size 720x720 with 0 Axes>"
      ]
     },
     "metadata": {},
     "output_type": "display_data"
    },
    {
     "data": {
      "text/plain": [
       "<Figure size 720x720 with 0 Axes>"
      ]
     },
     "metadata": {},
     "output_type": "display_data"
    },
    {
     "data": {
      "text/plain": [
       "<Figure size 720x720 with 0 Axes>"
      ]
     },
     "metadata": {},
     "output_type": "display_data"
    },
    {
     "data": {
      "text/plain": [
       "<Figure size 720x720 with 0 Axes>"
      ]
     },
     "metadata": {},
     "output_type": "display_data"
    },
    {
     "data": {
      "text/plain": [
       "<Figure size 720x720 with 0 Axes>"
      ]
     },
     "metadata": {},
     "output_type": "display_data"
    },
    {
     "data": {
      "text/plain": [
       "<Figure size 720x720 with 0 Axes>"
      ]
     },
     "metadata": {},
     "output_type": "display_data"
    },
    {
     "data": {
      "text/plain": [
       "<Figure size 720x720 with 0 Axes>"
      ]
     },
     "metadata": {},
     "output_type": "display_data"
    },
    {
     "data": {
      "text/plain": [
       "<Figure size 720x720 with 0 Axes>"
      ]
     },
     "metadata": {},
     "output_type": "display_data"
    },
    {
     "data": {
      "text/plain": [
       "<Figure size 720x720 with 0 Axes>"
      ]
     },
     "metadata": {},
     "output_type": "display_data"
    },
    {
     "data": {
      "text/plain": [
       "<Figure size 720x720 with 0 Axes>"
      ]
     },
     "metadata": {},
     "output_type": "display_data"
    },
    {
     "data": {
      "text/plain": [
       "<Figure size 720x720 with 0 Axes>"
      ]
     },
     "metadata": {},
     "output_type": "display_data"
    },
    {
     "data": {
      "text/plain": [
       "<Figure size 720x720 with 0 Axes>"
      ]
     },
     "metadata": {},
     "output_type": "display_data"
    },
    {
     "data": {
      "text/plain": [
       "<Figure size 720x720 with 0 Axes>"
      ]
     },
     "metadata": {},
     "output_type": "display_data"
    },
    {
     "data": {
      "text/plain": [
       "<Figure size 720x720 with 0 Axes>"
      ]
     },
     "metadata": {},
     "output_type": "display_data"
    },
    {
     "data": {
      "text/plain": [
       "<Figure size 720x720 with 0 Axes>"
      ]
     },
     "metadata": {},
     "output_type": "display_data"
    },
    {
     "data": {
      "text/plain": [
       "<Figure size 720x720 with 0 Axes>"
      ]
     },
     "metadata": {},
     "output_type": "display_data"
    },
    {
     "data": {
      "text/plain": [
       "<Figure size 720x720 with 0 Axes>"
      ]
     },
     "metadata": {},
     "output_type": "display_data"
    },
    {
     "data": {
      "text/plain": [
       "<Figure size 720x720 with 0 Axes>"
      ]
     },
     "metadata": {},
     "output_type": "display_data"
    },
    {
     "data": {
      "text/plain": [
       "<Figure size 720x720 with 0 Axes>"
      ]
     },
     "metadata": {},
     "output_type": "display_data"
    },
    {
     "data": {
      "text/plain": [
       "<Figure size 720x720 with 0 Axes>"
      ]
     },
     "metadata": {},
     "output_type": "display_data"
    },
    {
     "data": {
      "text/plain": [
       "<Figure size 720x720 with 0 Axes>"
      ]
     },
     "metadata": {},
     "output_type": "display_data"
    },
    {
     "data": {
      "text/plain": [
       "<Figure size 720x720 with 0 Axes>"
      ]
     },
     "metadata": {},
     "output_type": "display_data"
    },
    {
     "data": {
      "text/plain": [
       "<Figure size 720x720 with 0 Axes>"
      ]
     },
     "metadata": {},
     "output_type": "display_data"
    },
    {
     "data": {
      "text/plain": [
       "<Figure size 720x720 with 0 Axes>"
      ]
     },
     "metadata": {},
     "output_type": "display_data"
    },
    {
     "data": {
      "text/plain": [
       "<Figure size 720x720 with 0 Axes>"
      ]
     },
     "metadata": {},
     "output_type": "display_data"
    },
    {
     "data": {
      "text/plain": [
       "<Figure size 720x720 with 0 Axes>"
      ]
     },
     "metadata": {},
     "output_type": "display_data"
    },
    {
     "data": {
      "text/plain": [
       "<Figure size 720x720 with 0 Axes>"
      ]
     },
     "metadata": {},
     "output_type": "display_data"
    },
    {
     "data": {
      "text/plain": [
       "<Figure size 720x720 with 0 Axes>"
      ]
     },
     "metadata": {},
     "output_type": "display_data"
    },
    {
     "data": {
      "text/plain": [
       "<Figure size 720x720 with 0 Axes>"
      ]
     },
     "metadata": {},
     "output_type": "display_data"
    },
    {
     "data": {
      "text/plain": [
       "<Figure size 720x720 with 0 Axes>"
      ]
     },
     "metadata": {},
     "output_type": "display_data"
    },
    {
     "data": {
      "text/plain": [
       "<Figure size 720x720 with 0 Axes>"
      ]
     },
     "metadata": {},
     "output_type": "display_data"
    },
    {
     "data": {
      "text/plain": [
       "<Figure size 720x720 with 0 Axes>"
      ]
     },
     "metadata": {},
     "output_type": "display_data"
    },
    {
     "data": {
      "text/plain": [
       "<Figure size 720x720 with 0 Axes>"
      ]
     },
     "metadata": {},
     "output_type": "display_data"
    },
    {
     "data": {
      "text/plain": [
       "<Figure size 720x720 with 0 Axes>"
      ]
     },
     "metadata": {},
     "output_type": "display_data"
    },
    {
     "data": {
      "text/plain": [
       "<Figure size 720x720 with 0 Axes>"
      ]
     },
     "metadata": {},
     "output_type": "display_data"
    },
    {
     "data": {
      "text/plain": [
       "<Figure size 720x720 with 0 Axes>"
      ]
     },
     "metadata": {},
     "output_type": "display_data"
    },
    {
     "data": {
      "text/plain": [
       "<Figure size 720x720 with 0 Axes>"
      ]
     },
     "metadata": {},
     "output_type": "display_data"
    },
    {
     "data": {
      "text/plain": [
       "<Figure size 720x720 with 0 Axes>"
      ]
     },
     "metadata": {},
     "output_type": "display_data"
    },
    {
     "data": {
      "text/plain": [
       "<Figure size 720x720 with 0 Axes>"
      ]
     },
     "metadata": {},
     "output_type": "display_data"
    },
    {
     "data": {
      "text/plain": [
       "<Figure size 720x720 with 0 Axes>"
      ]
     },
     "metadata": {},
     "output_type": "display_data"
    },
    {
     "data": {
      "text/plain": [
       "<Figure size 720x720 with 0 Axes>"
      ]
     },
     "metadata": {},
     "output_type": "display_data"
    },
    {
     "data": {
      "text/plain": [
       "<Figure size 720x720 with 0 Axes>"
      ]
     },
     "metadata": {},
     "output_type": "display_data"
    },
    {
     "data": {
      "text/plain": [
       "<Figure size 720x720 with 0 Axes>"
      ]
     },
     "metadata": {},
     "output_type": "display_data"
    },
    {
     "data": {
      "text/plain": [
       "<Figure size 720x720 with 0 Axes>"
      ]
     },
     "metadata": {},
     "output_type": "display_data"
    },
    {
     "data": {
      "text/plain": [
       "<Figure size 720x720 with 0 Axes>"
      ]
     },
     "metadata": {},
     "output_type": "display_data"
    },
    {
     "data": {
      "text/plain": [
       "<Figure size 720x720 with 0 Axes>"
      ]
     },
     "metadata": {},
     "output_type": "display_data"
    },
    {
     "data": {
      "text/plain": [
       "<Figure size 720x720 with 0 Axes>"
      ]
     },
     "metadata": {},
     "output_type": "display_data"
    },
    {
     "data": {
      "text/plain": [
       "<Figure size 720x720 with 0 Axes>"
      ]
     },
     "metadata": {},
     "output_type": "display_data"
    },
    {
     "data": {
      "text/plain": [
       "<Figure size 720x720 with 0 Axes>"
      ]
     },
     "metadata": {},
     "output_type": "display_data"
    },
    {
     "data": {
      "text/plain": [
       "<Figure size 720x720 with 0 Axes>"
      ]
     },
     "metadata": {},
     "output_type": "display_data"
    },
    {
     "data": {
      "text/plain": [
       "<Figure size 720x720 with 0 Axes>"
      ]
     },
     "metadata": {},
     "output_type": "display_data"
    },
    {
     "data": {
      "text/plain": [
       "<Figure size 720x720 with 0 Axes>"
      ]
     },
     "metadata": {},
     "output_type": "display_data"
    },
    {
     "data": {
      "text/plain": [
       "<Figure size 720x720 with 0 Axes>"
      ]
     },
     "metadata": {},
     "output_type": "display_data"
    },
    {
     "data": {
      "text/plain": [
       "<Figure size 720x720 with 0 Axes>"
      ]
     },
     "metadata": {},
     "output_type": "display_data"
    },
    {
     "data": {
      "text/plain": [
       "<Figure size 720x720 with 0 Axes>"
      ]
     },
     "metadata": {},
     "output_type": "display_data"
    },
    {
     "data": {
      "text/plain": [
       "<Figure size 720x720 with 0 Axes>"
      ]
     },
     "metadata": {},
     "output_type": "display_data"
    },
    {
     "data": {
      "text/plain": [
       "<Figure size 720x720 with 0 Axes>"
      ]
     },
     "metadata": {},
     "output_type": "display_data"
    },
    {
     "data": {
      "text/plain": [
       "<Figure size 720x720 with 0 Axes>"
      ]
     },
     "metadata": {},
     "output_type": "display_data"
    },
    {
     "data": {
      "text/plain": [
       "<Figure size 720x720 with 0 Axes>"
      ]
     },
     "metadata": {},
     "output_type": "display_data"
    },
    {
     "data": {
      "text/plain": [
       "<Figure size 720x720 with 0 Axes>"
      ]
     },
     "metadata": {},
     "output_type": "display_data"
    },
    {
     "data": {
      "text/plain": [
       "<Figure size 720x720 with 0 Axes>"
      ]
     },
     "metadata": {},
     "output_type": "display_data"
    },
    {
     "data": {
      "text/plain": [
       "<Figure size 720x720 with 0 Axes>"
      ]
     },
     "metadata": {},
     "output_type": "display_data"
    },
    {
     "data": {
      "text/plain": [
       "<Figure size 720x720 with 0 Axes>"
      ]
     },
     "metadata": {},
     "output_type": "display_data"
    },
    {
     "data": {
      "text/plain": [
       "<Figure size 720x720 with 0 Axes>"
      ]
     },
     "metadata": {},
     "output_type": "display_data"
    },
    {
     "data": {
      "text/plain": [
       "<Figure size 720x720 with 0 Axes>"
      ]
     },
     "metadata": {},
     "output_type": "display_data"
    },
    {
     "data": {
      "text/plain": [
       "<Figure size 720x720 with 0 Axes>"
      ]
     },
     "metadata": {},
     "output_type": "display_data"
    },
    {
     "data": {
      "text/plain": [
       "<Figure size 720x720 with 0 Axes>"
      ]
     },
     "metadata": {},
     "output_type": "display_data"
    },
    {
     "data": {
      "text/plain": [
       "<Figure size 720x720 with 0 Axes>"
      ]
     },
     "metadata": {},
     "output_type": "display_data"
    },
    {
     "data": {
      "text/plain": [
       "<Figure size 720x720 with 0 Axes>"
      ]
     },
     "metadata": {},
     "output_type": "display_data"
    },
    {
     "data": {
      "text/plain": [
       "<Figure size 720x720 with 0 Axes>"
      ]
     },
     "metadata": {},
     "output_type": "display_data"
    },
    {
     "data": {
      "text/plain": [
       "<Figure size 720x720 with 0 Axes>"
      ]
     },
     "metadata": {},
     "output_type": "display_data"
    },
    {
     "data": {
      "text/plain": [
       "<Figure size 720x720 with 0 Axes>"
      ]
     },
     "metadata": {},
     "output_type": "display_data"
    },
    {
     "data": {
      "text/plain": [
       "<Figure size 720x720 with 0 Axes>"
      ]
     },
     "metadata": {},
     "output_type": "display_data"
    },
    {
     "data": {
      "text/plain": [
       "<Figure size 720x720 with 0 Axes>"
      ]
     },
     "metadata": {},
     "output_type": "display_data"
    },
    {
     "data": {
      "text/plain": [
       "<Figure size 720x720 with 0 Axes>"
      ]
     },
     "metadata": {},
     "output_type": "display_data"
    },
    {
     "data": {
      "text/plain": [
       "<Figure size 720x720 with 0 Axes>"
      ]
     },
     "metadata": {},
     "output_type": "display_data"
    },
    {
     "data": {
      "text/plain": [
       "<Figure size 720x720 with 0 Axes>"
      ]
     },
     "metadata": {},
     "output_type": "display_data"
    },
    {
     "data": {
      "text/plain": [
       "<Figure size 720x720 with 0 Axes>"
      ]
     },
     "metadata": {},
     "output_type": "display_data"
    },
    {
     "data": {
      "text/plain": [
       "<Figure size 720x720 with 0 Axes>"
      ]
     },
     "metadata": {},
     "output_type": "display_data"
    },
    {
     "data": {
      "text/plain": [
       "<Figure size 720x720 with 0 Axes>"
      ]
     },
     "metadata": {},
     "output_type": "display_data"
    },
    {
     "data": {
      "text/plain": [
       "<Figure size 720x720 with 0 Axes>"
      ]
     },
     "metadata": {},
     "output_type": "display_data"
    },
    {
     "data": {
      "text/plain": [
       "<Figure size 720x720 with 0 Axes>"
      ]
     },
     "metadata": {},
     "output_type": "display_data"
    },
    {
     "data": {
      "text/plain": [
       "<Figure size 720x720 with 0 Axes>"
      ]
     },
     "metadata": {},
     "output_type": "display_data"
    },
    {
     "data": {
      "text/plain": [
       "<Figure size 720x720 with 0 Axes>"
      ]
     },
     "metadata": {},
     "output_type": "display_data"
    },
    {
     "data": {
      "text/plain": [
       "<Figure size 720x720 with 0 Axes>"
      ]
     },
     "metadata": {},
     "output_type": "display_data"
    },
    {
     "data": {
      "text/plain": [
       "<Figure size 720x720 with 0 Axes>"
      ]
     },
     "metadata": {},
     "output_type": "display_data"
    },
    {
     "data": {
      "text/plain": [
       "<Figure size 720x720 with 0 Axes>"
      ]
     },
     "metadata": {},
     "output_type": "display_data"
    },
    {
     "data": {
      "text/plain": [
       "<Figure size 720x720 with 0 Axes>"
      ]
     },
     "metadata": {},
     "output_type": "display_data"
    },
    {
     "data": {
      "text/plain": [
       "<Figure size 720x720 with 0 Axes>"
      ]
     },
     "metadata": {},
     "output_type": "display_data"
    },
    {
     "data": {
      "text/plain": [
       "<Figure size 720x720 with 0 Axes>"
      ]
     },
     "metadata": {},
     "output_type": "display_data"
    },
    {
     "data": {
      "text/plain": [
       "<Figure size 720x720 with 0 Axes>"
      ]
     },
     "metadata": {},
     "output_type": "display_data"
    },
    {
     "data": {
      "text/plain": [
       "<Figure size 720x720 with 0 Axes>"
      ]
     },
     "metadata": {},
     "output_type": "display_data"
    },
    {
     "data": {
      "text/plain": [
       "<Figure size 720x720 with 0 Axes>"
      ]
     },
     "metadata": {},
     "output_type": "display_data"
    },
    {
     "data": {
      "text/plain": [
       "<Figure size 720x720 with 0 Axes>"
      ]
     },
     "metadata": {},
     "output_type": "display_data"
    },
    {
     "data": {
      "text/plain": [
       "<Figure size 720x720 with 0 Axes>"
      ]
     },
     "metadata": {},
     "output_type": "display_data"
    },
    {
     "data": {
      "text/plain": [
       "<Figure size 720x720 with 0 Axes>"
      ]
     },
     "metadata": {},
     "output_type": "display_data"
    },
    {
     "data": {
      "text/plain": [
       "<Figure size 720x720 with 0 Axes>"
      ]
     },
     "metadata": {},
     "output_type": "display_data"
    },
    {
     "data": {
      "text/plain": [
       "<Figure size 720x720 with 0 Axes>"
      ]
     },
     "metadata": {},
     "output_type": "display_data"
    },
    {
     "data": {
      "text/plain": [
       "<Figure size 720x720 with 0 Axes>"
      ]
     },
     "metadata": {},
     "output_type": "display_data"
    },
    {
     "data": {
      "text/plain": [
       "<Figure size 720x720 with 0 Axes>"
      ]
     },
     "metadata": {},
     "output_type": "display_data"
    },
    {
     "data": {
      "text/plain": [
       "<Figure size 720x720 with 0 Axes>"
      ]
     },
     "metadata": {},
     "output_type": "display_data"
    },
    {
     "data": {
      "text/plain": [
       "<Figure size 720x720 with 0 Axes>"
      ]
     },
     "metadata": {},
     "output_type": "display_data"
    },
    {
     "data": {
      "text/plain": [
       "<Figure size 720x720 with 0 Axes>"
      ]
     },
     "metadata": {},
     "output_type": "display_data"
    },
    {
     "data": {
      "text/plain": [
       "<Figure size 720x720 with 0 Axes>"
      ]
     },
     "metadata": {},
     "output_type": "display_data"
    },
    {
     "data": {
      "text/plain": [
       "<Figure size 720x720 with 0 Axes>"
      ]
     },
     "metadata": {},
     "output_type": "display_data"
    },
    {
     "data": {
      "text/plain": [
       "<Figure size 720x720 with 0 Axes>"
      ]
     },
     "metadata": {},
     "output_type": "display_data"
    },
    {
     "data": {
      "text/plain": [
       "<Figure size 720x720 with 0 Axes>"
      ]
     },
     "metadata": {},
     "output_type": "display_data"
    },
    {
     "data": {
      "text/plain": [
       "<Figure size 720x720 with 0 Axes>"
      ]
     },
     "metadata": {},
     "output_type": "display_data"
    },
    {
     "data": {
      "text/plain": [
       "<Figure size 720x720 with 0 Axes>"
      ]
     },
     "metadata": {},
     "output_type": "display_data"
    },
    {
     "data": {
      "text/plain": [
       "<Figure size 720x720 with 0 Axes>"
      ]
     },
     "metadata": {},
     "output_type": "display_data"
    },
    {
     "data": {
      "text/plain": [
       "<Figure size 720x720 with 0 Axes>"
      ]
     },
     "metadata": {},
     "output_type": "display_data"
    },
    {
     "data": {
      "text/plain": [
       "<Figure size 720x720 with 0 Axes>"
      ]
     },
     "metadata": {},
     "output_type": "display_data"
    },
    {
     "data": {
      "text/plain": [
       "<Figure size 720x720 with 0 Axes>"
      ]
     },
     "metadata": {},
     "output_type": "display_data"
    },
    {
     "data": {
      "text/plain": [
       "<Figure size 720x720 with 0 Axes>"
      ]
     },
     "metadata": {},
     "output_type": "display_data"
    },
    {
     "data": {
      "text/plain": [
       "<Figure size 720x720 with 0 Axes>"
      ]
     },
     "metadata": {},
     "output_type": "display_data"
    },
    {
     "data": {
      "text/plain": [
       "<Figure size 720x720 with 0 Axes>"
      ]
     },
     "metadata": {},
     "output_type": "display_data"
    },
    {
     "data": {
      "text/plain": [
       "<Figure size 720x720 with 0 Axes>"
      ]
     },
     "metadata": {},
     "output_type": "display_data"
    },
    {
     "data": {
      "text/plain": [
       "<Figure size 720x720 with 0 Axes>"
      ]
     },
     "metadata": {},
     "output_type": "display_data"
    },
    {
     "data": {
      "text/plain": [
       "<Figure size 720x720 with 0 Axes>"
      ]
     },
     "metadata": {},
     "output_type": "display_data"
    },
    {
     "data": {
      "text/plain": [
       "<Figure size 720x720 with 0 Axes>"
      ]
     },
     "metadata": {},
     "output_type": "display_data"
    },
    {
     "data": {
      "text/plain": [
       "<Figure size 720x720 with 0 Axes>"
      ]
     },
     "metadata": {},
     "output_type": "display_data"
    },
    {
     "data": {
      "text/plain": [
       "<Figure size 720x720 with 0 Axes>"
      ]
     },
     "metadata": {},
     "output_type": "display_data"
    },
    {
     "data": {
      "text/plain": [
       "<Figure size 720x720 with 0 Axes>"
      ]
     },
     "metadata": {},
     "output_type": "display_data"
    },
    {
     "data": {
      "text/plain": [
       "<Figure size 720x720 with 0 Axes>"
      ]
     },
     "metadata": {},
     "output_type": "display_data"
    },
    {
     "data": {
      "text/plain": [
       "<Figure size 720x720 with 0 Axes>"
      ]
     },
     "metadata": {},
     "output_type": "display_data"
    },
    {
     "data": {
      "text/plain": [
       "<Figure size 720x720 with 0 Axes>"
      ]
     },
     "metadata": {},
     "output_type": "display_data"
    },
    {
     "data": {
      "text/plain": [
       "<Figure size 720x720 with 0 Axes>"
      ]
     },
     "metadata": {},
     "output_type": "display_data"
    },
    {
     "data": {
      "text/plain": [
       "<Figure size 720x720 with 0 Axes>"
      ]
     },
     "metadata": {},
     "output_type": "display_data"
    },
    {
     "data": {
      "text/plain": [
       "<Figure size 720x720 with 0 Axes>"
      ]
     },
     "metadata": {},
     "output_type": "display_data"
    },
    {
     "data": {
      "text/plain": [
       "<Figure size 720x720 with 0 Axes>"
      ]
     },
     "metadata": {},
     "output_type": "display_data"
    },
    {
     "data": {
      "text/plain": [
       "<Figure size 720x720 with 0 Axes>"
      ]
     },
     "metadata": {},
     "output_type": "display_data"
    },
    {
     "data": {
      "text/plain": [
       "<Figure size 720x720 with 0 Axes>"
      ]
     },
     "metadata": {},
     "output_type": "display_data"
    },
    {
     "data": {
      "text/plain": [
       "<Figure size 720x720 with 0 Axes>"
      ]
     },
     "metadata": {},
     "output_type": "display_data"
    },
    {
     "data": {
      "text/plain": [
       "<Figure size 720x720 with 0 Axes>"
      ]
     },
     "metadata": {},
     "output_type": "display_data"
    },
    {
     "data": {
      "text/plain": [
       "<Figure size 720x720 with 0 Axes>"
      ]
     },
     "metadata": {},
     "output_type": "display_data"
    },
    {
     "data": {
      "text/plain": [
       "<Figure size 720x720 with 0 Axes>"
      ]
     },
     "metadata": {},
     "output_type": "display_data"
    }
   ],
   "source": [
    "grid_list = [(10,10), (20, 20), (30, 30), (40, 40), (50, 50), (100, 100)]\n",
    "\n",
    "for grid_size in grid_list:\n",
    "    forest, initial_state = generate_forest(grid_size, 100)\n",
    "    EXIST_CELLS = valid_cells(forest)\n",
    "    is_fire = True\n",
    "    state_list =[]\n",
    "    state_list.append(initial_state)\n",
    "    num_step = 0\n",
    "    plt.figure(figsize=(10,10))\n",
    "    plt.imshow(pallette[forest])\n",
    "    plt.savefig(str(num_step)+'.png')\n",
    "    plt.clf()\n",
    "    while(1):\n",
    "        print('--- STEP',num_step,'begin ---')\n",
    "        forest, is_fire, state = step(forest, is_fire, state_list[num_step])\n",
    "        print('New state:',state)\n",
    "        state_list.append(state.copy())\n",
    "        num_step+=1\n",
    "        plt.figure(figsize=(10,10))\n",
    "        plt.imshow(pallette[forest])\n",
    "        plt.savefig(str(num_step)+'.png')\n",
    "        plt.clf()\n",
    "        if is_fire is False:\n",
    "            print('Fire is dead...')\n",
    "            break\n",
    "    np.save('./data/state_list_'+str(grid_size), state_list)\n",
    "    filenames = []\n",
    "    for name in os.listdir():\n",
    "        if name[-3:] == 'png':\n",
    "            if name != 'aust-veg-map.png':\n",
    "                filenames.append(name)\n",
    "    filenames.sort(key=lambda x: float(x[:-4]))\n",
    "\n",
    "    create_gif(filenames, duration=0.8, name=str(grid_size))\n",
    "    # Reset images\n",
    "    for name in os.listdir():\n",
    "        if name[-3:] == 'png':\n",
    "            if name != 'aust-veg-map.png':\n",
    "                os.remove(name)"
   ]
  },
  {
   "cell_type": "code",
   "execution_count": null,
   "metadata": {},
   "outputs": [],
   "source": [
    "filenames = []\n",
    "for name in os.listdir():\n",
    "    if name[-3:] == 'png':\n",
    "        if name != 'aust-veg-map.png':\n",
    "            filenames.append(name)\n",
    "filenames.sort(key=lambda x: float(x[:-4]))\n",
    "\n",
    "create_gif(filenames, duration=0.8)"
   ]
  },
  {
   "cell_type": "markdown",
   "metadata": {},
   "source": [
    "### Data analyse"
   ]
  },
  {
   "cell_type": "code",
   "execution_count": 1,
   "metadata": {},
   "outputs": [],
   "source": [
    "density_val = [0.35, 0.45, 0.55, 0.65]"
   ]
  },
  {
   "cell_type": "code",
   "execution_count": 2,
   "metadata": {},
   "outputs": [],
   "source": [
    "def get_data(data):\n",
    "    fire_list = []\n",
    "    tree1_list = []\n",
    "    ash_list = []\n",
    "    tree2_list = []\n",
    "    tree3_list = []\n",
    "    tree4_list = []\n",
    "    for i in range(len(data)):\n",
    "        fire_list.append(data[i]['fire'])\n",
    "        tree1_list.append(data[i]['tree1'])\n",
    "        ash_list.append(data[i]['ash'])\n",
    "        tree2_list.append(data[i]['tree2'])\n",
    "        tree3_list.append(data[i]['tree3'])\n",
    "        tree4_list.append(data[i]['tree4'])\n",
    "    return tree1_list, tree2_list, tree3_list, tree4_list, fire_list, ash_list"
   ]
  },
  {
   "cell_type": "code",
   "execution_count": 3,
   "metadata": {},
   "outputs": [],
   "source": [
    "def get_burned_trees(tree_list):\n",
    "    burn_list = (tree_list[0]-tree_list[-1])*100/tree_list[0]\n",
    "    return burn_list\n",
    "\n",
    "def get_remain_trees(tree_list):\n",
    "    remain_list = (tree_list[-1])*100/tree_list[0]\n",
    "    return remain_list"
   ]
  },
  {
   "cell_type": "code",
   "execution_count": 6,
   "metadata": {},
   "outputs": [],
   "source": [
    "grid10 = get_data(np.load('data/state_list_(10, 10).npy', allow_pickle=True))\n",
    "grid20 = get_data(np.load('data/state_list_(20, 20).npy', allow_pickle=True))\n",
    "grid30 = get_data(np.load('data/state_list_(30, 30).npy', allow_pickle=True))\n",
    "grid40 = get_data(np.load('data/state_list_(40, 40).npy', allow_pickle=True))\n",
    "grid50 = get_data(np.load('data/state_list_(50, 50).npy', allow_pickle=True))\n",
    "grid100 = get_data(np.load('data/state_list_(100, 100).npy', allow_pickle=True))"
   ]
  },
  {
   "cell_type": "code",
   "execution_count": 7,
   "metadata": {},
   "outputs": [],
   "source": [
    "burn_trees10 = [get_burned_trees(grid10[i]) for i in range(4)]\n",
    "burn_trees20 = [get_burned_trees(grid20[i]) for i in range(4)]\n",
    "burn_trees30 = [get_burned_trees(grid30[i]) for i in range(4)]\n",
    "burn_trees40 = [get_burned_trees(grid40[i]) for i in range(4)]\n",
    "burn_trees50 = [get_burned_trees(grid50[i]) for i in range(4)]\n",
    "burn_trees100 = [get_burned_trees(grid100[i]) for i in range(4)]"
   ]
  },
  {
   "cell_type": "code",
   "execution_count": 8,
   "metadata": {},
   "outputs": [],
   "source": [
    "rem_trees10 = [get_remain_trees(grid10[i]) for i in range(4)]\n",
    "rem_trees20 = [get_remain_trees(grid20[i]) for i in range(4)]\n",
    "rem_trees30 = [get_remain_trees(grid30[i]) for i in range(4)]\n",
    "rem_trees40 = [get_remain_trees(grid40[i]) for i in range(4)]\n",
    "rem_trees50 = [get_remain_trees(grid50[i]) for i in range(4)]\n",
    "rem_trees100 = [get_remain_trees(grid100[i]) for i in range(4)]"
   ]
  },
  {
   "cell_type": "code",
   "execution_count": 12,
   "metadata": {},
   "outputs": [
    {
     "data": {
      "image/png": "[encoded data removed]",
      "text/plain": [
       "<Figure size 864x576 with 1 Axes>"
      ]
     },
     "metadata": {},
     "output_type": "display_data"
    }
   ],
   "source": [
    "plt.figure(figsize=(12,8))\n",
    "sb.set_style('darkgrid')\n",
    "plt.plot(density_val, rem_trees10, '-o')\n",
    "plt.plot(density_val, rem_trees20, '-o')\n",
    "plt.plot(density_val, rem_trees30, '-o')\n",
    "plt.plot(density_val, rem_trees40, '-o')\n",
    "plt.plot(density_val, rem_trees50, '-o')\n",
    "plt.plot(density_val, rem_trees100, '-o')\n",
    "plt.xlabel('Tree burning probabiliy')\n",
    "plt.ylabel('Percentage of remain trees')\n",
    "plt.title('Percentage of remain treee depending on density')\n",
    "plt.legend(('10x10 grid', '20x20 grid', '30x30 grid', '40x40 grid', '50x50 grid', '100x100 grid'))\n",
    "plt.savefig('./data/remain_tree_density.png')\n",
    "plt.show()"
   ]
  },
  {
   "cell_type": "code",
   "execution_count": 11,
   "metadata": {},
   "outputs": [
    {
     "data": {
      "image/png": "[encoded data removed]",
      "text/plain": [
       "<Figure size 864x576 with 1 Axes>"
      ]
     },
     "metadata": {},
     "output_type": "display_data"
    }
   ],
   "source": [
    "plt.figure(figsize=(12,8))\n",
    "sb.set_style('darkgrid')\n",
    "plt.plot(density_val, burn_trees10, '-o')\n",
    "plt.plot(density_val, burn_trees20, '-o')\n",
    "plt.plot(density_val, burn_trees30, '-o')\n",
    "plt.plot(density_val, burn_trees40, '-o')\n",
    "plt.plot(density_val, burn_trees50, '-o')\n",
    "plt.plot(density_val, burn_trees100, '-o')\n",
    "plt.xlabel('Tree burning probabiliy')\n",
    "plt.ylabel('Percentage of burned trees')\n",
    "plt.title('Percentage of burned treee depending on density')\n",
    "plt.legend(('10x10 grid', '20x20 grid', '30x30 grid', '40x40 grid', '50x50 grid', '100x100 grid'))\n",
    "plt.savefig('./data/burned_tree_density.png')\n",
    "plt.show()"
   ]
  },
  {
   "cell_type": "markdown",
   "metadata": {},
   "source": [
    " "
   ]
  },
  {
   "cell_type": "markdown",
   "metadata": {},
   "source": [
    " "
   ]
  },
  {
   "cell_type": "markdown",
   "metadata": {},
   "source": [
    " "
   ]
  },
  {
   "cell_type": "markdown",
   "metadata": {},
   "source": [
    " "
   ]
  },
  {
   "cell_type": "markdown",
   "metadata": {},
   "source": [
    "## Pray for Australia"
   ]
  },
  {
   "cell_type": "markdown",
   "metadata": {},
   "source": [
    "Just few lines for simulate fire forest propagation in australia depending on tree density (percolation threshold). To do that an map of forest in Australia was load and process for generating a pseudo realistic map. \n",
    "\n",
    "All of this is just humour.  "
   ]
  },
  {
   "cell_type": "code",
   "execution_count": 39,
   "metadata": {},
   "outputs": [],
   "source": [
    "# Australia forest parameters\n",
    "\n",
    "cells = {'ocean':0, 'closed_forest':1, 'open_forest':2, 'woodland':3, 'herbland':4, 'desert': 5, 'fire': 6, 'ash': 7}\n",
    "density = {'closed_forest': 0.35, 'open_forest': 0.55, 'woodland':0.75, 'herbland': 0.1}\n",
    "\n",
    "# Display parameters\n",
    "pallette = np.array( [[0, 170, 255],# ocean\n",
    "                      [0, 77, 13],  # closed forest\n",
    "                      [0, 230, 0],  # open forest\n",
    "                      [179, 89, 0], # woodland\n",
    "                      [204, 230, 255], # herbland\n",
    "                      [255, 179, 102], # desert\n",
    "                      [230, 115, 0],   # fire\n",
    "                      [158, 158, 158] # ash\n",
    "                      ])"
   ]
  },
  {
   "cell_type": "markdown",
   "metadata": {},
   "source": [
    "##### Australia generation"
   ]
  },
  {
   "cell_type": "markdown",
   "metadata": {},
   "source": [
    "![](https://external-content.duckduckgo.com/iu/?u=http%3A%2F%2Fs3.thingpic.com%2Fimages%2FJe%2Fd6AyKkxRJmvwSHPpsPysVwhZ.gif&f=1&nofb=1)"
   ]
  },
  {
   "cell_type": "code",
   "execution_count": 14,
   "metadata": {},
   "outputs": [],
   "source": [
    "def generate_australia(australia, max_start_fire):\n",
    "    num_start_fire = 0\n",
    "    new = australia.copy()\n",
    "    sl = 35\n",
    "    num_closed_forest = 0\n",
    "    num_open_forest = 0\n",
    "    num_herbland = 0\n",
    "    num_woodland = 0\n",
    "    for i in range(new.shape[0]):\n",
    "        for j in range(new.shape[1]):\n",
    "            seuil = np.random.random()\n",
    "            if australia[i,j] == 255:\n",
    "                new[i,j] = cells['ocean']\n",
    "                \n",
    "            if australia[i,j] <= 78:\n",
    "                new[i,j] = cells['closed_forest']\n",
    "                if seuil > 0.95 and num_start_fire < max_start_fire:\n",
    "                    new[i,j] = cells['fire']\n",
    "                    num_start_fire +=1\n",
    "                else:\n",
    "                    num_closed_forest += 1\n",
    "                    \n",
    "            if australia[i,j] > 78 and australia[i,j] <=78+sl*2:\n",
    "                new[i,j] = cells['open_forest']\n",
    "                if seuil > 0.95 and num_start_fire < max_start_fire:\n",
    "                    new[i,j] = cells['fire']\n",
    "                    num_start_fire+=1\n",
    "                else:\n",
    "                    num_open_forest += 1\n",
    "                    \n",
    "            if australia[i,j] > 78+sl*2 and australia[i,j] <= 78+sl*3:\n",
    "                new[i,j] = cells['herbland']\n",
    "                if seuil > 0.95 and num_start_fire < max_start_fire:\n",
    "                    new[i,j] = cells['fire']\n",
    "                    num_start_fire+=1\n",
    "                else:\n",
    "                    num_herbland += 1\n",
    "                    \n",
    "            if australia[i,j] > 78+sl*3  and australia[i,j] <= 78+sl*4:\n",
    "                new[i,j] = cells['woodland']\n",
    "                if seuil > 0.98 and num_start_fire < max_start_fire:\n",
    "                    new[i,j] = cells['fire']\n",
    "                    num_start_fire+=1\n",
    "                else:\n",
    "                    num_woodland +=1\n",
    "                    \n",
    "            if australia[i,j] > 78+sl*4 and australia[i,j] <= 78+sl*5+1:\n",
    "                new[i,j] = cells['desert']\n",
    "    print('Generate Australia with', num_start_fire, 'start of fire')\n",
    "    initial_forest = {'fire': num_start_fire, 'ash': 0, 'closed_forest': num_closed_forest, 'open_forest': num_open_forest, 'herbland': num_herbland, 'woodland': num_woodland}\n",
    "    return new, initial_forest"
   ]
  },
  {
   "cell_type": "code",
   "execution_count": 40,
   "metadata": {},
   "outputs": [
    {
     "name": "stdout",
     "output_type": "stream",
     "text": [
      "Generate Australia with 200 start of fire\n",
      "--- STEP 0 begin ---\n",
      "656\n",
      "New state: {'fire': 656, 'ash': 200, 'closed_forest': 51, 'open_forest': 1578, 'herbland': 1442, 'woodland': 4129}\n",
      "--- STEP 1 begin ---\n",
      "863\n",
      "New state: {'fire': 863, 'ash': 856, 'closed_forest': 45, 'open_forest': 1420, 'herbland': 1405, 'woodland': 3467}\n",
      "--- STEP 2 begin ---\n",
      "966\n",
      "New state: {'fire': 966, 'ash': 1719, 'closed_forest': 39, 'open_forest': 1239, 'herbland': 1379, 'woodland': 2714}\n",
      "--- STEP 3 begin ---\n",
      "846\n",
      "New state: {'fire': 846, 'ash': 2685, 'closed_forest': 36, 'open_forest': 1110, 'herbland': 1345, 'woodland': 2034}\n",
      "--- STEP 4 begin ---\n",
      "681\n",
      "New state: {'fire': 681, 'ash': 3531, 'closed_forest': 29, 'open_forest': 1027, 'herbland': 1308, 'woodland': 1480}\n",
      "--- STEP 5 begin ---\n",
      "453\n",
      "New state: {'fire': 453, 'ash': 4212, 'closed_forest': 27, 'open_forest': 976, 'herbland': 1284, 'woodland': 1104}\n",
      "--- STEP 6 begin ---\n",
      "295\n",
      "New state: {'fire': 295, 'ash': 4665, 'closed_forest': 27, 'open_forest': 926, 'herbland': 1257, 'woodland': 886}\n",
      "--- STEP 7 begin ---\n",
      "228\n",
      "New state: {'fire': 228, 'ash': 4960, 'closed_forest': 27, 'open_forest': 876, 'herbland': 1236, 'woodland': 729}\n",
      "--- STEP 8 begin ---\n",
      "151\n",
      "New state: {'fire': 151, 'ash': 5188, 'closed_forest': 27, 'open_forest': 825, 'herbland': 1218, 'woodland': 647}\n",
      "--- STEP 9 begin ---\n",
      "120\n",
      "New state: {'fire': 120, 'ash': 5339, 'closed_forest': 27, 'open_forest': 780, 'herbland': 1203, 'woodland': 587}\n",
      "--- STEP 10 begin ---\n",
      "99\n",
      "New state: {'fire': 99, 'ash': 5459, 'closed_forest': 27, 'open_forest': 731, 'herbland': 1199, 'woodland': 541}\n",
      "--- STEP 11 begin ---\n",
      "102\n",
      "New state: {'fire': 102, 'ash': 5558, 'closed_forest': 27, 'open_forest': 665, 'herbland': 1196, 'woodland': 508}\n",
      "--- STEP 12 begin ---\n",
      "84\n",
      "New state: {'fire': 84, 'ash': 5660, 'closed_forest': 27, 'open_forest': 616, 'herbland': 1192, 'woodland': 477}\n",
      "--- STEP 13 begin ---\n",
      "80\n",
      "New state: {'fire': 80, 'ash': 5744, 'closed_forest': 27, 'open_forest': 567, 'herbland': 1188, 'woodland': 450}\n",
      "--- STEP 14 begin ---\n",
      "55\n",
      "New state: {'fire': 55, 'ash': 5824, 'closed_forest': 27, 'open_forest': 536, 'herbland': 1186, 'woodland': 428}\n",
      "--- STEP 15 begin ---\n",
      "62\n",
      "New state: {'fire': 62, 'ash': 5879, 'closed_forest': 27, 'open_forest': 503, 'herbland': 1185, 'woodland': 400}\n",
      "--- STEP 16 begin ---\n",
      "59\n",
      "New state: {'fire': 59, 'ash': 5941, 'closed_forest': 27, 'open_forest': 474, 'herbland': 1182, 'woodland': 373}\n",
      "--- STEP 17 begin ---\n",
      "61\n",
      "New state: {'fire': 61, 'ash': 6000, 'closed_forest': 27, 'open_forest': 443, 'herbland': 1179, 'woodland': 346}\n",
      "--- STEP 18 begin ---\n",
      "65\n",
      "New state: {'fire': 65, 'ash': 6061, 'closed_forest': 26, 'open_forest': 404, 'herbland': 1178, 'woodland': 322}\n",
      "--- STEP 19 begin ---\n",
      "59\n",
      "New state: {'fire': 59, 'ash': 6126, 'closed_forest': 25, 'open_forest': 370, 'herbland': 1170, 'woodland': 306}\n"
     ]
    },
    {
     "name": "stderr",
     "output_type": "stream",
     "text": [
      "/Users/cdecourt/anaconda3/envs/ia/lib/python3.7/site-packages/ipykernel_launcher.py:22: RuntimeWarning: More than 20 figures have been opened. Figures created through the pyplot interface (`matplotlib.pyplot.figure`) are retained until explicitly closed and may consume too much memory. (To control this warning, see the rcParam `figure.max_open_warning`).\n"
     ]
    },
    {
     "name": "stdout",
     "output_type": "stream",
     "text": [
      "--- STEP 20 begin ---\n",
      "57\n",
      "New state: {'fire': 57, 'ash': 6185, 'closed_forest': 24, 'open_forest': 333, 'herbland': 1168, 'woodland': 289}\n",
      "--- STEP 21 begin ---\n",
      "52\n",
      "New state: {'fire': 52, 'ash': 6242, 'closed_forest': 23, 'open_forest': 307, 'herbland': 1167, 'woodland': 265}\n",
      "--- STEP 22 begin ---\n",
      "39\n",
      "New state: {'fire': 39, 'ash': 6294, 'closed_forest': 23, 'open_forest': 294, 'herbland': 1164, 'woodland': 242}\n",
      "--- STEP 23 begin ---\n",
      "35\n",
      "New state: {'fire': 35, 'ash': 6333, 'closed_forest': 22, 'open_forest': 281, 'herbland': 1159, 'woodland': 226}\n",
      "--- STEP 24 begin ---\n",
      "32\n",
      "New state: {'fire': 32, 'ash': 6368, 'closed_forest': 22, 'open_forest': 262, 'herbland': 1156, 'woodland': 216}\n",
      "--- STEP 25 begin ---\n",
      "26\n",
      "New state: {'fire': 26, 'ash': 6400, 'closed_forest': 21, 'open_forest': 246, 'herbland': 1155, 'woodland': 208}\n",
      "--- STEP 26 begin ---\n",
      "29\n",
      "New state: {'fire': 29, 'ash': 6426, 'closed_forest': 19, 'open_forest': 231, 'herbland': 1153, 'woodland': 198}\n",
      "--- STEP 27 begin ---\n",
      "21\n",
      "New state: {'fire': 21, 'ash': 6455, 'closed_forest': 18, 'open_forest': 215, 'herbland': 1152, 'woodland': 195}\n",
      "--- STEP 28 begin ---\n",
      "17\n",
      "New state: {'fire': 17, 'ash': 6476, 'closed_forest': 16, 'open_forest': 205, 'herbland': 1149, 'woodland': 193}\n",
      "--- STEP 29 begin ---\n",
      "19\n",
      "New state: {'fire': 19, 'ash': 6493, 'closed_forest': 13, 'open_forest': 190, 'herbland': 1149, 'woodland': 192}\n",
      "--- STEP 30 begin ---\n",
      "16\n",
      "New state: {'fire': 16, 'ash': 6512, 'closed_forest': 11, 'open_forest': 178, 'herbland': 1147, 'woodland': 192}\n",
      "--- STEP 31 begin ---\n",
      "9\n",
      "New state: {'fire': 9, 'ash': 6528, 'closed_forest': 11, 'open_forest': 171, 'herbland': 1145, 'woodland': 192}\n",
      "--- STEP 32 begin ---\n",
      "4\n",
      "New state: {'fire': 4, 'ash': 6537, 'closed_forest': 11, 'open_forest': 169, 'herbland': 1144, 'woodland': 191}\n",
      "--- STEP 33 begin ---\n",
      "3\n",
      "New state: {'fire': 3, 'ash': 6541, 'closed_forest': 11, 'open_forest': 166, 'herbland': 1144, 'woodland': 191}\n",
      "--- STEP 34 begin ---\n",
      "5\n",
      "New state: {'fire': 5, 'ash': 6544, 'closed_forest': 11, 'open_forest': 161, 'herbland': 1144, 'woodland': 191}\n",
      "--- STEP 35 begin ---\n",
      "2\n",
      "New state: {'fire': 2, 'ash': 6549, 'closed_forest': 11, 'open_forest': 159, 'herbland': 1144, 'woodland': 191}\n",
      "--- STEP 36 begin ---\n",
      "3\n",
      "New state: {'fire': 3, 'ash': 6551, 'closed_forest': 11, 'open_forest': 156, 'herbland': 1144, 'woodland': 191}\n",
      "--- STEP 37 begin ---\n",
      "1\n",
      "New state: {'fire': 1, 'ash': 6554, 'closed_forest': 11, 'open_forest': 155, 'herbland': 1144, 'woodland': 191}\n",
      "--- STEP 38 begin ---\n",
      "0\n",
      "New state: {'fire': 0, 'ash': 6555, 'closed_forest': 11, 'open_forest': 155, 'herbland': 1144, 'woodland': 191}\n",
      "Fire is dead...\n"
     ]
    },
    {
     "data": {
      "text/plain": [
       "<Figure size 720x720 with 0 Axes>"
      ]
     },
     "metadata": {},
     "output_type": "display_data"
    },
    {
     "data": {
      "text/plain": [
       "<Figure size 720x720 with 0 Axes>"
      ]
     },
     "metadata": {},
     "output_type": "display_data"
    },
    {
     "data": {
      "text/plain": [
       "<Figure size 720x720 with 0 Axes>"
      ]
     },
     "metadata": {},
     "output_type": "display_data"
    },
    {
     "data": {
      "text/plain": [
       "<Figure size 720x720 with 0 Axes>"
      ]
     },
     "metadata": {},
     "output_type": "display_data"
    },
    {
     "data": {
      "text/plain": [
       "<Figure size 720x720 with 0 Axes>"
      ]
     },
     "metadata": {},
     "output_type": "display_data"
    },
    {
     "data": {
      "text/plain": [
       "<Figure size 720x720 with 0 Axes>"
      ]
     },
     "metadata": {},
     "output_type": "display_data"
    },
    {
     "data": {
      "text/plain": [
       "<Figure size 720x720 with 0 Axes>"
      ]
     },
     "metadata": {},
     "output_type": "display_data"
    },
    {
     "data": {
      "text/plain": [
       "<Figure size 720x720 with 0 Axes>"
      ]
     },
     "metadata": {},
     "output_type": "display_data"
    },
    {
     "data": {
      "text/plain": [
       "<Figure size 720x720 with 0 Axes>"
      ]
     },
     "metadata": {},
     "output_type": "display_data"
    },
    {
     "data": {
      "text/plain": [
       "<Figure size 720x720 with 0 Axes>"
      ]
     },
     "metadata": {},
     "output_type": "display_data"
    },
    {
     "data": {
      "text/plain": [
       "<Figure size 720x720 with 0 Axes>"
      ]
     },
     "metadata": {},
     "output_type": "display_data"
    },
    {
     "data": {
      "text/plain": [
       "<Figure size 720x720 with 0 Axes>"
      ]
     },
     "metadata": {},
     "output_type": "display_data"
    },
    {
     "data": {
      "text/plain": [
       "<Figure size 720x720 with 0 Axes>"
      ]
     },
     "metadata": {},
     "output_type": "display_data"
    },
    {
     "data": {
      "text/plain": [
       "<Figure size 720x720 with 0 Axes>"
      ]
     },
     "metadata": {},
     "output_type": "display_data"
    },
    {
     "data": {
      "text/plain": [
       "<Figure size 720x720 with 0 Axes>"
      ]
     },
     "metadata": {},
     "output_type": "display_data"
    },
    {
     "data": {
      "text/plain": [
       "<Figure size 720x720 with 0 Axes>"
      ]
     },
     "metadata": {},
     "output_type": "display_data"
    },
    {
     "data": {
      "text/plain": [
       "<Figure size 720x720 with 0 Axes>"
      ]
     },
     "metadata": {},
     "output_type": "display_data"
    },
    {
     "data": {
      "text/plain": [
       "<Figure size 720x720 with 0 Axes>"
      ]
     },
     "metadata": {},
     "output_type": "display_data"
    },
    {
     "data": {
      "text/plain": [
       "<Figure size 720x720 with 0 Axes>"
      ]
     },
     "metadata": {},
     "output_type": "display_data"
    },
    {
     "data": {
      "text/plain": [
       "<Figure size 720x720 with 0 Axes>"
      ]
     },
     "metadata": {},
     "output_type": "display_data"
    },
    {
     "data": {
      "text/plain": [
       "<Figure size 720x720 with 0 Axes>"
      ]
     },
     "metadata": {},
     "output_type": "display_data"
    },
    {
     "data": {
      "text/plain": [
       "<Figure size 720x720 with 0 Axes>"
      ]
     },
     "metadata": {},
     "output_type": "display_data"
    },
    {
     "data": {
      "text/plain": [
       "<Figure size 720x720 with 0 Axes>"
      ]
     },
     "metadata": {},
     "output_type": "display_data"
    },
    {
     "data": {
      "text/plain": [
       "<Figure size 720x720 with 0 Axes>"
      ]
     },
     "metadata": {},
     "output_type": "display_data"
    },
    {
     "data": {
      "text/plain": [
       "<Figure size 720x720 with 0 Axes>"
      ]
     },
     "metadata": {},
     "output_type": "display_data"
    },
    {
     "data": {
      "text/plain": [
       "<Figure size 720x720 with 0 Axes>"
      ]
     },
     "metadata": {},
     "output_type": "display_data"
    },
    {
     "data": {
      "text/plain": [
       "<Figure size 720x720 with 0 Axes>"
      ]
     },
     "metadata": {},
     "output_type": "display_data"
    },
    {
     "data": {
      "text/plain": [
       "<Figure size 720x720 with 0 Axes>"
      ]
     },
     "metadata": {},
     "output_type": "display_data"
    },
    {
     "data": {
      "text/plain": [
       "<Figure size 720x720 with 0 Axes>"
      ]
     },
     "metadata": {},
     "output_type": "display_data"
    },
    {
     "data": {
      "text/plain": [
       "<Figure size 720x720 with 0 Axes>"
      ]
     },
     "metadata": {},
     "output_type": "display_data"
    },
    {
     "data": {
      "text/plain": [
       "<Figure size 720x720 with 0 Axes>"
      ]
     },
     "metadata": {},
     "output_type": "display_data"
    },
    {
     "data": {
      "text/plain": [
       "<Figure size 720x720 with 0 Axes>"
      ]
     },
     "metadata": {},
     "output_type": "display_data"
    },
    {
     "data": {
      "text/plain": [
       "<Figure size 720x720 with 0 Axes>"
      ]
     },
     "metadata": {},
     "output_type": "display_data"
    },
    {
     "data": {
      "text/plain": [
       "<Figure size 720x720 with 0 Axes>"
      ]
     },
     "metadata": {},
     "output_type": "display_data"
    },
    {
     "data": {
      "text/plain": [
       "<Figure size 720x720 with 0 Axes>"
      ]
     },
     "metadata": {},
     "output_type": "display_data"
    },
    {
     "data": {
      "text/plain": [
       "<Figure size 720x720 with 0 Axes>"
      ]
     },
     "metadata": {},
     "output_type": "display_data"
    },
    {
     "data": {
      "text/plain": [
       "<Figure size 720x720 with 0 Axes>"
      ]
     },
     "metadata": {},
     "output_type": "display_data"
    },
    {
     "data": {
      "text/plain": [
       "<Figure size 720x720 with 0 Axes>"
      ]
     },
     "metadata": {},
     "output_type": "display_data"
    },
    {
     "data": {
      "text/plain": [
       "<Figure size 720x720 with 0 Axes>"
      ]
     },
     "metadata": {},
     "output_type": "display_data"
    },
    {
     "data": {
      "text/plain": [
       "<Figure size 720x720 with 0 Axes>"
      ]
     },
     "metadata": {},
     "output_type": "display_data"
    }
   ],
   "source": [
    "australia = True\n",
    "australia_map = cv.imread('./data/aust-veg-map.png', cv.IMREAD_GRAYSCALE)\n",
    "australia_map = cv.resize(australia_map, (int(australia_map.shape[1]/3),int(australia_map.shape[0]/3)))\n",
    "\n",
    "forest, initial_state = generate_australia(australia_map, 200)\n",
    "EXIST_CELLS = valid_cells(forest)\n",
    "is_fire = True\n",
    "\n",
    "state_list =[]\n",
    "state_list.append(initial_state)\n",
    "num_step = 0\n",
    "plt.figure(figsize=(10,10))\n",
    "plt.imshow(pallette[forest])\n",
    "plt.savefig(str(num_step)+'.png')\n",
    "plt.clf()\n",
    "while(1):\n",
    "    print('--- STEP',num_step,'begin ---')\n",
    "    forest, is_fire, state = step(forest, is_fire, state_list[num_step])\n",
    "    print('New state:',state)\n",
    "    state_list.append(state.copy())\n",
    "    num_step+=1\n",
    "    plt.figure(figsize=(10,10))\n",
    "    plt.imshow(pallette[forest])\n",
    "    plt.savefig(str(num_step)+'.png')\n",
    "    plt.clf()\n",
    "    if is_fire is False:\n",
    "        print('Fire is dead...')\n",
    "        break\n",
    "np.save('./data/state_list_100x100', state_list)"
   ]
  },
  {
   "cell_type": "code",
   "execution_count": 44,
   "metadata": {
    "scrolled": false
   },
   "outputs": [],
   "source": [
    "filenames = []\n",
    "for name in os.listdir():\n",
    "    if name[-3:] == 'png':\n",
    "        if name != 'aust-veg-map.png':\n",
    "            filenames.append(name)\n",
    "filenames.sort(key=lambda x: float(x[:-4]))\n",
    "\n",
    "create_gif(filenames, duration=0.8, name='test')"
   ]
  },
  {
   "cell_type": "markdown",
   "metadata": {},
   "source": [
    "## Data analyse\n"
   ]
  },
  {
   "cell_type": "code",
   "execution_count": 14,
   "metadata": {},
   "outputs": [],
   "source": [
    "data = np.load('./data/state_list_100x100.npy', allow_pickle=True)"
   ]
  },
  {
   "cell_type": "code",
   "execution_count": 15,
   "metadata": {},
   "outputs": [],
   "source": [
    "fire_list = []\n",
    "closed_forest_list = []\n",
    "ash_list = []\n",
    "open_forest_list = []\n",
    "herbland_list = []\n",
    "woodland_list = []\n",
    "for i in range(len(data)):\n",
    "    fire_list.append(data[i]['fire'])\n",
    "    closed_forest_list.append(data[i]['closed_forest'])\n",
    "    ash_list.append(data[i]['ash'])\n",
    "    open_forest_list.append(data[i]['open_forest'])\n",
    "    herbland_list.append(data[i]['herbland'])\n",
    "    woodland_list.append(data[i]['woodland'])"
   ]
  },
  {
   "cell_type": "markdown",
   "metadata": {},
   "source": [
    "Get proportion of burned trees"
   ]
  },
  {
   "cell_type": "code",
   "execution_count": 16,
   "metadata": {},
   "outputs": [],
   "source": [
    "burn_closed_forest = (closed_forest_list[0]-closed_forest_list[-1])*100/closed_forest_list[0]\n",
    "burn_open_forest = (open_forest_list[0] - open_forest_list[-1])*100/open_forest_list[0]\n",
    "burn_herbland = (herbland_list[0] - herbland_list[-1])*100/herbland_list[0]\n",
    "burn_woodland = (woodland_list[0] - woodland_list[-1])*100/woodland_list[0]\n",
    "density_val = [0.1, 0.35, 0.55, 0.75]\n",
    "burn_tree = [burn_herbland, burn_closed_forest, burn_open_forest, burn_woodland]"
   ]
  },
  {
   "cell_type": "code",
   "execution_count": 17,
   "metadata": {},
   "outputs": [
    {
     "data": {
      "image/png": "[encoded data removed]",
      "text/plain": [
       "<Figure size 864x576 with 1 Axes>"
      ]
     },
     "metadata": {},
     "output_type": "display_data"
    }
   ],
   "source": [
    "plt.figure(figsize=(12,8))\n",
    "sb.set_style('darkgrid')\n",
    "plt.plot(density_val, burn_tree, '-go')\n",
    "plt.xlabel('Tree densities')\n",
    "plt.ylabel('Percentage of burned trees')\n",
    "plt.title('Percentage of burned treee depending on density')\n",
    "plt.legend(('Percentage of burned trees',))\n",
    "plt.show()"
   ]
  },
  {
   "cell_type": "markdown",
   "metadata": {},
   "source": [
    "Trend of burned trees"
   ]
  },
  {
   "cell_type": "code",
   "execution_count": 18,
   "metadata": {},
   "outputs": [
    {
     "data": {
      "image/png": "[encoded data removed]",
      "text/plain": [
       "<Figure size 864x576 with 1 Axes>"
      ]
     },
     "metadata": {},
     "output_type": "display_data"
    }
   ],
   "source": [
    "plt.figure(figsize=(12,8))\n",
    "sb.set_style('darkgrid')\n",
    "plt.plot(fire_list[1:])\n",
    "plt.plot([woodland_list[i-1]-woodland_list[i] for i in range(1, len(woodland_list))])\n",
    "plt.plot([herbland_list[i-1]-herbland_list[i] for i in range(1, len(herbland_list))])\n",
    "plt.plot([open_forest_list[i-1]-open_forest_list[i] for i in range(1, len(open_forest_list))])\n",
    "plt.plot([closed_forest_list[i-1]-closed_forest_list[i] for i in range(1, len(closed_forest_list))])\n",
    "plt.legend(('Total number of fire', 'Woodland on fire', 'Herbland on fire', 'Open forest on fire', 'Closed forest on fire'))\n",
    "plt.title('Tree type evolution on fire')\n",
    "plt.xlabel('Steps')\n",
    "plt.ylabel('Number of fire')\n",
    "plt.show()"
   ]
  }
 ],
 "metadata": {
  "kernelspec": {
   "display_name": "Python 3",
   "language": "python",
   "name": "python3"
  },
  "language_info": {
   "codemirror_mode": {
    "name": "ipython",
    "version": 3
   },
   "file_extension": ".py",
   "mimetype": "text/x-python",
   "name": "python",
   "nbconvert_exporter": "python",
   "pygments_lexer": "ipython3",
   "version": "3.7.5"
  }
 },
 "nbformat": 4,
 "nbformat_minor": 2
}
